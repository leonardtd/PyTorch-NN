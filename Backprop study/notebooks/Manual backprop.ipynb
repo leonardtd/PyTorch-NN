{
 "cells": [
  {
   "cell_type": "code",
   "execution_count": 1,
   "id": "85867973",
   "metadata": {},
   "outputs": [],
   "source": [
    "import torch"
   ]
  },
  {
   "cell_type": "markdown",
   "id": "f4181526",
   "metadata": {},
   "source": [
    "# Single value backprop"
   ]
  },
  {
   "cell_type": "code",
   "execution_count": 23,
   "id": "99600705",
   "metadata": {},
   "outputs": [],
   "source": [
    "w = torch.tensor([3.], requires_grad=True)\n",
    "x = torch.tensor([2.], requires_grad=False)\n",
    "y = torch.tensor([2.], requires_grad=False)"
   ]
  },
  {
   "cell_type": "code",
   "execution_count": 24,
   "id": "9e81fee9",
   "metadata": {},
   "outputs": [],
   "source": [
    "def mse(y, y_hat):\n",
    "    return (y-y_hat)**2\n",
    "\n",
    "def d_mse(y, y_hat):\n",
    "    return -2*(y-y_hat)"
   ]
  },
  {
   "cell_type": "code",
   "execution_count": 25,
   "id": "6b6d9e50",
   "metadata": {},
   "outputs": [],
   "source": [
    "cost = mse(y, w*x)"
   ]
  },
  {
   "cell_type": "code",
   "execution_count": 26,
   "id": "667bb861",
   "metadata": {},
   "outputs": [],
   "source": [
    "w.grad"
   ]
  },
  {
   "cell_type": "code",
   "execution_count": 27,
   "id": "a34d44af",
   "metadata": {},
   "outputs": [],
   "source": [
    "cost.backward()"
   ]
  },
  {
   "cell_type": "code",
   "execution_count": 28,
   "id": "6babdd6e",
   "metadata": {},
   "outputs": [
    {
     "data": {
      "text/plain": [
       "tensor([16.])"
      ]
     },
     "execution_count": 28,
     "metadata": {},
     "output_type": "execute_result"
    }
   ],
   "source": [
    "w.grad"
   ]
  },
  {
   "cell_type": "code",
   "execution_count": 29,
   "id": "96909fdd",
   "metadata": {},
   "outputs": [
    {
     "data": {
      "text/plain": [
       "tensor([16.], grad_fn=<MulBackward0>)"
      ]
     },
     "execution_count": 29,
     "metadata": {},
     "output_type": "execute_result"
    }
   ],
   "source": [
    "d_mse(y, w*x)*x"
   ]
  },
  {
   "cell_type": "markdown",
   "id": "7c60452a",
   "metadata": {},
   "source": [
    "---"
   ]
  },
  {
   "cell_type": "markdown",
   "id": "f46e0b06",
   "metadata": {},
   "source": [
    "# Matrix mult backprop"
   ]
  },
  {
   "cell_type": "code",
   "execution_count": 258,
   "id": "743766d5",
   "metadata": {},
   "outputs": [],
   "source": [
    "w = torch.tensor([[3., 1.]], requires_grad=True)\n",
    "x = torch.tensor([[2.], [1.]], requires_grad=False)\n",
    "y = torch.tensor([[5., 2.], [2.5, 2.]], requires_grad=False)"
   ]
  },
  {
   "cell_type": "code",
   "execution_count": 259,
   "id": "bf24bf05",
   "metadata": {},
   "outputs": [
    {
     "data": {
      "text/plain": [
       "tensor([[6., 2.],\n",
       "        [3., 1.]], grad_fn=<MmBackward0>)"
      ]
     },
     "execution_count": 259,
     "metadata": {},
     "output_type": "execute_result"
    }
   ],
   "source": [
    "z = x@w\n",
    "z"
   ]
  },
  {
   "cell_type": "code",
   "execution_count": 260,
   "id": "2020e1d3",
   "metadata": {},
   "outputs": [],
   "source": [
    "loss = mse(y, z)"
   ]
  },
  {
   "cell_type": "code",
   "execution_count": 261,
   "id": "621b642f",
   "metadata": {},
   "outputs": [
    {
     "data": {
      "text/plain": [
       "tensor([[1.0000, 0.0000],\n",
       "        [0.2500, 1.0000]], grad_fn=<PowBackward0>)"
      ]
     },
     "execution_count": 261,
     "metadata": {},
     "output_type": "execute_result"
    }
   ],
   "source": [
    "loss"
   ]
  },
  {
   "cell_type": "code",
   "execution_count": 262,
   "id": "185e42f4",
   "metadata": {},
   "outputs": [],
   "source": [
    "w.grad"
   ]
  },
  {
   "cell_type": "code",
   "execution_count": 263,
   "id": "0964b1af",
   "metadata": {},
   "outputs": [],
   "source": [
    "loss.sum().backward()"
   ]
  },
  {
   "cell_type": "code",
   "execution_count": 264,
   "id": "26c3ac71",
   "metadata": {},
   "outputs": [
    {
     "data": {
      "text/plain": [
       "tensor([[ 5., -2.]])"
      ]
     },
     "execution_count": 264,
     "metadata": {},
     "output_type": "execute_result"
    }
   ],
   "source": [
    "w.grad"
   ]
  },
  {
   "cell_type": "code",
   "execution_count": 268,
   "id": "3bcab540",
   "metadata": {},
   "outputs": [
    {
     "data": {
      "text/plain": [
       "torch.Size([2, 1])"
      ]
     },
     "execution_count": 268,
     "metadata": {},
     "output_type": "execute_result"
    }
   ],
   "source": [
    "x.shape"
   ]
  },
  {
   "cell_type": "code",
   "execution_count": 94,
   "id": "7d362f35",
   "metadata": {},
   "outputs": [],
   "source": [
    "g = x.T @ d_mse(y, z)\n",
    "w.grad = g"
   ]
  },
  {
   "cell_type": "code",
   "execution_count": 95,
   "id": "63dcd9c1",
   "metadata": {},
   "outputs": [
    {
     "data": {
      "text/plain": [
       "tensor([[ 5., -2.]], grad_fn=<MmBackward0>)"
      ]
     },
     "execution_count": 95,
     "metadata": {},
     "output_type": "execute_result"
    }
   ],
   "source": [
    "w.grad"
   ]
  },
  {
   "cell_type": "markdown",
   "id": "6b82d849",
   "metadata": {},
   "source": [
    "---"
   ]
  },
  {
   "cell_type": "markdown",
   "id": "48575e7c",
   "metadata": {},
   "source": [
    "# Activation function backprop"
   ]
  },
  {
   "attachments": {
    "image.png": {
     "image/png": "[encoded data removed]"
    }
   },
   "cell_type": "markdown",
   "id": "74342695",
   "metadata": {},
   "source": [
    "![image.png](attachment:image.png)"
   ]
  },
  {
   "cell_type": "code",
   "execution_count": 287,
   "id": "508a1178",
   "metadata": {},
   "outputs": [],
   "source": [
    "def sigmoid(x):\n",
    "    return 1/(1 + torch.exp(-x))\n",
    "\n",
    "def d_sigmoid(x):\n",
    "    #return torch.exp(-x)/(1+torch.exp(-x))**2\n",
    "    return sigmoid(x)*(1-sigmoid(x))"
   ]
  },
  {
   "cell_type": "code",
   "execution_count": 288,
   "id": "21b64e04",
   "metadata": {},
   "outputs": [],
   "source": [
    "w = torch.tensor([[3.]], requires_grad=True)\n",
    "b = torch.tensor([[1.]], requires_grad=True)\n",
    "x = torch.tensor([[2.], [-2.]], requires_grad=False)\n",
    "y = torch.tensor([[1.], [1.5]], requires_grad=False)"
   ]
  },
  {
   "cell_type": "code",
   "execution_count": 289,
   "id": "8de055b9",
   "metadata": {},
   "outputs": [
    {
     "data": {
      "text/plain": [
       "tensor([[0.9991],\n",
       "        [0.0067]], grad_fn=<MulBackward0>)"
      ]
     },
     "execution_count": 289,
     "metadata": {},
     "output_type": "execute_result"
    }
   ],
   "source": [
    "# forward\n",
    "\n",
    "s = x@w+b\n",
    "y_hat = sigmoid(s)\n",
    "y_hat"
   ]
  },
  {
   "cell_type": "code",
   "execution_count": 290,
   "id": "5af12d3a",
   "metadata": {},
   "outputs": [
    {
     "data": {
      "text/plain": [
       "tensor([[8.2992e-07],\n",
       "        [2.2300e+00]], grad_fn=<PowBackward0>)"
      ]
     },
     "execution_count": 290,
     "metadata": {},
     "output_type": "execute_result"
    }
   ],
   "source": [
    "loss = mse(y, y_hat)\n",
    "loss"
   ]
  },
  {
   "cell_type": "code",
   "execution_count": 291,
   "id": "a92ea450",
   "metadata": {},
   "outputs": [
    {
     "data": {
      "text/plain": [
       "(None, None)"
      ]
     },
     "execution_count": 291,
     "metadata": {},
     "output_type": "execute_result"
    }
   ],
   "source": [
    "w.grad, b.grad"
   ]
  },
  {
   "cell_type": "code",
   "execution_count": 292,
   "id": "0ff0f450",
   "metadata": {},
   "outputs": [],
   "source": [
    "loss.sum().backward()"
   ]
  },
  {
   "cell_type": "code",
   "execution_count": 293,
   "id": "8bc49678",
   "metadata": {},
   "outputs": [
    {
     "data": {
      "text/plain": [
       "(tensor([[0.0397]]), tensor([[-0.0199]]))"
      ]
     },
     "execution_count": 293,
     "metadata": {},
     "output_type": "execute_result"
    }
   ],
   "source": [
    "w.grad, b.grad"
   ]
  },
  {
   "cell_type": "code",
   "execution_count": 294,
   "id": "378e0b1f",
   "metadata": {},
   "outputs": [
    {
     "data": {
      "text/plain": [
       "tensor([[0.0397]], grad_fn=<MmBackward0>)"
      ]
     },
     "execution_count": 294,
     "metadata": {},
     "output_type": "execute_result"
    }
   ],
   "source": [
    "#backward\n",
    "\n",
    "#w\n",
    "(x * d_sigmoid(s)).T @ d_mse(y, y_hat)"
   ]
  },
  {
   "cell_type": "code",
   "execution_count": 295,
   "id": "8b9808b1",
   "metadata": {},
   "outputs": [
    {
     "data": {
      "text/plain": [
       "tensor([[-0.0199]], grad_fn=<MmBackward0>)"
      ]
     },
     "execution_count": 295,
     "metadata": {},
     "output_type": "execute_result"
    }
   ],
   "source": [
    "#b\n",
    "(1 * d_sigmoid(s)).T @ d_mse(y, y_hat)"
   ]
  },
  {
   "cell_type": "code",
   "execution_count": null,
   "id": "3c65d1e8",
   "metadata": {},
   "outputs": [],
   "source": []
  },
  {
   "cell_type": "code",
   "execution_count": null,
   "id": "8dfe40c4",
   "metadata": {},
   "outputs": [],
   "source": []
  }
 ],
 "metadata": {
  "kernelspec": {
   "display_name": "Python 3 (ipykernel)",
   "language": "python",
   "name": "python3"
  },
  "language_info": {
   "codemirror_mode": {
    "name": "ipython",
    "version": 3
   },
   "file_extension": ".py",
   "mimetype": "text/x-python",
   "name": "python",
   "nbconvert_exporter": "python",
   "pygments_lexer": "ipython3",
   "version": "3.8.8"
  }
 },
 "nbformat": 4,
 "nbformat_minor": 5
}
