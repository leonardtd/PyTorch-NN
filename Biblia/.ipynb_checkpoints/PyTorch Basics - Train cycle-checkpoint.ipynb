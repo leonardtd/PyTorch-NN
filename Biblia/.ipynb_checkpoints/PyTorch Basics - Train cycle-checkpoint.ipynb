{
 "cells": [
  {
   "cell_type": "markdown",
   "id": "617a13d1",
   "metadata": {},
   "source": [
    "### Tutorial Pytorch\n",
    "https://www.youtube.com/watch?v=c36lUUr864M&feature=youtu.be"
   ]
  },
  {
   "cell_type": "code",
   "execution_count": 16,
   "id": "d616d27f",
   "metadata": {},
   "outputs": [],
   "source": [
    "import torch\n",
    "import numpy as np"
   ]
  },
  {
   "cell_type": "markdown",
   "id": "3f240e03",
   "metadata": {},
   "source": [
    "### Tensores a partir de distribucion normal, require grad, reduce mean"
   ]
  },
  {
   "cell_type": "code",
   "execution_count": 60,
   "id": "84ea3cce",
   "metadata": {},
   "outputs": [],
   "source": [
    "std = torch.tensor([1],dtype=torch.int)"
   ]
  },
  {
   "cell_type": "code",
   "execution_count": 296,
   "id": "19536371",
   "metadata": {},
   "outputs": [
    {
     "data": {
      "text/plain": [
       "tensor([[ 0.2908,  2.3880, -1.7087],\n",
       "        [ 2.8463, -1.5386,  0.6895],\n",
       "        [ 1.5419,  2.9075, -0.7003]])"
      ]
     },
     "execution_count": 296,
     "metadata": {},
     "output_type": "execute_result"
    }
   ],
   "source": [
    "x = torch.normal(mean=torch.rand(3,3),std=1)\n",
    "#x.requires_grad=True\n",
    "x"
   ]
  },
  {
   "cell_type": "code",
   "execution_count": 87,
   "id": "0db11dd0",
   "metadata": {},
   "outputs": [
    {
     "data": {
      "text/plain": [
       "0.621843159198761"
      ]
     },
     "execution_count": 87,
     "metadata": {},
     "output_type": "execute_result"
    }
   ],
   "source": [
    "x.mean()\n",
    "#x.mean().item()"
   ]
  },
  {
   "cell_type": "markdown",
   "id": "1e5bda24",
   "metadata": {},
   "source": [
    "## Autograd\n",
    "Al ejecutar un forward se tiene un puntero a una funcion Add Backward que calcula las gradientes para el backward prop"
   ]
  },
  {
   "cell_type": "code",
   "execution_count": 252,
   "id": "787e04d1",
   "metadata": {},
   "outputs": [],
   "source": [
    "x = torch.randn(3, requires_grad=True)"
   ]
  },
  {
   "cell_type": "code",
   "execution_count": 253,
   "id": "7a87d2ab",
   "metadata": {},
   "outputs": [],
   "source": [
    "y = x + 2"
   ]
  },
  {
   "cell_type": "code",
   "execution_count": 254,
   "id": "a797ec52",
   "metadata": {},
   "outputs": [
    {
     "name": "stdout",
     "output_type": "stream",
     "text": [
      "tensor([ 1.3058,  2.9263, -0.5883], grad_fn=<AddBackward0>)\n"
     ]
    }
   ],
   "source": [
    "print(y)"
   ]
  },
  {
   "cell_type": "code",
   "execution_count": 255,
   "id": "5c05a8f4",
   "metadata": {},
   "outputs": [
    {
     "data": {
      "text/plain": [
       "tensor([ 3.4103, 17.1270,  0.6922], grad_fn=<MulBackward0>)"
      ]
     },
     "execution_count": 255,
     "metadata": {},
     "output_type": "execute_result"
    }
   ],
   "source": [
    "z = y * y * 2\n",
    "z"
   ]
  },
  {
   "cell_type": "code",
   "execution_count": 256,
   "id": "d5b1da06",
   "metadata": {},
   "outputs": [
    {
     "data": {
      "text/plain": [
       "tensor(7.0765, grad_fn=<MeanBackward0>)"
      ]
     },
     "execution_count": 256,
     "metadata": {},
     "output_type": "execute_result"
    }
   ],
   "source": [
    "z=z.mean()\n",
    "z"
   ]
  },
  {
   "cell_type": "code",
   "execution_count": 257,
   "id": "5d897a5d",
   "metadata": {},
   "outputs": [],
   "source": [
    "x.grad #Se afecta cada vez que se corre un backward"
   ]
  },
  {
   "cell_type": "code",
   "execution_count": 258,
   "id": "3c1bd2c7",
   "metadata": {},
   "outputs": [],
   "source": [
    "#Altera la gradiente de x\n",
    "z.backward() #dz/dx, Tambien se le puede pasar un vector de las mismas dims que x. "
   ]
  },
  {
   "cell_type": "code",
   "execution_count": 259,
   "id": "7d5959c4",
   "metadata": {},
   "outputs": [
    {
     "data": {
      "text/plain": [
       "tensor([ 1.7411,  3.9018, -0.7844])"
      ]
     },
     "execution_count": 259,
     "metadata": {},
     "output_type": "execute_result"
    }
   ],
   "source": [
    "x.grad"
   ]
  },
  {
   "cell_type": "code",
   "execution_count": 162,
   "id": "54470830",
   "metadata": {},
   "outputs": [],
   "source": [
    "y.mean().backward() #dy/dx"
   ]
  },
  {
   "cell_type": "code",
   "execution_count": 163,
   "id": "8e627195",
   "metadata": {},
   "outputs": [
    {
     "data": {
      "text/plain": [
       "tensor([1.9076, 3.9108, 3.7136])"
      ]
     },
     "execution_count": 163,
     "metadata": {},
     "output_type": "execute_result"
    }
   ],
   "source": [
    "x.grad "
   ]
  },
  {
   "cell_type": "markdown",
   "id": "9df9e9da",
   "metadata": {},
   "source": [
    "#### Para que Pytorch no calcula gradientes:\n",
    "Al hacer update a los weights, no se necesita calcular la gradiente"
   ]
  },
  {
   "cell_type": "code",
   "execution_count": 169,
   "id": "481e3255",
   "metadata": {},
   "outputs": [],
   "source": [
    "#1. requires_grad_(False)\n",
    "#2. x.detatch(), crea nuevo tensor que no requiere gradiente\n",
    "#3. with torch.no_grad():"
   ]
  },
  {
   "cell_type": "code",
   "execution_count": 172,
   "id": "ef2fab2a",
   "metadata": {},
   "outputs": [],
   "source": [
    "x = torch.randn(3, requires_grad=True)"
   ]
  },
  {
   "cell_type": "code",
   "execution_count": 164,
   "id": "0bd13301",
   "metadata": {},
   "outputs": [
    {
     "data": {
      "text/plain": [
       "tensor([-0.8193,  0.6831,  0.5352])"
      ]
     },
     "execution_count": 164,
     "metadata": {},
     "output_type": "execute_result"
    }
   ],
   "source": [
    "x.requires_grad_(False)\n",
    "x"
   ]
  },
  {
   "cell_type": "code",
   "execution_count": 171,
   "id": "1e550ef1",
   "metadata": {},
   "outputs": [
    {
     "data": {
      "text/plain": [
       "tensor([-0.1021, -2.7926, -0.7338])"
      ]
     },
     "execution_count": 171,
     "metadata": {},
     "output_type": "execute_result"
    }
   ],
   "source": [
    "x.detach()"
   ]
  },
  {
   "cell_type": "code",
   "execution_count": 173,
   "id": "65314039",
   "metadata": {},
   "outputs": [
    {
     "name": "stdout",
     "output_type": "stream",
     "text": [
      "tensor([0.7901, 1.3859, 2.7067])\n"
     ]
    }
   ],
   "source": [
    "with torch.no_grad():\n",
    "    y = x+2\n",
    "    print(y) #no tiene funcion de gradiente"
   ]
  },
  {
   "cell_type": "markdown",
   "id": "d10dfbf5",
   "metadata": {},
   "source": [
    "#### Training example EMPTY GRADIENTS on every step"
   ]
  },
  {
   "cell_type": "code",
   "execution_count": 184,
   "id": "32dce7c1",
   "metadata": {},
   "outputs": [
    {
     "name": "stdout",
     "output_type": "stream",
     "text": [
      "tensor([3., 3., 3., 3.])\n",
      "tensor([3., 3., 3., 3.])\n",
      "tensor([3., 3., 3., 3.])\n"
     ]
    }
   ],
   "source": [
    "weights = torch.ones(4, requires_grad=True)\n",
    "\n",
    "for epoch in range(3):\n",
    "    model_output = (weights*3).sum()\n",
    "    model_output.backward()\n",
    "    print(weights.grad)\n",
    "    weights.grad.zero_() #EMPTY GRADIENTS BEFORE NEXT OPERATION"
   ]
  },
  {
   "cell_type": "code",
   "execution_count": 186,
   "id": "b6aeb7db",
   "metadata": {},
   "outputs": [],
   "source": [
    "optimizer = torch.optim.SGD([weights], lr=1e-3)\n",
    "optimizer.step()\n",
    "optimizer.zero_grad() #EMPTY GRADIENTS BEFORE NEXT OPERATION"
   ]
  },
  {
   "cell_type": "markdown",
   "id": "11aea809",
   "metadata": {},
   "source": [
    "### Backprop"
   ]
  },
  {
   "cell_type": "markdown",
   "id": "5b4fbd48",
   "metadata": {},
   "source": [
    "#### Optimizer"
   ]
  },
  {
   "cell_type": "code",
   "execution_count": 265,
   "id": "c9112899",
   "metadata": {},
   "outputs": [],
   "source": [
    "import torch.nn as nn"
   ]
  },
  {
   "cell_type": "code",
   "execution_count": 266,
   "id": "2d1cb7a8",
   "metadata": {},
   "outputs": [],
   "source": [
    "states = torch.normal(torch.rand(3,4))\n",
    "actions = torch.randint(1,3,(3,))"
   ]
  },
  {
   "cell_type": "code",
   "execution_count": 267,
   "id": "2ecdaff3",
   "metadata": {},
   "outputs": [],
   "source": [
    "criterion1 = nn.CrossEntropyLoss()\n",
    "criterion2 = nn.NLLLoss() #Requiere de LogSoftmax,"
   ]
  },
  {
   "cell_type": "code",
   "execution_count": 268,
   "id": "e7407714",
   "metadata": {},
   "outputs": [
    {
     "data": {
      "text/plain": [
       "tensor(2.4873)"
      ]
     },
     "execution_count": 268,
     "metadata": {},
     "output_type": "execute_result"
    }
   ],
   "source": [
    "criterion1(states,actions)"
   ]
  },
  {
   "cell_type": "code",
   "execution_count": 269,
   "id": "e8759041",
   "metadata": {},
   "outputs": [
    {
     "data": {
      "text/plain": [
       "tensor(2.4873)"
      ]
     },
     "execution_count": 269,
     "metadata": {},
     "output_type": "execute_result"
    }
   ],
   "source": [
    "criterion2(nn.LogSoftmax(dim=1)(states),actions)"
   ]
  },
  {
   "cell_type": "markdown",
   "id": "f469022d",
   "metadata": {},
   "source": [
    "# Simulacion de modelo"
   ]
  },
  {
   "cell_type": "code",
   "execution_count": 579,
   "id": "a29689ad",
   "metadata": {},
   "outputs": [],
   "source": [
    "input_tensor = torch.randint(0,3,(3,5))\n",
    "weights = torch.rand(125,3,requires_grad=True)\n",
    "bias = torch.rand(125,5,requires_grad=True)"
   ]
  },
  {
   "cell_type": "code",
   "execution_count": 580,
   "id": "2b252739",
   "metadata": {},
   "outputs": [
    {
     "data": {
      "text/plain": [
       "tensor([[0.8402, 0.0209, 0.1973],\n",
       "        [0.9238, 0.3832, 0.5293],\n",
       "        [0.8765, 0.7666, 0.2490],\n",
       "        [0.3489, 0.3641, 0.1139],\n",
       "        [0.4584, 0.3827, 0.6041],\n",
       "        [0.8989, 0.3235, 0.3466],\n",
       "        [0.8363, 0.0217, 0.2004],\n",
       "        [0.2159, 0.1633, 0.6151],\n",
       "        [0.0327, 0.7379, 0.6648],\n",
       "        [0.5941, 0.6473, 0.5944],\n",
       "        [0.4555, 0.8625, 0.4804],\n",
       "        [0.3443, 0.5762, 0.2929],\n",
       "        [0.0721, 0.1281, 0.0981],\n",
       "        [0.8526, 0.3860, 0.6288],\n",
       "        [0.3863, 0.2539, 0.3333],\n",
       "        [0.7756, 0.2616, 0.8300],\n",
       "        [0.5350, 0.5499, 0.6215],\n",
       "        [0.5019, 0.3792, 0.2121],\n",
       "        [0.2504, 0.2082, 0.0376],\n",
       "        [0.0478, 0.6091, 0.0066],\n",
       "        [0.8672, 0.4213, 0.7951],\n",
       "        [0.5051, 0.3295, 0.6581],\n",
       "        [0.2551, 0.7155, 0.9383],\n",
       "        [0.6676, 0.4711, 0.8421],\n",
       "        [0.8301, 0.3037, 0.3247],\n",
       "        [0.2655, 0.8930, 0.3116],\n",
       "        [0.4302, 0.7586, 0.7549],\n",
       "        [0.3475, 0.5600, 0.8265],\n",
       "        [0.5053, 0.6391, 0.1856],\n",
       "        [0.0408, 0.3301, 0.9017],\n",
       "        [0.8800, 0.8335, 0.0365],\n",
       "        [0.4563, 0.0243, 0.5113],\n",
       "        [0.5352, 0.4947, 0.6744],\n",
       "        [0.8163, 0.4593, 0.6809],\n",
       "        [0.5522, 0.2393, 0.4954],\n",
       "        [0.9663, 0.0372, 0.0569],\n",
       "        [0.2483, 0.6405, 0.8249],\n",
       "        [0.5631, 0.6584, 0.4900],\n",
       "        [0.6344, 0.0197, 0.2708],\n",
       "        [0.5270, 0.4985, 0.5034],\n",
       "        [0.9768, 0.0716, 0.0112],\n",
       "        [0.8736, 0.7813, 0.0416],\n",
       "        [0.7001, 0.0900, 0.7597],\n",
       "        [0.4014, 0.0223, 0.0290],\n",
       "        [0.6532, 0.3943, 0.5991],\n",
       "        [0.1003, 0.3338, 0.9839],\n",
       "        [0.4040, 0.7854, 0.9908],\n",
       "        [0.3447, 0.7553, 0.0295],\n",
       "        [0.8139, 0.1053, 0.8420],\n",
       "        [0.0168, 0.5301, 0.5156],\n",
       "        [0.1251, 0.1561, 0.0184],\n",
       "        [0.4827, 0.7553, 0.9246],\n",
       "        [0.3844, 0.5455, 0.9524],\n",
       "        [0.7878, 0.8244, 0.2481],\n",
       "        [0.1298, 0.2231, 0.0357],\n",
       "        [0.3107, 0.5171, 0.3336],\n",
       "        [0.1554, 0.6351, 0.1558],\n",
       "        [0.7017, 0.4126, 0.1058],\n",
       "        [0.5181, 0.5702, 0.4182],\n",
       "        [0.9578, 0.8148, 0.1040],\n",
       "        [0.1162, 0.6397, 0.4282],\n",
       "        [0.0713, 0.5383, 0.7009],\n",
       "        [0.8820, 0.7603, 0.9953],\n",
       "        [0.6010, 0.0659, 0.1813],\n",
       "        [0.4867, 0.9252, 0.6221],\n",
       "        [0.7544, 0.4206, 0.2988],\n",
       "        [0.2466, 0.4581, 0.8641],\n",
       "        [0.2467, 0.5516, 0.1239],\n",
       "        [0.7662, 0.3230, 0.7726],\n",
       "        [0.4573, 0.6032, 0.8059],\n",
       "        [0.1594, 0.6063, 0.4138],\n",
       "        [0.1465, 0.2031, 0.4162],\n",
       "        [0.1001, 0.0788, 0.1359],\n",
       "        [0.2094, 0.4770, 0.2137],\n",
       "        [0.7846, 0.5073, 0.1152],\n",
       "        [0.0699, 0.6849, 0.7004],\n",
       "        [0.6821, 0.1457, 0.2063],\n",
       "        [0.3257, 0.4411, 0.6225],\n",
       "        [0.6443, 0.0963, 0.3913],\n",
       "        [0.5340, 0.6552, 0.5424],\n",
       "        [0.1174, 0.6431, 0.9979],\n",
       "        [0.4129, 0.4361, 0.7518],\n",
       "        [0.6057, 0.9121, 0.0991],\n",
       "        [0.0304, 0.9920, 0.1324],\n",
       "        [0.4021, 0.5204, 0.9066],\n",
       "        [0.8385, 0.6080, 0.1295],\n",
       "        [0.9226, 0.0793, 0.3084],\n",
       "        [0.6102, 0.6906, 0.0737],\n",
       "        [0.5356, 0.9502, 0.0915],\n",
       "        [0.8294, 0.9218, 0.3851],\n",
       "        [0.8586, 0.0635, 0.3544],\n",
       "        [0.5135, 0.7243, 0.2655],\n",
       "        [0.5036, 0.2749, 0.5586],\n",
       "        [0.6191, 0.1372, 0.7180],\n",
       "        [0.4154, 0.0686, 0.5683],\n",
       "        [0.0108, 0.2001, 0.8860],\n",
       "        [0.2291, 0.8258, 0.0509],\n",
       "        [0.1656, 0.9846, 0.2221],\n",
       "        [0.4688, 0.7973, 0.6945],\n",
       "        [0.9081, 0.3240, 0.4982],\n",
       "        [0.4791, 0.4046, 0.0253],\n",
       "        [0.5497, 0.3375, 0.2837],\n",
       "        [0.8657, 0.2145, 0.1907],\n",
       "        [0.4026, 0.5528, 0.3395],\n",
       "        [0.8186, 0.5960, 0.4436],\n",
       "        [0.5894, 0.4607, 0.7341],\n",
       "        [0.3614, 0.7995, 0.2270],\n",
       "        [0.3858, 0.4495, 0.9296],\n",
       "        [0.5593, 0.9097, 0.8848],\n",
       "        [0.4561, 0.8389, 0.8999],\n",
       "        [0.1375, 0.1632, 0.4385],\n",
       "        [0.3114, 0.8610, 0.2013],\n",
       "        [0.0378, 0.2983, 0.8273],\n",
       "        [0.2877, 0.9637, 0.4090],\n",
       "        [0.3469, 0.5611, 0.1052],\n",
       "        [0.5983, 0.1275, 0.2246],\n",
       "        [0.1024, 0.7091, 0.5442],\n",
       "        [0.0526, 0.5055, 0.4818],\n",
       "        [0.1544, 0.0916, 0.8725],\n",
       "        [0.0593, 0.4400, 0.9363],\n",
       "        [0.5214, 0.0411, 0.8395],\n",
       "        [0.3777, 0.3110, 0.2386],\n",
       "        [0.6805, 0.1995, 0.0724],\n",
       "        [0.0680, 0.0919, 0.1209],\n",
       "        [0.9658, 0.4419, 0.7351]], requires_grad=True)"
      ]
     },
     "execution_count": 580,
     "metadata": {},
     "output_type": "execute_result"
    }
   ],
   "source": [
    "weights"
   ]
  },
  {
   "cell_type": "code",
   "execution_count": 585,
   "id": "7f3e3eee",
   "metadata": {},
   "outputs": [
    {
     "data": {
      "text/plain": [
       "torch.Size([125, 5])"
      ]
     },
     "execution_count": 585,
     "metadata": {},
     "output_type": "execute_result"
    }
   ],
   "source": [
    "#Forward\n",
    "logits = (weights @ input_tensor.float())+bias #Tiene grad_fn\n",
    "logits.size()"
   ]
  },
  {
   "cell_type": "code",
   "execution_count": 586,
   "id": "a8bd8182",
   "metadata": {},
   "outputs": [],
   "source": [
    "#Funcion de perdida\n",
    "actions = torch.randint(0,5,(125,))\n",
    "\n",
    "\n",
    "criterion = nn.CrossEntropyLoss(reduction='none')\n",
    "loss = criterion(logits,actions)\n",
    "loss = loss.mean()\n",
    "loss.backward() #update gradients on trainable tensors"
   ]
  },
  {
   "cell_type": "code",
   "execution_count": 587,
   "id": "1ca5bba5",
   "metadata": {},
   "outputs": [],
   "source": [
    "#Optimizer\n",
    "optimizer = torch.optim.Adam([weights,bias],1e-3)\n",
    "optimizer.step()\n",
    "optimizer.zero_grad()"
   ]
  },
  {
   "cell_type": "code",
   "execution_count": 588,
   "id": "acd59b91",
   "metadata": {},
   "outputs": [
    {
     "data": {
      "text/plain": [
       "tensor([[0.8392, 0.0199, 0.1963],\n",
       "        [0.9228, 0.3842, 0.5283],\n",
       "        [0.8755, 0.7656, 0.2480],\n",
       "        [0.3479, 0.3631, 0.1129],\n",
       "        [0.4574, 0.3817, 0.6031],\n",
       "        [0.8979, 0.3245, 0.3456],\n",
       "        [0.8353, 0.0207, 0.1994],\n",
       "        [0.2149, 0.1623, 0.6141],\n",
       "        [0.0337, 0.7369, 0.6638],\n",
       "        [0.5931, 0.6463, 0.5934],\n",
       "        [0.4545, 0.8615, 0.4794],\n",
       "        [0.3433, 0.5772, 0.2919],\n",
       "        [0.0711, 0.1271, 0.0971],\n",
       "        [0.8516, 0.3850, 0.6298],\n",
       "        [0.3853, 0.2549, 0.3323],\n",
       "        [0.7746, 0.2606, 0.8310],\n",
       "        [0.5340, 0.5509, 0.6205],\n",
       "        [0.5009, 0.3802, 0.2111],\n",
       "        [0.2514, 0.2072, 0.0366],\n",
       "        [0.0468, 0.6081, 0.0076],\n",
       "        [0.8662, 0.4203, 0.7961],\n",
       "        [0.5061, 0.3285, 0.6591],\n",
       "        [0.2561, 0.7145, 0.9373],\n",
       "        [0.6686, 0.4701, 0.8411],\n",
       "        [0.8291, 0.3027, 0.3237],\n",
       "        [0.2645, 0.8920, 0.3126],\n",
       "        [0.4312, 0.7576, 0.7539],\n",
       "        [0.3465, 0.5590, 0.8255],\n",
       "        [0.5063, 0.6381, 0.1846],\n",
       "        [0.0398, 0.3311, 0.9007],\n",
       "        [0.8790, 0.8345, 0.0355],\n",
       "        [0.4573, 0.0233, 0.5103],\n",
       "        [0.5342, 0.4937, 0.6734],\n",
       "        [0.8173, 0.4583, 0.6799],\n",
       "        [0.5512, 0.2383, 0.4944],\n",
       "        [0.9673, 0.0362, 0.0559],\n",
       "        [0.2493, 0.6395, 0.8259],\n",
       "        [0.5621, 0.6574, 0.4890],\n",
       "        [0.6334, 0.0207, 0.2698],\n",
       "        [0.5260, 0.4975, 0.5024],\n",
       "        [0.9758, 0.0726, 0.0102],\n",
       "        [0.8726, 0.7803, 0.0426],\n",
       "        [0.6991, 0.0910, 0.7587],\n",
       "        [0.4004, 0.0233, 0.0280],\n",
       "        [0.6542, 0.3933, 0.5981],\n",
       "        [0.0993, 0.3328, 0.9829],\n",
       "        [0.4050, 0.7844, 0.9918],\n",
       "        [0.3437, 0.7563, 0.0285],\n",
       "        [0.8129, 0.1043, 0.8410],\n",
       "        [0.0178, 0.5291, 0.5146],\n",
       "        [0.1241, 0.1571, 0.0174],\n",
       "        [0.4837, 0.7543, 0.9236],\n",
       "        [0.3834, 0.5445, 0.9514],\n",
       "        [0.7868, 0.8234, 0.2471],\n",
       "        [0.1288, 0.2221, 0.0347],\n",
       "        [0.3117, 0.5161, 0.3346],\n",
       "        [0.1564, 0.6341, 0.1568],\n",
       "        [0.7027, 0.4116, 0.1048],\n",
       "        [0.5191, 0.5692, 0.4172],\n",
       "        [0.9588, 0.8138, 0.1030],\n",
       "        [0.1152, 0.6407, 0.4272],\n",
       "        [0.0703, 0.5393, 0.6999],\n",
       "        [0.8810, 0.7593, 0.9943],\n",
       "        [0.6000, 0.0669, 0.1803],\n",
       "        [0.4857, 0.9242, 0.6211],\n",
       "        [0.7534, 0.4196, 0.2978],\n",
       "        [0.2476, 0.4571, 0.8631],\n",
       "        [0.2477, 0.5506, 0.1249],\n",
       "        [0.7652, 0.3220, 0.7716],\n",
       "        [0.4583, 0.6022, 0.8069],\n",
       "        [0.1584, 0.6053, 0.4128],\n",
       "        [0.1455, 0.2041, 0.4152],\n",
       "        [0.0991, 0.0778, 0.1349],\n",
       "        [0.2084, 0.4780, 0.2127],\n",
       "        [0.7856, 0.5063, 0.1162],\n",
       "        [0.0689, 0.6839, 0.6994],\n",
       "        [0.6831, 0.1447, 0.2053],\n",
       "        [0.3247, 0.4401, 0.6215],\n",
       "        [0.6453, 0.0953, 0.3903],\n",
       "        [0.5330, 0.6562, 0.5414],\n",
       "        [0.1184, 0.6421, 0.9989],\n",
       "        [0.4119, 0.4351, 0.7528],\n",
       "        [0.6047, 0.9111, 0.1001],\n",
       "        [0.0314, 0.9910, 0.1314],\n",
       "        [0.4031, 0.5194, 0.9056],\n",
       "        [0.8375, 0.6070, 0.1285],\n",
       "        [0.9216, 0.0783, 0.3074],\n",
       "        [0.6092, 0.6896, 0.0727],\n",
       "        [0.5346, 0.9492, 0.0905],\n",
       "        [0.8284, 0.9208, 0.3841],\n",
       "        [0.8576, 0.0625, 0.3554],\n",
       "        [0.5145, 0.7233, 0.2645],\n",
       "        [0.5026, 0.2739, 0.5576],\n",
       "        [0.6181, 0.1362, 0.7170],\n",
       "        [0.4164, 0.0676, 0.5673],\n",
       "        [0.0098, 0.1991, 0.8850],\n",
       "        [0.2301, 0.8248, 0.0519],\n",
       "        [0.1666, 0.9836, 0.2231],\n",
       "        [0.4678, 0.7983, 0.6935],\n",
       "        [0.9091, 0.3230, 0.4972],\n",
       "        [0.4781, 0.4036, 0.0243],\n",
       "        [0.5487, 0.3365, 0.2827],\n",
       "        [0.8647, 0.2155, 0.1897],\n",
       "        [0.4036, 0.5518, 0.3405],\n",
       "        [0.8176, 0.5950, 0.4426],\n",
       "        [0.5884, 0.4597, 0.7331],\n",
       "        [0.3624, 0.7985, 0.2260],\n",
       "        [0.3848, 0.4485, 0.9286],\n",
       "        [0.5583, 0.9087, 0.8838],\n",
       "        [0.4571, 0.8379, 0.9009],\n",
       "        [0.1365, 0.1622, 0.4375],\n",
       "        [0.3104, 0.8600, 0.2023],\n",
       "        [0.0388, 0.2973, 0.8283],\n",
       "        [0.2867, 0.9647, 0.4080],\n",
       "        [0.3459, 0.5621, 0.1042],\n",
       "        [0.5973, 0.1265, 0.2236],\n",
       "        [0.1014, 0.7081, 0.5432],\n",
       "        [0.0536, 0.5045, 0.4808],\n",
       "        [0.1534, 0.0906, 0.8715],\n",
       "        [0.0583, 0.4410, 0.9353],\n",
       "        [0.5204, 0.0401, 0.8385],\n",
       "        [0.3767, 0.3100, 0.2376],\n",
       "        [0.6795, 0.1985, 0.0734],\n",
       "        [0.0670, 0.0909, 0.1199],\n",
       "        [0.9648, 0.4429, 0.7341]], requires_grad=True)"
      ]
     },
     "execution_count": 588,
     "metadata": {},
     "output_type": "execute_result"
    }
   ],
   "source": [
    "weights"
   ]
  },
  {
   "cell_type": "markdown",
   "id": "f7ab86da",
   "metadata": {},
   "source": [
    "#### Sample from distribution"
   ]
  },
  {
   "cell_type": "code",
   "execution_count": 567,
   "id": "ddc3c176",
   "metadata": {},
   "outputs": [
    {
     "data": {
      "text/plain": [
       "tensor([4, 1, 0, 0, 3, 2, 0, 1, 0, 0, 2, 1, 1, 2, 1, 2, 2, 2, 3, 2, 1, 2, 4, 3,\n",
       "        4, 1, 4, 4, 1, 1, 1, 4, 1, 1, 1, 4, 2, 1, 2, 2, 2, 3, 3, 2, 2, 4, 3, 1,\n",
       "        2, 4, 2, 2, 3, 4, 3, 3, 1, 3, 2, 3, 3, 1, 0, 1, 0, 3, 3, 1, 2, 1, 1, 3,\n",
       "        1, 3, 3, 4, 2, 1, 2, 3, 4, 2, 0, 3, 4, 2, 3, 3, 2, 4, 2, 1, 0, 1, 0, 0,\n",
       "        1, 4, 3, 1, 2, 1, 4, 3, 4, 1, 3, 4, 3, 0, 1, 0, 0, 3, 3, 1, 1, 1, 4, 3,\n",
       "        1, 4, 3, 4, 3])"
      ]
     },
     "execution_count": 567,
     "metadata": {},
     "output_type": "execute_result"
    }
   ],
   "source": [
    "logits.size()\n",
    "torch.distributions.Categorical(logits).sample()"
   ]
  },
  {
   "cell_type": "code",
   "execution_count": 526,
   "id": "2fec21c8",
   "metadata": {},
   "outputs": [
    {
     "data": {
      "text/plain": [
       "tensor([0.4938, 0.9887, 0.2181])"
      ]
     },
     "execution_count": 526,
     "metadata": {},
     "output_type": "execute_result"
    }
   ],
   "source": [
    "torch.rand((3,))"
   ]
  },
  {
   "cell_type": "code",
   "execution_count": 527,
   "id": "1a95ff15",
   "metadata": {},
   "outputs": [
    {
     "data": {
      "text/plain": [
       "Categorical(probs: torch.Size([3]))"
      ]
     },
     "execution_count": 527,
     "metadata": {},
     "output_type": "execute_result"
    }
   ],
   "source": [
    "m = torch.distributions.Categorical(torch.randint(1,5,(3,)))\n",
    "m"
   ]
  },
  {
   "cell_type": "code",
   "execution_count": 566,
   "id": "37e3cb88",
   "metadata": {},
   "outputs": [
    {
     "data": {
      "text/plain": [
       "0"
      ]
     },
     "execution_count": 566,
     "metadata": {},
     "output_type": "execute_result"
    }
   ],
   "source": [
    "m.sample().item()"
   ]
  },
  {
   "cell_type": "code",
   "execution_count": null,
   "id": "748c29f0",
   "metadata": {},
   "outputs": [],
   "source": []
  },
  {
   "cell_type": "code",
   "execution_count": null,
   "id": "7dece3f7",
   "metadata": {},
   "outputs": [],
   "source": []
  },
  {
   "cell_type": "code",
   "execution_count": null,
   "id": "5cadd813",
   "metadata": {},
   "outputs": [],
   "source": []
  }
 ],
 "metadata": {
  "kernelspec": {
   "display_name": "Python 3",
   "language": "python",
   "name": "python3"
  },
  "language_info": {
   "codemirror_mode": {
    "name": "ipython",
    "version": 3
   },
   "file_extension": ".py",
   "mimetype": "text/x-python",
   "name": "python",
   "nbconvert_exporter": "python",
   "pygments_lexer": "ipython3",
   "version": "3.8.8"
  }
 },
 "nbformat": 4,
 "nbformat_minor": 5
}
