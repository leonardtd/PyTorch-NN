{
 "cells": [
  {
   "cell_type": "code",
   "execution_count": 39,
   "id": "7c8c2b36",
   "metadata": {},
   "outputs": [],
   "source": [
    "import torch\n",
    "import torch.nn as nn\n",
    "import torch.nn.functional as F\n",
    "import torchvision.datasets as datasets\n",
    "import torchvision.transforms as transforms\n",
    "from torch.utils.data import Dataset, DataLoader\n",
    "import torchvision\n",
    "\n",
    "import matplotlib.pyplot as plt"
   ]
  },
  {
   "cell_type": "code",
   "execution_count": 17,
   "id": "f595470f",
   "metadata": {},
   "outputs": [],
   "source": [
    "transform = transforms.ToTensor()"
   ]
  },
  {
   "cell_type": "code",
   "execution_count": 424,
   "id": "16513d6a",
   "metadata": {},
   "outputs": [],
   "source": [
    "batch_size = 128\n",
    "\n",
    "train_dataset = torchvision.datasets.MNIST(root='./data', train=True, transform=transforms.ToTensor(), download=True)\n",
    "test_dataset = torchvision.datasets.MNIST(root='./data', train=False, transform=transforms.ToTensor())\n",
    "train_loader = DataLoader(dataset=train_dataset, batch_size=batch_size, shuffle=True)\n",
    "test_loader = DataLoader(dataset=test_dataset, batch_size=batch_size, shuffle=True)"
   ]
  },
  {
   "cell_type": "code",
   "execution_count": 436,
   "id": "9bfd0833",
   "metadata": {},
   "outputs": [],
   "source": [
    "train_it = iter(train_loader)"
   ]
  },
  {
   "cell_type": "code",
   "execution_count": 437,
   "id": "59363708",
   "metadata": {},
   "outputs": [
    {
     "data": {
      "text/plain": [
       "(torch.Size([128, 1, 28, 28]), torch.Size([128]))"
      ]
     },
     "execution_count": 437,
     "metadata": {},
     "output_type": "execute_result"
    }
   ],
   "source": [
    "samples, labels = train_it.next()\n",
    "samples.shape, labels.shape"
   ]
  },
  {
   "cell_type": "code",
   "execution_count": 438,
   "id": "26c50a95",
   "metadata": {},
   "outputs": [
    {
     "data": {
      "image/png": "[encoded data removed]",
      "text/plain": [
       "<Figure size 432x288 with 6 Axes>"
      ]
     },
     "metadata": {
      "needs_background": "light"
     },
     "output_type": "display_data"
    }
   ],
   "source": [
    "for i in range(6):\n",
    "    plt.subplot(2, 3, i+1)\n",
    "    plt.imshow(samples[i][0], cmap='gray')\n",
    "plt.show()"
   ]
  },
  {
   "cell_type": "markdown",
   "id": "56d833c3",
   "metadata": {},
   "source": [
    "## Net"
   ]
  },
  {
   "cell_type": "markdown",
   "id": "c012356e",
   "metadata": {},
   "source": [
    "#### Encoder"
   ]
  },
  {
   "cell_type": "code",
   "execution_count": 439,
   "id": "e0ce86f9",
   "metadata": {},
   "outputs": [],
   "source": [
    "class CNN_Encoder(nn.Module):\n",
    "    def __init__(self, in_channels, hidden_dim):\n",
    "        super().__init__()\n",
    "        \n",
    "        self.conv1 = nn.Conv2d(in_channels, 16, kernel_size=3, padding=1) #1x28x28 -> MP 2x2\n",
    "        self.mp1 = nn.MaxPool2d(kernel_size=2)\n",
    "        self.conv2 = nn.Conv2d(16, 32, kernel_size=3, padding=1) #32x14x14\n",
    "        self.mp2 = nn.MaxPool2d(kernel_size=2)\n",
    "        self.conv3 = nn.Conv2d(32, 64, kernel_size=3, padding=1) #64x7x7\n",
    "        self.lin = nn.Linear(64*7*7, hidden_dim)\n",
    "        \n",
    "    def forward(self, x):\n",
    "        x = F.relu(self.conv1(x))\n",
    "        x = self.mp1(x) #bs,c,14,14\n",
    "        x = F.relu(self.conv2(x))\n",
    "        x = self.mp2(x) #bs,c,7,7\n",
    "        x = F.relu(self.conv3(x))\n",
    "        \n",
    "        x = x.reshape(-1, 64*7*7)\n",
    "        out = F.leaky_relu(self.lin(x))\n",
    "        \n",
    "        return out"
   ]
  },
  {
   "cell_type": "code",
   "execution_count": 440,
   "id": "58bde58c",
   "metadata": {},
   "outputs": [
    {
     "data": {
      "text/plain": [
       "torch.Size([128, 3136])"
      ]
     },
     "execution_count": 440,
     "metadata": {},
     "output_type": "execute_result"
    }
   ],
   "source": [
    "encoder = CNN_Encoder(1,49*64)\n",
    "encoder(samples).shape"
   ]
  },
  {
   "cell_type": "markdown",
   "id": "893d941e",
   "metadata": {},
   "source": [
    "#### Decoder"
   ]
  },
  {
   "cell_type": "code",
   "execution_count": 441,
   "id": "efbeb833",
   "metadata": {},
   "outputs": [],
   "source": [
    "inp = torch.randn((1,49*64))"
   ]
  },
  {
   "cell_type": "code",
   "execution_count": 442,
   "id": "e1d342e7",
   "metadata": {},
   "outputs": [],
   "source": [
    "class CNN_Decoder(nn.Module):\n",
    "    def __init__(self, hidden_dim, in_channels):\n",
    "        super().__init__()\n",
    "        \n",
    "        self.lin1 = nn.Linear(hidden_dim, 64*7*7)\n",
    "        self.convt1 = nn.ConvTranspose2d(64,32,kernel_size=3,padding=1) #7x7\n",
    "        self.convt2 = nn.ConvTranspose2d(32,16,kernel_size=3,padding=1) #7x7\n",
    "        self.convt3 = nn.ConvTranspose2d(16,1,kernel_size=3,padding=1) #7x7\n",
    "        self.lin2 = nn.Linear(7*7, 1*28*28)\n",
    "        \n",
    "    def forward(self, x):\n",
    "        x = self.lin1(x)\n",
    "        x = x.reshape(-1,64,7,7)\n",
    "        x = F.relu(self.convt1(x))\n",
    "        x = F.relu(self.convt2(x))\n",
    "        x = F.relu(self.convt3(x))\n",
    "        \n",
    "        x = x.reshape(-1, 1*7*7)\n",
    "        out = torch.sigmoid(self.lin2(x))\n",
    "        return out.reshape(-1,1,28,28)"
   ]
  },
  {
   "cell_type": "code",
   "execution_count": 443,
   "id": "1169cd71",
   "metadata": {},
   "outputs": [],
   "source": [
    "class AutoEncoder(nn.Module):\n",
    "    def __init__(self, e_channels, e_dim, d_channels):\n",
    "        super().__init__()\n",
    "        self.encoder = CNN_Encoder(e_channels, e_dim).to(device)\n",
    "        self.decoder = CNN_Decoder(e_dim, d_channels).to(device)\n",
    "        \n",
    "        self.criterion = nn.MSELoss()\n",
    "        self.optimizer = torch.optim.Adam(self.parameters(), lr=3e-4)\n",
    "        \n",
    "    def forward(self, x):\n",
    "        x = self.encode(x)\n",
    "        x = self.decode(x)\n",
    "        return x\n",
    "    \n",
    "    def encode(self, x):\n",
    "        return self.encoder(x)\n",
    "        \n",
    "    def decode(self, x):\n",
    "        return self.decoder(x)\n",
    "    \n",
    "    def train_step(self, x):\n",
    "        decoded = self.forward(x)\n",
    "        \n",
    "        self.optimizer.zero_grad()\n",
    "        loss = self.criterion(decoded, x)\n",
    "        loss.backward()\n",
    "        self.optimizer.step()\n",
    "        \n",
    "        return loss.cpu().item()"
   ]
  },
  {
   "cell_type": "code",
   "execution_count": 444,
   "id": "92ffcd90",
   "metadata": {},
   "outputs": [],
   "source": [
    "ae_model = AutoEncoder(1,49*64,64)"
   ]
  },
  {
   "cell_type": "code",
   "execution_count": 451,
   "id": "4f7b0f66",
   "metadata": {},
   "outputs": [
    {
     "data": {
      "text/plain": [
       "torch.Size([128, 1, 28, 28])"
      ]
     },
     "execution_count": 451,
     "metadata": {},
     "output_type": "execute_result"
    }
   ],
   "source": [
    "test_samples, test_labels = next(iter(test_loader))\n",
    "test_samples.shape"
   ]
  },
  {
   "cell_type": "code",
   "execution_count": 452,
   "id": "ca0d9d7a",
   "metadata": {},
   "outputs": [],
   "source": [
    "writer.add_graph(ae_model, test_samples.to(device))"
   ]
  },
  {
   "cell_type": "markdown",
   "id": "5ba82eba",
   "metadata": {},
   "source": [
    "#### training loop"
   ]
  },
  {
   "cell_type": "code",
   "execution_count": 453,
   "id": "15f4f355",
   "metadata": {},
   "outputs": [],
   "source": [
    "device = 'cuda' if torch.cuda.is_available() else 'cpu'"
   ]
  },
  {
   "cell_type": "code",
   "execution_count": 454,
   "id": "1134698f",
   "metadata": {},
   "outputs": [],
   "source": [
    "# training loop\n",
    "num_epochs = 10\n",
    "n_steps = len(train_loader)"
   ]
  },
  {
   "cell_type": "code",
   "execution_count": 455,
   "id": "e4e945c8",
   "metadata": {},
   "outputs": [],
   "source": [
    "ae_model = AutoEncoder(1,128,64).to(device)"
   ]
  },
  {
   "cell_type": "code",
   "execution_count": 456,
   "id": "b642a260",
   "metadata": {},
   "outputs": [
    {
     "name": "stdout",
     "output_type": "stream",
     "text": [
      "epoch 1 / 10, step 100/469, loss = 0.0651\n",
      "epoch 1 / 10, step 200/469, loss = 0.0578\n",
      "epoch 1 / 10, step 300/469, loss = 0.0455\n",
      "epoch 1 / 10, step 400/469, loss = 0.0404\n",
      "epoch 2 / 10, step 100/469, loss = 0.0306\n",
      "epoch 2 / 10, step 200/469, loss = 0.0280\n",
      "epoch 2 / 10, step 300/469, loss = 0.0282\n",
      "epoch 2 / 10, step 400/469, loss = 0.0261\n",
      "epoch 3 / 10, step 100/469, loss = 0.0243\n",
      "epoch 3 / 10, step 200/469, loss = 0.0234\n",
      "epoch 3 / 10, step 300/469, loss = 0.0225\n",
      "epoch 3 / 10, step 400/469, loss = 0.0225\n",
      "epoch 4 / 10, step 100/469, loss = 0.0208\n",
      "epoch 4 / 10, step 200/469, loss = 0.0194\n",
      "epoch 4 / 10, step 300/469, loss = 0.0191\n",
      "epoch 4 / 10, step 400/469, loss = 0.0193\n",
      "epoch 5 / 10, step 100/469, loss = 0.0162\n",
      "epoch 5 / 10, step 200/469, loss = 0.0171\n",
      "epoch 5 / 10, step 300/469, loss = 0.0171\n",
      "epoch 5 / 10, step 400/469, loss = 0.0167\n",
      "epoch 6 / 10, step 100/469, loss = 0.0163\n",
      "epoch 6 / 10, step 200/469, loss = 0.0159\n",
      "epoch 6 / 10, step 300/469, loss = 0.0160\n",
      "epoch 6 / 10, step 400/469, loss = 0.0152\n",
      "epoch 7 / 10, step 100/469, loss = 0.0161\n",
      "epoch 7 / 10, step 200/469, loss = 0.0146\n",
      "epoch 7 / 10, step 300/469, loss = 0.0148\n",
      "epoch 7 / 10, step 400/469, loss = 0.0135\n",
      "epoch 8 / 10, step 100/469, loss = 0.0142\n",
      "epoch 8 / 10, step 200/469, loss = 0.0125\n",
      "epoch 8 / 10, step 300/469, loss = 0.0112\n",
      "epoch 8 / 10, step 400/469, loss = 0.0130\n",
      "epoch 9 / 10, step 100/469, loss = 0.0138\n",
      "epoch 9 / 10, step 200/469, loss = 0.0115\n",
      "epoch 9 / 10, step 300/469, loss = 0.0112\n",
      "epoch 9 / 10, step 400/469, loss = 0.0112\n",
      "epoch 10 / 10, step 100/469, loss = 0.0120\n",
      "epoch 10 / 10, step 200/469, loss = 0.0107\n",
      "epoch 10 / 10, step 300/469, loss = 0.0120\n",
      "epoch 10 / 10, step 400/469, loss = 0.0116\n"
     ]
    }
   ],
   "source": [
    "writer = SummaryWriter()\n",
    "cum_loss = 0\n",
    "\n",
    "samples = []\n",
    "\n",
    "for epoch in range(num_epochs):\n",
    "    for i,(images, labels) in enumerate(train_loader):\n",
    "        images = images.reshape(-1,1,28,28).to(device)\n",
    "        \n",
    "        #forward\n",
    "        loss = ae_model.train_step(images)\n",
    "        cum_loss += loss\n",
    "        \n",
    "        if (i+1) % 100 == 0:\n",
    "            print(f'epoch {epoch+1} / {num_epochs}, step {i+1}/{n_steps}, loss = {loss:.4f}')\n",
    "    \n",
    "    with torch.no_grad():\n",
    "        outputs = ae_model(test_samples.to(device)).cpu()\n",
    "        embeddings = ae_model.encode(test_samples.to(device)).cpu()\n",
    "        \n",
    "        \n",
    "        samples.append(outputs)\n",
    "        \n",
    "        grid = torchvision.utils.make_grid(outputs)\n",
    "        \n",
    "        writer.add_image(f'loss by epoch', grid, epoch+1)\n",
    "        writer.add_scalar('Loss/train',cum_loss,epoch)\n",
    "        writer.add_embedding(embeddings, metadata=test_labels,label_img=outputs,global_step=epoch, tag=f\"Embeddings\")\n",
    "        \n",
    "        writer.close()\n",
    "    cum_loss = 0\n",
    "        \n",
    "writer.close()"
   ]
  },
  {
   "cell_type": "markdown",
   "id": "19f1b189",
   "metadata": {},
   "source": [
    "#### preds"
   ]
  },
  {
   "cell_type": "code",
   "execution_count": 291,
   "id": "3555d07a",
   "metadata": {},
   "outputs": [
    {
     "name": "stdout",
     "output_type": "stream",
     "text": [
      "epoch 10\n"
     ]
    },
    {
     "data": {
      "image/png": "[encoded data removed]",
      "text/plain": [
       "<Figure size 432x288 with 6 Axes>"
      ]
     },
     "metadata": {
      "needs_background": "light"
     },
     "output_type": "display_data"
    },
    {
     "name": "stdout",
     "output_type": "stream",
     "text": [
      "epoch 20\n"
     ]
    },
    {
     "data": {
      "image/png": "[encoded data removed]",
      "text/plain": [
       "<Figure size 432x288 with 6 Axes>"
      ]
     },
     "metadata": {
      "needs_background": "light"
     },
     "output_type": "display_data"
    },
    {
     "name": "stdout",
     "output_type": "stream",
     "text": [
      "epoch 30\n"
     ]
    },
    {
     "data": {
      "image/png": "[encoded data removed]",
      "text/plain": [
       "<Figure size 432x288 with 6 Axes>"
      ]
     },
     "metadata": {
      "needs_background": "light"
     },
     "output_type": "display_data"
    }
   ],
   "source": [
    "#s = samples[15]\n",
    "\n",
    "for j, s in enumerate(samples):\n",
    "    if (j+1)%10==0:\n",
    "        print(f\"epoch {j+1}\")\n",
    "        for i in range(len(s)):\n",
    "            plt.subplot(2, 3, i+1)\n",
    "            plt.imshow(s[i][0], cmap='gray')\n",
    "        \n",
    "        plt.show()"
   ]
  }
 ],
 "metadata": {
  "kernelspec": {
   "display_name": "Python 3",
   "language": "python",
   "name": "python3"
  },
  "language_info": {
   "codemirror_mode": {
    "name": "ipython",
    "version": 3
   },
   "file_extension": ".py",
   "mimetype": "text/x-python",
   "name": "python",
   "nbconvert_exporter": "python",
   "pygments_lexer": "ipython3",
   "version": "3.8.8"
  }
 },
 "nbformat": 4,
 "nbformat_minor": 5
}
