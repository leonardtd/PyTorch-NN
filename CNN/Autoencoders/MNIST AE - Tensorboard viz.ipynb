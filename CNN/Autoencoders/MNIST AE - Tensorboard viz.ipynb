{
 "cells": [
  {
   "cell_type": "code",
   "execution_count": 39,
   "id": "3df1b643",
   "metadata": {},
   "outputs": [],
   "source": [
    "import torch\n",
    "import torch.nn as nn\n",
    "import torch.nn.functional as F\n",
    "import torchvision.datasets as datasets\n",
    "import torchvision.transforms as transforms\n",
    "from torch.utils.data import Dataset, DataLoader\n",
    "import torchvision\n",
    "\n",
    "import matplotlib.pyplot as plt"
   ]
  },
  {
   "cell_type": "code",
   "execution_count": 17,
   "id": "c66d423a",
   "metadata": {},
   "outputs": [],
   "source": [
    "transform = transforms.ToTensor()"
   ]
  },
  {
   "cell_type": "code",
   "execution_count": 206,
   "id": "c5ec04b3",
   "metadata": {},
   "outputs": [],
   "source": [
    "batch_size = 128\n",
    "\n",
    "train_dataset = torchvision.datasets.MNIST(root='./data', train=True, transform=transforms.ToTensor(), download=True)\n",
    "test_dataset = torchvision.datasets.MNIST(root='./data', train=False, transform=transforms.ToTensor())\n",
    "train_loader = DataLoader(dataset=train_dataset, batch_size=batch_size, shuffle=True)\n",
    "test_loader = DataLoader(dataset=test_dataset, batch_size=batch_size, shuffle=True)"
   ]
  },
  {
   "cell_type": "code",
   "execution_count": 207,
   "id": "7b0231f7",
   "metadata": {},
   "outputs": [],
   "source": [
    "train_it = iter(train_loader)"
   ]
  },
  {
   "cell_type": "code",
   "execution_count": 208,
   "id": "3faea9f4",
   "metadata": {},
   "outputs": [
    {
     "data": {
      "text/plain": [
       "(torch.Size([128, 1, 28, 28]), torch.Size([128]))"
      ]
     },
     "execution_count": 208,
     "metadata": {},
     "output_type": "execute_result"
    }
   ],
   "source": [
    "samples, labels = train_it.next()\n",
    "samples.shape, labels.shape"
   ]
  },
  {
   "cell_type": "code",
   "execution_count": 209,
   "id": "bc4d5efc",
   "metadata": {},
   "outputs": [
    {
     "data": {
      "image/png": "[encoded data removed]",
      "text/plain": [
       "<Figure size 432x288 with 6 Axes>"
      ]
     },
     "metadata": {
      "needs_background": "light"
     },
     "output_type": "display_data"
    }
   ],
   "source": [
    "for i in range(6):\n",
    "    plt.subplot(2, 3, i+1)\n",
    "    plt.imshow(samples[i][0], cmap='gray')\n",
    "plt.show()"
   ]
  },
  {
   "cell_type": "markdown",
   "id": "d02ecb5e",
   "metadata": {},
   "source": [
    "### Net"
   ]
  },
  {
   "cell_type": "markdown",
   "id": "9d563516",
   "metadata": {},
   "source": [
    "#### Encoder"
   ]
  },
  {
   "cell_type": "code",
   "execution_count": 210,
   "id": "2bc52a7c",
   "metadata": {},
   "outputs": [],
   "source": [
    "class CNN_Encoder(nn.Module):\n",
    "    def __init__(self, in_channels, hidden_dim):\n",
    "        super().__init__()\n",
    "        \n",
    "        self.conv1 = nn.Conv2d(in_channels, 16, kernel_size=3, padding=1) #1x28x28 -> MP 2x2\n",
    "        self.mp1 = nn.MaxPool2d(kernel_size=2)\n",
    "        self.conv2 = nn.Conv2d(16, 32, kernel_size=3, padding=1) #32x14x14\n",
    "        self.mp2 = nn.MaxPool2d(kernel_size=2)\n",
    "        self.conv3 = nn.Conv2d(32, 64, kernel_size=3, padding=1) #64x7x7\n",
    "        self.lin = nn.Linear(64*7*7, hidden_dim)\n",
    "        \n",
    "    def forward(self, x):\n",
    "        x = F.relu(self.conv1(x))\n",
    "        x = self.mp1(x) #bs,c,14,14\n",
    "        x = F.relu(self.conv2(x))\n",
    "        x = self.mp2(x) #bs,c,7,7\n",
    "        x = F.relu(self.conv3(x))\n",
    "        \n",
    "        x = x.reshape(-1, 64*7*7)\n",
    "        out = F.leaky_relu(self.lin(x))\n",
    "        \n",
    "        return out"
   ]
  },
  {
   "cell_type": "code",
   "execution_count": 211,
   "id": "40cde0a0",
   "metadata": {},
   "outputs": [
    {
     "data": {
      "text/plain": [
       "torch.Size([128, 3136])"
      ]
     },
     "execution_count": 211,
     "metadata": {},
     "output_type": "execute_result"
    }
   ],
   "source": [
    "encoder = CNN_Encoder(1,49*64)\n",
    "encoder(samples).shape"
   ]
  },
  {
   "cell_type": "markdown",
   "id": "f6e14fab",
   "metadata": {},
   "source": [
    "#### Decoder"
   ]
  },
  {
   "cell_type": "code",
   "execution_count": 212,
   "id": "c0a4fed1",
   "metadata": {},
   "outputs": [],
   "source": [
    "inp = torch.randn((1,49*64))"
   ]
  },
  {
   "cell_type": "code",
   "execution_count": 213,
   "id": "dfc64b27",
   "metadata": {},
   "outputs": [],
   "source": [
    "class CNN_Decoder(nn.Module):\n",
    "    def __init__(self, in_channels):\n",
    "        super().__init__()\n",
    "        \n",
    "        self.convt1 = nn.ConvTranspose2d(64,32,kernel_size=3,padding=1) #7x7\n",
    "        self.convt2 = nn.ConvTranspose2d(32,16,kernel_size=3,padding=1) #7x7\n",
    "        self.convt3 = nn.ConvTranspose2d(16,1,kernel_size=3,padding=1) #7x7\n",
    "        self.lin1 = nn.Linear(7*7, 1*28*28)\n",
    "        \n",
    "    def forward(self, x):\n",
    "        x = F.relu(self.convt1(x))\n",
    "        x = F.relu(self.convt2(x))\n",
    "        x = F.relu(self.convt3(x))\n",
    "        \n",
    "        x = x.reshape(-1, 1*7*7)\n",
    "        out = torch.sigmoid(self.lin1(x))\n",
    "        return out.reshape(-1,1,28,28)"
   ]
  },
  {
   "cell_type": "code",
   "execution_count": 214,
   "id": "561c585c",
   "metadata": {},
   "outputs": [],
   "source": [
    "class AutoEncoder(nn.Module):\n",
    "    def __init__(self, e_channels, e_dim, d_channels):\n",
    "        super().__init__()\n",
    "        self.encoder = CNN_Encoder(e_channels, e_dim).to(device)\n",
    "        self.decoder = CNN_Decoder(d_channels).to(device)\n",
    "        \n",
    "        self.criterion = nn.MSELoss()\n",
    "        self.optimizer = torch.optim.Adam(self.parameters(), lr=3e-4)\n",
    "        \n",
    "    def forward(self, x):\n",
    "        x = self.encode(x)\n",
    "        x = x.reshape(-1,64,7,7)\n",
    "        x = self.decode(x)\n",
    "        return x\n",
    "    \n",
    "    def encode(self, x):\n",
    "        return self.encoder(x)\n",
    "        \n",
    "    def decode(self, x):\n",
    "        return self.decoder(x)\n",
    "    \n",
    "    def train_step(self, x):\n",
    "        decoded = self.forward(x)\n",
    "        \n",
    "        self.optimizer.zero_grad()\n",
    "        loss = self.criterion(decoded, x)\n",
    "        loss.backward()\n",
    "        self.optimizer.step()\n",
    "        \n",
    "        return loss.cpu().item()"
   ]
  },
  {
   "cell_type": "code",
   "execution_count": 215,
   "id": "4b20abd6",
   "metadata": {},
   "outputs": [],
   "source": [
    "ae_model = AutoEncoder(1,49*64,64)"
   ]
  },
  {
   "cell_type": "markdown",
   "id": "e75d6049",
   "metadata": {},
   "source": [
    "#### training loop"
   ]
  },
  {
   "cell_type": "code",
   "execution_count": 225,
   "id": "d5758405",
   "metadata": {},
   "outputs": [],
   "source": [
    "test_iter = iter(test_loader)\n",
    "samples, _ = test_iter.next()\n",
    "test_samples = samples[:6]"
   ]
  },
  {
   "cell_type": "code",
   "execution_count": 226,
   "id": "7ee87945",
   "metadata": {},
   "outputs": [],
   "source": [
    "device = 'cuda' if torch.cuda.is_available() else 'cpu'"
   ]
  },
  {
   "cell_type": "code",
   "execution_count": 227,
   "id": "5bd9f1cb",
   "metadata": {},
   "outputs": [],
   "source": [
    "# training loop\n",
    "num_epochs = 30\n",
    "n_steps = len(train_loader)"
   ]
  },
  {
   "cell_type": "code",
   "execution_count": 228,
   "id": "486017ac",
   "metadata": {},
   "outputs": [],
   "source": [
    "ae_model = AutoEncoder(1,49*64,64).to(device)"
   ]
  },
  {
   "cell_type": "code",
   "execution_count": 229,
   "id": "33bb684c",
   "metadata": {},
   "outputs": [
    {
     "name": "stdout",
     "output_type": "stream",
     "text": [
      "epoch 1 / 30, step 100/469, loss = 0.0597\n",
      "epoch 1 / 30, step 200/469, loss = 0.0495\n",
      "epoch 1 / 30, step 300/469, loss = 0.0357\n",
      "epoch 1 / 30, step 400/469, loss = 0.0308\n",
      "epoch 2 / 30, step 100/469, loss = 0.0277\n",
      "epoch 2 / 30, step 200/469, loss = 0.0279\n",
      "epoch 2 / 30, step 300/469, loss = 0.0243\n",
      "epoch 2 / 30, step 400/469, loss = 0.0223\n",
      "epoch 3 / 30, step 100/469, loss = 0.0210\n",
      "epoch 3 / 30, step 200/469, loss = 0.0195\n",
      "epoch 3 / 30, step 300/469, loss = 0.0193\n",
      "epoch 3 / 30, step 400/469, loss = 0.0183\n",
      "epoch 4 / 30, step 100/469, loss = 0.0170\n",
      "epoch 4 / 30, step 200/469, loss = 0.0156\n",
      "epoch 4 / 30, step 300/469, loss = 0.0158\n",
      "epoch 4 / 30, step 400/469, loss = 0.0144\n",
      "epoch 5 / 30, step 100/469, loss = 0.0145\n",
      "epoch 5 / 30, step 200/469, loss = 0.0140\n",
      "epoch 5 / 30, step 300/469, loss = 0.0140\n",
      "epoch 5 / 30, step 400/469, loss = 0.0142\n",
      "epoch 6 / 30, step 100/469, loss = 0.0145\n",
      "epoch 6 / 30, step 200/469, loss = 0.0136\n",
      "epoch 6 / 30, step 300/469, loss = 0.0125\n",
      "epoch 6 / 30, step 400/469, loss = 0.0121\n",
      "epoch 7 / 30, step 100/469, loss = 0.0108\n",
      "epoch 7 / 30, step 200/469, loss = 0.0122\n",
      "epoch 7 / 30, step 300/469, loss = 0.0116\n",
      "epoch 7 / 30, step 400/469, loss = 0.0118\n",
      "epoch 8 / 30, step 100/469, loss = 0.0114\n",
      "epoch 8 / 30, step 200/469, loss = 0.0117\n",
      "epoch 8 / 30, step 300/469, loss = 0.0110\n",
      "epoch 8 / 30, step 400/469, loss = 0.0113\n",
      "epoch 9 / 30, step 100/469, loss = 0.0105\n",
      "epoch 9 / 30, step 200/469, loss = 0.0102\n",
      "epoch 9 / 30, step 300/469, loss = 0.0108\n",
      "epoch 9 / 30, step 400/469, loss = 0.0103\n",
      "epoch 10 / 30, step 100/469, loss = 0.0104\n",
      "epoch 10 / 30, step 200/469, loss = 0.0092\n",
      "epoch 10 / 30, step 300/469, loss = 0.0103\n",
      "epoch 10 / 30, step 400/469, loss = 0.0105\n",
      "epoch 11 / 30, step 100/469, loss = 0.0098\n",
      "epoch 11 / 30, step 200/469, loss = 0.0099\n",
      "epoch 11 / 30, step 300/469, loss = 0.0099\n",
      "epoch 11 / 30, step 400/469, loss = 0.0094\n",
      "epoch 12 / 30, step 100/469, loss = 0.0088\n",
      "epoch 12 / 30, step 200/469, loss = 0.0102\n",
      "epoch 12 / 30, step 300/469, loss = 0.0086\n",
      "epoch 12 / 30, step 400/469, loss = 0.0087\n",
      "epoch 13 / 30, step 100/469, loss = 0.0085\n",
      "epoch 13 / 30, step 200/469, loss = 0.0087\n",
      "epoch 13 / 30, step 300/469, loss = 0.0094\n",
      "epoch 13 / 30, step 400/469, loss = 0.0095\n",
      "epoch 14 / 30, step 100/469, loss = 0.0084\n",
      "epoch 14 / 30, step 200/469, loss = 0.0080\n",
      "epoch 14 / 30, step 300/469, loss = 0.0086\n",
      "epoch 14 / 30, step 400/469, loss = 0.0080\n",
      "epoch 15 / 30, step 100/469, loss = 0.0094\n",
      "epoch 15 / 30, step 200/469, loss = 0.0084\n",
      "epoch 15 / 30, step 300/469, loss = 0.0081\n",
      "epoch 15 / 30, step 400/469, loss = 0.0079\n",
      "epoch 16 / 30, step 100/469, loss = 0.0081\n",
      "epoch 16 / 30, step 200/469, loss = 0.0077\n",
      "epoch 16 / 30, step 300/469, loss = 0.0080\n",
      "epoch 16 / 30, step 400/469, loss = 0.0073\n",
      "epoch 17 / 30, step 100/469, loss = 0.0082\n",
      "epoch 17 / 30, step 200/469, loss = 0.0084\n",
      "epoch 17 / 30, step 300/469, loss = 0.0076\n",
      "epoch 17 / 30, step 400/469, loss = 0.0076\n",
      "epoch 18 / 30, step 100/469, loss = 0.0072\n",
      "epoch 18 / 30, step 200/469, loss = 0.0071\n",
      "epoch 18 / 30, step 300/469, loss = 0.0078\n",
      "epoch 18 / 30, step 400/469, loss = 0.0083\n",
      "epoch 19 / 30, step 100/469, loss = 0.0081\n",
      "epoch 19 / 30, step 200/469, loss = 0.0077\n",
      "epoch 19 / 30, step 300/469, loss = 0.0069\n",
      "epoch 19 / 30, step 400/469, loss = 0.0069\n",
      "epoch 20 / 30, step 100/469, loss = 0.0073\n",
      "epoch 20 / 30, step 200/469, loss = 0.0068\n",
      "epoch 20 / 30, step 300/469, loss = 0.0073\n",
      "epoch 20 / 30, step 400/469, loss = 0.0068\n",
      "epoch 21 / 30, step 100/469, loss = 0.0072\n",
      "epoch 21 / 30, step 200/469, loss = 0.0071\n",
      "epoch 21 / 30, step 300/469, loss = 0.0075\n",
      "epoch 21 / 30, step 400/469, loss = 0.0072\n",
      "epoch 22 / 30, step 100/469, loss = 0.0071\n",
      "epoch 22 / 30, step 200/469, loss = 0.0074\n",
      "epoch 22 / 30, step 300/469, loss = 0.0070\n",
      "epoch 22 / 30, step 400/469, loss = 0.0071\n",
      "epoch 23 / 30, step 100/469, loss = 0.0067\n",
      "epoch 23 / 30, step 200/469, loss = 0.0063\n",
      "epoch 23 / 30, step 300/469, loss = 0.0070\n",
      "epoch 23 / 30, step 400/469, loss = 0.0071\n",
      "epoch 24 / 30, step 100/469, loss = 0.0066\n",
      "epoch 24 / 30, step 200/469, loss = 0.0070\n",
      "epoch 24 / 30, step 300/469, loss = 0.0072\n",
      "epoch 24 / 30, step 400/469, loss = 0.0073\n",
      "epoch 25 / 30, step 100/469, loss = 0.0069\n",
      "epoch 25 / 30, step 200/469, loss = 0.0069\n",
      "epoch 25 / 30, step 300/469, loss = 0.0065\n",
      "epoch 25 / 30, step 400/469, loss = 0.0062\n",
      "epoch 26 / 30, step 100/469, loss = 0.0070\n",
      "epoch 26 / 30, step 200/469, loss = 0.0066\n",
      "epoch 26 / 30, step 300/469, loss = 0.0057\n",
      "epoch 26 / 30, step 400/469, loss = 0.0063\n",
      "epoch 27 / 30, step 100/469, loss = 0.0063\n",
      "epoch 27 / 30, step 200/469, loss = 0.0070\n",
      "epoch 27 / 30, step 300/469, loss = 0.0063\n",
      "epoch 27 / 30, step 400/469, loss = 0.0066\n",
      "epoch 28 / 30, step 100/469, loss = 0.0068\n",
      "epoch 28 / 30, step 200/469, loss = 0.0067\n",
      "epoch 28 / 30, step 300/469, loss = 0.0064\n",
      "epoch 28 / 30, step 400/469, loss = 0.0062\n",
      "epoch 29 / 30, step 100/469, loss = 0.0069\n",
      "epoch 29 / 30, step 200/469, loss = 0.0059\n",
      "epoch 29 / 30, step 300/469, loss = 0.0059\n",
      "epoch 29 / 30, step 400/469, loss = 0.0062\n",
      "epoch 30 / 30, step 100/469, loss = 0.0062\n",
      "epoch 30 / 30, step 200/469, loss = 0.0065\n",
      "epoch 30 / 30, step 300/469, loss = 0.0064\n",
      "epoch 30 / 30, step 400/469, loss = 0.0060\n"
     ]
    }
   ],
   "source": [
    "samples = []\n",
    "\n",
    "for epoch in range(num_epochs):\n",
    "    for i,(images, labels) in enumerate(train_loader):\n",
    "        images = images.reshape(-1,1,28,28).to(device)\n",
    "        \n",
    "        #forward\n",
    "        loss = ae_model.train_step(images)\n",
    "\n",
    "        if (i+1) % 100 == 0:\n",
    "            print(f'epoch {epoch+1} / {num_epochs}, step {i+1}/{n_steps}, loss = {loss:.4f}')\n",
    "    \n",
    "    with torch.no_grad():\n",
    "        outputs = ae_model(test_samples.to(device)).cpu()\n",
    "        samples.append(outputs)"
   ]
  },
  {
   "cell_type": "code",
   "execution_count": 235,
   "id": "448b17cc",
   "metadata": {},
   "outputs": [
    {
     "data": {
      "image/png": "[encoded data removed]",
      "text/plain": [
       "<Figure size 432x288 with 6 Axes>"
      ]
     },
     "metadata": {
      "needs_background": "light"
     },
     "output_type": "display_data"
    }
   ],
   "source": [
    "s = samples[-1]\n",
    "\n",
    "for i in range(len(samples[0])):\n",
    "    plt.subplot(2, 3, i+1)\n",
    "    plt.imshow(s[i][0], cmap='gray')\n",
    "plt.show()"
   ]
  }
 ],
 "metadata": {
  "kernelspec": {
   "display_name": "Python 3",
   "language": "python",
   "name": "python3"
  },
  "language_info": {
   "codemirror_mode": {
    "name": "ipython",
    "version": 3
   },
   "file_extension": ".py",
   "mimetype": "text/x-python",
   "name": "python",
   "nbconvert_exporter": "python",
   "pygments_lexer": "ipython3",
   "version": "3.8.8"
  }
 },
 "nbformat": 4,
 "nbformat_minor": 5
}
