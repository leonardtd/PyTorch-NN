{
 "cells": [
  {
   "cell_type": "code",
   "execution_count": 3,
   "id": "ef2f5e61",
   "metadata": {},
   "outputs": [],
   "source": [
    "import gym\n",
    "import torch\n",
    "import torch.nn as nn\n",
    "import torch.nn.functional as F\n",
    "import numpy as np\n",
    "import time\n",
    "import math\n",
    "from collections import deque \n",
    "import random"
   ]
  },
  {
   "cell_type": "code",
   "execution_count": 4,
   "id": "974689d8",
   "metadata": {},
   "outputs": [],
   "source": [
    "env = gym.make('CartPole-v0')\n",
    "device = 'cuda' if torch.cuda.is_available() else 'cpu'"
   ]
  },
  {
   "cell_type": "code",
   "execution_count": 5,
   "id": "8cac4abd",
   "metadata": {},
   "outputs": [],
   "source": [
    "class DQN(nn.Module):\n",
    "    def __init__(self, obs_space, act_space):\n",
    "        super(DQN, self).__init__()\n",
    "        self.sequential = nn.Sequential(\n",
    "            nn.Linear(obs_space,64),\n",
    "            nn.ReLU(),\n",
    "            nn.Linear(64,128),\n",
    "            nn.ReLU(),\n",
    "            nn.Linear(128,act_space)\n",
    "        )\n",
    "        \n",
    "    def forward(self, x):\n",
    "        x = self.sequential(x)\n",
    "        return x"
   ]
  },
  {
   "cell_type": "code",
   "execution_count": 6,
   "id": "fb8612cb",
   "metadata": {},
   "outputs": [],
   "source": [
    "def normalize_rewards(rewards):\n",
    "    return ((rewards-torch.mean(rewards))/torch.std(rewards)).squeeze()"
   ]
  },
  {
   "cell_type": "code",
   "execution_count": 72,
   "id": "55075732",
   "metadata": {},
   "outputs": [],
   "source": [
    "class DQNTrainer():\n",
    "    def __init__(self, dqnNet, targetNet ,gamma=0.99, lr=1e-3):\n",
    "        self.gamma = gamma\n",
    "        self.dqnNet = dqnNet\n",
    "        self.targetNet = targetNet\n",
    "        self.loss = nn.MSELoss()\n",
    "        self.optimizer = torch.optim.Adam(dqnNet.parameters(), lr=lr)\n",
    "        \n",
    "    def train_model(self, obs_tensor, act_tensor, rew_tensor, next_obs_tensor, dones):\n",
    "        #rescale rewards\n",
    "        \n",
    "        \n",
    "        #run model\n",
    "        pred = self.dqnNet(obs_tensor)\n",
    "        target = pred.clone()\n",
    "        \n",
    "        for idx in range(len(dones)):\n",
    "            Q_new = rew_tensor[idx]\n",
    "            if not dones[idx]:\n",
    "                Q_new = rew_tensor[idx]  + self.gamma*torch.max(self.targetNet(next_obs_tensor[idx])) #BELLMAN'S EQUATION\n",
    "                \n",
    "            target[idx][act_tensor[idx].item()] = Q_new\n",
    "        \n",
    "        \n",
    "        loss = self.loss(pred, target)\n",
    "        \n",
    "        \n",
    "        self.optimizer.zero_grad()\n",
    "        \n",
    "        loss.backward()\n",
    "        \n",
    "        self.optimizer.step()\n",
    "        return loss.item()"
   ]
  },
  {
   "cell_type": "code",
   "execution_count": 78,
   "id": "f778521c",
   "metadata": {},
   "outputs": [],
   "source": [
    "BATCH_SIZE = 100\n",
    "\n",
    "class CartPoleAgent():\n",
    "    def __init__(self, obs_space, act_space, device = device, gamma=1e-3, lr=1e-3):\n",
    "        self.gamma = gamma\n",
    "        self.device = device\n",
    "        self.dqnModel = DQN(obs_space, act_space).to(device)\n",
    "        self.targetModel = DQN(obs_space, act_space).to(device).eval()\n",
    "        self.trainer = DQNTrainer(self.dqnModel, self.targetModel, gamma,lr)\n",
    "        \n",
    "        \n",
    "        #Memory\n",
    "        self.memory = deque()\n",
    "        self.permanent = deque(maxlen=2000)\n",
    "        \n",
    "    def getAction(self, observation, episode):\n",
    "        if episode < 50:\n",
    "            action = torch.randint(0,2,(1,)).item()\n",
    "        else:\n",
    "            obs_tensor = torch.tensor(observation, dtype=torch.float64).view(1,-1).to(device)\n",
    "            #Run Model\n",
    "            with torch.no_grad():\n",
    "                pred = self.dqnModel(obs_tensor.float())\n",
    "\n",
    "            action = torch.argmax(pred).item()\n",
    "        return action\n",
    "        \n",
    "        \n",
    "    def saveToMemory(self, obs, act, rew, next_obs, done):\n",
    "        self.memory.append((obs, act, rew, next_obs, done))\n",
    "        self.permanent.appendleft((obs, act, rew, next_obs, done))\n",
    "        \n",
    "    def clearMemory(self):\n",
    "        self.memory = deque()\n",
    "    \n",
    "    def train_step(self, obs, act, rew, next_obs, done):\n",
    "        obs_tensor = torch.tensor(obs, device = self.device).view(1,-1)\n",
    "        act_tensor = torch.tensor(act, device = self.device).view(1,-1)\n",
    "        rew_tensor = torch.tensor(rew, device = self.device).view(1,-1)\n",
    "        next_obs_tensor = torch.tensor(next_obs, device = self.device).view(1,-1)\n",
    "        done_tensor = torch.tensor(done, device = self.device).view(1,-1)\n",
    "        return self.trainer.train_model(obs_tensor, act_tensor, rew_tensor, next_obs_tensor, done_tensor)\n",
    "    \n",
    "    def train_episode(self):\n",
    "        if len(self.permanent) > BATCH_SIZE:\n",
    "            mini_sample = random.sample(self.permanent, BATCH_SIZE) #List of tuples\n",
    "        else:\n",
    "            mini_sample = self.permanent\n",
    "        \n",
    "        obs, act, rew, next_obs, dones = zip(*mini_sample)\n",
    "        \n",
    "        obs_tensor = torch.tensor(obs, device = self.device)\n",
    "        act_tensor = torch.tensor(act, device = self.device)\n",
    "        rew_tensor = torch.tensor(rew, device = self.device)\n",
    "        next_obs_tensor = torch.tensor(next_obs, device = self.device)\n",
    "        dones_tensor = torch.tensor(dones, device = self.device)\n",
    "        return self.trainer.train_model(obs_tensor, act_tensor, rew_tensor, next_obs_tensor,dones_tensor)\n",
    "    \n",
    "    def getEpisodeRewards(self):\n",
    "        obs, act, rew, next_obs, done = zip(*self.memory)\n",
    "        rewards = np.array(rew)\n",
    "        return np.sum(rewards)\n",
    "    \n",
    "    def updateTargetNetwork(self):\n",
    "        self.targetModel.load_state_dict(self.dqnModel.state_dict())\n",
    "        \n",
    "    "
   ]
  },
  {
   "cell_type": "code",
   "execution_count": 79,
   "id": "e0398e37",
   "metadata": {},
   "outputs": [],
   "source": [
    "#https://www.youtube.com/watch?v=Ql8QPcp8818\n",
    "import matplotlib.pyplot as plt\n",
    "from IPython import display\n",
    "\n",
    "plt.ion()\n",
    "plt.style.use('seaborn')\n",
    "\n",
    "def plot(rewards, loss, fig, axs):\n",
    "    display.clear_output(wait=True)\n",
    "    axs[0].clear()\n",
    "    axs[1].clear()\n",
    "\n",
    "    \n",
    "    axs[0].plot(rewards, 'tab:orange')\n",
    "    axs[0].title.set_text('Episode Rewards')\n",
    "\n",
    "    axs[1].plot(loss, 'tab:blue')\n",
    "    axs[1].title.set_text('Loss')\n",
    "    \n",
    "    plt.xlabel('Episode')\n",
    "\n",
    "    axs[0].text(len(rewards)-1, rewards[-1], str(rewards[-1]))\n",
    "    axs[1].text(len(loss)-1, loss[-1], str(loss[-1]))\n",
    "\n",
    "    plt.show(block=False)\n",
    "    plt.pause(.1)\n",
    "    \n"
   ]
  },
  {
   "cell_type": "code",
   "execution_count": 80,
   "id": "db8c640b",
   "metadata": {},
   "outputs": [],
   "source": [
    "obs_space = env.observation_space.shape[0]\n",
    "act_space = env.action_space.n"
   ]
  },
  {
   "cell_type": "code",
   "execution_count": 81,
   "id": "8ea5929a",
   "metadata": {},
   "outputs": [
    {
     "data": {
      "text/plain": [
       "array([-0.03804986, -0.04472082, -0.04827625,  0.04838444], dtype=float32)"
      ]
     },
     "execution_count": 81,
     "metadata": {},
     "output_type": "execute_result"
    }
   ],
   "source": [
    "env.reset()"
   ]
  },
  {
   "cell_type": "code",
   "execution_count": null,
   "id": "902a763a",
   "metadata": {},
   "outputs": [
    {
     "name": "stdout",
     "output_type": "stream",
     "text": [
      "Episode finished at time step 29\n"
     ]
    }
   ],
   "source": [
    "%matplotlib qt\n",
    "fig, axs = plt.subplots(2)\n",
    "\n",
    "maxIter = 200\n",
    "cart_pole_agent = CartPoleAgent(obs_space, act_space)\n",
    "\n",
    "rewards = []\n",
    "losses = []\n",
    "e=0\n",
    "updateTargetNet = 40\n",
    "\n",
    "\n",
    "while True:\n",
    "    cart_pole_agent.clearMemory()\n",
    "    observation = env.reset()\n",
    "    for i in range(maxIter):\n",
    "        #env.render()\n",
    "        action = cart_pole_agent.getAction(observation, e)\n",
    "        #print(action)\n",
    "        next_observation, reward, done, info = env.step(action)\n",
    "        cart_pole_agent.saveToMemory(observation, action, reward,next_observation, done)\n",
    "        #print(reward)\n",
    "        if done:\n",
    "            print(f\"Episode finished at time step {i}\")\n",
    "            break;\n",
    "        lossStep = cart_pole_agent.train_episode()\n",
    "        #print(loss)\n",
    "        observation = next_observation\n",
    "    #print(cart_pole_agent.train_episode())\n",
    "    #lossEpisode = cart_pole_agent.train_episode()\n",
    "\n",
    "    rewards.append(cart_pole_agent.getEpisodeRewards())\n",
    "    losses.append(lossEpisode)\n",
    "    plot(rewards, losses, fig, axs)\n",
    "    \n",
    "    if e%updateTargetNet==0:\n",
    "        cart_pole_agent.updateTargetNetwork()\n",
    "        \n",
    "    e+=1"
   ]
  },
  {
   "cell_type": "code",
   "execution_count": 58,
   "id": "0edc6e29",
   "metadata": {},
   "outputs": [],
   "source": [
    "d = deque()"
   ]
  },
  {
   "cell_type": "code",
   "execution_count": 59,
   "id": "729d5482",
   "metadata": {},
   "outputs": [
    {
     "data": {
      "text/plain": [
       "deque([2])"
      ]
     },
     "execution_count": 59,
     "metadata": {},
     "output_type": "execute_result"
    }
   ],
   "source": [
    "d.append(2)\n",
    "d"
   ]
  },
  {
   "cell_type": "code",
   "execution_count": 60,
   "id": "6065a34e",
   "metadata": {},
   "outputs": [
    {
     "data": {
      "text/plain": [
       "deque([2, 1])"
      ]
     },
     "execution_count": 60,
     "metadata": {},
     "output_type": "execute_result"
    }
   ],
   "source": [
    "d.append(1)\n",
    "d"
   ]
  },
  {
   "cell_type": "code",
   "execution_count": 61,
   "id": "1b0d0d31",
   "metadata": {},
   "outputs": [
    {
     "data": {
      "text/plain": [
       "deque([2, 1, 3])"
      ]
     },
     "execution_count": 61,
     "metadata": {},
     "output_type": "execute_result"
    }
   ],
   "source": [
    "d.append(3)\n",
    "d"
   ]
  }
 ],
 "metadata": {
  "kernelspec": {
   "display_name": "Python 3",
   "language": "python",
   "name": "python3"
  },
  "language_info": {
   "codemirror_mode": {
    "name": "ipython",
    "version": 3
   },
   "file_extension": ".py",
   "mimetype": "text/x-python",
   "name": "python",
   "nbconvert_exporter": "python",
   "pygments_lexer": "ipython3",
   "version": "3.8.8"
  }
 },
 "nbformat": 4,
 "nbformat_minor": 5
}
