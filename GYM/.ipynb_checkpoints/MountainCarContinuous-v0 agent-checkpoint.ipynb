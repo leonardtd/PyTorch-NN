{
 "cells": [
  {
   "cell_type": "code",
   "execution_count": 2,
   "id": "b4c4aece",
   "metadata": {},
   "outputs": [],
   "source": [
    "import gym\n",
    "import torch\n",
    "import torch.nn as nn\n",
    "import torch.nn.functional as F\n",
    "import numpy as np"
   ]
  },
  {
   "cell_type": "code",
   "execution_count": 3,
   "id": "9a77672c",
   "metadata": {},
   "outputs": [],
   "source": [
    "env = gym.make('MountainCarContinuous-v0')"
   ]
  },
  {
   "cell_type": "markdown",
   "id": "81c50a0e",
   "metadata": {},
   "source": [
    "### MLP"
   ]
  },
  {
   "cell_type": "code",
   "execution_count": 4,
   "id": "436d8f29",
   "metadata": {},
   "outputs": [],
   "source": [
    "class GaussMLP(nn.Module):\n",
    "    def __init__(self, obs_space, action_space):\n",
    "        super(GaussMLP, self).__init__()\n",
    "        \n",
    "        self.input_dim = obs_space\n",
    "        self.action_space = action_space\n",
    "        \n",
    "        #Layers\n",
    "        self.linear1 = torch.nn.Linear(obs_space, 128)\n",
    "        self.linear2 = torch.nn.Linear(128, 256)\n",
    "        \n",
    "        self.muLinear = torch.nn.Linear(256,action_space)\n",
    "        self.logStdLinear = torch.nn.Linear(256,action_space)\n",
    "    \n",
    "    def forward(self, x):\n",
    "        #Common input\n",
    "        x = F.relu(self.linear1(x))\n",
    "        x = F.relu(self.linear2(x))\n",
    "        \n",
    "        #MuNet\n",
    "        mu = self.muLinear(x)\n",
    "        log_std = self.logStdLinear(x)\n",
    "        \n",
    "        return mu, log_std\n",
    "           "
   ]
  },
  {
   "cell_type": "code",
   "execution_count": 5,
   "id": "dbd4335d",
   "metadata": {},
   "outputs": [
    {
     "data": {
      "text/plain": [
       "tensor([[ 0.4412,  0.1922],\n",
       "        [ 0.9539,  0.3484],\n",
       "        [-0.0834,  0.9530],\n",
       "        [ 0.1663,  1.1800],\n",
       "        [ 0.1653, -0.3139],\n",
       "        [-0.1116, -0.1772],\n",
       "        [ 1.3367,  1.9263],\n",
       "        [ 0.3057, -1.3336],\n",
       "        [-0.7902, -0.5900],\n",
       "        [-0.4282, -0.5596]])"
      ]
     },
     "execution_count": 5,
     "metadata": {},
     "output_type": "execute_result"
    }
   ],
   "source": [
    "input1 = torch.randn((10,2))\n",
    "input1"
   ]
  },
  {
   "cell_type": "code",
   "execution_count": 6,
   "id": "835a1111",
   "metadata": {},
   "outputs": [],
   "source": [
    "gaussMLP = GaussMLP(2,1)"
   ]
  },
  {
   "cell_type": "code",
   "execution_count": 7,
   "id": "b92779a9",
   "metadata": {},
   "outputs": [
    {
     "data": {
      "text/plain": [
       "tensor([[-0.0315],\n",
       "        [-0.0855],\n",
       "        [ 0.0318],\n",
       "        [ 0.0172],\n",
       "        [-0.0530],\n",
       "        [-0.0220],\n",
       "        [-0.1026],\n",
       "        [-0.1414],\n",
       "        [-0.0075],\n",
       "        [-0.0207]], grad_fn=<AddmmBackward>)"
      ]
     },
     "execution_count": 7,
     "metadata": {},
     "output_type": "execute_result"
    }
   ],
   "source": [
    "mu, log_std = gaussMLP(input1)\n",
    "mu"
   ]
  },
  {
   "cell_type": "markdown",
   "id": "2b5e76c5",
   "metadata": {},
   "source": [
    "### Trainer, Rewards, gauss log likelihood"
   ]
  },
  {
   "cell_type": "code",
   "execution_count": 8,
   "id": "13749864",
   "metadata": {},
   "outputs": [],
   "source": [
    "def gaussianLogLikelihood(x, mu, log_std):\n",
    "    pre_sum = -1/2 * ((x-mu)/torch.exp(log_std))**2 + 2*log_std + torch.log(torch.tensor(2*np.pi))\n",
    "    return pre_sum.sum(axis=-1)"
   ]
  },
  {
   "cell_type": "code",
   "execution_count": 392,
   "id": "b32b6d22",
   "metadata": {},
   "outputs": [],
   "source": [
    "def normalize_rewards(rewards):\n",
    "    mu = np.mean(rewards)\n",
    "    std = np.std(rewards)\n",
    "    \n",
    "    return (rewards-mu)/(std+1e-6)\n",
    "\n",
    "def discount_rewards(rewards, gamma):\n",
    "    d_rewards = np.zeros_like(rewards, dtype=np.float64)\n",
    "    \n",
    "    for t in range(len(rewards)):\n",
    "        d_rewards[t] = (gamma**t) * rewards[t]\n",
    "    d_rewards = normalize_rewards(d_rewards)\n",
    "    return torch.tensor(d_rewards)\n",
    "    "
   ]
  },
  {
   "cell_type": "code",
   "execution_count": 391,
   "id": "4ae4b5bf",
   "metadata": {},
   "outputs": [
    {
     "data": {
      "text/plain": [
       "1.544651047398199"
      ]
     },
     "execution_count": 391,
     "metadata": {},
     "output_type": "execute_result"
    }
   ],
   "source": [
    "0.0002/np.std(np.array(d_rew), axis=-1)"
   ]
  },
  {
   "cell_type": "code",
   "execution_count": 318,
   "id": "107474c1",
   "metadata": {},
   "outputs": [],
   "source": [
    "d_rew = [-3.80876138e-04, -2.55172049e-04, -1.76183130e-07, -1.95032323e-05,\n",
    " -3.76102844e-04, -1.20451498e-06, -2.83300429e-04, -4.89308993e-04,\n",
    " -1.52103374e-04, -1.29847920e-04, -7.11397251e-04, -9.36299000e-04,\n",
    " -7.12085488e-04, -4.16906192e-04, -6.92270382e-04, -3.65681889e-04,\n",
    " -2.40162965e-04, -1.84573943e-04, -5.92723380e-05, -3.12355577e-04,\n",
    " -1.12618333e-05, -1.14278758e-04, -8.88052336e-05, -1.03291046e-04,\n",
    " -2.76301840e-05, -1.18257048e-06, -1.21504107e-04, -1.02630690e-04,\n",
    " -1.51748842e-04, -2.64475575e-05, -3.20362269e-05, -3.72069620e-05,\n",
    " -2.48220320e-05, -5.11084467e-05, -4.17585179e-05, -1.21570370e-04,\n",
    " -1.50230821e-05, -9.64014347e-05, -3.82670668e-05, -1.29841574e-04,\n",
    " -3.41215115e-05, -1.00005364e-04, -7.00088569e-06, -1.09368164e-06,\n",
    " -3.55779892e-05, -1.03984127e-04, -3.28086203e-05, -7.83308688e-05,\n",
    " -3.64640380e-05, -2.41459316e-05, -8.98708232e-07, -8.87275637e-06,\n",
    " -2.76688551e-05, -2.36091061e-05, -3.96708364e-05, -8.68119052e-05,\n",
    " -5.11073856e-05, -1.41074588e-05, -1.43060879e-06, -6.14162416e-06,\n",
    " -1.66270638e-05, -6.45662104e-06, -1.52275335e-05, -6.74033709e-05,\n",
    " -1.84811176e-05, -3.09074837e-05, -7.31031595e-07, -1.71989678e-05,\n",
    " -9.44437549e-06, -1.94030352e-05, -5.84446911e-05, -2.31086321e-05,\n",
    " -3.08877940e-06, -1.66409302e-05, -1.59766226e-05, -5.94554733e-07,\n",
    " -3.53709688e-06, -4.35943138e-05, -1.24747034e-05, -1.77521021e-05,\n",
    " -1.84887188e-05, -1.06331425e-05, -3.06585579e-06, -3.31253573e-06,\n",
    " -1.15710910e-05, -1.33792437e-05, -2.85573142e-06, -1.07056067e-05,\n",
    " -4.83043690e-06, -1.22011778e-06, -7.27009804e-06, -2.78697411e-06,\n",
    " -6.65437469e-06, -1.20916766e-06, -4.44649005e-06, -8.84388566e-06,\n",
    " -2.18707922e-06, -3.56037362e-08, -1.58468497e-06, -7.15606783e-06,\n",
    " -2.34671444e-06, -9.79331403e-07, -2.31919636e-06, -2.51330846e-06,\n",
    " -8.92218087e-07, -2.21506430e-06, -1.94580510e-06, -4.88790797e-06,\n",
    " -1.17963671e-06, -2.60056829e-07, -6.85560274e-07, -2.33801746e-06,\n",
    " -1.35549523e-08, -9.51865894e-07, -9.19696630e-07, -1.88705359e-07,\n",
    " -2.90842837e-09, -4.19925130e-08, -2.64673481e-07, -5.23325467e-07,\n",
    " -9.59461174e-07, -6.96411138e-07, -1.12269257e-06, -1.07157326e-09,\n",
    " -4.72117981e-08, -4.57577725e-07, -6.39935941e-07, -7.67476363e-07,\n",
    " -2.29397483e-07, -2.93319586e-07, -6.52371811e-07, -5.89728094e-07,\n",
    " -7.39881652e-07, -5.80502971e-07, -1.71052740e-07, -7.17298218e-07,\n",
    " -3.36245471e-07, -2.59163707e-07, -1.22851050e-07, -4.01869670e-10,\n",
    " -6.69508396e-07, -1.06476409e-07, -2.69198378e-07, -7.71781155e-08,\n",
    " -3.39530754e-07, -2.45293280e-07, -5.51882304e-07, -5.27220753e-07,\n",
    " -1.60118396e-07, -4.56171002e-07, -2.28316643e-08, -2.36868715e-07,\n",
    " -2.36907149e-07, -2.58170590e-07, -3.54953095e-07, -2.09969354e-08,\n",
    " -7.92220304e-08, -1.59368800e-07, -1.56108624e-07, -1.20473473e-07,\n",
    " -1.21506622e-07, -1.78752132e-07, -2.00846664e-07, -3.44351883e-07,\n",
    " -1.47342366e-08, -2.24488647e-07, -6.74569778e-08, -2.33253770e-08,\n",
    " -8.25518231e-08, -4.14692008e-10, -9.56563322e-08, -1.70281005e-07,\n",
    " -4.80558407e-08, -5.38276717e-08, -5.05984162e-09, -2.11685329e-08,\n",
    " -1.22187636e-07, -6.87727296e-08, -3.14563000e-08, -8.32641932e-10,\n",
    " -9.41432928e-09, -1.31706898e-07, -3.81441696e-08, -6.08778346e-09,\n",
    " -4.89637742e-08, -1.76753330e-09, -3.03889991e-08, -3.16064848e-08,\n",
    " -3.13840182e-10, -1.40831868e-08, -4.00253982e-08, -1.54339637e-09,\n",
    " -6.52011295e-09, -2.30261507e-08, -2.17966842e-09, -7.74603689e-09,\n",
    " -6.57346940e-09, -2.96727844e-08, -1.42063345e-08]"
   ]
  },
  {
   "cell_type": "code",
   "execution_count": 396,
   "id": "f0a1bfa6",
   "metadata": {},
   "outputs": [],
   "source": [
    "class GaussMLPTrainer():\n",
    "    def __init__(self, gaussMLP, lr=1e-3, gamma=0.95):\n",
    "        self.gaussMLP = gaussMLP\n",
    "        self.optimizer = torch.optim.Adam(gaussMLP.parameters(), lr=lr)\n",
    "        self.gamma = gamma\n",
    "        \n",
    "    def train_step(self, observations, actions, rewards):\n",
    "        observations = torch.tensor(observations)\n",
    "        actions = torch.tensor(actions)\n",
    "        #rewards as tensor\n",
    "        discounted_rewards = discount_rewards(rewards, self.gamma)\n",
    "        \n",
    "        #Correr el modelo\n",
    "        mu, log_std = self.gaussMLP(observations) #size = (batch_size, action_space)\n",
    "        #Calcular Loss\n",
    "        loss = gaussianLogLikelihood(actions,mu,log_std)\n",
    "        \n",
    "        #Loss = RlogLikelihood\n",
    "        loss = loss*discounted_rewards\n",
    "        loss = loss.mean()\n",
    "        \n",
    "        loss.backward()\n",
    "        #Optimizar\n",
    "        self.optimizer.step()\n",
    "        \n",
    "        #limpiar gradiente\n",
    "        self.optimizer.zero_grad()"
   ]
  },
  {
   "cell_type": "code",
   "execution_count": 290,
   "id": "6b56f947",
   "metadata": {},
   "outputs": [],
   "source": [
    "mock_obs = torch.randn((10,2)).tolist()  #obs sera lista de 2 valores (bsize,action_spacew)\n",
    "mock_actions = torch.randn((10,)).tolist() #actions sera lista de acciones\n",
    "mock_rewards = torch.randn((10,)).tolist() #rewards sera lista de reward"
   ]
  },
  {
   "cell_type": "code",
   "execution_count": 12,
   "id": "2b414d86",
   "metadata": {},
   "outputs": [],
   "source": [
    "gaussTrainer = GaussMLPTrainer(GaussMLP(2,1))"
   ]
  },
  {
   "cell_type": "code",
   "execution_count": 13,
   "id": "9a88ab86",
   "metadata": {},
   "outputs": [],
   "source": [
    "gaussTrainer.train_step(mock_obs, mock_actions, mock_rewards)"
   ]
  },
  {
   "cell_type": "markdown",
   "id": "98fd8d98",
   "metadata": {},
   "source": [
    "### Definicion del agente"
   ]
  },
  {
   "cell_type": "code",
   "execution_count": 438,
   "id": "ce1b03ab",
   "metadata": {},
   "outputs": [],
   "source": [
    "class MCC_Agent():\n",
    "    def __init__(self, obs_space, act_space):\n",
    "        \n",
    "        self.obs_space = obs_space\n",
    "        self.act_space = act_space\n",
    "        \n",
    "        self.gaussMLP = GaussMLP(obs_space,act_space)\n",
    "        self.gmlpTrainer = GaussMLPTrainer(self.gaussMLP)\n",
    "        \n",
    "        #Memoria\n",
    "        self.observations = list()\n",
    "        self.actions = list()\n",
    "        self.rewards = list()\n",
    "        \n",
    "    def getAction(self, observation):\n",
    "        obs_tensor = torch.tensor(observation).view(1,2)\n",
    "        mu, log_std = self.gaussMLP(obs_tensor)\n",
    "        \n",
    "        #SAMPLE ACTION\n",
    "        action = mu + torch.exp(log_std)*torch.randn(1,self.act_space)\n",
    "        return action.view(1)\n",
    "        \n",
    "    def addToMemory(self, observation, action, reward):\n",
    "        self.observations.append(observation)\n",
    "        self.actions.append(action.item())\n",
    "        self.rewards.append(reward)\n",
    "    \n",
    "    def clearMemory(self):\n",
    "        self.observations = list()\n",
    "        self.actions = list()\n",
    "        self.rewards = list()\n",
    "        \n",
    "    def trainFromEpisode(self):\n",
    "        self.gmlpTrainer.train_step(self.observations,self.actions,self.rewards)\n",
    "        \n",
    "    def getMeanRewards(self):\n",
    "        return np.mean(np.array(self.rewards))"
   ]
  },
  {
   "cell_type": "code",
   "execution_count": 439,
   "id": "dc687f29",
   "metadata": {},
   "outputs": [],
   "source": [
    "observation =  env.reset()\n",
    "observation, reward, done, info = env.step(env.action_space.sample())"
   ]
  },
  {
   "cell_type": "code",
   "execution_count": 440,
   "id": "564ad886",
   "metadata": {},
   "outputs": [],
   "source": [
    "mccAgent = MCC_Agent(2,1)"
   ]
  },
  {
   "cell_type": "code",
   "execution_count": 441,
   "id": "9f455229",
   "metadata": {},
   "outputs": [
    {
     "data": {
      "text/plain": [
       "tensor([1.7012], grad_fn=<ViewBackward>)"
      ]
     },
     "execution_count": 441,
     "metadata": {},
     "output_type": "execute_result"
    }
   ],
   "source": [
    "mccAgent.getAction(observation)"
   ]
  },
  {
   "cell_type": "markdown",
   "id": "ab5c181f",
   "metadata": {},
   "source": [
    "### Entrenamiento"
   ]
  },
  {
   "cell_type": "code",
   "execution_count": 442,
   "id": "37ac09fd",
   "metadata": {},
   "outputs": [],
   "source": [
    "observation = env.reset()"
   ]
  },
  {
   "cell_type": "code",
   "execution_count": 443,
   "id": "ae969371",
   "metadata": {},
   "outputs": [],
   "source": [
    "obs_space = env.observation_space.shape[0]\n",
    "act_space = env.action_space.shape[0]"
   ]
  },
  {
   "cell_type": "code",
   "execution_count": 444,
   "id": "e6ebf69a",
   "metadata": {},
   "outputs": [],
   "source": [
    "#Creacion del agente\n",
    "mccAgent = MCC_Agent(obs_space,act_space)"
   ]
  },
  {
   "cell_type": "code",
   "execution_count": 445,
   "id": "40011c5c",
   "metadata": {},
   "outputs": [],
   "source": [
    "action = mccAgent.getAction(observation)\n",
    "next_observation, reward, done, info = env.step(action)"
   ]
  },
  {
   "cell_type": "code",
   "execution_count": 446,
   "id": "29523049",
   "metadata": {},
   "outputs": [],
   "source": [
    "maxIt = 1000;\n",
    "plot_mean_rewards = []"
   ]
  },
  {
   "cell_type": "code",
   "execution_count": null,
   "id": "45cbd025",
   "metadata": {},
   "outputs": [
    {
     "data": {
      "text/plain": [
       "<Figure size 432x288 with 0 Axes>"
      ]
     },
     "metadata": {},
     "output_type": "display_data"
    },
    {
     "data": {
      "image/png": "[encoded data removed]",
      "text/plain": [
       "<Figure size 432x288 with 1 Axes>"
      ]
     },
     "metadata": {
      "needs_background": "light"
     },
     "output_type": "display_data"
    }
   ],
   "source": [
    "\n",
    "while True:\n",
    "    observation = env.reset()\n",
    "    for t in range(maxIt):\n",
    "        env.render()\n",
    "        \n",
    "        action = mccAgent.getAction(observation)\n",
    "        #print(action)\n",
    "        next_observation, reward, done, info = env.step(action)\n",
    "        #Save to memory\n",
    "        mccAgent.addToMemory(observation,action,reward)\n",
    "        observation = next_observation\n",
    "        if done:\n",
    "            #print(next_observation, reward, done)\n",
    "            print(\"Episode finished after {} timesteps\".format(t+1))\n",
    "            \n",
    "            break\n",
    "    mccAgent.trainFromEpisode()\n",
    "    \n",
    "    print(mccAgent.getMeanRewards())\n",
    "    plot_mean_rewards.append(mccAgent.getMeanRewards())\n",
    "    plot(plot_mean_rewards)\n",
    "    mccAgent.clearMemory()\n",
    "        "
   ]
  },
  {
   "cell_type": "code",
   "execution_count": 448,
   "id": "bab7e58e",
   "metadata": {},
   "outputs": [],
   "source": [
    "import matplotlib.pyplot as plt\n",
    "from IPython import display\n",
    "\n",
    "plt.ion()\n",
    "\n",
    "def plot(mean_rewards):\n",
    "    display.clear_output(wait=True)\n",
    "    display.display(plt.gcf())\n",
    "    plt.clf()\n",
    "    plt.title('Training...')\n",
    "    plt.xlabel('Number of Games')\n",
    "    plt.ylabel('Rewards')\n",
    "    plt.plot(mean_rewards)\n",
    "    plt.text(len(mean_rewards)-1, mean_rewards[-1], str(mean_rewards[-1]))\n",
    "    plt.show(block=False)\n",
    "    plt.pause(.1)"
   ]
  },
  {
   "cell_type": "code",
   "execution_count": null,
   "id": "79076926",
   "metadata": {},
   "outputs": [],
   "source": []
  }
 ],
 "metadata": {
  "kernelspec": {
   "display_name": "Python 3",
   "language": "python",
   "name": "python3"
  },
  "language_info": {
   "codemirror_mode": {
    "name": "ipython",
    "version": 3
   },
   "file_extension": ".py",
   "mimetype": "text/x-python",
   "name": "python",
   "nbconvert_exporter": "python",
   "pygments_lexer": "ipython3",
   "version": "3.8.8"
  }
 },
 "nbformat": 4,
 "nbformat_minor": 5
}
