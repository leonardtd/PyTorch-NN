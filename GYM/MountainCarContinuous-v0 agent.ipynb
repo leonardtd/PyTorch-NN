{
 "cells": [
  {
   "cell_type": "code",
   "execution_count": 1,
   "id": "b4c4aece",
   "metadata": {},
   "outputs": [],
   "source": [
    "import gym\n",
    "import torch\n",
    "import torch.nn as nn\n",
    "import torch.nn.functional as F\n",
    "import numpy as np"
   ]
  },
  {
   "cell_type": "code",
   "execution_count": 2,
   "id": "7ca0e85f",
   "metadata": {},
   "outputs": [],
   "source": [
    "env = gym.make('MountainCarContinuous-v0')"
   ]
  },
  {
   "cell_type": "markdown",
   "id": "1d62de66",
   "metadata": {},
   "source": [
    "### MLP"
   ]
  },
  {
   "cell_type": "code",
   "execution_count": 3,
   "id": "0c130aab",
   "metadata": {},
   "outputs": [],
   "source": [
    "class GaussMLP(nn.Module):\n",
    "    def __init__(self, obs_space, action_space):\n",
    "        super(GaussMLP, self).__init__()\n",
    "        \n",
    "        self.input_dim = obs_space\n",
    "        self.action_space = action_space\n",
    "        \n",
    "        #Layers\n",
    "        self.linear1 = torch.nn.Linear(obs_space, 64)\n",
    "        self.linear2 = torch.nn.Linear(64, 128)\n",
    "        \n",
    "        self.muLinear = torch.nn.Linear(128,action_space)\n",
    "        self.logVarLinear = torch.nn.Linear(128,action_space)\n",
    "    \n",
    "    def forward(self, x):\n",
    "        #Common input\n",
    "        x = F.relu(self.linear1(x))\n",
    "        x = F.relu(self.linear2(x))\n",
    "        \n",
    "        #MuNet\n",
    "        mu = self.muLinear(x)\n",
    "        log_var = self.logVarLinear(x)\n",
    "        \n",
    "        return mu, log_var\n",
    "           "
   ]
  },
  {
   "cell_type": "code",
   "execution_count": 4,
   "id": "4c76c8e2",
   "metadata": {},
   "outputs": [
    {
     "data": {
      "text/plain": [
       "tensor([[ 1.2725, -0.8233],\n",
       "        [-2.3581,  0.7394],\n",
       "        [-0.4858,  1.2291],\n",
       "        [-0.1090, -1.8756],\n",
       "        [ 1.1727,  0.4720],\n",
       "        [ 0.5630, -0.6500],\n",
       "        [ 0.0032, -1.4119],\n",
       "        [ 1.6286, -0.3814],\n",
       "        [ 0.8000, -0.7494],\n",
       "        [-1.5373, -0.3693]])"
      ]
     },
     "execution_count": 4,
     "metadata": {},
     "output_type": "execute_result"
    }
   ],
   "source": [
    "input1 = torch.randn((10,2))\n",
    "input1"
   ]
  },
  {
   "cell_type": "code",
   "execution_count": 5,
   "id": "362ebe68",
   "metadata": {},
   "outputs": [],
   "source": [
    "gaussMLP = GaussMLP(2,1)"
   ]
  },
  {
   "cell_type": "code",
   "execution_count": 6,
   "id": "702510d6",
   "metadata": {},
   "outputs": [
    {
     "data": {
      "text/plain": [
       "tensor([[ 0.0167],\n",
       "        [-0.1060],\n",
       "        [ 0.0444],\n",
       "        [ 0.0807],\n",
       "        [ 0.0423],\n",
       "        [ 0.0476],\n",
       "        [ 0.0579],\n",
       "        [ 0.0142],\n",
       "        [ 0.0379],\n",
       "        [-0.0081]], grad_fn=<AddmmBackward>)"
      ]
     },
     "execution_count": 6,
     "metadata": {},
     "output_type": "execute_result"
    }
   ],
   "source": [
    "mu, log_var = gaussMLP(input1)\n",
    "mu\n",
    "log_var"
   ]
  },
  {
   "cell_type": "markdown",
   "id": "ba5104c4",
   "metadata": {},
   "source": [
    "### Trainer, Rewards, gauss log likelihood"
   ]
  },
  {
   "cell_type": "code",
   "execution_count": 7,
   "id": "a9a1cb0c",
   "metadata": {},
   "outputs": [],
   "source": [
    "#Using torch GLL\n",
    "def gaussianLogLikelihood(x, mu, log_std):\n",
    "    pre_sum = -1/2 * ((x-mu)/torch.exp(log_std))**2 + 2*log_std + torch.log(torch.tensor(2*np.pi))\n",
    "    return pre_sum.sum(axis=-1)"
   ]
  },
  {
   "cell_type": "code",
   "execution_count": 8,
   "id": "2b3baed0",
   "metadata": {},
   "outputs": [],
   "source": [
    "def normalize_rewards(rewards):\n",
    "    mu = np.mean(rewards)\n",
    "    std = np.std(rewards)\n",
    "    \n",
    "    return (rewards-mu)/(std+1e-6)\n",
    "\n",
    "def discount_rewards(rewards, gamma):\n",
    "    d_rewards = np.zeros_like(rewards, dtype=np.float64)\n",
    "    R = 0\n",
    "    for t in reversed(range(0,len(rewards))):\n",
    "        R = R*gamma + rewards[t]\n",
    "        d_rewards[t] = R\n",
    "\n",
    "    d_rewards = normalize_rewards(d_rewards)\n",
    "    return torch.tensor(d_rewards)\n",
    "    "
   ]
  },
  {
   "cell_type": "code",
   "execution_count": 9,
   "id": "5b9a2467",
   "metadata": {},
   "outputs": [],
   "source": [
    "class GaussMLPTrainer():\n",
    "    def __init__(self, gaussMLP, lr=1e-3, gamma=0.95):\n",
    "        self.gaussMLP = gaussMLP\n",
    "        self.optimizer = torch.optim.Adam(gaussMLP.parameters(), lr=lr)\n",
    "        self.gamma = gamma\n",
    "        self.lossFunc = torch.nn.GaussianNLLLoss(reduction='none')\n",
    "        \n",
    "    def train_step(self, observations, actions, eff_rewards):\n",
    "        observations = torch.tensor(observations)\n",
    "        actions = torch.tensor(actions)\n",
    "        #rewards as tensor\n",
    "        discounted_eff_rewards = discount_rewards(eff_rewards, self.gamma)\n",
    "        \n",
    "        #limpiar gradiente\n",
    "        self.optimizer.zero_grad()\n",
    "        \n",
    "        #Correr el modelo\n",
    "        mu, log_var = self.gaussMLP(observations) #size = (batch_size, action_space)\n",
    "        #Calcular Loss\n",
    "        #loss = gaussianLogLikelihood(actions,mu,log_std)\n",
    "        loss = self.lossFunc(actions, mu, torch.exp(log_var.view(-1)))\n",
    "        \n",
    "        #Loss = RlogLikelihood\n",
    "        loss = loss*discounted_eff_rewards\n",
    "        loss = loss.mean()\n",
    "        \n",
    "        loss.backward()\n",
    "        #Optimizar\n",
    "        self.optimizer.step()\n",
    "        \n",
    "        \n",
    "        \n",
    "        "
   ]
  },
  {
   "cell_type": "code",
   "execution_count": 10,
   "id": "695f401e",
   "metadata": {},
   "outputs": [],
   "source": [
    "mock_obs = torch.randn((10,2)).tolist()  #obs sera lista de 2 valores (bsize,action_spacew)\n",
    "mock_actions = torch.randn((10,)).tolist() #actions sera lista de acciones\n",
    "mock_rewards = torch.randn((10,)).tolist() #rewards sera lista de reward"
   ]
  },
  {
   "cell_type": "code",
   "execution_count": 11,
   "id": "06baa9de",
   "metadata": {},
   "outputs": [],
   "source": [
    "gaussTrainer = GaussMLPTrainer(GaussMLP(2,1))"
   ]
  },
  {
   "cell_type": "code",
   "execution_count": 12,
   "id": "831dcb99",
   "metadata": {},
   "outputs": [],
   "source": [
    "gaussTrainer.train_step(mock_obs, mock_actions, mock_rewards)"
   ]
  },
  {
   "cell_type": "markdown",
   "id": "43722ff4",
   "metadata": {},
   "source": [
    "### Definicion del agente"
   ]
  },
  {
   "cell_type": "code",
   "execution_count": 13,
   "id": "0fd3b672",
   "metadata": {},
   "outputs": [],
   "source": [
    "class MCC_Agent():\n",
    "    def __init__(self, obs_space, act_space, episode_mult, gamma):\n",
    "        \n",
    "        self.obs_space = obs_space\n",
    "        self.act_space = act_space\n",
    "        self.episode_mult = episode_mult\n",
    "        self.gamma = gamma\n",
    "        \n",
    "        self.gaussMLP = GaussMLP(obs_space,act_space)\n",
    "        self.gmlpTrainer = GaussMLPTrainer(self.gaussMLP)\n",
    "        \n",
    "        #Memoria\n",
    "        self.observations = list()\n",
    "        self.actions = list()\n",
    "        self.eff_rewards = list()\n",
    "        \n",
    "    def getAction(self, observation, episode):\n",
    "        obs_tensor = torch.tensor(observation).view(1,2)\n",
    "        with torch.no_grad():\n",
    "            mu, log_var = self.gaussMLP(obs_tensor)\n",
    "        \n",
    "        #SAMPLE ACTION\n",
    "        action = mu + (torch.sqrt(torch.exp(log_var))*torch.randn(1,self.act_space))*self.episode_mult*(max(self.gamma**episode,1))\n",
    "        return 1.2*torch.tanh(action.view(1))\n",
    "        \n",
    "    def addToMemory(self, observation, action, eff_reward):\n",
    "        self.observations.append(observation)\n",
    "        self.actions.append(action.item())\n",
    "        self.eff_rewards.append(eff_reward)\n",
    "        \n",
    "    \n",
    "    def clearMemory(self):\n",
    "        self.observations = list()\n",
    "        self.actions = list()\n",
    "        self.eff_rewards = list()\n",
    "        self.dist_rewards = list()\n",
    "        \n",
    "    def trainFromEpisode(self):\n",
    "        self.gmlpTrainer.train_step(self.observations,self.actions,self.eff_rewards)\n",
    "        \n",
    "    def getEpisodeEffRewards(self):\n",
    "        return np.sum(np.array(self.eff_rewards))\n"
   ]
  },
  {
   "cell_type": "code",
   "execution_count": 14,
   "id": "bf47b32e",
   "metadata": {},
   "outputs": [],
   "source": [
    "observation =  env.reset()\n",
    "observation, reward, done, info = env.step(env.action_space.sample())"
   ]
  },
  {
   "cell_type": "code",
   "execution_count": 15,
   "id": "04c88ad5",
   "metadata": {},
   "outputs": [],
   "source": [
    "mccAgent = MCC_Agent(2,1,1,0.95)"
   ]
  },
  {
   "cell_type": "code",
   "execution_count": 16,
   "id": "bc794cee",
   "metadata": {},
   "outputs": [
    {
     "data": {
      "text/plain": [
       "tensor([-0.4099])"
      ]
     },
     "execution_count": 16,
     "metadata": {},
     "output_type": "execute_result"
    }
   ],
   "source": [
    "mccAgent.getAction([observation], episode=1)"
   ]
  },
  {
   "cell_type": "markdown",
   "id": "1f336e3f",
   "metadata": {},
   "source": [
    "### Entrenamiento"
   ]
  },
  {
   "cell_type": "code",
   "execution_count": 17,
   "id": "657d2aae",
   "metadata": {},
   "outputs": [],
   "source": [
    "observation = env.reset()"
   ]
  },
  {
   "cell_type": "code",
   "execution_count": 18,
   "id": "c18ad4a9",
   "metadata": {},
   "outputs": [
    {
     "data": {
      "text/plain": [
       "True"
      ]
     },
     "execution_count": 18,
     "metadata": {},
     "output_type": "execute_result"
    }
   ],
   "source": [
    "env.render()"
   ]
  },
  {
   "cell_type": "code",
   "execution_count": 19,
   "id": "3d1c4e60",
   "metadata": {},
   "outputs": [],
   "source": [
    "obs_space = env.observation_space.shape[0]\n",
    "act_space = env.action_space.shape[0]"
   ]
  },
  {
   "cell_type": "code",
   "execution_count": 24,
   "id": "45cbd025",
   "metadata": {},
   "outputs": [
    {
     "data": {
      "image/png": "[encoded data removed]",
      "text/plain": [
       "<Figure size 432x288 with 1 Axes>"
      ]
     },
     "metadata": {
      "needs_background": "light"
     },
     "output_type": "display_data"
    },
    {
     "ename": "KeyboardInterrupt",
     "evalue": "",
     "output_type": "error",
     "traceback": [
      "\u001b[1;31m---------------------------------------------------------------------------\u001b[0m",
      "\u001b[1;31mKeyboardInterrupt\u001b[0m                         Traceback (most recent call last)",
      "\u001b[1;32m<ipython-input-24-36f983200291>\u001b[0m in \u001b[0;36m<module>\u001b[1;34m\u001b[0m\n\u001b[0;32m     12\u001b[0m     \u001b[0ms_pos\u001b[0m \u001b[1;33m=\u001b[0m \u001b[0mobservation\u001b[0m\u001b[1;33m[\u001b[0m\u001b[1;36m0\u001b[0m\u001b[1;33m]\u001b[0m\u001b[1;33m\u001b[0m\u001b[1;33m\u001b[0m\u001b[0m\n\u001b[0;32m     13\u001b[0m     \u001b[1;32mfor\u001b[0m \u001b[0mt\u001b[0m \u001b[1;32min\u001b[0m \u001b[0mrange\u001b[0m\u001b[1;33m(\u001b[0m\u001b[0mmaxIt\u001b[0m\u001b[1;33m)\u001b[0m\u001b[1;33m:\u001b[0m\u001b[1;33m\u001b[0m\u001b[1;33m\u001b[0m\u001b[0m\n\u001b[1;32m---> 14\u001b[1;33m         \u001b[0menv\u001b[0m\u001b[1;33m.\u001b[0m\u001b[0mrender\u001b[0m\u001b[1;33m(\u001b[0m\u001b[1;33m)\u001b[0m\u001b[1;33m\u001b[0m\u001b[1;33m\u001b[0m\u001b[0m\n\u001b[0m\u001b[0;32m     15\u001b[0m \u001b[1;33m\u001b[0m\u001b[0m\n\u001b[0;32m     16\u001b[0m         \u001b[0maction\u001b[0m \u001b[1;33m=\u001b[0m \u001b[0mmccAgent\u001b[0m\u001b[1;33m.\u001b[0m\u001b[0mgetAction\u001b[0m\u001b[1;33m(\u001b[0m\u001b[0mobservation\u001b[0m\u001b[1;33m,\u001b[0m\u001b[0mepisode\u001b[0m\u001b[1;33m)\u001b[0m\u001b[1;33m\u001b[0m\u001b[1;33m\u001b[0m\u001b[0m\n",
      "\u001b[1;32mC:\\ProgramData\\Anaconda3\\lib\\site-packages\\gym\\core.py\u001b[0m in \u001b[0;36mrender\u001b[1;34m(self, mode, **kwargs)\u001b[0m\n\u001b[0;32m    252\u001b[0m \u001b[1;33m\u001b[0m\u001b[0m\n\u001b[0;32m    253\u001b[0m     \u001b[1;32mdef\u001b[0m \u001b[0mrender\u001b[0m\u001b[1;33m(\u001b[0m\u001b[0mself\u001b[0m\u001b[1;33m,\u001b[0m \u001b[0mmode\u001b[0m\u001b[1;33m=\u001b[0m\u001b[1;34m\"human\"\u001b[0m\u001b[1;33m,\u001b[0m \u001b[1;33m**\u001b[0m\u001b[0mkwargs\u001b[0m\u001b[1;33m)\u001b[0m\u001b[1;33m:\u001b[0m\u001b[1;33m\u001b[0m\u001b[1;33m\u001b[0m\u001b[0m\n\u001b[1;32m--> 254\u001b[1;33m         \u001b[1;32mreturn\u001b[0m \u001b[0mself\u001b[0m\u001b[1;33m.\u001b[0m\u001b[0menv\u001b[0m\u001b[1;33m.\u001b[0m\u001b[0mrender\u001b[0m\u001b[1;33m(\u001b[0m\u001b[0mmode\u001b[0m\u001b[1;33m,\u001b[0m \u001b[1;33m**\u001b[0m\u001b[0mkwargs\u001b[0m\u001b[1;33m)\u001b[0m\u001b[1;33m\u001b[0m\u001b[1;33m\u001b[0m\u001b[0m\n\u001b[0m\u001b[0;32m    255\u001b[0m \u001b[1;33m\u001b[0m\u001b[0m\n\u001b[0;32m    256\u001b[0m     \u001b[1;32mdef\u001b[0m \u001b[0mclose\u001b[0m\u001b[1;33m(\u001b[0m\u001b[0mself\u001b[0m\u001b[1;33m)\u001b[0m\u001b[1;33m:\u001b[0m\u001b[1;33m\u001b[0m\u001b[1;33m\u001b[0m\u001b[0m\n",
      "\u001b[1;32mC:\\ProgramData\\Anaconda3\\lib\\site-packages\\gym\\envs\\classic_control\\continuous_mountain_car.py\u001b[0m in \u001b[0;36mrender\u001b[1;34m(self, mode)\u001b[0m\n\u001b[0;32m    189\u001b[0m         \u001b[0mself\u001b[0m\u001b[1;33m.\u001b[0m\u001b[0mcartrans\u001b[0m\u001b[1;33m.\u001b[0m\u001b[0mset_rotation\u001b[0m\u001b[1;33m(\u001b[0m\u001b[0mmath\u001b[0m\u001b[1;33m.\u001b[0m\u001b[0mcos\u001b[0m\u001b[1;33m(\u001b[0m\u001b[1;36m3\u001b[0m \u001b[1;33m*\u001b[0m \u001b[0mpos\u001b[0m\u001b[1;33m)\u001b[0m\u001b[1;33m)\u001b[0m\u001b[1;33m\u001b[0m\u001b[1;33m\u001b[0m\u001b[0m\n\u001b[0;32m    190\u001b[0m \u001b[1;33m\u001b[0m\u001b[0m\n\u001b[1;32m--> 191\u001b[1;33m         \u001b[1;32mreturn\u001b[0m \u001b[0mself\u001b[0m\u001b[1;33m.\u001b[0m\u001b[0mviewer\u001b[0m\u001b[1;33m.\u001b[0m\u001b[0mrender\u001b[0m\u001b[1;33m(\u001b[0m\u001b[0mreturn_rgb_array\u001b[0m\u001b[1;33m=\u001b[0m\u001b[0mmode\u001b[0m \u001b[1;33m==\u001b[0m \u001b[1;34m\"rgb_array\"\u001b[0m\u001b[1;33m)\u001b[0m\u001b[1;33m\u001b[0m\u001b[1;33m\u001b[0m\u001b[0m\n\u001b[0m\u001b[0;32m    192\u001b[0m \u001b[1;33m\u001b[0m\u001b[0m\n\u001b[0;32m    193\u001b[0m     \u001b[1;32mdef\u001b[0m \u001b[0mclose\u001b[0m\u001b[1;33m(\u001b[0m\u001b[0mself\u001b[0m\u001b[1;33m)\u001b[0m\u001b[1;33m:\u001b[0m\u001b[1;33m\u001b[0m\u001b[1;33m\u001b[0m\u001b[0m\n",
      "\u001b[1;32mC:\\ProgramData\\Anaconda3\\lib\\site-packages\\gym\\envs\\classic_control\\rendering.py\u001b[0m in \u001b[0;36mrender\u001b[1;34m(self, return_rgb_array)\u001b[0m\n\u001b[0;32m    143\u001b[0m             \u001b[0marr\u001b[0m \u001b[1;33m=\u001b[0m \u001b[0marr\u001b[0m\u001b[1;33m.\u001b[0m\u001b[0mreshape\u001b[0m\u001b[1;33m(\u001b[0m\u001b[0mbuffer\u001b[0m\u001b[1;33m.\u001b[0m\u001b[0mheight\u001b[0m\u001b[1;33m,\u001b[0m \u001b[0mbuffer\u001b[0m\u001b[1;33m.\u001b[0m\u001b[0mwidth\u001b[0m\u001b[1;33m,\u001b[0m \u001b[1;36m4\u001b[0m\u001b[1;33m)\u001b[0m\u001b[1;33m\u001b[0m\u001b[1;33m\u001b[0m\u001b[0m\n\u001b[0;32m    144\u001b[0m             \u001b[0marr\u001b[0m \u001b[1;33m=\u001b[0m \u001b[0marr\u001b[0m\u001b[1;33m[\u001b[0m\u001b[1;33m:\u001b[0m\u001b[1;33m:\u001b[0m\u001b[1;33m-\u001b[0m\u001b[1;36m1\u001b[0m\u001b[1;33m,\u001b[0m \u001b[1;33m:\u001b[0m\u001b[1;33m,\u001b[0m \u001b[1;36m0\u001b[0m\u001b[1;33m:\u001b[0m\u001b[1;36m3\u001b[0m\u001b[1;33m]\u001b[0m\u001b[1;33m\u001b[0m\u001b[1;33m\u001b[0m\u001b[0m\n\u001b[1;32m--> 145\u001b[1;33m         \u001b[0mself\u001b[0m\u001b[1;33m.\u001b[0m\u001b[0mwindow\u001b[0m\u001b[1;33m.\u001b[0m\u001b[0mflip\u001b[0m\u001b[1;33m(\u001b[0m\u001b[1;33m)\u001b[0m\u001b[1;33m\u001b[0m\u001b[1;33m\u001b[0m\u001b[0m\n\u001b[0m\u001b[0;32m    146\u001b[0m         \u001b[0mself\u001b[0m\u001b[1;33m.\u001b[0m\u001b[0monetime_geoms\u001b[0m \u001b[1;33m=\u001b[0m \u001b[1;33m[\u001b[0m\u001b[1;33m]\u001b[0m\u001b[1;33m\u001b[0m\u001b[1;33m\u001b[0m\u001b[0m\n\u001b[0;32m    147\u001b[0m         \u001b[1;32mreturn\u001b[0m \u001b[0marr\u001b[0m \u001b[1;32mif\u001b[0m \u001b[0mreturn_rgb_array\u001b[0m \u001b[1;32melse\u001b[0m \u001b[0mself\u001b[0m\u001b[1;33m.\u001b[0m\u001b[0misopen\u001b[0m\u001b[1;33m\u001b[0m\u001b[1;33m\u001b[0m\u001b[0m\n",
      "\u001b[1;32mC:\\ProgramData\\Anaconda3\\lib\\site-packages\\pyglet\\window\\win32\\__init__.py\u001b[0m in \u001b[0;36mflip\u001b[1;34m(self)\u001b[0m\n\u001b[0;32m    373\u001b[0m             \u001b[1;32mif\u001b[0m \u001b[0mself\u001b[0m\u001b[1;33m.\u001b[0m\u001b[0m_always_dwm\u001b[0m \u001b[1;32mor\u001b[0m \u001b[0mself\u001b[0m\u001b[1;33m.\u001b[0m\u001b[0m_dwm_composition_enabled\u001b[0m\u001b[1;33m(\u001b[0m\u001b[1;33m)\u001b[0m\u001b[1;33m:\u001b[0m\u001b[1;33m\u001b[0m\u001b[1;33m\u001b[0m\u001b[0m\n\u001b[0;32m    374\u001b[0m                 \u001b[1;32mif\u001b[0m \u001b[0mself\u001b[0m\u001b[1;33m.\u001b[0m\u001b[0m_interval\u001b[0m\u001b[1;33m:\u001b[0m\u001b[1;33m\u001b[0m\u001b[1;33m\u001b[0m\u001b[0m\n\u001b[1;32m--> 375\u001b[1;33m                     \u001b[0m_dwmapi\u001b[0m\u001b[1;33m.\u001b[0m\u001b[0mDwmFlush\u001b[0m\u001b[1;33m(\u001b[0m\u001b[1;33m)\u001b[0m\u001b[1;33m\u001b[0m\u001b[1;33m\u001b[0m\u001b[0m\n\u001b[0m\u001b[0;32m    376\u001b[0m \u001b[1;33m\u001b[0m\u001b[0m\n\u001b[0;32m    377\u001b[0m         \u001b[1;32mif\u001b[0m \u001b[0mself\u001b[0m\u001b[1;33m.\u001b[0m\u001b[0mstyle\u001b[0m \u001b[1;32min\u001b[0m \u001b[1;33m(\u001b[0m\u001b[1;34m'overlay'\u001b[0m\u001b[1;33m,\u001b[0m \u001b[1;34m'transparent'\u001b[0m\u001b[1;33m)\u001b[0m\u001b[1;33m:\u001b[0m\u001b[1;33m\u001b[0m\u001b[1;33m\u001b[0m\u001b[0m\n",
      "\u001b[1;31mKeyboardInterrupt\u001b[0m: "
     ]
    }
   ],
   "source": [
    "#Creacion del agente\n",
    "mccAgent = MCC_Agent(obs_space,act_space,episode_mult=4, gamma=0.99)\n",
    "\n",
    "maxIt = 1000;\n",
    "eff_rewards = []\n",
    "dist_rewards = []\n",
    "\n",
    "episode = 0\n",
    "\n",
    "while True:\n",
    "    observation = env.reset()\n",
    "    s_pos = observation[0]\n",
    "    for t in range(maxIt):\n",
    "        env.render()\n",
    "        \n",
    "        action = mccAgent.getAction(observation,episode)\n",
    "    \n",
    "        next_observation, eff_reward, done, info = env.step(action)\n",
    "        \n",
    "        #Save to memory\n",
    "        mccAgent.addToMemory(observation,action,eff_reward)\n",
    "        observation = next_observation\n",
    "\n",
    "        if done:\n",
    "            print(\"Episode finished after {} timesteps\".format(t+1))\n",
    "            break\n",
    "    mccAgent.trainFromEpisode()\n",
    "    \n",
    "\n",
    "    eff_rewards.append(mccAgent.getEpisodeEffRewards())\n",
    "    #print(mccAgent.getEpisodeDistRewards())\n",
    "    plot(eff_rewards)\n",
    "    mccAgent.clearMemory()\n",
    "    \n",
    "    #next episode\n",
    "    episode+=1\n",
    "        "
   ]
  },
  {
   "cell_type": "code",
   "execution_count": 22,
   "id": "1d35b28d",
   "metadata": {},
   "outputs": [],
   "source": [
    "import matplotlib.pyplot as plt\n",
    "from IPython import display\n",
    "\n",
    "plt.ion()\n",
    "\n",
    "def plot(eff_rewards):\n",
    "    display.clear_output(wait=True)\n",
    "    plt.clf()\n",
    "    plt.title('Training...')\n",
    "    plt.xlabel('Number of Episodes')\n",
    "    plt.ylabel('Episode Reward')\n",
    "    plt.plot(eff_rewards)\n",
    "    plt.text(len(eff_rewards)-1, eff_rewards[-1], str(eff_rewards[-1]))\n",
    "    plt.show(block=False)\n",
    "    plt.pause(.1)"
   ]
  },
  {
   "cell_type": "code",
   "execution_count": null,
   "id": "6089cc5e",
   "metadata": {},
   "outputs": [],
   "source": []
  }
 ],
 "metadata": {
  "kernelspec": {
   "display_name": "Python 3",
   "language": "python",
   "name": "python3"
  },
  "language_info": {
   "codemirror_mode": {
    "name": "ipython",
    "version": 3
   },
   "file_extension": ".py",
   "mimetype": "text/x-python",
   "name": "python",
   "nbconvert_exporter": "python",
   "pygments_lexer": "ipython3",
   "version": "3.8.8"
  }
 },
 "nbformat": 4,
 "nbformat_minor": 5
}
