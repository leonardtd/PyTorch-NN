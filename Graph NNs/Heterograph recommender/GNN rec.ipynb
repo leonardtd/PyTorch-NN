{
 "cells": [
  {
   "cell_type": "code",
   "execution_count": 1,
   "id": "889bb033-feb8-4845-a9ae-c0469a5dee20",
   "metadata": {},
   "outputs": [],
   "source": [
    "import os\n",
    "from dotenv import load_dotenv\n",
    "import pandas as pd\n",
    "import numpy as np\n",
    "# os.environ.clear()\n",
    "load_dotenv('env', override=True)\n",
    "load_dotenv('env.secret', override=True) # Ignored in git\n",
    "\n",
    "pd.options.display.max_rows = 999"
   ]
  },
  {
   "cell_type": "code",
   "execution_count": 2,
   "id": "3d91536e-7915-4298-9122-db77bf32ea0d",
   "metadata": {},
   "outputs": [],
   "source": [
    "from aiutils.constants import c\n",
    "from aiutils import aiwr\n",
    "import pandas as pd"
   ]
  },
  {
   "cell_type": "code",
   "execution_count": 3,
   "id": "5b0eb0b3-be90-41d7-84b3-4eff1ec09ebc",
   "metadata": {},
   "outputs": [],
   "source": [
    "import pandas as pd\n",
    "import numpy as np\n",
    "import matplotlib.pyplot as plt"
   ]
  },
  {
   "cell_type": "code",
   "execution_count": 4,
   "id": "f47f3a04-5043-4a62-82cd-8b587d675701",
   "metadata": {},
   "outputs": [
    {
     "name": "stderr",
     "output_type": "stream",
     "text": [
      "Using backend: pytorch\n"
     ]
    }
   ],
   "source": [
    "import dgl\n",
    "from dgl.nn.pytorch.hetero import HeteroGraphConv\n",
    "import torch\n",
    "import torch.nn as nn\n",
    "import torch.nn.functional as F\n",
    "import scipy.sparse as sp\n",
    "import itertools"
   ]
  },
  {
   "cell_type": "code",
   "execution_count": 5,
   "id": "9210dced-e3a0-4678-965f-58a1c9898cf2",
   "metadata": {},
   "outputs": [],
   "source": [
    "from sklearn import preprocessing\n",
    "from sklearn.metrics import roc_auc_score"
   ]
  },
  {
   "cell_type": "markdown",
   "id": "91cea0e6-d79d-4975-8974-b0a66d9f48ba",
   "metadata": {},
   "source": [
    "---"
   ]
  },
  {
   "cell_type": "code",
   "execution_count": 6,
   "id": "f3641b1f-d5e7-4396-a76b-24e629c30777",
   "metadata": {},
   "outputs": [],
   "source": [
    "data = 'gs://ue4_ndlk_nonprod_stg_gcs_iadev_adsto/tmp/AlejandroJ/gnn-recommender/vigencias_prod.parquet'"
   ]
  },
  {
   "cell_type": "code",
   "execution_count": 7,
   "id": "80fe54d9-6bcb-4d3a-8925-df95e496b112",
   "metadata": {},
   "outputs": [],
   "source": [
    "df = pd.read_parquet(data)"
   ]
  },
  {
   "cell_type": "code",
   "execution_count": 8,
   "id": "5bee8a77-3649-492f-8401-6d56beb7c710",
   "metadata": {},
   "outputs": [
    {
     "data": {
      "text/plain": [
       "(2146796, 2)"
      ]
     },
     "execution_count": 8,
     "metadata": {},
     "output_type": "execute_result"
    }
   ],
   "source": [
    "df.shape"
   ]
  },
  {
   "cell_type": "code",
   "execution_count": 103,
   "id": "a43d6a26-6671-4b94-a326-86afd53b4b84",
   "metadata": {},
   "outputs": [
    {
     "data": {
      "text/plain": [
       "141"
      ]
     },
     "execution_count": 103,
     "metadata": {},
     "output_type": "execute_result"
    }
   ],
   "source": [
    "df.id_producto.nunique()"
   ]
  },
  {
   "cell_type": "code",
   "execution_count": 101,
   "id": "9d544fb7-30d9-436f-b006-6c4ee06eb85e",
   "metadata": {},
   "outputs": [
    {
     "data": {
      "text/html": [
       "<div>\n",
       "<style scoped>\n",
       "    .dataframe tbody tr th:only-of-type {\n",
       "        vertical-align: middle;\n",
       "    }\n",
       "\n",
       "    .dataframe tbody tr th {\n",
       "        vertical-align: top;\n",
       "    }\n",
       "\n",
       "    .dataframe thead th {\n",
       "        text-align: right;\n",
       "    }\n",
       "</style>\n",
       "<table border=\"1\" class=\"dataframe\">\n",
       "  <thead>\n",
       "    <tr style=\"text-align: right;\">\n",
       "      <th></th>\n",
       "      <th>id_persona</th>\n",
       "      <th>id_producto</th>\n",
       "      <th>encoded_client</th>\n",
       "      <th>encoded_product</th>\n",
       "    </tr>\n",
       "  </thead>\n",
       "  <tbody>\n",
       "    <tr>\n",
       "      <th>0</th>\n",
       "      <td>AX-24565258</td>\n",
       "      <td>AX-8744</td>\n",
       "      <td>682664</td>\n",
       "      <td>102</td>\n",
       "    </tr>\n",
       "    <tr>\n",
       "      <th>1</th>\n",
       "      <td>AX-24992670</td>\n",
       "      <td>AX-7910</td>\n",
       "      <td>703929</td>\n",
       "      <td>66</td>\n",
       "    </tr>\n",
       "    <tr>\n",
       "      <th>2</th>\n",
       "      <td>AX-2865889</td>\n",
       "      <td>AX-8401</td>\n",
       "      <td>879016</td>\n",
       "      <td>94</td>\n",
       "    </tr>\n",
       "    <tr>\n",
       "      <th>3</th>\n",
       "      <td>AX-5884330</td>\n",
       "      <td>AX-8010</td>\n",
       "      <td>1449990</td>\n",
       "      <td>72</td>\n",
       "    </tr>\n",
       "    <tr>\n",
       "      <th>4</th>\n",
       "      <td>AX-1929897</td>\n",
       "      <td>AX-9037</td>\n",
       "      <td>438668</td>\n",
       "      <td>133</td>\n",
       "    </tr>\n",
       "    <tr>\n",
       "      <th>...</th>\n",
       "      <td>...</td>\n",
       "      <td>...</td>\n",
       "      <td>...</td>\n",
       "      <td>...</td>\n",
       "    </tr>\n",
       "    <tr>\n",
       "      <th>2146791</th>\n",
       "      <td>AX-31333616</td>\n",
       "      <td>AX-9102</td>\n",
       "      <td>1160682</td>\n",
       "      <td>138</td>\n",
       "    </tr>\n",
       "    <tr>\n",
       "      <th>2146792</th>\n",
       "      <td>AX-6185717</td>\n",
       "      <td>AX-9102</td>\n",
       "      <td>1474872</td>\n",
       "      <td>138</td>\n",
       "    </tr>\n",
       "    <tr>\n",
       "      <th>2146793</th>\n",
       "      <td>AX-3544689</td>\n",
       "      <td>AX-9102</td>\n",
       "      <td>1206987</td>\n",
       "      <td>138</td>\n",
       "    </tr>\n",
       "    <tr>\n",
       "      <th>2146794</th>\n",
       "      <td>AX-12615620</td>\n",
       "      <td>AX-9102</td>\n",
       "      <td>176876</td>\n",
       "      <td>138</td>\n",
       "    </tr>\n",
       "    <tr>\n",
       "      <th>2146795</th>\n",
       "      <td>AX-5644359</td>\n",
       "      <td>AX-9102</td>\n",
       "      <td>1430391</td>\n",
       "      <td>138</td>\n",
       "    </tr>\n",
       "  </tbody>\n",
       "</table>\n",
       "<p>2146796 rows × 4 columns</p>\n",
       "</div>"
      ],
      "text/plain": [
       "          id_persona id_producto  encoded_client  encoded_product\n",
       "0        AX-24565258     AX-8744          682664              102\n",
       "1        AX-24992670     AX-7910          703929               66\n",
       "2         AX-2865889     AX-8401          879016               94\n",
       "3         AX-5884330     AX-8010         1449990               72\n",
       "4         AX-1929897     AX-9037          438668              133\n",
       "...              ...         ...             ...              ...\n",
       "2146791  AX-31333616     AX-9102         1160682              138\n",
       "2146792   AX-6185717     AX-9102         1474872              138\n",
       "2146793   AX-3544689     AX-9102         1206987              138\n",
       "2146794  AX-12615620     AX-9102          176876              138\n",
       "2146795   AX-5644359     AX-9102         1430391              138\n",
       "\n",
       "[2146796 rows x 4 columns]"
      ]
     },
     "execution_count": 101,
     "metadata": {},
     "output_type": "execute_result"
    }
   ],
   "source": [
    "df"
   ]
  },
  {
   "cell_type": "code",
   "execution_count": 9,
   "id": "bfe84159-58f7-4364-899b-641eccb041f3",
   "metadata": {},
   "outputs": [],
   "source": [
    "encoders = {\n",
    "    'client': preprocessing.LabelEncoder(),\n",
    "    'product': preprocessing.LabelEncoder(),\n",
    "}"
   ]
  },
  {
   "cell_type": "code",
   "execution_count": 10,
   "id": "e436963d-f74f-4ca8-8ad3-440be046977f",
   "metadata": {},
   "outputs": [],
   "source": [
    "df['encoded_client'] = encoders['client'].fit_transform(df['id_persona'])\n",
    "df['encoded_product'] = encoders['product'].fit_transform(df['id_producto'])"
   ]
  },
  {
   "cell_type": "markdown",
   "id": "7d395721-3e24-4aad-bc3e-61c3ec13f289",
   "metadata": {},
   "source": [
    "### 1. graph definition"
   ]
  },
  {
   "cell_type": "code",
   "execution_count": 11,
   "id": "d5315ee8-32df-4993-8d6e-85bff5100879",
   "metadata": {},
   "outputs": [],
   "source": [
    "data_dict = {\n",
    "    ('client', 'owns', 'product'): (torch.tensor(df.encoded_client), torch.tensor(df.encoded_product)),\n",
    "    ('product', 'owned-by', 'client'): (torch.tensor(df.encoded_product), torch.tensor(df.encoded_client))\n",
    "}\n",
    "\n",
    "#num_nodes_dict = {'user': df.userId.nunique(), 'movie': df.movieId.nunique()}\n",
    "\n",
    "g = dgl.heterograph(data_dict)"
   ]
  },
  {
   "cell_type": "markdown",
   "id": "338fc3a0-f6d8-45b5-933f-6e55a122a46a",
   "metadata": {},
   "source": [
    "#### train test split"
   ]
  },
  {
   "cell_type": "code",
   "execution_count": 12,
   "id": "244fca8d-24d2-4070-814e-bb123817b4e9",
   "metadata": {},
   "outputs": [],
   "source": [
    "def neg_sampler(u,v, etype, test_size):\n",
    "    \n",
    "    adj = sp.coo_matrix((np.ones(len(u)), (u.numpy(), v.numpy())))\n",
    "    adj_neg = -1*adj.todense()+1\n",
    "    neg_u, neg_v = np.where(adj_neg != 0)\n",
    "    \n",
    "    num_edges = u.size(0)\n",
    "    \n",
    "    neg_eids = np.random.choice(len(neg_u), num_edges)\n",
    "    test_neg_u, test_neg_v = neg_u[neg_eids[:test_size]], neg_v[neg_eids[:test_size]]\n",
    "    train_neg_u, train_neg_v = neg_u[neg_eids[test_size:]], neg_v[neg_eids[test_size:]]\n",
    "    \n",
    "    \n",
    "    return train_neg_u, train_neg_v, test_neg_u, test_neg_v"
   ]
  },
  {
   "cell_type": "code",
   "execution_count": 13,
   "id": "527dcb71-dccc-4389-b7ff-f72546185ff6",
   "metadata": {},
   "outputs": [],
   "source": [
    "train_test = {etype:dict() for etype in g.etypes}"
   ]
  },
  {
   "cell_type": "code",
   "execution_count": 14,
   "id": "a57836e2-46cd-40e4-a6bb-3a54536167b2",
   "metadata": {},
   "outputs": [],
   "source": [
    "for etype in g.etypes:\n",
    "    u, v = g[etype].edges()\n",
    "    \n",
    "    train_test[etype]['u'] = u\n",
    "    train_test[etype]['v'] = v\n",
    "    \n",
    "    eids = np.arange(g.number_of_edges(etype))\n",
    "    eids = np.random.permutation(eids)\n",
    "    \n",
    "    train_test[etype]['eids'] = eids\n",
    "    \n",
    "    # 20% test\n",
    "    test_perc = 0.2\n",
    "    test_size = int(len(eids) * test_perc)\n",
    "    train_test[etype]['test_size'] = test_size\n",
    "    \n",
    "    \n",
    "    train_size = g.number_of_edges(etype) - test_size\n",
    "    \n",
    "    \n",
    "    train_pos_u, train_pos_v = u[eids[test_size:]], v[eids[test_size:]]\n",
    "    test_pos_u, test_pos_v = u[eids[:test_size]], v[eids[:test_size]]\n",
    "    \n",
    "    train_neg_u, train_neg_v, test_neg_u, test_neg_v = neg_sampler(u,v, etype, test_size)\n",
    "    \n",
    "    \n",
    "    train_test[etype]['train_pos_u'] = train_pos_u\n",
    "    train_test[etype]['train_pos_v'] = train_pos_v\n",
    "    train_test[etype]['train_neg_u'] = train_neg_u\n",
    "    train_test[etype]['train_neg_v'] = train_neg_v\n",
    "    \n",
    "    \n",
    "    train_test[etype]['test_pos_u'] = test_pos_u\n",
    "    train_test[etype]['test_pos_v'] = test_pos_v\n",
    "    train_test[etype]['test_neg_u'] = test_neg_u\n",
    "    train_test[etype]['test_neg_v'] = test_neg_v\n",
    "    \n",
    "#     # positive and negative graphs\n",
    "#     train_pos_g = dgl.graph((train_pos_u, train_pos_v), num_nodes=g.number_of_nodes())\n",
    "#     train_neg_g = dgl.graph((train_neg_u, train_neg_v), num_nodes=g.number_of_nodes())\n",
    "\n",
    "#     test_pos_g = dgl.graph((test_pos_u, test_pos_v), num_nodes=g.number_of_nodes())\n",
    "#     test_neg_g = dgl.graph((test_neg_u, test_neg_v), num_nodes=g.number_of_nodes())\n",
    "    \n",
    "#     train_test[etype]['train_pos_g'] = train_pos_g\n",
    "#     train_test[etype]['train_neg_g'] = train_neg_g\n",
    "    \n",
    "#     train_test[etype]['test_pos_g'] = test_pos_g\n",
    "#     train_test[etype]['test_neg_g'] = test_neg_g\n",
    "    "
   ]
  },
  {
   "cell_type": "code",
   "execution_count": 15,
   "id": "53ba194c-9691-46d7-a6b3-014a72047ed2",
   "metadata": {},
   "outputs": [
    {
     "data": {
      "text/plain": [
       "dict_keys(['u', 'v', 'eids', 'test_size', 'train_pos_u', 'train_pos_v', 'train_neg_u', 'train_neg_v', 'test_pos_u', 'test_pos_v', 'test_neg_u', 'test_neg_v'])"
      ]
     },
     "execution_count": 15,
     "metadata": {},
     "output_type": "execute_result"
    }
   ],
   "source": [
    "train_test['owns'].keys()"
   ]
  },
  {
   "cell_type": "markdown",
   "id": "02a47c7b-27e6-4bf1-b00b-69cda6c6c25a",
   "metadata": {},
   "source": [
    "#### remove test edges for each edge type"
   ]
  },
  {
   "cell_type": "code",
   "execution_count": 16,
   "id": "b3d2898e-c5cd-41fe-859a-9265ee159f85",
   "metadata": {},
   "outputs": [],
   "source": [
    "train_g = g\n",
    "for etype in g.etypes:\n",
    "    train_g = dgl.remove_edges(train_g, train_test[etype]['eids'][:train_test[etype]['test_size']], etype=etype)\n",
    "    "
   ]
  },
  {
   "cell_type": "code",
   "execution_count": 17,
   "id": "60b3ace3-b31e-47d7-b56d-82b901b142ca",
   "metadata": {},
   "outputs": [],
   "source": [
    "### HARDCODED\n",
    "data_dict = {\n",
    "    ('client', 'owns', 'product'): (train_test['owns']['train_pos_u'], train_test['owns']['train_pos_v']),\n",
    "    ('product', 'owned-by', 'client'): ((train_test['owned-by']['train_pos_u'], train_test['owned-by']['train_pos_v']))\n",
    "}\n",
    "\n",
    "train_pos_g = dgl.heterograph(data_dict)"
   ]
  },
  {
   "cell_type": "code",
   "execution_count": 18,
   "id": "cde87017-78a0-42d7-89c2-9aa47535824a",
   "metadata": {},
   "outputs": [],
   "source": [
    "### HARDCODED\n",
    "data_dict = {\n",
    "    ('client', 'owns', 'product'): (train_test['owns']['train_neg_u'], train_test['owns']['train_neg_v']),\n",
    "    ('product', 'owned-by', 'client'): ((train_test['owned-by']['train_neg_u'], train_test['owned-by']['train_neg_v']))\n",
    "}\n",
    "\n",
    "train_neg_g = dgl.heterograph(data_dict)"
   ]
  },
  {
   "cell_type": "markdown",
   "id": "7c8b9b4d-6573-4bf3-a6ec-270c62904df3",
   "metadata": {},
   "source": [
    "test"
   ]
  },
  {
   "cell_type": "code",
   "execution_count": 19,
   "id": "2e9ce16c-4a11-4a9f-beca-e57cbe6d0564",
   "metadata": {},
   "outputs": [],
   "source": [
    "### HARDCODED\n",
    "data_dict = {\n",
    "    ('client', 'owns', 'product'): (train_test['owns']['test_pos_u'], train_test['owns']['test_pos_v']),\n",
    "    ('product', 'owned-by', 'client'): ((train_test['owned-by']['test_pos_u'], train_test['owned-by']['test_pos_v']))\n",
    "}\n",
    "\n",
    "test_pos_g = dgl.heterograph(data_dict)\n",
    "\n",
    "\n",
    "\n",
    "### HARDCODED\n",
    "data_dict = {\n",
    "    ('client', 'owns', 'product'): (train_test['owns']['test_neg_u'], train_test['owns']['test_neg_v']),\n",
    "    ('product', 'owned-by', 'client'): ((train_test['owned-by']['test_neg_u'], train_test['owned-by']['test_neg_v']))\n",
    "}\n",
    "\n",
    "test_neg_g = dgl.heterograph(data_dict)"
   ]
  },
  {
   "cell_type": "code",
   "execution_count": 21,
   "id": "dd6a8429-2e4f-4c22-bf7b-d0fa78da2f09",
   "metadata": {},
   "outputs": [
    {
     "data": {
      "text/plain": [
       "Graph(num_nodes={'client': 1815945, 'product': 141},\n",
       "      num_edges={('client', 'owns', 'product'): 2146796, ('product', 'owned-by', 'client'): 2146796},\n",
       "      metagraph=[('client', 'product', 'owns'), ('product', 'client', 'owned-by')])"
      ]
     },
     "execution_count": 21,
     "metadata": {},
     "output_type": "execute_result"
    }
   ],
   "source": [
    "g"
   ]
  },
  {
   "cell_type": "code",
   "execution_count": 20,
   "id": "3dd5830f-3e75-4b0d-b945-62594a50d39d",
   "metadata": {},
   "outputs": [
    {
     "data": {
      "text/plain": [
       "Graph(num_nodes={'client': 1815945, 'product': 141},\n",
       "      num_edges={('client', 'owns', 'product'): 1717437, ('product', 'owned-by', 'client'): 1717437},\n",
       "      metagraph=[('client', 'product', 'owns'), ('product', 'client', 'owned-by')])"
      ]
     },
     "execution_count": 20,
     "metadata": {},
     "output_type": "execute_result"
    }
   ],
   "source": [
    "train_g"
   ]
  },
  {
   "cell_type": "code",
   "execution_count": 22,
   "id": "6f66faa1-aa5b-4164-9917-950c6107d3ed",
   "metadata": {},
   "outputs": [
    {
     "data": {
      "text/plain": [
       "Graph(num_nodes={'client': 1815945, 'product': 141},\n",
       "      num_edges={('client', 'owns', 'product'): 1717437, ('product', 'owned-by', 'client'): 1717437},\n",
       "      metagraph=[('client', 'product', 'owns'), ('product', 'client', 'owned-by')])"
      ]
     },
     "execution_count": 22,
     "metadata": {},
     "output_type": "execute_result"
    }
   ],
   "source": [
    "train_pos_g"
   ]
  },
  {
   "cell_type": "code",
   "execution_count": 23,
   "id": "1aa93dc1-39d3-48f3-9df1-3510c7b97e0d",
   "metadata": {},
   "outputs": [
    {
     "data": {
      "text/plain": [
       "Graph(num_nodes={'client': 1815945, 'product': 141},\n",
       "      num_edges={('client', 'owns', 'product'): 1717437, ('product', 'owned-by', 'client'): 1717437},\n",
       "      metagraph=[('client', 'product', 'owns'), ('product', 'client', 'owned-by')])"
      ]
     },
     "execution_count": 23,
     "metadata": {},
     "output_type": "execute_result"
    }
   ],
   "source": [
    "train_neg_g"
   ]
  },
  {
   "cell_type": "markdown",
   "id": "c9fb2f4b-aa6f-4f6f-8b84-4800fff4e7ff",
   "metadata": {},
   "source": [
    "---"
   ]
  },
  {
   "cell_type": "markdown",
   "id": "478c4b2e-5c33-42f8-b845-81041ca1d7c2",
   "metadata": {},
   "source": [
    "#### model def"
   ]
  },
  {
   "cell_type": "code",
   "execution_count": 24,
   "id": "d19bf12a-b44a-4320-944a-c2ece3488755",
   "metadata": {},
   "outputs": [],
   "source": [
    "from dgl.nn import SAGEConv\n",
    "\n",
    "class GraphSAGEHetero(nn.Module):\n",
    "    def __init__(self, in_feats, h_feats):\n",
    "        super(GraphSAGEHetero, self).__init__()\n",
    "        self.conv1 = HeteroGraphConv({'owns' : dgl.nn.SAGEConv(in_feats,h_feats, aggregator_type='mean'),\n",
    "                                     'owned-by': dgl.nn.SAGEConv(in_feats,h_feats, aggregator_type='mean')}, aggregate='sum')\n",
    "        \n",
    "        self.conv2 = HeteroGraphConv({'owns' : dgl.nn.SAGEConv(h_feats,h_feats, aggregator_type='mean'),\n",
    "                                     'owned-by': dgl.nn.SAGEConv(h_feats,h_feats, aggregator_type='mean')})\n",
    "    \n",
    "    \n",
    "    def forward(self, g, x):\n",
    "        x = self.conv1(g, x)\n",
    "        \n",
    "        for k in x.keys():\n",
    "            x[k] = F.relu(x[k])\n",
    "        \n",
    "        x = self.conv2(g, x)\n",
    "        \n",
    "        return x"
   ]
  },
  {
   "cell_type": "code",
   "execution_count": 25,
   "id": "7077f7f8-9a79-4c80-ac2b-97fcf5025361",
   "metadata": {},
   "outputs": [],
   "source": [
    "import dgl.function as fn\n",
    "\n",
    "class DotPredictor(nn.Module):\n",
    "    def forward(self, g, h, etype):\n",
    "        u,v = g[etype].edges()\n",
    "        \n",
    "        if etype =='owns':\n",
    "            src = h['client'][u]\n",
    "            dst = h['product'][v]\n",
    "            \n",
    "        elif etype =='owned-by':\n",
    "            src = h['product'][u]\n",
    "            dst = h['client'][v]\n",
    "            \n",
    "        \n",
    "        return (src * dst).sum(dim=1)"
   ]
  },
  {
   "cell_type": "code",
   "execution_count": 26,
   "id": "df95510c-7369-4101-ba73-170516052aeb",
   "metadata": {},
   "outputs": [],
   "source": [
    "gnn = GraphSAGEHetero(16, 32)"
   ]
  },
  {
   "cell_type": "code",
   "execution_count": 27,
   "id": "f51b9625-d508-4549-b045-2a1b0c500f69",
   "metadata": {},
   "outputs": [],
   "source": [
    "client_feat = nn.Embedding(g.num_nodes('client'), 16)\n",
    "product_feat = nn.Embedding(g.num_nodes('product'), 16)"
   ]
  },
  {
   "cell_type": "code",
   "execution_count": 28,
   "id": "f0d0556b-d19d-4080-956b-26ffcbf8f1d4",
   "metadata": {},
   "outputs": [],
   "source": [
    "x = dict()\n",
    "\n",
    "x['client'] = client_feat.weight\n",
    "x['product'] = product_feat.weight"
   ]
  },
  {
   "cell_type": "code",
   "execution_count": 29,
   "id": "68f97196-b9d2-47fb-a523-5e459d32ebb0",
   "metadata": {},
   "outputs": [
    {
     "data": {
      "text/plain": [
       "dict_keys(['client', 'product'])"
      ]
     },
     "execution_count": 29,
     "metadata": {},
     "output_type": "execute_result"
    }
   ],
   "source": [
    "### FORWARD\n",
    "gnn(train_g, x).keys()"
   ]
  },
  {
   "cell_type": "markdown",
   "id": "d42164fc-3b89-4e14-b0af-edede964dd9a",
   "metadata": {},
   "source": [
    "---"
   ]
  },
  {
   "cell_type": "code",
   "execution_count": 30,
   "id": "81d16031-12fd-4768-a362-58cff40cfdff",
   "metadata": {},
   "outputs": [],
   "source": [
    "def compute_loss(pos_score, neg_score):\n",
    "    scores = torch.cat([pos_score, neg_score])\n",
    "    labels = torch.cat([torch.ones(pos_score.shape[0]), torch.zeros(neg_score.shape[0])])\n",
    "    return F.binary_cross_entropy_with_logits(scores, labels)\n",
    "\n",
    "def compute_auc(pos_score, neg_score):\n",
    "    scores = torch.cat([pos_score, neg_score]).detach().numpy()\n",
    "    labels = torch.cat(\n",
    "        [torch.ones(pos_score.shape[0]), torch.zeros(neg_score.shape[0])]).numpy()\n",
    "    return roc_auc_score(labels, scores)"
   ]
  },
  {
   "cell_type": "code",
   "execution_count": 55,
   "id": "1ad16ece-5377-4b81-848b-e7ec531291e9",
   "metadata": {},
   "outputs": [],
   "source": [
    "# enrich\n",
    "client_feat = nn.Embedding(g.num_nodes('client'), 16)\n",
    "product_feat = nn.Embedding(g.num_nodes('product'), 16)\n",
    "\n",
    "model = GraphSAGEHetero(16, 32)\n",
    "pred = DotPredictor()\n",
    "\n",
    "optimizer = torch.optim.Adam(itertools.chain(model.parameters(), \n",
    "                                             pred.parameters(), \n",
    "                                             client_feat.parameters(), \n",
    "                                             product_feat.parameters()), \n",
    "                             lr=0.01)"
   ]
  },
  {
   "cell_type": "code",
   "execution_count": 56,
   "id": "1e070013-e664-428e-b45c-cbe095afec31",
   "metadata": {},
   "outputs": [],
   "source": [
    "x = dict()\n",
    "\n",
    "x['client'] = client_feat.weight\n",
    "x['product'] = product_feat.weight"
   ]
  },
  {
   "cell_type": "code",
   "execution_count": 57,
   "id": "8913be1b-fd95-450f-8a8c-230e08dbe516",
   "metadata": {},
   "outputs": [
    {
     "name": "stdout",
     "output_type": "stream",
     "text": [
      "In epoch 0, loss: 5.757626533508301\n",
      "TRAIN AUC 0.43949641223049923\n",
      "TEST AUC 0.48455257089663384\n"
     ]
    },
    {
     "name": "stderr",
     "output_type": "stream",
     "text": [
      "/opt/conda/lib/python3.7/site-packages/torch/autocast_mode.py:141: UserWarning: User provided device_type of 'cuda', but CUDA is not available. Disabling\n",
      "  warnings.warn('User provided device_type of \\'cuda\\', but CUDA is not available. Disabling')\n"
     ]
    },
    {
     "name": "stdout",
     "output_type": "stream",
     "text": [
      "In epoch 5, loss: 0.9769274592399597\n",
      "TRAIN AUC 0.8851688701231153\n",
      "TEST AUC 0.8032078535471896\n"
     ]
    },
    {
     "name": "stderr",
     "output_type": "stream",
     "text": [
      "/opt/conda/lib/python3.7/site-packages/torch/autocast_mode.py:141: UserWarning: User provided device_type of 'cuda', but CUDA is not available. Disabling\n",
      "  warnings.warn('User provided device_type of \\'cuda\\', but CUDA is not available. Disabling')\n"
     ]
    },
    {
     "name": "stdout",
     "output_type": "stream",
     "text": [
      "In epoch 10, loss: 0.5731887221336365\n",
      "TRAIN AUC 0.9490338328166471\n",
      "TEST AUC 0.8535329913117985\n"
     ]
    },
    {
     "name": "stderr",
     "output_type": "stream",
     "text": [
      "/opt/conda/lib/python3.7/site-packages/torch/autocast_mode.py:141: UserWarning: User provided device_type of 'cuda', but CUDA is not available. Disabling\n",
      "  warnings.warn('User provided device_type of \\'cuda\\', but CUDA is not available. Disabling')\n"
     ]
    },
    {
     "name": "stdout",
     "output_type": "stream",
     "text": [
      "In epoch 15, loss: 0.37473851442337036\n",
      "TRAIN AUC 0.9700062225488575\n",
      "TEST AUC 0.9072021120093579\n"
     ]
    },
    {
     "name": "stderr",
     "output_type": "stream",
     "text": [
      "/opt/conda/lib/python3.7/site-packages/torch/autocast_mode.py:141: UserWarning: User provided device_type of 'cuda', but CUDA is not available. Disabling\n",
      "  warnings.warn('User provided device_type of \\'cuda\\', but CUDA is not available. Disabling')\n"
     ]
    },
    {
     "name": "stdout",
     "output_type": "stream",
     "text": [
      "In epoch 20, loss: 0.24701200425624847\n",
      "TRAIN AUC 0.9799593699006874\n",
      "TEST AUC 0.9261211876212191\n"
     ]
    },
    {
     "name": "stderr",
     "output_type": "stream",
     "text": [
      "/opt/conda/lib/python3.7/site-packages/torch/autocast_mode.py:141: UserWarning: User provided device_type of 'cuda', but CUDA is not available. Disabling\n",
      "  warnings.warn('User provided device_type of \\'cuda\\', but CUDA is not available. Disabling')\n"
     ]
    },
    {
     "name": "stdout",
     "output_type": "stream",
     "text": [
      "In epoch 25, loss: 0.21463130414485931\n",
      "TRAIN AUC 0.9830842927474936\n",
      "TEST AUC 0.9334549001432946\n"
     ]
    },
    {
     "name": "stderr",
     "output_type": "stream",
     "text": [
      "/opt/conda/lib/python3.7/site-packages/torch/autocast_mode.py:141: UserWarning: User provided device_type of 'cuda', but CUDA is not available. Disabling\n",
      "  warnings.warn('User provided device_type of \\'cuda\\', but CUDA is not available. Disabling')\n"
     ]
    },
    {
     "name": "stdout",
     "output_type": "stream",
     "text": [
      "In epoch 30, loss: 0.17225104570388794\n",
      "TRAIN AUC 0.9866931062612082\n",
      "TEST AUC 0.9457329202578872\n"
     ]
    },
    {
     "name": "stderr",
     "output_type": "stream",
     "text": [
      "/opt/conda/lib/python3.7/site-packages/torch/autocast_mode.py:141: UserWarning: User provided device_type of 'cuda', but CUDA is not available. Disabling\n",
      "  warnings.warn('User provided device_type of \\'cuda\\', but CUDA is not available. Disabling')\n"
     ]
    },
    {
     "name": "stdout",
     "output_type": "stream",
     "text": [
      "In epoch 35, loss: 0.15153586864471436\n",
      "TRAIN AUC 0.9889330665015053\n",
      "TEST AUC 0.95219653125531\n"
     ]
    },
    {
     "name": "stderr",
     "output_type": "stream",
     "text": [
      "/opt/conda/lib/python3.7/site-packages/torch/autocast_mode.py:141: UserWarning: User provided device_type of 'cuda', but CUDA is not available. Disabling\n",
      "  warnings.warn('User provided device_type of \\'cuda\\', but CUDA is not available. Disabling')\n"
     ]
    },
    {
     "name": "stdout",
     "output_type": "stream",
     "text": [
      "In epoch 40, loss: 0.13350020349025726\n",
      "TRAIN AUC 0.9901425966702069\n",
      "TEST AUC 0.953722336183924\n"
     ]
    },
    {
     "name": "stderr",
     "output_type": "stream",
     "text": [
      "/opt/conda/lib/python3.7/site-packages/torch/autocast_mode.py:141: UserWarning: User provided device_type of 'cuda', but CUDA is not available. Disabling\n",
      "  warnings.warn('User provided device_type of \\'cuda\\', but CUDA is not available. Disabling')\n"
     ]
    },
    {
     "name": "stdout",
     "output_type": "stream",
     "text": [
      "In epoch 45, loss: 0.12248189747333527\n",
      "TRAIN AUC 0.9911421746456522\n",
      "TEST AUC 0.9551160573369488\n"
     ]
    },
    {
     "name": "stderr",
     "output_type": "stream",
     "text": [
      "/opt/conda/lib/python3.7/site-packages/torch/autocast_mode.py:141: UserWarning: User provided device_type of 'cuda', but CUDA is not available. Disabling\n",
      "  warnings.warn('User provided device_type of \\'cuda\\', but CUDA is not available. Disabling')\n"
     ]
    }
   ],
   "source": [
    "for e in range(50):\n",
    "    # forward\n",
    "    h = model(train_g, x)\n",
    "    \n",
    "    # pos and neg score for each edge type\n",
    "    pos_list = []\n",
    "    neg_list = []\n",
    "    \n",
    "    for etype in g.etypes:\n",
    "        pos_list.append(pred(train_pos_g, h, etype))\n",
    "        neg_list.append(pred(train_neg_g, h, etype))\n",
    "    \n",
    "    pos_score = torch.cat(pos_list, dim=0)\n",
    "    neg_score = torch.cat(neg_list, dim=0)\n",
    "    \n",
    "    loss = compute_loss(pos_score, neg_score)\n",
    "    \n",
    "    # backward\n",
    "    optimizer.zero_grad()\n",
    "    loss.backward()\n",
    "    optimizer.step()\n",
    "    \n",
    "    if e % 5 == 0:\n",
    "        print('In epoch {}, loss: {}'.format(e, loss))\n",
    "        print('TRAIN AUC', compute_auc(pos_score, neg_score))\n",
    "        \n",
    "        ### TEST AUC\n",
    "        pos_list = []\n",
    "        neg_list = []\n",
    "\n",
    "        for etype in g.etypes:\n",
    "            p = pred(test_pos_g, h, etype)\n",
    "            pos_list.append(p)\n",
    "\n",
    "            n = pred(test_neg_g, h, etype)\n",
    "            neg_list.append(n)\n",
    "\n",
    "\n",
    "        pos_score = torch.cat(pos_list, dim=0)\n",
    "        neg_score = torch.cat(neg_list, dim=0)\n",
    "\n",
    "        print('TEST AUC', compute_auc(pos_score, neg_score))"
   ]
  },
  {
   "cell_type": "markdown",
   "id": "8f6231ae-9ae5-48ca-9668-14201ed5e4d5",
   "metadata": {},
   "source": [
    "---"
   ]
  },
  {
   "cell_type": "markdown",
   "id": "ff279454-bd1f-4dc4-ba7c-df74f1d23f57",
   "metadata": {},
   "source": [
    "#### test"
   ]
  },
  {
   "cell_type": "code",
   "execution_count": 64,
   "id": "528deb4a-9543-4d5e-82ec-7f53999a07f1",
   "metadata": {},
   "outputs": [
    {
     "name": "stdout",
     "output_type": "stream",
     "text": [
      "AUC 0.9582923557010946\n"
     ]
    }
   ],
   "source": [
    "from sklearn.metrics import roc_auc_score\n",
    "with torch.no_grad():\n",
    "    h = model(train_g, x)\n",
    "    \n",
    "    # pos and neg score for each edge type\n",
    "    pos_list = []\n",
    "    neg_list = []\n",
    "    \n",
    "    for etype in g.etypes:\n",
    "        p = pred(test_pos_g, h, etype)\n",
    "        pos_list.append(p)\n",
    "        \n",
    "        n = pred(test_neg_g, h, etype)\n",
    "        neg_list.append(n)\n",
    "        \n",
    "        \n",
    "    pos_score = torch.sigmoid(torch.cat(pos_list, dim=0))\n",
    "    neg_score = torch.sigmoid(torch.cat(neg_list, dim=0))\n",
    "        \n",
    "    print('AUC', compute_auc(pos_score, neg_score))"
   ]
  },
  {
   "cell_type": "code",
   "execution_count": 93,
   "id": "26c2cdaf-448d-40c3-86e9-c2b0b3764625",
   "metadata": {},
   "outputs": [
    {
     "data": {
      "text/plain": [
       "tensor([1.9482e-04, 5.6148e-02, 3.2993e-04,  ..., 3.8056e-08, 4.3984e-02,\n",
       "        4.2163e-08])"
      ]
     },
     "execution_count": 93,
     "metadata": {},
     "output_type": "execute_result"
    }
   ],
   "source": [
    "neg_score"
   ]
  },
  {
   "cell_type": "code",
   "execution_count": 66,
   "id": "34dade86-528a-4f60-9e9e-2a7e74902d3a",
   "metadata": {},
   "outputs": [],
   "source": [
    "negs = pd.Series(neg_score.numpy())"
   ]
  },
  {
   "cell_type": "code",
   "execution_count": 67,
   "id": "b205ab7b-b30e-4518-a512-b8f09552d44c",
   "metadata": {},
   "outputs": [
    {
     "data": {
      "text/plain": [
       "<AxesSubplot:ylabel='Frequency'>"
      ]
     },
     "execution_count": 67,
     "metadata": {},
     "output_type": "execute_result"
    },
    {
     "data": {
      "image/png": "[encoded data removed]",
      "text/plain": [
       "<Figure size 432x288 with 1 Axes>"
      ]
     },
     "metadata": {
      "needs_background": "light"
     },
     "output_type": "display_data"
    }
   ],
   "source": [
    "negs.plot.hist()"
   ]
  },
  {
   "cell_type": "code",
   "execution_count": 92,
   "id": "14c4ca7e-e92c-4adb-84bd-e533e8c9d60f",
   "metadata": {},
   "outputs": [
    {
     "data": {
      "text/plain": [
       "tensor([0.9999, 1.0000, 0.9991,  ..., 0.6002, 0.2693, 0.5786])"
      ]
     },
     "execution_count": 92,
     "metadata": {},
     "output_type": "execute_result"
    }
   ],
   "source": [
    "pos_score"
   ]
  },
  {
   "cell_type": "code",
   "execution_count": 99,
   "id": "e31d4c79-e7c7-417a-a948-b9a793e2c9d2",
   "metadata": {},
   "outputs": [],
   "source": [
    "pos = pd.Series(pos_score.numpy())"
   ]
  },
  {
   "cell_type": "code",
   "execution_count": 100,
   "id": "72ecef5d-f2c6-4559-abc1-cac483468bc8",
   "metadata": {},
   "outputs": [
    {
     "data": {
      "text/plain": [
       "<AxesSubplot:ylabel='Frequency'>"
      ]
     },
     "execution_count": 100,
     "metadata": {},
     "output_type": "execute_result"
    },
    {
     "data": {
      "image/png": "[encoded data removed]",
      "text/plain": [
       "<Figure size 432x288 with 1 Axes>"
      ]
     },
     "metadata": {
      "needs_background": "light"
     },
     "output_type": "display_data"
    }
   ],
   "source": [
    "pos.plot.hist()"
   ]
  },
  {
   "cell_type": "code",
   "execution_count": null,
   "id": "5397ffac-4a47-492d-9bc6-f7a432ecf717",
   "metadata": {},
   "outputs": [],
   "source": []
  },
  {
   "cell_type": "code",
   "execution_count": null,
   "id": "2dd33e33-936d-433e-9901-aa955bd724bc",
   "metadata": {},
   "outputs": [],
   "source": []
  }
 ],
 "metadata": {
  "environment": {
   "kernel": "python3",
   "name": "common-cpu.m89",
   "type": "gcloud",
   "uri": "gcr.io/deeplearning-platform-release/base-cpu:m89"
  },
  "kernelspec": {
   "display_name": "Python 3",
   "language": "python",
   "name": "python3"
  },
  "language_info": {
   "codemirror_mode": {
    "name": "ipython",
    "version": 3
   },
   "file_extension": ".py",
   "mimetype": "text/x-python",
   "name": "python",
   "nbconvert_exporter": "python",
   "pygments_lexer": "ipython3",
   "version": "3.7.12"
  }
 },
 "nbformat": 4,
 "nbformat_minor": 5
}
