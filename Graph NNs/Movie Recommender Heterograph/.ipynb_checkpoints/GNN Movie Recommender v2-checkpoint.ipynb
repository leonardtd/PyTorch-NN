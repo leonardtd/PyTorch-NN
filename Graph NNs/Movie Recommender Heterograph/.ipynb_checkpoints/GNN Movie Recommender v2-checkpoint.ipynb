{
 "cells": [
  {
   "cell_type": "code",
   "execution_count": 1,
   "id": "2ff242e3",
   "metadata": {},
   "outputs": [],
   "source": [
    "import pandas as pd\n",
    "import numpy as np"
   ]
  },
  {
   "cell_type": "code",
   "execution_count": 2,
   "id": "1287796b",
   "metadata": {},
   "outputs": [
    {
     "name": "stderr",
     "output_type": "stream",
     "text": [
      "Using backend: pytorch\n"
     ]
    }
   ],
   "source": [
    "import dgl\n",
    "import torch\n",
    "import torch.nn as nn\n",
    "import torch.nn.functional as F\n",
    "import itertools\n",
    "import numpy as np\n",
    "import scipy.sparse as sp"
   ]
  },
  {
   "cell_type": "code",
   "execution_count": 3,
   "id": "1f0a7e51",
   "metadata": {},
   "outputs": [],
   "source": [
    "import matplotlib.pyplot as plt"
   ]
  },
  {
   "cell_type": "code",
   "execution_count": 4,
   "id": "c0a8d63a",
   "metadata": {},
   "outputs": [],
   "source": [
    "from sklearn import preprocessing"
   ]
  },
  {
   "cell_type": "markdown",
   "id": "1bf1013f",
   "metadata": {},
   "source": [
    "### Resources\n",
    "https://www.kaggle.com/rounakbanik/the-movies-dataset<br>\n",
    "https://docs.dgl.ai/en/0.6.x/generated/dgl.DGLHeteroGraph.ndata.html?highlight=ndata#dgl.DGLHeteroGraph.ndata<br>\n",
    "https://docs.dgl.ai/en/0.6.x/generated/dgl.heterograph.html<br>\n",
    "https://docs.dgl.ai/en/0.6.x/guide/message-heterograph.html<br>\n",
    "https://docs.dgl.ai/en/0.6.x/tutorials/basics/5_hetero.html<br>"
   ]
  },
  {
   "cell_type": "code",
   "execution_count": 5,
   "id": "b0d6872c",
   "metadata": {},
   "outputs": [],
   "source": [
    "df = pd.read_csv('ratings.csv')"
   ]
  },
  {
   "cell_type": "code",
   "execution_count": 6,
   "id": "c7c1cd33",
   "metadata": {},
   "outputs": [
    {
     "data": {
      "text/plain": [
       "count     610.000000\n",
       "mean      165.304918\n",
       "std       269.480584\n",
       "min        20.000000\n",
       "25%        35.000000\n",
       "50%        70.500000\n",
       "75%       168.000000\n",
       "max      2698.000000\n",
       "dtype: float64"
      ]
     },
     "execution_count": 6,
     "metadata": {},
     "output_type": "execute_result"
    }
   ],
   "source": [
    "df.groupby('userId').size().describe()"
   ]
  },
  {
   "cell_type": "code",
   "execution_count": 7,
   "id": "cb52c09a",
   "metadata": {},
   "outputs": [
    {
     "data": {
      "text/plain": [
       "count    9724.000000\n",
       "mean       10.369807\n",
       "std        22.401005\n",
       "min         1.000000\n",
       "25%         1.000000\n",
       "50%         3.000000\n",
       "75%         9.000000\n",
       "max       329.000000\n",
       "dtype: float64"
      ]
     },
     "execution_count": 7,
     "metadata": {},
     "output_type": "execute_result"
    }
   ],
   "source": [
    "df.groupby('movieId').size().describe()"
   ]
  },
  {
   "cell_type": "code",
   "execution_count": 8,
   "id": "c9645954",
   "metadata": {},
   "outputs": [],
   "source": [
    "df.drop(columns=['timestamp'], inplace=True)"
   ]
  },
  {
   "cell_type": "code",
   "execution_count": 9,
   "id": "7c22123e",
   "metadata": {},
   "outputs": [
    {
     "data": {
      "text/html": [
       "<div>\n",
       "<style scoped>\n",
       "    .dataframe tbody tr th:only-of-type {\n",
       "        vertical-align: middle;\n",
       "    }\n",
       "\n",
       "    .dataframe tbody tr th {\n",
       "        vertical-align: top;\n",
       "    }\n",
       "\n",
       "    .dataframe thead th {\n",
       "        text-align: right;\n",
       "    }\n",
       "</style>\n",
       "<table border=\"1\" class=\"dataframe\">\n",
       "  <thead>\n",
       "    <tr style=\"text-align: right;\">\n",
       "      <th></th>\n",
       "      <th>userId</th>\n",
       "      <th>movieId</th>\n",
       "      <th>rating</th>\n",
       "    </tr>\n",
       "  </thead>\n",
       "  <tbody>\n",
       "    <tr>\n",
       "      <th>0</th>\n",
       "      <td>1</td>\n",
       "      <td>1</td>\n",
       "      <td>4.0</td>\n",
       "    </tr>\n",
       "    <tr>\n",
       "      <th>1</th>\n",
       "      <td>1</td>\n",
       "      <td>3</td>\n",
       "      <td>4.0</td>\n",
       "    </tr>\n",
       "    <tr>\n",
       "      <th>2</th>\n",
       "      <td>1</td>\n",
       "      <td>6</td>\n",
       "      <td>4.0</td>\n",
       "    </tr>\n",
       "    <tr>\n",
       "      <th>3</th>\n",
       "      <td>1</td>\n",
       "      <td>47</td>\n",
       "      <td>5.0</td>\n",
       "    </tr>\n",
       "    <tr>\n",
       "      <th>4</th>\n",
       "      <td>1</td>\n",
       "      <td>50</td>\n",
       "      <td>5.0</td>\n",
       "    </tr>\n",
       "  </tbody>\n",
       "</table>\n",
       "</div>"
      ],
      "text/plain": [
       "   userId  movieId  rating\n",
       "0       1        1     4.0\n",
       "1       1        3     4.0\n",
       "2       1        6     4.0\n",
       "3       1       47     5.0\n",
       "4       1       50     5.0"
      ]
     },
     "execution_count": 9,
     "metadata": {},
     "output_type": "execute_result"
    }
   ],
   "source": [
    "df.head()"
   ]
  },
  {
   "cell_type": "code",
   "execution_count": 10,
   "id": "44997ffd",
   "metadata": {},
   "outputs": [],
   "source": [
    "encoders = {\n",
    "    'user': preprocessing.LabelEncoder(),\n",
    "    'movie': preprocessing.LabelEncoder(),\n",
    "}"
   ]
  },
  {
   "cell_type": "code",
   "execution_count": 11,
   "id": "8cad0db4",
   "metadata": {},
   "outputs": [],
   "source": [
    "df['encoded_user'] = encoders['user'].fit_transform(df.userId)\n",
    "df['encoded_movie'] = encoders['movie'].fit_transform(df.movieId)"
   ]
  },
  {
   "cell_type": "code",
   "execution_count": 12,
   "id": "37247f7e",
   "metadata": {},
   "outputs": [
    {
     "data": {
      "text/plain": [
       "count    100836.000000\n",
       "mean        325.127564\n",
       "std         182.618491\n",
       "min           0.000000\n",
       "25%         176.000000\n",
       "50%         324.000000\n",
       "75%         476.000000\n",
       "max         609.000000\n",
       "Name: encoded_user, dtype: float64"
      ]
     },
     "execution_count": 12,
     "metadata": {},
     "output_type": "execute_result"
    }
   ],
   "source": [
    "df.encoded_user.describe()"
   ]
  },
  {
   "cell_type": "markdown",
   "id": "c5eb6359",
   "metadata": {},
   "source": [
    "## Graph construction\n",
    "Dataset`ratings_small`: rating as edge feature"
   ]
  },
  {
   "cell_type": "code",
   "execution_count": 13,
   "id": "35ac6723",
   "metadata": {},
   "outputs": [],
   "source": [
    "data_dict = {\n",
    "    ('user', 'rates', 'movie'): (torch.tensor(df.encoded_user), torch.tensor(df.encoded_movie))\n",
    "}\n",
    "\n",
    "#num_nodes_dict = {'user': df.userId.nunique(), 'movie': df.movieId.nunique()}\n",
    "\n",
    "g = dgl.heterograph(data_dict)"
   ]
  },
  {
   "cell_type": "code",
   "execution_count": 14,
   "id": "89396fcd",
   "metadata": {},
   "outputs": [
    {
     "data": {
      "text/plain": [
       "Graph(num_nodes={'movie': 9724, 'user': 610},\n",
       "      num_edges={('user', 'rates', 'movie'): 100836},\n",
       "      metagraph=[('user', 'movie', 'rates')])"
      ]
     },
     "execution_count": 14,
     "metadata": {},
     "output_type": "execute_result"
    }
   ],
   "source": [
    "g"
   ]
  },
  {
   "cell_type": "code",
   "execution_count": 57,
   "id": "55ec576f",
   "metadata": {},
   "outputs": [
    {
     "data": {
      "text/plain": [
       "10334"
      ]
     },
     "execution_count": 57,
     "metadata": {},
     "output_type": "execute_result"
    }
   ],
   "source": [
    "g.num_nodes()"
   ]
  },
  {
   "cell_type": "code",
   "execution_count": 15,
   "id": "94ded2bc",
   "metadata": {},
   "outputs": [],
   "source": [
    "g.edata['rating'] = torch.tensor(df.rating)"
   ]
  },
  {
   "cell_type": "markdown",
   "id": "38e4a631",
   "metadata": {},
   "source": [
    "## Training and test set\n",
    "https://docs.dgl.ai/tutorials/blitz/4_link_predict.html?highlight=split%20edge%20set%20training%20testing"
   ]
  },
  {
   "cell_type": "code",
   "execution_count": 16,
   "id": "fa67f1ef",
   "metadata": {},
   "outputs": [],
   "source": [
    "u, v = g.edges()\n",
    "\n",
    "eids = np.arange(g.number_of_edges())\n",
    "eids = np.random.permutation(eids)\n",
    "\n",
    "# 20% test\n",
    "test_size = int(len(eids) * 0.1)\n",
    "train_size = g.number_of_edges() - test_size\n",
    "\n",
    "\n",
    "train_pos_u, train_pos_v = u[eids[test_size:]], v[eids[test_size:]]\n",
    "test_pos_u, test_pos_v = u[eids[:test_size]], v[eids[:test_size]]"
   ]
  },
  {
   "cell_type": "markdown",
   "id": "246d736f",
   "metadata": {},
   "source": [
    "#### Negative sampling"
   ]
  },
  {
   "cell_type": "code",
   "execution_count": 17,
   "id": "d1d18b32",
   "metadata": {},
   "outputs": [],
   "source": [
    "# Find all negative edges and split them for training and testing\n",
    "adj = sp.coo_matrix((np.ones(len(u)), (u.numpy(), v.numpy())))\n",
    "adj_neg = -1*adj.todense()+1\n",
    "neg_u, neg_v = np.where(adj_neg != 0)\n",
    "\n",
    "neg_eids = np.random.choice(len(neg_u), g.number_of_edges())\n",
    "test_neg_u, test_neg_v = neg_u[neg_eids[:test_size]], neg_v[neg_eids[:test_size]]\n",
    "train_neg_u, train_neg_v = neg_u[neg_eids[test_size:]], neg_v[neg_eids[test_size:]]"
   ]
  },
  {
   "cell_type": "code",
   "execution_count": 18,
   "id": "b71c1e23",
   "metadata": {},
   "outputs": [],
   "source": [
    "assert adj.todense()[neg_u,neg_v].all() == 0"
   ]
  },
  {
   "cell_type": "code",
   "execution_count": 19,
   "id": "66550bd2",
   "metadata": {},
   "outputs": [],
   "source": [
    "train_g = dgl.remove_edges(g, eids[:test_size])"
   ]
  },
  {
   "cell_type": "markdown",
   "id": "12d517eb",
   "metadata": {},
   "source": [
    "## GNN Definition"
   ]
  },
  {
   "cell_type": "code",
   "execution_count": 20,
   "id": "2f37a7d3",
   "metadata": {},
   "outputs": [],
   "source": [
    "import dgl.function as fn"
   ]
  },
  {
   "cell_type": "code",
   "execution_count": 21,
   "id": "c1196c61",
   "metadata": {},
   "outputs": [],
   "source": [
    "class CustomGNN(nn.Module):\n",
    "    def __init__(self, in_dim, out_dim):\n",
    "        \n",
    "        super(CustomGNN, self).__init__()\n",
    "        \n",
    "        # Weights\n",
    "        self.user_w = nn.Parameter(torch.FloatTensor(in_dim,out_dim))\n",
    "        self.movie_w = nn.Parameter(torch.FloatTensor(in_dim,out_dim))\n",
    "        self.edge_w = nn.Parameter(torch.FloatTensor(1,out_dim))\n",
    "            \n",
    "        self.reset_parameters()\n",
    "        \n",
    "        \n",
    "    def reset_parameters(self):\n",
    "        gain = nn.init.calculate_gain('relu')\n",
    "        \n",
    "        #attention layer init\n",
    "        nn.init.xavier_normal_(self.user_w, gain=gain)\n",
    "        nn.init.xavier_normal_(self.movie_w, gain=gain)\n",
    "        nn.init.xavier_normal_(self.edge_w, gain=gain)\n",
    "        \n",
    "    def forward(self, g, user_feat, movie_feat, edge_features):\n",
    "        with g.local_scope():\n",
    "            g.ndata['feat'] = {'movie':movie_feat@self.movie_w, 'user':user_feat@self.user_w}\n",
    "            g.edata['e_feat'] = edge_features.view(-1,1).float()@self.edge_w\n",
    "            \n",
    "            g.update_all(fn.u_mul_e('feat', 'e_feat', 'm'), fn.mean('m', 'h_out'))\n",
    "            \n",
    "            # User nodes dont get updated in message passing\n",
    "            g.nodes['user'].data['h_out'] = g.ndata['feat']['user']\n",
    "            \n",
    "            return {ntype : g.nodes[ntype].data['h_out'] for ntype in g.ntypes}"
   ]
  },
  {
   "cell_type": "code",
   "execution_count": 22,
   "id": "d2aca90f",
   "metadata": {},
   "outputs": [],
   "source": [
    "user_feat = nn.Embedding(g.num_nodes('user'), 128)\n",
    "movie_feat = nn.Embedding(g.num_nodes('movie'), 128)"
   ]
  },
  {
   "cell_type": "code",
   "execution_count": 23,
   "id": "a2da183c",
   "metadata": {},
   "outputs": [],
   "source": [
    "gnn = CustomGNN(128, 256)"
   ]
  },
  {
   "cell_type": "code",
   "execution_count": 24,
   "id": "07d90b53",
   "metadata": {},
   "outputs": [],
   "source": [
    "out = gnn(g, user_feat.weight, movie_feat.weight, g.edata['rating'])"
   ]
  },
  {
   "cell_type": "code",
   "execution_count": 25,
   "id": "7deca261",
   "metadata": {},
   "outputs": [
    {
     "data": {
      "text/plain": [
       "torch.Size([9724, 256])"
      ]
     },
     "execution_count": 25,
     "metadata": {},
     "output_type": "execute_result"
    }
   ],
   "source": [
    "out['movie'].shape"
   ]
  },
  {
   "cell_type": "code",
   "execution_count": 26,
   "id": "a042c202",
   "metadata": {},
   "outputs": [
    {
     "data": {
      "text/plain": [
       "torch.Size([610, 256])"
      ]
     },
     "execution_count": 26,
     "metadata": {},
     "output_type": "execute_result"
    }
   ],
   "source": [
    "out['user'].shape"
   ]
  },
  {
   "cell_type": "markdown",
   "id": "e75e436b",
   "metadata": {},
   "source": [
    "#### Continue link prediction: dgl\n",
    "https://docs.dgl.ai/en/0.7.x/tutorials/blitz/4_link_predict.html<br>\n",
    "https://docs.dgl.ai/en/0.6.x/_modules/dgl/nn/pytorch/hetero.html"
   ]
  },
  {
   "cell_type": "code",
   "execution_count": 27,
   "id": "a8ec9008",
   "metadata": {},
   "outputs": [],
   "source": [
    "from dgl.nn.pytorch.hetero import HeteroGraphConv"
   ]
  },
  {
   "cell_type": "code",
   "execution_count": 28,
   "id": "ff997167",
   "metadata": {},
   "outputs": [],
   "source": [
    "conv = HeteroGraphConv({'rates' : dgl.nn.SAGEConv(256,256, aggregator_type='mean')})"
   ]
  },
  {
   "cell_type": "code",
   "execution_count": 29,
   "id": "8c81e58d",
   "metadata": {},
   "outputs": [
    {
     "data": {
      "text/plain": [
       "{'movie': tensor([[ 8.3809e-02,  7.9382e-02, -1.5288e-01,  ...,  9.0068e-02,\n",
       "          -8.1734e-02,  9.7295e-02],\n",
       "         [ 4.6935e-02, -1.4287e-01, -1.9685e-01,  ..., -4.3738e-03,\n",
       "           4.8919e-02, -3.8712e-02],\n",
       "         [ 1.5742e-01, -1.0129e-01, -2.6190e-02,  ..., -2.8677e-04,\n",
       "           2.9227e-01, -1.6583e-01],\n",
       "         ...,\n",
       "         [-1.7910e-01, -8.1965e-01,  5.8494e-01,  ...,  2.4122e-01,\n",
       "          -1.2222e+00, -1.1875e+00],\n",
       "         [-1.7910e-01, -8.1965e-01,  5.8494e-01,  ...,  2.4122e-01,\n",
       "          -1.2222e+00, -1.1875e+00],\n",
       "         [ 8.7418e-01, -4.1001e+00, -2.0968e+00,  ...,  2.4043e-01,\n",
       "           1.5001e+00,  2.1665e+00]], grad_fn=<SumBackward1>)}"
      ]
     },
     "execution_count": 29,
     "metadata": {},
     "output_type": "execute_result"
    }
   ],
   "source": [
    "conv(g, out)"
   ]
  },
  {
   "cell_type": "code",
   "execution_count": 30,
   "id": "a6f74a8a",
   "metadata": {},
   "outputs": [],
   "source": [
    "from dgl.nn import SAGEConv\n",
    "\n",
    "class GraphSAGEHetero(nn.Module):\n",
    "    def __init__(self, in_feats, h_feats):\n",
    "        super(GraphSAGEHetero, self).__init__()\n",
    "        self.conv = CustomGNN(in_feats, h_feats)\n",
    "        self.conv1 = HeteroGraphConv({'rates' : dgl.nn.SAGEConv(h_feats,h_feats, aggregator_type='mean')})\n",
    "        self.conv2 = HeteroGraphConv({'rates' : dgl.nn.SAGEConv(h_feats,h_feats, aggregator_type='mean')})\n",
    "    \n",
    "    def forward(self, g, user_feat, movie_feat, edge_features):\n",
    "        \n",
    "        out = self.conv(g, user_feat, movie_feat, edge_features)\n",
    "        \n",
    "        hidden = self.conv1(g, out)\n",
    "        hidden['user'] = out['user']\n",
    "        hidden['movie'] = F.relu(hidden['movie'])\n",
    "        \n",
    "        \n",
    "        h = self.conv2(g, hidden)\n",
    "        h['user'] = hidden['user']\n",
    "        \n",
    "        return h"
   ]
  },
  {
   "cell_type": "code",
   "execution_count": 31,
   "id": "0310e75b",
   "metadata": {},
   "outputs": [],
   "source": [
    "gnn = GraphSAGEHetero(128, 256)"
   ]
  },
  {
   "cell_type": "markdown",
   "id": "e4357ef4",
   "metadata": {},
   "source": [
    "---"
   ]
  },
  {
   "cell_type": "markdown",
   "id": "fc202d9e",
   "metadata": {},
   "source": [
    "#### Positive and Negative graph"
   ]
  },
  {
   "cell_type": "code",
   "execution_count": 32,
   "id": "c4624405",
   "metadata": {},
   "outputs": [],
   "source": [
    "train_pos_g = dgl.graph((train_pos_u, train_pos_v), num_nodes=g.number_of_nodes())\n",
    "train_neg_g = dgl.graph((train_neg_u, train_neg_v), num_nodes=g.number_of_nodes())\n",
    "\n",
    "test_pos_g = dgl.graph((test_pos_u, test_pos_v), num_nodes=g.number_of_nodes())\n",
    "test_neg_g = dgl.graph((test_neg_u, test_neg_v), num_nodes=g.number_of_nodes())"
   ]
  },
  {
   "cell_type": "markdown",
   "id": "deb42123",
   "metadata": {},
   "source": [
    "#### Pred test"
   ]
  },
  {
   "cell_type": "code",
   "execution_count": 33,
   "id": "59631be1",
   "metadata": {},
   "outputs": [],
   "source": [
    "class DotPredictor(nn.Module):\n",
    "    def forward(self, g, user_feat, movie_feat):\n",
    "        u, v = g.edges()\n",
    "        \n",
    "        dot = (user_feat[u]*movie_feat[v]).sum(1)\n",
    "        \n",
    "        return dot\n",
    "    \n",
    "    def predict(self, nodes_u, nodes_v):\n",
    "        return (nodes_u*nodes_v).sum(1)"
   ]
  },
  {
   "cell_type": "code",
   "execution_count": 34,
   "id": "a49d4515",
   "metadata": {
    "scrolled": true
   },
   "outputs": [],
   "source": [
    "gnn = GraphSAGEHetero(128, 256)\n",
    "out = gnn(train_g, user_feat.weight, movie_feat.weight, g.edata['rating'][eids[test_size:]])"
   ]
  },
  {
   "cell_type": "code",
   "execution_count": 35,
   "id": "b4422dc4",
   "metadata": {},
   "outputs": [
    {
     "data": {
      "text/plain": [
       "tensor([-19.3838,  -7.3046,  -3.6001,  ...,  -5.9188,  -5.4217,  -4.2336],\n",
       "       grad_fn=<SumBackward1>)"
      ]
     },
     "execution_count": 35,
     "metadata": {},
     "output_type": "execute_result"
    }
   ],
   "source": [
    "pred = DotPredictor()\n",
    "pred(train_g, user_feat.weight, movie_feat.weight)"
   ]
  },
  {
   "cell_type": "code",
   "execution_count": 36,
   "id": "783af74b",
   "metadata": {},
   "outputs": [
    {
     "data": {
      "text/plain": [
       "(tensor([ 18,   0,  62,  ...,  33, 483, 441]),\n",
       " tensor([1320, 1542, 7001,  ..., 3281, 4568, 2884]))"
      ]
     },
     "execution_count": 36,
     "metadata": {},
     "output_type": "execute_result"
    }
   ],
   "source": [
    "train_pos_g.edges()"
   ]
  },
  {
   "cell_type": "markdown",
   "id": "ec6a4df0",
   "metadata": {},
   "source": [
    "### Train loop"
   ]
  },
  {
   "cell_type": "code",
   "execution_count": 37,
   "id": "2e1265c5",
   "metadata": {},
   "outputs": [],
   "source": [
    "from sklearn.metrics import roc_auc_score\n",
    "from sklearn.metrics import recall_score\n",
    "from sklearn.metrics import precision_score"
   ]
  },
  {
   "cell_type": "code",
   "execution_count": 38,
   "id": "ed0bb6be",
   "metadata": {},
   "outputs": [],
   "source": [
    "\n",
    "\n",
    "# You can replace DotPredictor with MLPPredictor.\n",
    "#pred = MLPPredictor(hidden)\n",
    "\n",
    "def compute_loss(pos_score, neg_score):\n",
    "    scores = torch.cat([pos_score, neg_score])\n",
    "    labels = torch.cat([torch.ones(pos_score.shape[0]), torch.zeros(neg_score.shape[0])])\n",
    "    return F.binary_cross_entropy_with_logits(scores, labels)\n",
    "\n",
    "def compute_auc(pos_score, neg_score):\n",
    "    scores = torch.cat([pos_score, neg_score]).numpy()\n",
    "    labels = torch.cat(\n",
    "        [torch.ones(pos_score.shape[0]), torch.zeros(neg_score.shape[0])]).numpy()\n",
    "    return roc_auc_score(labels, scores)\n",
    "\n",
    "def compute_recall(pos_score, neg_score):\n",
    "    scores = torch.cat([pos_score, neg_score])\n",
    "    scores = torch.sigmoid(scores)\n",
    "    labels = torch.cat(\n",
    "        [torch.ones(pos_score.shape[0]), torch.zeros(neg_score.shape[0])]).numpy()\n",
    "    return recall_score(labels, torch.round(scores))\n",
    "\n",
    "def compute_precision(pos_score, neg_score):\n",
    "    scores = torch.cat([pos_score, neg_score])\n",
    "    scores = torch.sigmoid(scores)\n",
    "    labels = torch.cat(\n",
    "        [torch.ones(pos_score.shape[0]), torch.zeros(neg_score.shape[0])]).numpy()\n",
    "    return precision_score(labels, torch.round(scores))"
   ]
  },
  {
   "cell_type": "code",
   "execution_count": 39,
   "id": "c7018c63",
   "metadata": {},
   "outputs": [
    {
     "name": "stdout",
     "output_type": "stream",
     "text": [
      "In epoch 0, loss: 1.7320551872253418\n",
      "In epoch 5, loss: 1.5723841190338135\n",
      "In epoch 10, loss: 1.4294618368148804\n",
      "In epoch 15, loss: 1.3028452396392822\n",
      "In epoch 20, loss: 1.1914494037628174\n",
      "In epoch 25, loss: 1.0938273668289185\n",
      "In epoch 30, loss: 1.0083634853363037\n",
      "In epoch 35, loss: 0.9333913922309875\n",
      "In epoch 40, loss: 0.8672590255737305\n",
      "In epoch 45, loss: 0.8083637952804565\n",
      "In epoch 50, loss: 0.7551841139793396\n",
      "In epoch 55, loss: 0.7063204646110535\n",
      "In epoch 60, loss: 0.6605458855628967\n",
      "In epoch 65, loss: 0.6168704032897949\n",
      "In epoch 70, loss: 0.5746114253997803\n",
      "In epoch 75, loss: 0.5334487557411194\n",
      "In epoch 80, loss: 0.49342334270477295\n",
      "In epoch 85, loss: 0.454858660697937\n",
      "In epoch 90, loss: 0.4182153344154358\n",
      "In epoch 95, loss: 0.3839319050312042\n",
      "In epoch 100, loss: 0.35231083631515503\n",
      "In epoch 105, loss: 0.32347866892814636\n",
      "In epoch 110, loss: 0.2974068224430084\n",
      "In epoch 115, loss: 0.27396059036254883\n",
      "In epoch 120, loss: 0.25294825434684753\n",
      "In epoch 125, loss: 0.23415593802928925\n",
      "In epoch 130, loss: 0.2173658311367035\n",
      "In epoch 135, loss: 0.20236504077911377\n",
      "In epoch 140, loss: 0.1889500617980957\n",
      "In epoch 145, loss: 0.17693038284778595\n",
      "In epoch 150, loss: 0.16613060235977173\n",
      "In epoch 155, loss: 0.15639205276966095\n",
      "In epoch 160, loss: 0.14757411181926727\n",
      "In epoch 165, loss: 0.1395544707775116\n",
      "In epoch 170, loss: 0.13222843408584595\n",
      "In epoch 175, loss: 0.12550725042819977\n",
      "In epoch 180, loss: 0.11931613087654114\n",
      "In epoch 185, loss: 0.11359212547540665\n",
      "In epoch 190, loss: 0.10828232020139694\n",
      "In epoch 195, loss: 0.10334204137325287\n",
      "AUC 0.8277823176039153\n",
      "Recall 0.8154319151046315\n",
      "Precision 0.7360787824529991\n"
     ]
    }
   ],
   "source": [
    "# ----------- 3. set up loss and optimizer -------------- #\n",
    "# in this case, loss will in training loop\n",
    "\n",
    "user_feat = nn.Embedding(g.num_nodes('user'), 16)\n",
    "movie_feat = nn.Embedding(g.num_nodes('movie'), 16)\n",
    "model = GraphSAGEHetero(16, 32)\n",
    "pred = DotPredictor()\n",
    "\n",
    "optimizer = torch.optim.Adam(itertools.chain(model.parameters(), \n",
    "                                             pred.parameters(), \n",
    "                                             user_feat.parameters(), \n",
    "                                             movie_feat.parameters()), \n",
    "                             lr=0.01)\n",
    "\n",
    "# ----------- 4. training -------------------------------- #\n",
    "all_logits = []\n",
    "for e in range(200):\n",
    "    # forward\n",
    "    h = model(train_g, user_feat.weight, movie_feat.weight, g.edata['rating'][eids[test_size:]])\n",
    "    pos_score = pred(train_g, user_feat.weight, movie_feat.weight)\n",
    "    neg_score = pred(train_neg_g, user_feat.weight, movie_feat.weight)\n",
    "    \n",
    "    loss = compute_loss(pos_score, neg_score)\n",
    "    \n",
    "    # backward\n",
    "    optimizer.zero_grad()\n",
    "    loss.backward()\n",
    "    optimizer.step()\n",
    "    \n",
    "    if e % 5 == 0:\n",
    "        print('In epoch {}, loss: {}'.format(e, loss))\n",
    "\n",
    "# ----------- 5. check results ------------------------ #\n",
    "from sklearn.metrics import roc_auc_score\n",
    "with torch.no_grad():\n",
    "    pos_score = pred(test_pos_g, user_feat.weight, movie_feat.weight)\n",
    "    neg_score = pred(test_neg_g, user_feat.weight, movie_feat.weight)\n",
    "    print('AUC', compute_auc(pos_score, neg_score))\n",
    "    print('Recall', compute_recall(pos_score, neg_score))\n",
    "    print('Precision', compute_precision(pos_score, neg_score))\n",
    "\n",
    "\n",
    "# Thumbnail credits: Link Prediction with Neo4j, Mark Needham\n",
    "# sphinx_gallery_thumbnail_path = '_static/blitz_4_link_predict.png'"
   ]
  },
  {
   "cell_type": "markdown",
   "id": "1450bd8c",
   "metadata": {},
   "source": [
    "## Testing"
   ]
  },
  {
   "cell_type": "markdown",
   "id": "4e46c8ab",
   "metadata": {},
   "source": [
    "#### Read movie data"
   ]
  },
  {
   "cell_type": "code",
   "execution_count": 40,
   "id": "543758fe",
   "metadata": {
    "scrolled": true
   },
   "outputs": [],
   "source": [
    "df_movies = pd.read_csv('movies.csv')"
   ]
  },
  {
   "cell_type": "markdown",
   "id": "0b1a3b21",
   "metadata": {},
   "source": [
    "#### Get embeddings"
   ]
  },
  {
   "cell_type": "code",
   "execution_count": 41,
   "id": "12fca16f",
   "metadata": {},
   "outputs": [],
   "source": [
    "with torch.no_grad():\n",
    "    features = model(g, user_feat.weight, movie_feat.weight, g.edata['rating'])"
   ]
  },
  {
   "cell_type": "code",
   "execution_count": 42,
   "id": "ba7c4892",
   "metadata": {},
   "outputs": [
    {
     "data": {
      "text/plain": [
       "torch.Size([610, 32])"
      ]
     },
     "execution_count": 42,
     "metadata": {},
     "output_type": "execute_result"
    }
   ],
   "source": [
    "features['user'].shape"
   ]
  },
  {
   "cell_type": "code",
   "execution_count": 43,
   "id": "d8eb9772",
   "metadata": {},
   "outputs": [
    {
     "data": {
      "text/plain": [
       "torch.Size([9724, 32])"
      ]
     },
     "execution_count": 43,
     "metadata": {},
     "output_type": "execute_result"
    }
   ],
   "source": [
    "features['movie'].shape"
   ]
  },
  {
   "cell_type": "markdown",
   "id": "14cdd1f7",
   "metadata": {},
   "source": [
    "#### Params"
   ]
  },
  {
   "cell_type": "code",
   "execution_count": 44,
   "id": "d2a89145",
   "metadata": {},
   "outputs": [],
   "source": [
    "k = 10"
   ]
  },
  {
   "cell_type": "markdown",
   "id": "a3c8e1bf",
   "metadata": {},
   "source": [
    "#### User id #0"
   ]
  },
  {
   "cell_type": "code",
   "execution_count": 45,
   "id": "55fb8870",
   "metadata": {},
   "outputs": [],
   "source": [
    "idx = 18\n",
    "\n",
    "user_emb = features['user'][idx]"
   ]
  },
  {
   "cell_type": "code",
   "execution_count": 46,
   "id": "0bf73a56",
   "metadata": {},
   "outputs": [],
   "source": [
    "top_k_user = df[df.encoded_user == idx][['movieId', 'rating']].sort_values('rating', ascending=False).iloc[:k]"
   ]
  },
  {
   "cell_type": "code",
   "execution_count": 47,
   "id": "c06ff9c3",
   "metadata": {},
   "outputs": [
    {
     "data": {
      "text/html": [
       "<div>\n",
       "<style scoped>\n",
       "    .dataframe tbody tr th:only-of-type {\n",
       "        vertical-align: middle;\n",
       "    }\n",
       "\n",
       "    .dataframe tbody tr th {\n",
       "        vertical-align: top;\n",
       "    }\n",
       "\n",
       "    .dataframe thead th {\n",
       "        text-align: right;\n",
       "    }\n",
       "</style>\n",
       "<table border=\"1\" class=\"dataframe\">\n",
       "  <thead>\n",
       "    <tr style=\"text-align: right;\">\n",
       "      <th></th>\n",
       "      <th>movieId</th>\n",
       "      <th>title</th>\n",
       "      <th>genres</th>\n",
       "    </tr>\n",
       "  </thead>\n",
       "  <tbody>\n",
       "    <tr>\n",
       "      <th>483</th>\n",
       "      <td>551</td>\n",
       "      <td>Nightmare Before Christmas, The (1993)</td>\n",
       "      <td>Animation|Children|Fantasy|Musical</td>\n",
       "    </tr>\n",
       "    <tr>\n",
       "      <th>686</th>\n",
       "      <td>904</td>\n",
       "      <td>Rear Window (1954)</td>\n",
       "      <td>Mystery|Thriller</td>\n",
       "    </tr>\n",
       "    <tr>\n",
       "      <th>695</th>\n",
       "      <td>913</td>\n",
       "      <td>Maltese Falcon, The (1941)</td>\n",
       "      <td>Film-Noir|Mystery</td>\n",
       "    </tr>\n",
       "    <tr>\n",
       "      <th>836</th>\n",
       "      <td>1097</td>\n",
       "      <td>E.T. the Extra-Terrestrial (1982)</td>\n",
       "      <td>Children|Drama|Sci-Fi</td>\n",
       "    </tr>\n",
       "    <tr>\n",
       "      <th>899</th>\n",
       "      <td>1197</td>\n",
       "      <td>Princess Bride, The (1987)</td>\n",
       "      <td>Action|Adventure|Comedy|Fantasy|Romance</td>\n",
       "    </tr>\n",
       "    <tr>\n",
       "      <th>900</th>\n",
       "      <td>1198</td>\n",
       "      <td>Raiders of the Lost Ark (Indiana Jones and the...</td>\n",
       "      <td>Action|Adventure</td>\n",
       "    </tr>\n",
       "    <tr>\n",
       "      <th>1057</th>\n",
       "      <td>1374</td>\n",
       "      <td>Star Trek II: The Wrath of Khan (1982)</td>\n",
       "      <td>Action|Adventure|Sci-Fi|Thriller</td>\n",
       "    </tr>\n",
       "    <tr>\n",
       "      <th>2044</th>\n",
       "      <td>2723</td>\n",
       "      <td>Mystery Men (1999)</td>\n",
       "      <td>Action|Comedy|Fantasy</td>\n",
       "    </tr>\n",
       "    <tr>\n",
       "      <th>2195</th>\n",
       "      <td>2918</td>\n",
       "      <td>Ferris Bueller's Day Off (1986)</td>\n",
       "      <td>Comedy</td>\n",
       "    </tr>\n",
       "    <tr>\n",
       "      <th>2233</th>\n",
       "      <td>2968</td>\n",
       "      <td>Time Bandits (1981)</td>\n",
       "      <td>Adventure|Comedy|Fantasy|Sci-Fi</td>\n",
       "    </tr>\n",
       "  </tbody>\n",
       "</table>\n",
       "</div>"
      ],
      "text/plain": [
       "      movieId                                              title  \\\n",
       "483       551             Nightmare Before Christmas, The (1993)   \n",
       "686       904                                 Rear Window (1954)   \n",
       "695       913                         Maltese Falcon, The (1941)   \n",
       "836      1097                  E.T. the Extra-Terrestrial (1982)   \n",
       "899      1197                         Princess Bride, The (1987)   \n",
       "900      1198  Raiders of the Lost Ark (Indiana Jones and the...   \n",
       "1057     1374             Star Trek II: The Wrath of Khan (1982)   \n",
       "2044     2723                                 Mystery Men (1999)   \n",
       "2195     2918                    Ferris Bueller's Day Off (1986)   \n",
       "2233     2968                                Time Bandits (1981)   \n",
       "\n",
       "                                       genres  \n",
       "483        Animation|Children|Fantasy|Musical  \n",
       "686                          Mystery|Thriller  \n",
       "695                         Film-Noir|Mystery  \n",
       "836                     Children|Drama|Sci-Fi  \n",
       "899   Action|Adventure|Comedy|Fantasy|Romance  \n",
       "900                          Action|Adventure  \n",
       "1057         Action|Adventure|Sci-Fi|Thriller  \n",
       "2044                    Action|Comedy|Fantasy  \n",
       "2195                                   Comedy  \n",
       "2233          Adventure|Comedy|Fantasy|Sci-Fi  "
      ]
     },
     "execution_count": 47,
     "metadata": {},
     "output_type": "execute_result"
    }
   ],
   "source": [
    "df_movies[df_movies.movieId.isin(top_k_user.movieId)]"
   ]
  },
  {
   "cell_type": "markdown",
   "id": "2ed8f43e",
   "metadata": {},
   "source": [
    "### Recommended movies"
   ]
  },
  {
   "cell_type": "code",
   "execution_count": 48,
   "id": "e2a8c11d",
   "metadata": {},
   "outputs": [],
   "source": [
    "prediction = pred.predict(user_emb.view(1,-1),features['movie'])\n",
    "prediction_index = prediction.topk(k).indices"
   ]
  },
  {
   "cell_type": "code",
   "execution_count": 49,
   "id": "f52f72b6",
   "metadata": {},
   "outputs": [
    {
     "data": {
      "text/plain": [
       "<AxesSubplot:ylabel='Frequency'>"
      ]
     },
     "execution_count": 49,
     "metadata": {},
     "output_type": "execute_result"
    },
    {
     "data": {
      "image/png": "[encoded data removed]",
      "text/plain": [
       "<Figure size 432x288 with 1 Axes>"
      ]
     },
     "metadata": {
      "needs_background": "light"
     },
     "output_type": "display_data"
    }
   ],
   "source": [
    "pd.Series(prediction).plot.hist()"
   ]
  },
  {
   "cell_type": "code",
   "execution_count": 50,
   "id": "01b57c7a",
   "metadata": {},
   "outputs": [
    {
     "data": {
      "text/html": [
       "<div>\n",
       "<style scoped>\n",
       "    .dataframe tbody tr th:only-of-type {\n",
       "        vertical-align: middle;\n",
       "    }\n",
       "\n",
       "    .dataframe tbody tr th {\n",
       "        vertical-align: top;\n",
       "    }\n",
       "\n",
       "    .dataframe thead th {\n",
       "        text-align: right;\n",
       "    }\n",
       "</style>\n",
       "<table border=\"1\" class=\"dataframe\">\n",
       "  <thead>\n",
       "    <tr style=\"text-align: right;\">\n",
       "      <th></th>\n",
       "      <th>movieId</th>\n",
       "      <th>title</th>\n",
       "      <th>genres</th>\n",
       "    </tr>\n",
       "  </thead>\n",
       "  <tbody>\n",
       "    <tr>\n",
       "      <th>121</th>\n",
       "      <td>148</td>\n",
       "      <td>Awfully Big Adventure, An (1995)</td>\n",
       "      <td>Drama</td>\n",
       "    </tr>\n",
       "    <tr>\n",
       "      <th>150</th>\n",
       "      <td>178</td>\n",
       "      <td>Love &amp; Human Remains (1993)</td>\n",
       "      <td>Comedy|Drama</td>\n",
       "    </tr>\n",
       "    <tr>\n",
       "      <th>433</th>\n",
       "      <td>496</td>\n",
       "      <td>What Happened Was... (1994)</td>\n",
       "      <td>Comedy|Drama|Romance|Thriller</td>\n",
       "    </tr>\n",
       "    <tr>\n",
       "      <th>556</th>\n",
       "      <td>668</td>\n",
       "      <td>Song of the Little Road (Pather Panchali) (1955)</td>\n",
       "      <td>Drama</td>\n",
       "    </tr>\n",
       "    <tr>\n",
       "      <th>670</th>\n",
       "      <td>882</td>\n",
       "      <td>Trigger Effect, The (1996)</td>\n",
       "      <td>Drama|Thriller</td>\n",
       "    </tr>\n",
       "    <tr>\n",
       "      <th>1772</th>\n",
       "      <td>2370</td>\n",
       "      <td>Emerald Forest, The (1985)</td>\n",
       "      <td>Action|Adventure|Drama</td>\n",
       "    </tr>\n",
       "    <tr>\n",
       "      <th>2240</th>\n",
       "      <td>2975</td>\n",
       "      <td>Best Man, The (1999)</td>\n",
       "      <td>Comedy|Drama</td>\n",
       "    </tr>\n",
       "    <tr>\n",
       "      <th>2665</th>\n",
       "      <td>3567</td>\n",
       "      <td>Bossa Nova (2000)</td>\n",
       "      <td>Comedy|Drama|Romance</td>\n",
       "    </tr>\n",
       "    <tr>\n",
       "      <th>3893</th>\n",
       "      <td>5468</td>\n",
       "      <td>20 Million Miles to Earth (1957)</td>\n",
       "      <td>Sci-Fi</td>\n",
       "    </tr>\n",
       "    <tr>\n",
       "      <th>4178</th>\n",
       "      <td>6021</td>\n",
       "      <td>American Friend, The (Amerikanische Freund, De...</td>\n",
       "      <td>Crime|Drama|Mystery|Thriller</td>\n",
       "    </tr>\n",
       "  </tbody>\n",
       "</table>\n",
       "</div>"
      ],
      "text/plain": [
       "      movieId                                              title  \\\n",
       "121       148                   Awfully Big Adventure, An (1995)   \n",
       "150       178                        Love & Human Remains (1993)   \n",
       "433       496                        What Happened Was... (1994)   \n",
       "556       668   Song of the Little Road (Pather Panchali) (1955)   \n",
       "670       882                         Trigger Effect, The (1996)   \n",
       "1772     2370                         Emerald Forest, The (1985)   \n",
       "2240     2975                               Best Man, The (1999)   \n",
       "2665     3567                                  Bossa Nova (2000)   \n",
       "3893     5468                   20 Million Miles to Earth (1957)   \n",
       "4178     6021  American Friend, The (Amerikanische Freund, De...   \n",
       "\n",
       "                             genres  \n",
       "121                           Drama  \n",
       "150                    Comedy|Drama  \n",
       "433   Comedy|Drama|Romance|Thriller  \n",
       "556                           Drama  \n",
       "670                  Drama|Thriller  \n",
       "1772         Action|Adventure|Drama  \n",
       "2240                   Comedy|Drama  \n",
       "2665           Comedy|Drama|Romance  \n",
       "3893                         Sci-Fi  \n",
       "4178   Crime|Drama|Mystery|Thriller  "
      ]
     },
     "execution_count": 50,
     "metadata": {},
     "output_type": "execute_result"
    }
   ],
   "source": [
    "df_movies[df_movies.movieId.isin(encoders['movie'].inverse_transform(prediction_index))]"
   ]
  },
  {
   "cell_type": "code",
   "execution_count": 51,
   "id": "934c56d5",
   "metadata": {},
   "outputs": [
    {
     "data": {
      "text/html": [
       "<div>\n",
       "<style scoped>\n",
       "    .dataframe tbody tr th:only-of-type {\n",
       "        vertical-align: middle;\n",
       "    }\n",
       "\n",
       "    .dataframe tbody tr th {\n",
       "        vertical-align: top;\n",
       "    }\n",
       "\n",
       "    .dataframe thead th {\n",
       "        text-align: right;\n",
       "    }\n",
       "</style>\n",
       "<table border=\"1\" class=\"dataframe\">\n",
       "  <thead>\n",
       "    <tr style=\"text-align: right;\">\n",
       "      <th></th>\n",
       "      <th>movieId</th>\n",
       "      <th>title</th>\n",
       "      <th>genres</th>\n",
       "    </tr>\n",
       "  </thead>\n",
       "  <tbody>\n",
       "    <tr>\n",
       "      <th>483</th>\n",
       "      <td>551</td>\n",
       "      <td>Nightmare Before Christmas, The (1993)</td>\n",
       "      <td>Animation|Children|Fantasy|Musical</td>\n",
       "    </tr>\n",
       "    <tr>\n",
       "      <th>686</th>\n",
       "      <td>904</td>\n",
       "      <td>Rear Window (1954)</td>\n",
       "      <td>Mystery|Thriller</td>\n",
       "    </tr>\n",
       "    <tr>\n",
       "      <th>695</th>\n",
       "      <td>913</td>\n",
       "      <td>Maltese Falcon, The (1941)</td>\n",
       "      <td>Film-Noir|Mystery</td>\n",
       "    </tr>\n",
       "    <tr>\n",
       "      <th>836</th>\n",
       "      <td>1097</td>\n",
       "      <td>E.T. the Extra-Terrestrial (1982)</td>\n",
       "      <td>Children|Drama|Sci-Fi</td>\n",
       "    </tr>\n",
       "    <tr>\n",
       "      <th>899</th>\n",
       "      <td>1197</td>\n",
       "      <td>Princess Bride, The (1987)</td>\n",
       "      <td>Action|Adventure|Comedy|Fantasy|Romance</td>\n",
       "    </tr>\n",
       "    <tr>\n",
       "      <th>900</th>\n",
       "      <td>1198</td>\n",
       "      <td>Raiders of the Lost Ark (Indiana Jones and the...</td>\n",
       "      <td>Action|Adventure</td>\n",
       "    </tr>\n",
       "    <tr>\n",
       "      <th>1057</th>\n",
       "      <td>1374</td>\n",
       "      <td>Star Trek II: The Wrath of Khan (1982)</td>\n",
       "      <td>Action|Adventure|Sci-Fi|Thriller</td>\n",
       "    </tr>\n",
       "    <tr>\n",
       "      <th>2044</th>\n",
       "      <td>2723</td>\n",
       "      <td>Mystery Men (1999)</td>\n",
       "      <td>Action|Comedy|Fantasy</td>\n",
       "    </tr>\n",
       "    <tr>\n",
       "      <th>2195</th>\n",
       "      <td>2918</td>\n",
       "      <td>Ferris Bueller's Day Off (1986)</td>\n",
       "      <td>Comedy</td>\n",
       "    </tr>\n",
       "    <tr>\n",
       "      <th>2233</th>\n",
       "      <td>2968</td>\n",
       "      <td>Time Bandits (1981)</td>\n",
       "      <td>Adventure|Comedy|Fantasy|Sci-Fi</td>\n",
       "    </tr>\n",
       "  </tbody>\n",
       "</table>\n",
       "</div>"
      ],
      "text/plain": [
       "      movieId                                              title  \\\n",
       "483       551             Nightmare Before Christmas, The (1993)   \n",
       "686       904                                 Rear Window (1954)   \n",
       "695       913                         Maltese Falcon, The (1941)   \n",
       "836      1097                  E.T. the Extra-Terrestrial (1982)   \n",
       "899      1197                         Princess Bride, The (1987)   \n",
       "900      1198  Raiders of the Lost Ark (Indiana Jones and the...   \n",
       "1057     1374             Star Trek II: The Wrath of Khan (1982)   \n",
       "2044     2723                                 Mystery Men (1999)   \n",
       "2195     2918                    Ferris Bueller's Day Off (1986)   \n",
       "2233     2968                                Time Bandits (1981)   \n",
       "\n",
       "                                       genres  \n",
       "483        Animation|Children|Fantasy|Musical  \n",
       "686                          Mystery|Thriller  \n",
       "695                         Film-Noir|Mystery  \n",
       "836                     Children|Drama|Sci-Fi  \n",
       "899   Action|Adventure|Comedy|Fantasy|Romance  \n",
       "900                          Action|Adventure  \n",
       "1057         Action|Adventure|Sci-Fi|Thriller  \n",
       "2044                    Action|Comedy|Fantasy  \n",
       "2195                                   Comedy  \n",
       "2233          Adventure|Comedy|Fantasy|Sci-Fi  "
      ]
     },
     "execution_count": 51,
     "metadata": {},
     "output_type": "execute_result"
    }
   ],
   "source": [
    "df_movies[df_movies.movieId.isin(top_k_user.movieId)]"
   ]
  },
  {
   "cell_type": "code",
   "execution_count": null,
   "id": "fd7b4c01",
   "metadata": {},
   "outputs": [],
   "source": []
  },
  {
   "cell_type": "code",
   "execution_count": null,
   "id": "bed54501",
   "metadata": {},
   "outputs": [],
   "source": []
  }
 ],
 "metadata": {
  "kernelspec": {
   "display_name": "Python 3 (ipykernel)",
   "language": "python",
   "name": "python3"
  },
  "language_info": {
   "codemirror_mode": {
    "name": "ipython",
    "version": 3
   },
   "file_extension": ".py",
   "mimetype": "text/x-python",
   "name": "python",
   "nbconvert_exporter": "python",
   "pygments_lexer": "ipython3",
   "version": "3.8.8"
  }
 },
 "nbformat": 4,
 "nbformat_minor": 5
}
