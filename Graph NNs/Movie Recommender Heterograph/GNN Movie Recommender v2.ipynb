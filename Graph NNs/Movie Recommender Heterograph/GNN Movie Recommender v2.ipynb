{
 "cells": [
  {
   "cell_type": "code",
   "execution_count": 1,
   "id": "2ff242e3",
   "metadata": {},
   "outputs": [],
   "source": [
    "import pandas as pd\n",
    "import numpy as np"
   ]
  },
  {
   "cell_type": "code",
   "execution_count": 2,
   "id": "1287796b",
   "metadata": {},
   "outputs": [
    {
     "name": "stderr",
     "output_type": "stream",
     "text": [
      "Using backend: pytorch\n"
     ]
    }
   ],
   "source": [
    "import dgl\n",
    "import torch\n",
    "import torch.nn as nn\n",
    "import torch.nn.functional as F\n",
    "import itertools\n",
    "import numpy as np\n",
    "import scipy.sparse as sp"
   ]
  },
  {
   "cell_type": "code",
   "execution_count": 3,
   "id": "1f0a7e51",
   "metadata": {},
   "outputs": [],
   "source": [
    "import matplotlib.pyplot as plt"
   ]
  },
  {
   "cell_type": "code",
   "execution_count": 4,
   "id": "c0a8d63a",
   "metadata": {},
   "outputs": [],
   "source": [
    "from sklearn import preprocessing"
   ]
  },
  {
   "cell_type": "markdown",
   "id": "1bf1013f",
   "metadata": {},
   "source": [
    "### Resources\n",
    "https://www.kaggle.com/rounakbanik/the-movies-dataset<br>\n",
    "https://docs.dgl.ai/en/0.6.x/generated/dgl.DGLHeteroGraph.ndata.html?highlight=ndata#dgl.DGLHeteroGraph.ndata<br>\n",
    "https://docs.dgl.ai/en/0.6.x/generated/dgl.heterograph.html<br>\n",
    "https://docs.dgl.ai/en/0.6.x/guide/message-heterograph.html<br>\n",
    "https://docs.dgl.ai/en/0.6.x/tutorials/basics/5_hetero.html<br>"
   ]
  },
  {
   "cell_type": "code",
   "execution_count": 5,
   "id": "b0d6872c",
   "metadata": {},
   "outputs": [],
   "source": [
    "df = pd.read_csv('ratings.csv')"
   ]
  },
  {
   "cell_type": "code",
   "execution_count": 6,
   "id": "c7c1cd33",
   "metadata": {},
   "outputs": [
    {
     "data": {
      "text/plain": [
       "count     610.000000\n",
       "mean      165.304918\n",
       "std       269.480584\n",
       "min        20.000000\n",
       "25%        35.000000\n",
       "50%        70.500000\n",
       "75%       168.000000\n",
       "max      2698.000000\n",
       "dtype: float64"
      ]
     },
     "execution_count": 6,
     "metadata": {},
     "output_type": "execute_result"
    }
   ],
   "source": [
    "df.groupby('userId').size().describe()"
   ]
  },
  {
   "cell_type": "code",
   "execution_count": 7,
   "id": "cb52c09a",
   "metadata": {},
   "outputs": [
    {
     "data": {
      "text/plain": [
       "count    9724.000000\n",
       "mean       10.369807\n",
       "std        22.401005\n",
       "min         1.000000\n",
       "25%         1.000000\n",
       "50%         3.000000\n",
       "75%         9.000000\n",
       "max       329.000000\n",
       "dtype: float64"
      ]
     },
     "execution_count": 7,
     "metadata": {},
     "output_type": "execute_result"
    }
   ],
   "source": [
    "df.groupby('movieId').size().describe()"
   ]
  },
  {
   "cell_type": "code",
   "execution_count": 8,
   "id": "c9645954",
   "metadata": {},
   "outputs": [],
   "source": [
    "df.drop(columns=['timestamp'], inplace=True)"
   ]
  },
  {
   "cell_type": "code",
   "execution_count": 9,
   "id": "7c22123e",
   "metadata": {},
   "outputs": [
    {
     "data": {
      "text/html": [
       "<div>\n",
       "<style scoped>\n",
       "    .dataframe tbody tr th:only-of-type {\n",
       "        vertical-align: middle;\n",
       "    }\n",
       "\n",
       "    .dataframe tbody tr th {\n",
       "        vertical-align: top;\n",
       "    }\n",
       "\n",
       "    .dataframe thead th {\n",
       "        text-align: right;\n",
       "    }\n",
       "</style>\n",
       "<table border=\"1\" class=\"dataframe\">\n",
       "  <thead>\n",
       "    <tr style=\"text-align: right;\">\n",
       "      <th></th>\n",
       "      <th>userId</th>\n",
       "      <th>movieId</th>\n",
       "      <th>rating</th>\n",
       "    </tr>\n",
       "  </thead>\n",
       "  <tbody>\n",
       "    <tr>\n",
       "      <th>0</th>\n",
       "      <td>1</td>\n",
       "      <td>1</td>\n",
       "      <td>4.0</td>\n",
       "    </tr>\n",
       "    <tr>\n",
       "      <th>1</th>\n",
       "      <td>1</td>\n",
       "      <td>3</td>\n",
       "      <td>4.0</td>\n",
       "    </tr>\n",
       "    <tr>\n",
       "      <th>2</th>\n",
       "      <td>1</td>\n",
       "      <td>6</td>\n",
       "      <td>4.0</td>\n",
       "    </tr>\n",
       "    <tr>\n",
       "      <th>3</th>\n",
       "      <td>1</td>\n",
       "      <td>47</td>\n",
       "      <td>5.0</td>\n",
       "    </tr>\n",
       "    <tr>\n",
       "      <th>4</th>\n",
       "      <td>1</td>\n",
       "      <td>50</td>\n",
       "      <td>5.0</td>\n",
       "    </tr>\n",
       "  </tbody>\n",
       "</table>\n",
       "</div>"
      ],
      "text/plain": [
       "   userId  movieId  rating\n",
       "0       1        1     4.0\n",
       "1       1        3     4.0\n",
       "2       1        6     4.0\n",
       "3       1       47     5.0\n",
       "4       1       50     5.0"
      ]
     },
     "execution_count": 9,
     "metadata": {},
     "output_type": "execute_result"
    }
   ],
   "source": [
    "df.head()"
   ]
  },
  {
   "cell_type": "code",
   "execution_count": 10,
   "id": "44997ffd",
   "metadata": {},
   "outputs": [],
   "source": [
    "encoders = {\n",
    "    'user': preprocessing.LabelEncoder(),\n",
    "    'movie': preprocessing.LabelEncoder(),\n",
    "}"
   ]
  },
  {
   "cell_type": "code",
   "execution_count": 11,
   "id": "8cad0db4",
   "metadata": {},
   "outputs": [],
   "source": [
    "df['encoded_user'] = encoders['user'].fit_transform(df.userId)\n",
    "df['encoded_movie'] = encoders['movie'].fit_transform(df.movieId)"
   ]
  },
  {
   "cell_type": "code",
   "execution_count": 12,
   "id": "37247f7e",
   "metadata": {},
   "outputs": [
    {
     "data": {
      "text/plain": [
       "count    100836.000000\n",
       "mean        325.127564\n",
       "std         182.618491\n",
       "min           0.000000\n",
       "25%         176.000000\n",
       "50%         324.000000\n",
       "75%         476.000000\n",
       "max         609.000000\n",
       "Name: encoded_user, dtype: float64"
      ]
     },
     "execution_count": 12,
     "metadata": {},
     "output_type": "execute_result"
    }
   ],
   "source": [
    "df.encoded_user.describe()"
   ]
  },
  {
   "cell_type": "markdown",
   "id": "c5eb6359",
   "metadata": {},
   "source": [
    "## Graph construction\n",
    "Dataset`ratings_small`: rating as edge feature"
   ]
  },
  {
   "cell_type": "code",
   "execution_count": 13,
   "id": "35ac6723",
   "metadata": {},
   "outputs": [],
   "source": [
    "data_dict = {\n",
    "    ('user', 'rates', 'movie'): (torch.tensor(df.encoded_user), torch.tensor(df.encoded_movie))\n",
    "}\n",
    "\n",
    "#num_nodes_dict = {'user': df.userId.nunique(), 'movie': df.movieId.nunique()}\n",
    "\n",
    "g = dgl.heterograph(data_dict)"
   ]
  },
  {
   "cell_type": "code",
   "execution_count": 14,
   "id": "89396fcd",
   "metadata": {},
   "outputs": [
    {
     "data": {
      "text/plain": [
       "Graph(num_nodes={'movie': 9724, 'user': 610},\n",
       "      num_edges={('user', 'rates', 'movie'): 100836},\n",
       "      metagraph=[('user', 'movie', 'rates')])"
      ]
     },
     "execution_count": 14,
     "metadata": {},
     "output_type": "execute_result"
    }
   ],
   "source": [
    "g"
   ]
  },
  {
   "cell_type": "code",
   "execution_count": 15,
   "id": "94ded2bc",
   "metadata": {},
   "outputs": [],
   "source": [
    "g.edata['rating'] = torch.tensor(df.rating)"
   ]
  },
  {
   "cell_type": "markdown",
   "id": "38e4a631",
   "metadata": {},
   "source": [
    "## Training and test set\n",
    "https://docs.dgl.ai/tutorials/blitz/4_link_predict.html?highlight=split%20edge%20set%20training%20testing"
   ]
  },
  {
   "cell_type": "code",
   "execution_count": 16,
   "id": "fa67f1ef",
   "metadata": {},
   "outputs": [],
   "source": [
    "u, v = g.edges()\n",
    "\n",
    "eids = np.arange(g.number_of_edges())\n",
    "eids = np.random.permutation(eids)\n",
    "\n",
    "# 20% test\n",
    "test_size = int(len(eids) * 0.2)\n",
    "train_size = g.number_of_edges() - test_size\n",
    "\n",
    "\n",
    "train_pos_u, train_pos_v = u[eids[test_size:]], v[eids[test_size:]]\n",
    "test_pos_u, test_pos_v = u[eids[:test_size]], v[eids[:test_size]]"
   ]
  },
  {
   "cell_type": "markdown",
   "id": "246d736f",
   "metadata": {},
   "source": [
    "#### Negative sampling"
   ]
  },
  {
   "cell_type": "code",
   "execution_count": 17,
   "id": "d1d18b32",
   "metadata": {},
   "outputs": [],
   "source": [
    "# Find all negative edges and split them for training and testing\n",
    "adj = sp.coo_matrix((np.ones(len(u)), (u.numpy(), v.numpy())))\n",
    "adj_neg = -1*adj.todense()+1\n",
    "neg_u, neg_v = np.where(adj_neg != 0)\n",
    "\n",
    "neg_eids = np.random.choice(len(neg_u), g.number_of_edges())\n",
    "test_neg_u, test_neg_v = neg_u[neg_eids[:test_size]], neg_v[neg_eids[:test_size]]\n",
    "train_neg_u, train_neg_v = neg_u[neg_eids[test_size:]], neg_v[neg_eids[test_size:]]"
   ]
  },
  {
   "cell_type": "code",
   "execution_count": 18,
   "id": "b71c1e23",
   "metadata": {},
   "outputs": [],
   "source": [
    "assert adj.todense()[neg_u,neg_v].all() == 0"
   ]
  },
  {
   "cell_type": "code",
   "execution_count": 19,
   "id": "66550bd2",
   "metadata": {},
   "outputs": [],
   "source": [
    "train_g = dgl.remove_edges(g, eids[:test_size])"
   ]
  },
  {
   "cell_type": "markdown",
   "id": "12d517eb",
   "metadata": {},
   "source": [
    "## GNN Definition"
   ]
  },
  {
   "cell_type": "code",
   "execution_count": 20,
   "id": "2f37a7d3",
   "metadata": {},
   "outputs": [],
   "source": [
    "import dgl.function as fn"
   ]
  },
  {
   "cell_type": "code",
   "execution_count": 21,
   "id": "c1196c61",
   "metadata": {},
   "outputs": [],
   "source": [
    "class CustomGNN(nn.Module):\n",
    "    def __init__(self, in_dim, out_dim):\n",
    "        \n",
    "        super(CustomGNN, self).__init__()\n",
    "        \n",
    "        # Weights\n",
    "        self.user_w = nn.Parameter(torch.FloatTensor(in_dim,out_dim))\n",
    "        self.movie_w = nn.Parameter(torch.FloatTensor(in_dim,out_dim))\n",
    "        self.edge_w = nn.Parameter(torch.FloatTensor(1,out_dim))\n",
    "            \n",
    "        self.reset_parameters()\n",
    "        \n",
    "        \n",
    "    def reset_parameters(self):\n",
    "        gain = nn.init.calculate_gain('relu')\n",
    "        \n",
    "        #attention layer init\n",
    "        nn.init.xavier_normal_(self.user_w, gain=gain)\n",
    "        nn.init.xavier_normal_(self.movie_w, gain=gain)\n",
    "        nn.init.xavier_normal_(self.edge_w, gain=gain)\n",
    "        \n",
    "    def forward(self, g, user_feat, movie_feat, edge_features):\n",
    "        with g.local_scope():\n",
    "            g.ndata['feat'] = {'movie':movie_feat@self.movie_w, 'user':user_feat@self.user_w}\n",
    "            g.edata['e_feat'] = edge_features.view(-1,1).float()@self.edge_w\n",
    "            \n",
    "            g.update_all(fn.u_mul_e('feat', 'e_feat', 'm'), fn.mean('m', 'h_out'))\n",
    "            \n",
    "            # User nodes dont get updated in message passing\n",
    "            g.nodes['user'].data['h_out'] = g.ndata['feat']['user']\n",
    "            \n",
    "            return {ntype : g.nodes[ntype].data['h_out'] for ntype in g.ntypes}"
   ]
  },
  {
   "cell_type": "code",
   "execution_count": 22,
   "id": "d2aca90f",
   "metadata": {},
   "outputs": [],
   "source": [
    "user_feat = nn.Embedding(g.num_nodes('user'), 128)\n",
    "movie_feat = nn.Embedding(g.num_nodes('movie'), 128)"
   ]
  },
  {
   "cell_type": "code",
   "execution_count": 23,
   "id": "a2da183c",
   "metadata": {},
   "outputs": [],
   "source": [
    "gnn = CustomGNN(128, 256)"
   ]
  },
  {
   "cell_type": "code",
   "execution_count": 24,
   "id": "07d90b53",
   "metadata": {},
   "outputs": [],
   "source": [
    "out = gnn(g, user_feat.weight, movie_feat.weight, g.edata['rating'])"
   ]
  },
  {
   "cell_type": "code",
   "execution_count": 25,
   "id": "7deca261",
   "metadata": {},
   "outputs": [
    {
     "data": {
      "text/plain": [
       "torch.Size([9724, 256])"
      ]
     },
     "execution_count": 25,
     "metadata": {},
     "output_type": "execute_result"
    }
   ],
   "source": [
    "out['movie'].shape"
   ]
  },
  {
   "cell_type": "code",
   "execution_count": 26,
   "id": "a042c202",
   "metadata": {},
   "outputs": [
    {
     "data": {
      "text/plain": [
       "torch.Size([610, 256])"
      ]
     },
     "execution_count": 26,
     "metadata": {},
     "output_type": "execute_result"
    }
   ],
   "source": [
    "out['user'].shape"
   ]
  },
  {
   "cell_type": "markdown",
   "id": "e75e436b",
   "metadata": {},
   "source": [
    "#### Continue link prediction: dgl\n",
    "https://docs.dgl.ai/en/0.7.x/tutorials/blitz/4_link_predict.html<br>\n",
    "https://docs.dgl.ai/en/0.6.x/_modules/dgl/nn/pytorch/hetero.html"
   ]
  },
  {
   "cell_type": "code",
   "execution_count": 27,
   "id": "a8ec9008",
   "metadata": {},
   "outputs": [],
   "source": [
    "from dgl.nn.pytorch.hetero import HeteroGraphConv"
   ]
  },
  {
   "cell_type": "code",
   "execution_count": 28,
   "id": "ff997167",
   "metadata": {},
   "outputs": [],
   "source": [
    "conv = HeteroGraphConv({'rates' : dgl.nn.SAGEConv(256,256, aggregator_type='mean')})"
   ]
  },
  {
   "cell_type": "code",
   "execution_count": 29,
   "id": "8c81e58d",
   "metadata": {},
   "outputs": [
    {
     "data": {
      "text/plain": [
       "{'movie': tensor([[ 0.0764,  0.1014, -0.1377,  ...,  0.0535, -0.0706,  0.1194],\n",
       "         [-0.1057,  0.1146, -0.1099,  ..., -0.0080, -0.1842, -0.0786],\n",
       "         [-0.0094,  0.2508, -0.1189,  ...,  0.1302, -0.2630, -0.0063],\n",
       "         ...,\n",
       "         [ 1.4065,  1.1600, -0.0986,  ..., -1.9606,  1.0268, -1.9804],\n",
       "         [ 1.4065,  1.1600, -0.0986,  ..., -1.9606,  1.0268, -1.9804],\n",
       "         [ 1.4124, -0.1457, -0.3143,  ..., -0.2758, -2.5192, -2.3234]],\n",
       "        grad_fn=<SumBackward1>)}"
      ]
     },
     "execution_count": 29,
     "metadata": {},
     "output_type": "execute_result"
    }
   ],
   "source": [
    "conv(g, out)"
   ]
  },
  {
   "cell_type": "code",
   "execution_count": 30,
   "id": "a6f74a8a",
   "metadata": {},
   "outputs": [],
   "source": [
    "from dgl.nn import SAGEConv\n",
    "\n",
    "class GraphSAGEHetero(nn.Module):\n",
    "    def __init__(self, in_feats, h_feats):\n",
    "        super(GraphSAGEHetero, self).__init__()\n",
    "        self.conv = CustomGNN(in_feats, h_feats)\n",
    "        self.conv1 = HeteroGraphConv({'rates' : dgl.nn.SAGEConv(h_feats,h_feats, aggregator_type='mean')})\n",
    "        self.conv2 = HeteroGraphConv({'rates' : dgl.nn.SAGEConv(h_feats,h_feats, aggregator_type='mean')})\n",
    "    \n",
    "    def forward(self, g, user_feat, movie_feat, edge_features):\n",
    "        \n",
    "        out = self.conv(g, user_feat, movie_feat, edge_features)\n",
    "        \n",
    "        hidden = self.conv1(g, out)\n",
    "        hidden['user'] = out['user']\n",
    "        hidden['movie'] = F.relu(hidden['movie'])\n",
    "        \n",
    "        \n",
    "        h = self.conv2(g, hidden)\n",
    "        h['user'] = hidden['user']\n",
    "        \n",
    "        return h"
   ]
  },
  {
   "cell_type": "code",
   "execution_count": 31,
   "id": "0310e75b",
   "metadata": {},
   "outputs": [],
   "source": [
    "gnn = GraphSAGEHetero(128, 256)"
   ]
  },
  {
   "cell_type": "markdown",
   "id": "e4357ef4",
   "metadata": {},
   "source": [
    "---"
   ]
  },
  {
   "cell_type": "markdown",
   "id": "fc202d9e",
   "metadata": {},
   "source": [
    "#### Positive and Negative graph"
   ]
  },
  {
   "cell_type": "code",
   "execution_count": 32,
   "id": "c4624405",
   "metadata": {},
   "outputs": [],
   "source": [
    "train_pos_g = dgl.graph((train_pos_u, train_pos_v), num_nodes=g.number_of_nodes())\n",
    "train_neg_g = dgl.graph((train_neg_u, train_neg_v), num_nodes=g.number_of_nodes())\n",
    "\n",
    "test_pos_g = dgl.graph((test_pos_u, test_pos_v), num_nodes=g.number_of_nodes())\n",
    "test_neg_g = dgl.graph((test_neg_u, test_neg_v), num_nodes=g.number_of_nodes())"
   ]
  },
  {
   "cell_type": "markdown",
   "id": "deb42123",
   "metadata": {},
   "source": [
    "#### Pred test"
   ]
  },
  {
   "cell_type": "code",
   "execution_count": 33,
   "id": "59631be1",
   "metadata": {},
   "outputs": [],
   "source": [
    "class DotPredictor(nn.Module):\n",
    "    def forward(self, g, user_feat, movie_feat):\n",
    "        u, v = g.edges()\n",
    "        \n",
    "        dot = (user_feat[u]*movie_feat[v]).sum(1)\n",
    "        \n",
    "        return dot\n",
    "    \n",
    "    def predict(self, nodes_u, nodes_v):\n",
    "        return torch.sigmoid((nodes_u*nodes_v).sum(1))"
   ]
  },
  {
   "cell_type": "code",
   "execution_count": 34,
   "id": "a49d4515",
   "metadata": {
    "scrolled": true
   },
   "outputs": [],
   "source": [
    "gnn = GraphSAGEHetero(128, 256)\n",
    "out = gnn(train_g, user_feat.weight, movie_feat.weight, g.edata['rating'][eids[test_size:]])"
   ]
  },
  {
   "cell_type": "code",
   "execution_count": 35,
   "id": "b4422dc4",
   "metadata": {},
   "outputs": [
    {
     "data": {
      "text/plain": [
       "tensor([-14.4936,  -1.3872,  11.9105,  ...,  -3.3919, -10.7164,  10.6651],\n",
       "       grad_fn=<SumBackward1>)"
      ]
     },
     "execution_count": 35,
     "metadata": {},
     "output_type": "execute_result"
    }
   ],
   "source": [
    "pred = DotPredictor()\n",
    "pred(train_g, user_feat.weight, movie_feat.weight)"
   ]
  },
  {
   "cell_type": "code",
   "execution_count": 36,
   "id": "783af74b",
   "metadata": {},
   "outputs": [
    {
     "data": {
      "text/plain": [
       "(tensor([326, 118, 181,  ..., 198, 317, 566]),\n",
       " tensor([ 733, 3185, 1235,  ..., 5721, 2760, 8155]))"
      ]
     },
     "execution_count": 36,
     "metadata": {},
     "output_type": "execute_result"
    }
   ],
   "source": [
    "train_pos_g.edges()"
   ]
  },
  {
   "cell_type": "markdown",
   "id": "ec6a4df0",
   "metadata": {},
   "source": [
    "### Train loop"
   ]
  },
  {
   "cell_type": "code",
   "execution_count": 37,
   "id": "2e1265c5",
   "metadata": {},
   "outputs": [],
   "source": [
    "from sklearn.metrics import roc_auc_score\n",
    "from sklearn.metrics import recall_score\n",
    "from sklearn.metrics import precision_score"
   ]
  },
  {
   "cell_type": "code",
   "execution_count": 38,
   "id": "ed0bb6be",
   "metadata": {},
   "outputs": [],
   "source": [
    "\n",
    "\n",
    "# You can replace DotPredictor with MLPPredictor.\n",
    "#pred = MLPPredictor(hidden)\n",
    "\n",
    "def compute_loss(pos_score, neg_score):\n",
    "    scores = torch.cat([pos_score, neg_score])\n",
    "    labels = torch.cat([torch.ones(pos_score.shape[0]), torch.zeros(neg_score.shape[0])])\n",
    "    return F.binary_cross_entropy_with_logits(scores, labels)\n",
    "\n",
    "def compute_auc(pos_score, neg_score):\n",
    "    scores = torch.cat([pos_score, neg_score]).numpy()\n",
    "    labels = torch.cat(\n",
    "        [torch.ones(pos_score.shape[0]), torch.zeros(neg_score.shape[0])]).numpy()\n",
    "    return roc_auc_score(labels, scores)\n",
    "\n",
    "def compute_recall(pos_score, neg_score):\n",
    "    scores = torch.cat([pos_score, neg_score])\n",
    "    scores = torch.sigmoid(scores)\n",
    "    labels = torch.cat(\n",
    "        [torch.ones(pos_score.shape[0]), torch.zeros(neg_score.shape[0])]).numpy()\n",
    "    return recall_score(labels, torch.round(scores))\n",
    "\n",
    "def compute_precision(pos_score, neg_score):\n",
    "    scores = torch.cat([pos_score, neg_score])\n",
    "    scores = torch.sigmoid(scores)\n",
    "    labels = torch.cat(\n",
    "        [torch.ones(pos_score.shape[0]), torch.zeros(neg_score.shape[0])]).numpy()\n",
    "    return precision_score(labels, torch.round(scores))"
   ]
  },
  {
   "cell_type": "code",
   "execution_count": 51,
   "id": "c7018c63",
   "metadata": {},
   "outputs": [
    {
     "name": "stdout",
     "output_type": "stream",
     "text": [
      "In epoch 0, loss: 1.7425562143325806\n",
      "In epoch 5, loss: 1.576704502105713\n",
      "In epoch 10, loss: 1.4283771514892578\n",
      "In epoch 15, loss: 1.297072410583496\n",
      "In epoch 20, loss: 1.1816489696502686\n",
      "In epoch 25, loss: 1.0805715322494507\n",
      "In epoch 30, loss: 0.9921039342880249\n",
      "In epoch 35, loss: 0.9144470691680908\n",
      "In epoch 40, loss: 0.8458298444747925\n",
      "In epoch 45, loss: 0.7845719456672668\n",
      "In epoch 50, loss: 0.7291359901428223\n",
      "In epoch 55, loss: 0.6781813502311707\n",
      "In epoch 60, loss: 0.6306167244911194\n",
      "In epoch 65, loss: 0.5856469869613647\n",
      "In epoch 70, loss: 0.5427975058555603\n",
      "In epoch 75, loss: 0.5018985867500305\n",
      "In epoch 80, loss: 0.4630218744277954\n",
      "In epoch 85, loss: 0.42638102173805237\n",
      "In epoch 90, loss: 0.39221784472465515\n",
      "In epoch 95, loss: 0.36070623993873596\n",
      "In epoch 100, loss: 0.3319026231765747\n",
      "In epoch 105, loss: 0.3057484030723572\n",
      "In epoch 110, loss: 0.2820996940135956\n",
      "In epoch 115, loss: 0.2607637643814087\n",
      "In epoch 120, loss: 0.24153059720993042\n",
      "In epoch 125, loss: 0.22419339418411255\n",
      "In epoch 130, loss: 0.20855776965618134\n",
      "In epoch 135, loss: 0.1944437175989151\n",
      "In epoch 140, loss: 0.18168550729751587\n",
      "In epoch 145, loss: 0.17013177275657654\n",
      "In epoch 150, loss: 0.15964560210704803\n",
      "In epoch 155, loss: 0.1501041054725647\n",
      "In epoch 160, loss: 0.14139756560325623\n",
      "In epoch 165, loss: 0.13342909514904022\n",
      "In epoch 170, loss: 0.1261141449213028\n",
      "In epoch 175, loss: 0.11937931180000305\n",
      "In epoch 180, loss: 0.11316122114658356\n",
      "In epoch 185, loss: 0.10740497708320618\n",
      "In epoch 190, loss: 0.10206309705972672\n",
      "In epoch 195, loss: 0.09709437936544418\n",
      "AUC 0.8013272727542298\n",
      "Recall 0.8059701492537313\n",
      "Precision 0.7048874625959495\n"
     ]
    }
   ],
   "source": [
    "# ----------- 3. set up loss and optimizer -------------- #\n",
    "# in this case, loss will in training loop\n",
    "\n",
    "user_feat = nn.Embedding(g.num_nodes('user'), 16)\n",
    "movie_feat = nn.Embedding(g.num_nodes('movie'), 16)\n",
    "model = GraphSAGEHetero(16, 32)\n",
    "pred = DotPredictor()\n",
    "\n",
    "optimizer = torch.optim.Adam(itertools.chain(model.parameters(), \n",
    "                                             pred.parameters(), \n",
    "                                             user_feat.parameters(), \n",
    "                                             movie_feat.parameters()), \n",
    "                             lr=0.01)\n",
    "\n",
    "# ----------- 4. training -------------------------------- #\n",
    "all_logits = []\n",
    "for e in range(200):\n",
    "    # forward\n",
    "    h = model(train_g, user_feat.weight, movie_feat.weight, g.edata['rating'][eids[test_size:]])\n",
    "    pos_score = pred(train_g, user_feat.weight, movie_feat.weight)\n",
    "    neg_score = pred(train_neg_g, user_feat.weight, movie_feat.weight)\n",
    "    \n",
    "    loss = compute_loss(pos_score, neg_score)\n",
    "    \n",
    "    # backward\n",
    "    optimizer.zero_grad()\n",
    "    loss.backward()\n",
    "    optimizer.step()\n",
    "    \n",
    "    if e % 5 == 0:\n",
    "        print('In epoch {}, loss: {}'.format(e, loss))\n",
    "\n",
    "# ----------- 5. check results ------------------------ #\n",
    "from sklearn.metrics import roc_auc_score\n",
    "with torch.no_grad():\n",
    "    pos_score = pred(test_pos_g, user_feat.weight, movie_feat.weight)\n",
    "    neg_score = pred(test_neg_g, user_feat.weight, movie_feat.weight)\n",
    "    print('AUC', compute_auc(pos_score, neg_score))\n",
    "    print('Recall', compute_recall(pos_score, neg_score))\n",
    "    print('Precision', compute_precision(pos_score, neg_score))\n",
    "\n",
    "\n",
    "# Thumbnail credits: Link Prediction with Neo4j, Mark Needham\n",
    "# sphinx_gallery_thumbnail_path = '_static/blitz_4_link_predict.png'"
   ]
  },
  {
   "cell_type": "markdown",
   "id": "1450bd8c",
   "metadata": {},
   "source": [
    "## Testing"
   ]
  },
  {
   "cell_type": "markdown",
   "id": "4e46c8ab",
   "metadata": {},
   "source": [
    "#### Read movie data"
   ]
  },
  {
   "cell_type": "code",
   "execution_count": 52,
   "id": "543758fe",
   "metadata": {
    "scrolled": true
   },
   "outputs": [],
   "source": [
    "df_movies = pd.read_csv('movies.csv')"
   ]
  },
  {
   "cell_type": "markdown",
   "id": "0b1a3b21",
   "metadata": {},
   "source": [
    "#### Get embeddings"
   ]
  },
  {
   "cell_type": "code",
   "execution_count": 53,
   "id": "12fca16f",
   "metadata": {},
   "outputs": [],
   "source": [
    "with torch.no_grad():\n",
    "    features = model(g, user_feat.weight, movie_feat.weight, g.edata['rating'])"
   ]
  },
  {
   "cell_type": "code",
   "execution_count": 54,
   "id": "ba7c4892",
   "metadata": {},
   "outputs": [
    {
     "data": {
      "text/plain": [
       "torch.Size([610, 32])"
      ]
     },
     "execution_count": 54,
     "metadata": {},
     "output_type": "execute_result"
    }
   ],
   "source": [
    "features['user'].shape"
   ]
  },
  {
   "cell_type": "code",
   "execution_count": 55,
   "id": "d8eb9772",
   "metadata": {},
   "outputs": [
    {
     "data": {
      "text/plain": [
       "torch.Size([9724, 32])"
      ]
     },
     "execution_count": 55,
     "metadata": {},
     "output_type": "execute_result"
    }
   ],
   "source": [
    "features['movie'].shape"
   ]
  },
  {
   "cell_type": "markdown",
   "id": "14cdd1f7",
   "metadata": {},
   "source": [
    "#### Params"
   ]
  },
  {
   "cell_type": "code",
   "execution_count": 56,
   "id": "d2a89145",
   "metadata": {},
   "outputs": [],
   "source": [
    "k = 10"
   ]
  },
  {
   "cell_type": "markdown",
   "id": "a3c8e1bf",
   "metadata": {},
   "source": [
    "#### User id #0"
   ]
  },
  {
   "cell_type": "code",
   "execution_count": 71,
   "id": "55fb8870",
   "metadata": {},
   "outputs": [],
   "source": [
    "idx = 17\n",
    "\n",
    "user_emb = features['user'][idx]"
   ]
  },
  {
   "cell_type": "code",
   "execution_count": 72,
   "id": "0bf73a56",
   "metadata": {},
   "outputs": [],
   "source": [
    "top_k_user = df[df.encoded_user == idx][['movieId', 'rating']].sort_values('rating', ascending=False).iloc[:k]"
   ]
  },
  {
   "cell_type": "code",
   "execution_count": 73,
   "id": "c06ff9c3",
   "metadata": {},
   "outputs": [
    {
     "data": {
      "text/html": [
       "<div>\n",
       "<style scoped>\n",
       "    .dataframe tbody tr th:only-of-type {\n",
       "        vertical-align: middle;\n",
       "    }\n",
       "\n",
       "    .dataframe tbody tr th {\n",
       "        vertical-align: top;\n",
       "    }\n",
       "\n",
       "    .dataframe thead th {\n",
       "        text-align: right;\n",
       "    }\n",
       "</style>\n",
       "<table border=\"1\" class=\"dataframe\">\n",
       "  <thead>\n",
       "    <tr style=\"text-align: right;\">\n",
       "      <th></th>\n",
       "      <th>movieId</th>\n",
       "      <th>title</th>\n",
       "      <th>genres</th>\n",
       "    </tr>\n",
       "  </thead>\n",
       "  <tbody>\n",
       "    <tr>\n",
       "      <th>46</th>\n",
       "      <td>50</td>\n",
       "      <td>Usual Suspects, The (1995)</td>\n",
       "      <td>Crime|Mystery|Thriller</td>\n",
       "    </tr>\n",
       "    <tr>\n",
       "      <th>277</th>\n",
       "      <td>318</td>\n",
       "      <td>Shawshank Redemption, The (1994)</td>\n",
       "      <td>Crime|Drama</td>\n",
       "    </tr>\n",
       "    <tr>\n",
       "      <th>705</th>\n",
       "      <td>923</td>\n",
       "      <td>Citizen Kane (1941)</td>\n",
       "      <td>Drama|Mystery</td>\n",
       "    </tr>\n",
       "    <tr>\n",
       "      <th>903</th>\n",
       "      <td>1201</td>\n",
       "      <td>Good, the Bad and the Ugly, The (Buono, il bru...</td>\n",
       "      <td>Action|Adventure|Western</td>\n",
       "    </tr>\n",
       "    <tr>\n",
       "      <th>905</th>\n",
       "      <td>1203</td>\n",
       "      <td>12 Angry Men (1957)</td>\n",
       "      <td>Drama</td>\n",
       "    </tr>\n",
       "    <tr>\n",
       "      <th>910</th>\n",
       "      <td>1209</td>\n",
       "      <td>Once Upon a Time in the West (C'era una volta ...</td>\n",
       "      <td>Action|Drama|Western</td>\n",
       "    </tr>\n",
       "    <tr>\n",
       "      <th>922</th>\n",
       "      <td>1221</td>\n",
       "      <td>Godfather: Part II, The (1974)</td>\n",
       "      <td>Crime|Drama</td>\n",
       "    </tr>\n",
       "    <tr>\n",
       "      <th>2222</th>\n",
       "      <td>2951</td>\n",
       "      <td>Fistful of Dollars, A (Per un pugno di dollari...</td>\n",
       "      <td>Action|Western</td>\n",
       "    </tr>\n",
       "    <tr>\n",
       "      <th>2945</th>\n",
       "      <td>3949</td>\n",
       "      <td>Requiem for a Dream (2000)</td>\n",
       "      <td>Drama</td>\n",
       "    </tr>\n",
       "    <tr>\n",
       "      <th>8457</th>\n",
       "      <td>112334</td>\n",
       "      <td>Internet's Own Boy: The Story of Aaron Swartz,...</td>\n",
       "      <td>Documentary</td>\n",
       "    </tr>\n",
       "  </tbody>\n",
       "</table>\n",
       "</div>"
      ],
      "text/plain": [
       "      movieId                                              title  \\\n",
       "46         50                         Usual Suspects, The (1995)   \n",
       "277       318                   Shawshank Redemption, The (1994)   \n",
       "705       923                                Citizen Kane (1941)   \n",
       "903      1201  Good, the Bad and the Ugly, The (Buono, il bru...   \n",
       "905      1203                                12 Angry Men (1957)   \n",
       "910      1209  Once Upon a Time in the West (C'era una volta ...   \n",
       "922      1221                     Godfather: Part II, The (1974)   \n",
       "2222     2951  Fistful of Dollars, A (Per un pugno di dollari...   \n",
       "2945     3949                         Requiem for a Dream (2000)   \n",
       "8457   112334  Internet's Own Boy: The Story of Aaron Swartz,...   \n",
       "\n",
       "                        genres  \n",
       "46      Crime|Mystery|Thriller  \n",
       "277                Crime|Drama  \n",
       "705              Drama|Mystery  \n",
       "903   Action|Adventure|Western  \n",
       "905                      Drama  \n",
       "910       Action|Drama|Western  \n",
       "922                Crime|Drama  \n",
       "2222            Action|Western  \n",
       "2945                     Drama  \n",
       "8457               Documentary  "
      ]
     },
     "execution_count": 73,
     "metadata": {},
     "output_type": "execute_result"
    }
   ],
   "source": [
    "df_movies[df_movies.movieId.isin(top_k_user.movieId)]"
   ]
  },
  {
   "cell_type": "markdown",
   "id": "2ed8f43e",
   "metadata": {},
   "source": [
    "### Recommended movies"
   ]
  },
  {
   "cell_type": "code",
   "execution_count": 74,
   "id": "e2a8c11d",
   "metadata": {},
   "outputs": [],
   "source": [
    "prediction = pred.predict(user_emb.view(1,-1),features['movie'])\n",
    "prediction_index = prediction.topk(k).indices"
   ]
  },
  {
   "cell_type": "code",
   "execution_count": 75,
   "id": "b8e44028",
   "metadata": {},
   "outputs": [
    {
     "data": {
      "text/plain": [
       "<AxesSubplot:ylabel='Frequency'>"
      ]
     },
     "execution_count": 75,
     "metadata": {},
     "output_type": "execute_result"
    },
    {
     "data": {
      "image/png": "[encoded data removed]",
      "text/plain": [
       "<Figure size 432x288 with 1 Axes>"
      ]
     },
     "metadata": {
      "needs_background": "light"
     },
     "output_type": "display_data"
    }
   ],
   "source": [
    "pd.Series(prediction).plot.hist()"
   ]
  },
  {
   "cell_type": "code",
   "execution_count": 76,
   "id": "01b57c7a",
   "metadata": {},
   "outputs": [
    {
     "data": {
      "text/html": [
       "<div>\n",
       "<style scoped>\n",
       "    .dataframe tbody tr th:only-of-type {\n",
       "        vertical-align: middle;\n",
       "    }\n",
       "\n",
       "    .dataframe tbody tr th {\n",
       "        vertical-align: top;\n",
       "    }\n",
       "\n",
       "    .dataframe thead th {\n",
       "        text-align: right;\n",
       "    }\n",
       "</style>\n",
       "<table border=\"1\" class=\"dataframe\">\n",
       "  <thead>\n",
       "    <tr style=\"text-align: right;\">\n",
       "      <th></th>\n",
       "      <th>movieId</th>\n",
       "      <th>title</th>\n",
       "      <th>genres</th>\n",
       "    </tr>\n",
       "  </thead>\n",
       "  <tbody>\n",
       "    <tr>\n",
       "      <th>3</th>\n",
       "      <td>4</td>\n",
       "      <td>Waiting to Exhale (1995)</td>\n",
       "      <td>Comedy|Drama|Romance</td>\n",
       "    </tr>\n",
       "    <tr>\n",
       "      <th>36</th>\n",
       "      <td>40</td>\n",
       "      <td>Cry, the Beloved Country (1995)</td>\n",
       "      <td>Drama</td>\n",
       "    </tr>\n",
       "    <tr>\n",
       "      <th>50</th>\n",
       "      <td>55</td>\n",
       "      <td>Georgia (1995)</td>\n",
       "      <td>Drama</td>\n",
       "    </tr>\n",
       "    <tr>\n",
       "      <th>91</th>\n",
       "      <td>103</td>\n",
       "      <td>Unforgettable (1996)</td>\n",
       "      <td>Mystery|Sci-Fi|Thriller</td>\n",
       "    </tr>\n",
       "    <tr>\n",
       "      <th>102</th>\n",
       "      <td>117</td>\n",
       "      <td>Young Poisoner's Handbook, The (1995)</td>\n",
       "      <td>Crime|Drama</td>\n",
       "    </tr>\n",
       "    <tr>\n",
       "      <th>121</th>\n",
       "      <td>148</td>\n",
       "      <td>Awfully Big Adventure, An (1995)</td>\n",
       "      <td>Drama</td>\n",
       "    </tr>\n",
       "    <tr>\n",
       "      <th>188</th>\n",
       "      <td>220</td>\n",
       "      <td>Castle Freak (1995)</td>\n",
       "      <td>Horror</td>\n",
       "    </tr>\n",
       "    <tr>\n",
       "      <th>204</th>\n",
       "      <td>238</td>\n",
       "      <td>Far From Home: The Adventures of Yellow Dog (1...</td>\n",
       "      <td>Adventure|Children</td>\n",
       "    </tr>\n",
       "    <tr>\n",
       "      <th>207</th>\n",
       "      <td>241</td>\n",
       "      <td>Fluke (1995)</td>\n",
       "      <td>Children|Drama</td>\n",
       "    </tr>\n",
       "    <tr>\n",
       "      <th>233</th>\n",
       "      <td>271</td>\n",
       "      <td>Losing Isaiah (1995)</td>\n",
       "      <td>Drama</td>\n",
       "    </tr>\n",
       "  </tbody>\n",
       "</table>\n",
       "</div>"
      ],
      "text/plain": [
       "     movieId                                              title  \\\n",
       "3          4                           Waiting to Exhale (1995)   \n",
       "36        40                    Cry, the Beloved Country (1995)   \n",
       "50        55                                     Georgia (1995)   \n",
       "91       103                               Unforgettable (1996)   \n",
       "102      117              Young Poisoner's Handbook, The (1995)   \n",
       "121      148                   Awfully Big Adventure, An (1995)   \n",
       "188      220                                Castle Freak (1995)   \n",
       "204      238  Far From Home: The Adventures of Yellow Dog (1...   \n",
       "207      241                                       Fluke (1995)   \n",
       "233      271                               Losing Isaiah (1995)   \n",
       "\n",
       "                      genres  \n",
       "3       Comedy|Drama|Romance  \n",
       "36                     Drama  \n",
       "50                     Drama  \n",
       "91   Mystery|Sci-Fi|Thriller  \n",
       "102              Crime|Drama  \n",
       "121                    Drama  \n",
       "188                   Horror  \n",
       "204       Adventure|Children  \n",
       "207           Children|Drama  \n",
       "233                    Drama  "
      ]
     },
     "execution_count": 76,
     "metadata": {},
     "output_type": "execute_result"
    }
   ],
   "source": [
    "df_movies[df_movies.movieId.isin(encoders['movie'].inverse_transform(prediction_index))]"
   ]
  },
  {
   "cell_type": "code",
   "execution_count": 77,
   "id": "934c56d5",
   "metadata": {},
   "outputs": [
    {
     "data": {
      "text/html": [
       "<div>\n",
       "<style scoped>\n",
       "    .dataframe tbody tr th:only-of-type {\n",
       "        vertical-align: middle;\n",
       "    }\n",
       "\n",
       "    .dataframe tbody tr th {\n",
       "        vertical-align: top;\n",
       "    }\n",
       "\n",
       "    .dataframe thead th {\n",
       "        text-align: right;\n",
       "    }\n",
       "</style>\n",
       "<table border=\"1\" class=\"dataframe\">\n",
       "  <thead>\n",
       "    <tr style=\"text-align: right;\">\n",
       "      <th></th>\n",
       "      <th>movieId</th>\n",
       "      <th>title</th>\n",
       "      <th>genres</th>\n",
       "    </tr>\n",
       "  </thead>\n",
       "  <tbody>\n",
       "    <tr>\n",
       "      <th>46</th>\n",
       "      <td>50</td>\n",
       "      <td>Usual Suspects, The (1995)</td>\n",
       "      <td>Crime|Mystery|Thriller</td>\n",
       "    </tr>\n",
       "    <tr>\n",
       "      <th>277</th>\n",
       "      <td>318</td>\n",
       "      <td>Shawshank Redemption, The (1994)</td>\n",
       "      <td>Crime|Drama</td>\n",
       "    </tr>\n",
       "    <tr>\n",
       "      <th>705</th>\n",
       "      <td>923</td>\n",
       "      <td>Citizen Kane (1941)</td>\n",
       "      <td>Drama|Mystery</td>\n",
       "    </tr>\n",
       "    <tr>\n",
       "      <th>903</th>\n",
       "      <td>1201</td>\n",
       "      <td>Good, the Bad and the Ugly, The (Buono, il bru...</td>\n",
       "      <td>Action|Adventure|Western</td>\n",
       "    </tr>\n",
       "    <tr>\n",
       "      <th>905</th>\n",
       "      <td>1203</td>\n",
       "      <td>12 Angry Men (1957)</td>\n",
       "      <td>Drama</td>\n",
       "    </tr>\n",
       "    <tr>\n",
       "      <th>910</th>\n",
       "      <td>1209</td>\n",
       "      <td>Once Upon a Time in the West (C'era una volta ...</td>\n",
       "      <td>Action|Drama|Western</td>\n",
       "    </tr>\n",
       "    <tr>\n",
       "      <th>922</th>\n",
       "      <td>1221</td>\n",
       "      <td>Godfather: Part II, The (1974)</td>\n",
       "      <td>Crime|Drama</td>\n",
       "    </tr>\n",
       "    <tr>\n",
       "      <th>2222</th>\n",
       "      <td>2951</td>\n",
       "      <td>Fistful of Dollars, A (Per un pugno di dollari...</td>\n",
       "      <td>Action|Western</td>\n",
       "    </tr>\n",
       "    <tr>\n",
       "      <th>2945</th>\n",
       "      <td>3949</td>\n",
       "      <td>Requiem for a Dream (2000)</td>\n",
       "      <td>Drama</td>\n",
       "    </tr>\n",
       "    <tr>\n",
       "      <th>8457</th>\n",
       "      <td>112334</td>\n",
       "      <td>Internet's Own Boy: The Story of Aaron Swartz,...</td>\n",
       "      <td>Documentary</td>\n",
       "    </tr>\n",
       "  </tbody>\n",
       "</table>\n",
       "</div>"
      ],
      "text/plain": [
       "      movieId                                              title  \\\n",
       "46         50                         Usual Suspects, The (1995)   \n",
       "277       318                   Shawshank Redemption, The (1994)   \n",
       "705       923                                Citizen Kane (1941)   \n",
       "903      1201  Good, the Bad and the Ugly, The (Buono, il bru...   \n",
       "905      1203                                12 Angry Men (1957)   \n",
       "910      1209  Once Upon a Time in the West (C'era una volta ...   \n",
       "922      1221                     Godfather: Part II, The (1974)   \n",
       "2222     2951  Fistful of Dollars, A (Per un pugno di dollari...   \n",
       "2945     3949                         Requiem for a Dream (2000)   \n",
       "8457   112334  Internet's Own Boy: The Story of Aaron Swartz,...   \n",
       "\n",
       "                        genres  \n",
       "46      Crime|Mystery|Thriller  \n",
       "277                Crime|Drama  \n",
       "705              Drama|Mystery  \n",
       "903   Action|Adventure|Western  \n",
       "905                      Drama  \n",
       "910       Action|Drama|Western  \n",
       "922                Crime|Drama  \n",
       "2222            Action|Western  \n",
       "2945                     Drama  \n",
       "8457               Documentary  "
      ]
     },
     "execution_count": 77,
     "metadata": {},
     "output_type": "execute_result"
    }
   ],
   "source": [
    "df_movies[df_movies.movieId.isin(top_k_user.movieId)]"
   ]
  },
  {
   "cell_type": "code",
   "execution_count": null,
   "id": "fd7b4c01",
   "metadata": {},
   "outputs": [],
   "source": []
  },
  {
   "cell_type": "code",
   "execution_count": null,
   "id": "bed54501",
   "metadata": {},
   "outputs": [],
   "source": []
  }
 ],
 "metadata": {
  "kernelspec": {
   "display_name": "Python 3 (ipykernel)",
   "language": "python",
   "name": "python3"
  },
  "language_info": {
   "codemirror_mode": {
    "name": "ipython",
    "version": 3
   },
   "file_extension": ".py",
   "mimetype": "text/x-python",
   "name": "python",
   "nbconvert_exporter": "python",
   "pygments_lexer": "ipython3",
   "version": "3.8.8"
  }
 },
 "nbformat": 4,
 "nbformat_minor": 5
}
