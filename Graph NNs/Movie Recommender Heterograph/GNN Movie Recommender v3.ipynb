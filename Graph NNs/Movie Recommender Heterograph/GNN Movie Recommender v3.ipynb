{
 "cells": [
  {
   "cell_type": "code",
   "execution_count": 1,
   "id": "2ff242e3",
   "metadata": {},
   "outputs": [],
   "source": [
    "import pandas as pd\n",
    "import numpy as np"
   ]
  },
  {
   "cell_type": "code",
   "execution_count": 2,
   "id": "1287796b",
   "metadata": {},
   "outputs": [
    {
     "name": "stderr",
     "output_type": "stream",
     "text": [
      "Using backend: pytorch\n"
     ]
    }
   ],
   "source": [
    "import dgl\n",
    "import torch\n",
    "import torch.nn as nn\n",
    "import torch.nn.functional as F\n",
    "import itertools\n",
    "import numpy as np\n",
    "import scipy.sparse as sp"
   ]
  },
  {
   "cell_type": "code",
   "execution_count": 3,
   "id": "1f0a7e51",
   "metadata": {},
   "outputs": [],
   "source": [
    "import matplotlib.pyplot as plt"
   ]
  },
  {
   "cell_type": "code",
   "execution_count": 4,
   "id": "c0a8d63a",
   "metadata": {},
   "outputs": [],
   "source": [
    "from sklearn import preprocessing"
   ]
  },
  {
   "cell_type": "markdown",
   "id": "1bf1013f",
   "metadata": {},
   "source": [
    "### Resources\n",
    "https://www.kaggle.com/rounakbanik/the-movies-dataset<br>\n",
    "https://docs.dgl.ai/en/0.6.x/generated/dgl.DGLHeteroGraph.ndata.html?highlight=ndata#dgl.DGLHeteroGraph.ndata<br>\n",
    "https://docs.dgl.ai/en/0.6.x/generated/dgl.heterograph.html<br>\n",
    "https://docs.dgl.ai/en/0.6.x/guide/message-heterograph.html<br>\n",
    "https://docs.dgl.ai/en/0.6.x/tutorials/basics/5_hetero.html<br>"
   ]
  },
  {
   "cell_type": "code",
   "execution_count": 5,
   "id": "b0d6872c",
   "metadata": {},
   "outputs": [],
   "source": [
    "df = pd.read_csv('ratings.csv')"
   ]
  },
  {
   "cell_type": "code",
   "execution_count": 6,
   "id": "c9645954",
   "metadata": {},
   "outputs": [],
   "source": [
    "df.drop(columns=['timestamp'], inplace=True)"
   ]
  },
  {
   "cell_type": "code",
   "execution_count": 7,
   "id": "44997ffd",
   "metadata": {},
   "outputs": [],
   "source": [
    "encoders = {\n",
    "    'user': preprocessing.LabelEncoder(),\n",
    "    'movie': preprocessing.LabelEncoder(),\n",
    "}"
   ]
  },
  {
   "cell_type": "code",
   "execution_count": 8,
   "id": "8cad0db4",
   "metadata": {},
   "outputs": [],
   "source": [
    "df['encoded_user'] = encoders['user'].fit_transform(df.userId)\n",
    "df['encoded_movie'] = encoders['movie'].fit_transform(df.movieId)"
   ]
  },
  {
   "cell_type": "code",
   "execution_count": 9,
   "id": "d6cdf167",
   "metadata": {},
   "outputs": [
    {
     "data": {
      "text/plain": [
       "9724"
      ]
     },
     "execution_count": 9,
     "metadata": {},
     "output_type": "execute_result"
    }
   ],
   "source": [
    "df['encoded_movie'].nunique()"
   ]
  },
  {
   "cell_type": "markdown",
   "id": "c5eb6359",
   "metadata": {},
   "source": [
    "## Graph construction\n",
    "Dataset`ratings_small`: rating as edge feature<br>\n",
    "- user nodes will start at index `num_movies`"
   ]
  },
  {
   "cell_type": "code",
   "execution_count": 10,
   "id": "0025b855",
   "metadata": {},
   "outputs": [],
   "source": [
    "num_movies = df['encoded_movie'].nunique()"
   ]
  },
  {
   "cell_type": "code",
   "execution_count": 11,
   "id": "0f2662ff",
   "metadata": {},
   "outputs": [],
   "source": [
    "df['encoded_user'] = df['encoded_user'].apply(lambda x: x+num_movies)"
   ]
  },
  {
   "cell_type": "code",
   "execution_count": 12,
   "id": "35ac6723",
   "metadata": {},
   "outputs": [],
   "source": [
    "g = dgl.graph((torch.tensor(pd.concat([df.encoded_user,df.encoded_movie]).tolist()), \n",
    "               torch.tensor(pd.concat([df.encoded_movie,df.encoded_user]).tolist())))"
   ]
  },
  {
   "cell_type": "code",
   "execution_count": 13,
   "id": "94ded2bc",
   "metadata": {},
   "outputs": [],
   "source": [
    "g.edata['rating'] = torch.tensor(pd.concat([df.rating,df.rating]).tolist())"
   ]
  },
  {
   "cell_type": "markdown",
   "id": "38e4a631",
   "metadata": {},
   "source": [
    "## Training and test set\n",
    "https://docs.dgl.ai/tutorials/blitz/4_link_predict.html?highlight=split%20edge%20set%20training%20testing"
   ]
  },
  {
   "cell_type": "code",
   "execution_count": 14,
   "id": "fa67f1ef",
   "metadata": {},
   "outputs": [],
   "source": [
    "u, v = g.edges()\n",
    "\n",
    "eids = np.arange(g.number_of_edges())\n",
    "eids = np.random.permutation(eids)\n",
    "\n",
    "# 20% test\n",
    "test_size = int(len(eids) * 0.1)\n",
    "train_size = g.number_of_edges() - test_size\n",
    "\n",
    "\n",
    "train_pos_u, train_pos_v = u[eids[test_size:]], v[eids[test_size:]]\n",
    "test_pos_u, test_pos_v = u[eids[:test_size]], v[eids[:test_size]]"
   ]
  },
  {
   "cell_type": "markdown",
   "id": "246d736f",
   "metadata": {},
   "source": [
    "#### Negative sampling"
   ]
  },
  {
   "cell_type": "code",
   "execution_count": 15,
   "id": "d1d18b32",
   "metadata": {},
   "outputs": [],
   "source": [
    "# Find all negative edges and split them for training and testing\n",
    "adj = sp.coo_matrix((np.ones(len(u)), (u.numpy(), v.numpy())))\n",
    "adj_neg = 1 - adj.todense() - np.eye(g.number_of_nodes())\n",
    "neg_u, neg_v = np.where(adj_neg != 0)\n",
    "\n",
    "neg_eids = np.random.choice(len(neg_u), g.number_of_edges())\n",
    "test_neg_u, test_neg_v = neg_u[neg_eids[:test_size]], neg_v[neg_eids[:test_size]]\n",
    "train_neg_u, train_neg_v = neg_u[neg_eids[test_size:]], neg_v[neg_eids[test_size:]]"
   ]
  },
  {
   "cell_type": "code",
   "execution_count": 16,
   "id": "b71c1e23",
   "metadata": {},
   "outputs": [],
   "source": [
    "assert adj.todense()[neg_u,neg_v].all() == 0"
   ]
  },
  {
   "cell_type": "code",
   "execution_count": 17,
   "id": "66550bd2",
   "metadata": {},
   "outputs": [],
   "source": [
    "train_g = dgl.remove_edges(g, eids[:test_size])"
   ]
  },
  {
   "cell_type": "markdown",
   "id": "12d517eb",
   "metadata": {},
   "source": [
    "## GNN Definition"
   ]
  },
  {
   "cell_type": "code",
   "execution_count": 18,
   "id": "2f37a7d3",
   "metadata": {},
   "outputs": [],
   "source": [
    "import dgl.function as fn"
   ]
  },
  {
   "cell_type": "code",
   "execution_count": 19,
   "id": "c1196c61",
   "metadata": {},
   "outputs": [],
   "source": [
    "class CustomGNN(nn.Module):\n",
    "    def __init__(self, in_dim, out_dim):\n",
    "        \n",
    "        super(CustomGNN, self).__init__()\n",
    "        \n",
    "        # Weights\n",
    "        self.user_w = nn.Parameter(torch.FloatTensor(in_dim,out_dim))\n",
    "        self.movie_w = nn.Parameter(torch.FloatTensor(in_dim,out_dim))\n",
    "        self.edge_w = nn.Parameter(torch.FloatTensor(1,out_dim))\n",
    "            \n",
    "        self.reset_parameters()\n",
    "        \n",
    "        \n",
    "    def reset_parameters(self):\n",
    "        gain = nn.init.calculate_gain('relu')\n",
    "        \n",
    "        #attention layer init\n",
    "        nn.init.xavier_normal_(self.user_w, gain=gain)\n",
    "        nn.init.xavier_normal_(self.movie_w, gain=gain)\n",
    "        nn.init.xavier_normal_(self.edge_w, gain=gain)\n",
    "        \n",
    "    def forward(self, g, user_feat, movie_feat, edge_features):\n",
    "        with g.local_scope():\n",
    "            feat = torch.cat([movie_feat@self.movie_w, user_feat@self.user_w], dim=0)\n",
    "            g.ndata['feat'] = feat\n",
    "            g.edata['e_feat'] = edge_features.view(-1,1).float()@self.edge_w\n",
    "            \n",
    "            g.update_all(fn.u_mul_e('feat', 'e_feat', 'm'), fn.mean('m', 'h_out'))\n",
    "            \n",
    "            return g.ndata['h_out']"
   ]
  },
  {
   "cell_type": "code",
   "execution_count": 20,
   "id": "d2aca90f",
   "metadata": {},
   "outputs": [],
   "source": [
    "movie_feat = nn.Embedding(num_movies, 128)\n",
    "user_feat = nn.Embedding(g.num_nodes()-num_movies, 128)"
   ]
  },
  {
   "cell_type": "code",
   "execution_count": 21,
   "id": "a2da183c",
   "metadata": {},
   "outputs": [],
   "source": [
    "gnn = CustomGNN(128, 256)"
   ]
  },
  {
   "cell_type": "code",
   "execution_count": 22,
   "id": "07d90b53",
   "metadata": {},
   "outputs": [],
   "source": [
    "out = gnn(g, user_feat.weight, movie_feat.weight, g.edata['rating'])"
   ]
  },
  {
   "cell_type": "code",
   "execution_count": 23,
   "id": "7deca261",
   "metadata": {},
   "outputs": [
    {
     "data": {
      "text/plain": [
       "torch.Size([10334, 256])"
      ]
     },
     "execution_count": 23,
     "metadata": {},
     "output_type": "execute_result"
    }
   ],
   "source": [
    "out.shape"
   ]
  },
  {
   "cell_type": "markdown",
   "id": "e75e436b",
   "metadata": {},
   "source": [
    "#### Continue link prediction: dgl\n",
    "https://docs.dgl.ai/en/0.7.x/tutorials/blitz/4_link_predict.html<br>\n",
    "https://docs.dgl.ai/en/0.6.x/_modules/dgl/nn/pytorch/hetero.html"
   ]
  },
  {
   "cell_type": "code",
   "execution_count": 24,
   "id": "a6f74a8a",
   "metadata": {},
   "outputs": [],
   "source": [
    "from dgl.nn import SAGEConv\n",
    "\n",
    "class CustomGraphSAGE(nn.Module):\n",
    "    def __init__(self, in_feats, h_feats):\n",
    "        super(CustomGraphSAGE, self).__init__()\n",
    "        self.conv = CustomGNN(in_feats, h_feats)\n",
    "        self.conv1 = dgl.nn.SAGEConv(h_feats,h_feats, aggregator_type='mean')\n",
    "        self.conv2 = dgl.nn.SAGEConv(h_feats,h_feats, aggregator_type='mean')\n",
    "    \n",
    "    def forward(self, g, user_feat, movie_feat, edge_features):\n",
    "        \n",
    "        h = self.conv(g, user_feat, movie_feat, edge_features)\n",
    "        \n",
    "        h = F.leaky_relu(self.conv1(g, h))\n",
    "        h = self.conv2(g, h)\n",
    "        \n",
    "        return h"
   ]
  },
  {
   "cell_type": "code",
   "execution_count": 25,
   "id": "0310e75b",
   "metadata": {},
   "outputs": [],
   "source": [
    "gnn = CustomGraphSAGE(128, 256)"
   ]
  },
  {
   "cell_type": "markdown",
   "id": "e4357ef4",
   "metadata": {},
   "source": [
    "---"
   ]
  },
  {
   "cell_type": "markdown",
   "id": "fc202d9e",
   "metadata": {},
   "source": [
    "#### Positive and Negative graph"
   ]
  },
  {
   "cell_type": "code",
   "execution_count": 26,
   "id": "c4624405",
   "metadata": {},
   "outputs": [],
   "source": [
    "train_pos_g = dgl.graph((train_pos_u, train_pos_v), num_nodes=g.number_of_nodes())\n",
    "train_neg_g = dgl.graph((train_neg_u, train_neg_v), num_nodes=g.number_of_nodes())\n",
    "\n",
    "test_pos_g = dgl.graph((test_pos_u, test_pos_v), num_nodes=g.number_of_nodes())\n",
    "test_neg_g = dgl.graph((test_neg_u, test_neg_v), num_nodes=g.number_of_nodes())"
   ]
  },
  {
   "cell_type": "markdown",
   "id": "deb42123",
   "metadata": {},
   "source": [
    "#### Pred test"
   ]
  },
  {
   "cell_type": "code",
   "execution_count": 27,
   "id": "59631be1",
   "metadata": {},
   "outputs": [],
   "source": [
    "class DotPredictor(nn.Module):\n",
    "    def forward(self, g, user_feat, movie_feat):\n",
    "        u, v = g.edges()\n",
    "        feat = torch.cat([movie_feat, user_feat],dim=0)\n",
    "  \n",
    "        dot = (feat[u]*feat[v]).sum(1)\n",
    "        \n",
    "        return dot\n",
    "    \n",
    "    def predict(self, nodes_u, nodes_v):\n",
    "        return (nodes_u*nodes_v).sum(1)"
   ]
  },
  {
   "cell_type": "code",
   "execution_count": 28,
   "id": "a49d4515",
   "metadata": {},
   "outputs": [],
   "source": [
    "gnn = CustomGraphSAGE(128, 256)\n",
    "out = gnn(train_g, user_feat.weight, movie_feat.weight, g.edata['rating'][eids[test_size:]])"
   ]
  },
  {
   "cell_type": "code",
   "execution_count": 29,
   "id": "b4422dc4",
   "metadata": {},
   "outputs": [
    {
     "data": {
      "text/plain": [
       "tensor([  0.0417,  16.9403, -10.7178,  ..., -13.3203,  -9.9854,  -6.4143],\n",
       "       grad_fn=<SumBackward1>)"
      ]
     },
     "execution_count": 29,
     "metadata": {},
     "output_type": "execute_result"
    }
   ],
   "source": [
    "pred = DotPredictor()\n",
    "pred(train_g, user_feat.weight, movie_feat.weight)"
   ]
  },
  {
   "cell_type": "code",
   "execution_count": 30,
   "id": "783af74b",
   "metadata": {},
   "outputs": [
    {
     "data": {
      "text/plain": [
       "(tensor([  876,    99,  1383,  ...,  2038, 10030,  1696]),\n",
       " tensor([ 9751, 10161,  9834,  ..., 10323,  1477, 10331]))"
      ]
     },
     "execution_count": 30,
     "metadata": {},
     "output_type": "execute_result"
    }
   ],
   "source": [
    "train_pos_g.edges()"
   ]
  },
  {
   "cell_type": "markdown",
   "id": "ec6a4df0",
   "metadata": {},
   "source": [
    "### Train loop"
   ]
  },
  {
   "cell_type": "code",
   "execution_count": 31,
   "id": "2e1265c5",
   "metadata": {},
   "outputs": [],
   "source": [
    "from sklearn.metrics import roc_auc_score\n",
    "from sklearn.metrics import recall_score\n",
    "from sklearn.metrics import precision_score"
   ]
  },
  {
   "cell_type": "code",
   "execution_count": 32,
   "id": "ed0bb6be",
   "metadata": {},
   "outputs": [],
   "source": [
    "\n",
    "\n",
    "# You can replace DotPredictor with MLPPredictor.\n",
    "#pred = MLPPredictor(hidden)\n",
    "\n",
    "def compute_loss(pos_score, neg_score):\n",
    "    scores = torch.cat([pos_score, neg_score])\n",
    "    labels = torch.cat([torch.ones(pos_score.shape[0]), torch.zeros(neg_score.shape[0])])\n",
    "    return F.binary_cross_entropy_with_logits(scores, labels)\n",
    "\n",
    "def compute_auc(pos_score, neg_score):\n",
    "    scores = torch.cat([pos_score, neg_score]).numpy()\n",
    "    labels = torch.cat(\n",
    "        [torch.ones(pos_score.shape[0]), torch.zeros(neg_score.shape[0])]).numpy()\n",
    "    return roc_auc_score(labels, scores)\n",
    "\n",
    "def compute_recall(pos_score, neg_score):\n",
    "    scores = torch.cat([pos_score, neg_score])\n",
    "    scores = torch.sigmoid(scores)\n",
    "    labels = torch.cat(\n",
    "        [torch.ones(pos_score.shape[0]), torch.zeros(neg_score.shape[0])]).numpy()\n",
    "    return recall_score(labels, torch.round(scores))\n",
    "\n",
    "def compute_precision(pos_score, neg_score):\n",
    "    scores = torch.cat([pos_score, neg_score])\n",
    "    scores = torch.sigmoid(scores)\n",
    "    labels = torch.cat(\n",
    "        [torch.ones(pos_score.shape[0]), torch.zeros(neg_score.shape[0])]).numpy()\n",
    "    return precision_score(labels, torch.round(scores))"
   ]
  },
  {
   "cell_type": "code",
   "execution_count": 33,
   "id": "c7018c63",
   "metadata": {},
   "outputs": [
    {
     "name": "stdout",
     "output_type": "stream",
     "text": [
      "In epoch 0, loss: 1.7419315576553345\n",
      "In epoch 5, loss: 1.592404842376709\n",
      "In epoch 10, loss: 1.4575860500335693\n",
      "In epoch 15, loss: 1.3370778560638428\n",
      "In epoch 20, loss: 1.2299449443817139\n",
      "In epoch 25, loss: 1.1349045038223267\n",
      "In epoch 30, loss: 1.0504579544067383\n",
      "In epoch 35, loss: 0.9749794006347656\n",
      "In epoch 40, loss: 0.9067851901054382\n",
      "In epoch 45, loss: 0.8442169427871704\n",
      "In epoch 50, loss: 0.7857599258422852\n",
      "In epoch 55, loss: 0.7302049994468689\n",
      "In epoch 60, loss: 0.6768277883529663\n",
      "In epoch 65, loss: 0.6255128383636475\n",
      "In epoch 70, loss: 0.5767337679862976\n",
      "In epoch 75, loss: 0.5313361883163452\n",
      "In epoch 80, loss: 0.49018317461013794\n",
      "In epoch 85, loss: 0.4538209140300751\n",
      "In epoch 90, loss: 0.42231225967407227\n",
      "In epoch 95, loss: 0.39527902007102966\n",
      "In epoch 100, loss: 0.3720821142196655\n",
      "In epoch 105, loss: 0.3520187437534332\n",
      "In epoch 110, loss: 0.3344521224498749\n",
      "In epoch 115, loss: 0.3188636004924774\n",
      "In epoch 120, loss: 0.3048524260520935\n",
      "In epoch 125, loss: 0.29211530089378357\n",
      "In epoch 130, loss: 0.2804233729839325\n",
      "In epoch 135, loss: 0.26960286498069763\n",
      "In epoch 140, loss: 0.2595202326774597\n",
      "In epoch 145, loss: 0.25007176399230957\n",
      "In epoch 150, loss: 0.24117574095726013\n",
      "In epoch 155, loss: 0.2327662706375122\n",
      "In epoch 160, loss: 0.22478963434696198\n",
      "In epoch 165, loss: 0.21720147132873535\n",
      "In epoch 170, loss: 0.20996485650539398\n",
      "In epoch 175, loss: 0.2030487209558487\n",
      "In epoch 180, loss: 0.1964266449213028\n",
      "In epoch 185, loss: 0.19007614254951477\n",
      "In epoch 190, loss: 0.1839778870344162\n",
      "In epoch 195, loss: 0.17811529338359833\n",
      "AUC 0.7918636181163429\n",
      "Recall 0.9419348440521644\n",
      "Precision 0.6512616566099836\n"
     ]
    }
   ],
   "source": [
    "# ----------- 3. set up loss and optimizer -------------- #\n",
    "# in this case, loss will in training loop\n",
    "\n",
    "movie_feat = nn.Embedding(num_movies, 16)\n",
    "user_feat = nn.Embedding(g.num_nodes()-num_movies, 16)\n",
    "model = CustomGraphSAGE(16, 32)\n",
    "pred = DotPredictor()\n",
    "\n",
    "optimizer = torch.optim.Adam(itertools.chain(model.parameters(), \n",
    "                                             pred.parameters(), \n",
    "                                             user_feat.parameters(), \n",
    "                                             movie_feat.parameters()), \n",
    "                             lr=0.01)\n",
    "\n",
    "# ----------- 4. training -------------------------------- #\n",
    "all_logits = []\n",
    "for e in range(200):\n",
    "    # forward\n",
    "    h = model(train_g, user_feat.weight, movie_feat.weight, g.edata['rating'][eids[test_size:]])\n",
    "    pos_score = pred(train_g, user_feat.weight, movie_feat.weight)\n",
    "    neg_score = pred(train_neg_g, user_feat.weight, movie_feat.weight)\n",
    "    \n",
    "    loss = compute_loss(pos_score, neg_score)\n",
    "    \n",
    "    # backward\n",
    "    optimizer.zero_grad()\n",
    "    loss.backward()\n",
    "    optimizer.step()\n",
    "    \n",
    "    if e % 5 == 0:\n",
    "        print('In epoch {}, loss: {}'.format(e, loss))\n",
    "\n",
    "# ----------- 5. check results ------------------------ #\n",
    "from sklearn.metrics import roc_auc_score\n",
    "with torch.no_grad():\n",
    "    pos_score = pred(test_pos_g, user_feat.weight, movie_feat.weight)\n",
    "    neg_score = pred(test_neg_g, user_feat.weight, movie_feat.weight)\n",
    "    print('AUC', compute_auc(pos_score, neg_score))\n",
    "    print('Recall', compute_recall(pos_score, neg_score))\n",
    "    print('Precision', compute_precision(pos_score, neg_score))\n",
    "\n",
    "\n",
    "# Thumbnail credits: Link Prediction with Neo4j, Mark Needham\n",
    "# sphinx_gallery_thumbnail_path = '_static/blitz_4_link_predict.png'"
   ]
  },
  {
   "cell_type": "markdown",
   "id": "1450bd8c",
   "metadata": {},
   "source": [
    "## Testing"
   ]
  },
  {
   "cell_type": "markdown",
   "id": "4e46c8ab",
   "metadata": {},
   "source": [
    "#### Read movie data"
   ]
  },
  {
   "cell_type": "code",
   "execution_count": 34,
   "id": "543758fe",
   "metadata": {
    "scrolled": true
   },
   "outputs": [],
   "source": [
    "df_movies = pd.read_csv('movies.csv')"
   ]
  },
  {
   "cell_type": "markdown",
   "id": "0b1a3b21",
   "metadata": {},
   "source": [
    "#### Get embeddings"
   ]
  },
  {
   "cell_type": "code",
   "execution_count": 35,
   "id": "12fca16f",
   "metadata": {},
   "outputs": [],
   "source": [
    "with torch.no_grad():\n",
    "    features = model(g, user_feat.weight, movie_feat.weight, g.edata['rating'])"
   ]
  },
  {
   "cell_type": "code",
   "execution_count": 36,
   "id": "ba7c4892",
   "metadata": {},
   "outputs": [
    {
     "data": {
      "text/plain": [
       "torch.Size([10334, 32])"
      ]
     },
     "execution_count": 36,
     "metadata": {},
     "output_type": "execute_result"
    }
   ],
   "source": [
    "features.shape"
   ]
  },
  {
   "cell_type": "markdown",
   "id": "14cdd1f7",
   "metadata": {},
   "source": [
    "#### Params"
   ]
  },
  {
   "cell_type": "code",
   "execution_count": 37,
   "id": "d2a89145",
   "metadata": {},
   "outputs": [],
   "source": [
    "k = 10"
   ]
  },
  {
   "cell_type": "markdown",
   "id": "a3c8e1bf",
   "metadata": {},
   "source": [
    "#### User id #0"
   ]
  },
  {
   "cell_type": "code",
   "execution_count": 48,
   "id": "55fb8870",
   "metadata": {},
   "outputs": [],
   "source": [
    "idx = 13\n",
    "\n",
    "user_emb = features[num_movies:][idx]"
   ]
  },
  {
   "cell_type": "code",
   "execution_count": 49,
   "id": "0bf73a56",
   "metadata": {},
   "outputs": [],
   "source": [
    "top_k_user = df[df.encoded_user == (idx+num_movies)][['movieId', 'rating']].sort_values('rating', ascending=False).iloc[:k]"
   ]
  },
  {
   "cell_type": "code",
   "execution_count": 50,
   "id": "c06ff9c3",
   "metadata": {},
   "outputs": [
    {
     "data": {
      "text/html": [
       "<div>\n",
       "<style scoped>\n",
       "    .dataframe tbody tr th:only-of-type {\n",
       "        vertical-align: middle;\n",
       "    }\n",
       "\n",
       "    .dataframe tbody tr th {\n",
       "        vertical-align: top;\n",
       "    }\n",
       "\n",
       "    .dataframe thead th {\n",
       "        text-align: right;\n",
       "    }\n",
       "</style>\n",
       "<table border=\"1\" class=\"dataframe\">\n",
       "  <thead>\n",
       "    <tr style=\"text-align: right;\">\n",
       "      <th></th>\n",
       "      <th>movieId</th>\n",
       "      <th>title</th>\n",
       "      <th>genres</th>\n",
       "    </tr>\n",
       "  </thead>\n",
       "  <tbody>\n",
       "    <tr>\n",
       "      <th>43</th>\n",
       "      <td>47</td>\n",
       "      <td>Seven (a.k.a. Se7en) (1995)</td>\n",
       "      <td>Mystery|Thriller</td>\n",
       "    </tr>\n",
       "    <tr>\n",
       "      <th>84</th>\n",
       "      <td>95</td>\n",
       "      <td>Broken Arrow (1996)</td>\n",
       "      <td>Action|Adventure|Thriller</td>\n",
       "    </tr>\n",
       "    <tr>\n",
       "      <th>97</th>\n",
       "      <td>110</td>\n",
       "      <td>Braveheart (1995)</td>\n",
       "      <td>Action|Drama|War</td>\n",
       "    </tr>\n",
       "    <tr>\n",
       "      <th>229</th>\n",
       "      <td>266</td>\n",
       "      <td>Legends of the Fall (1994)</td>\n",
       "      <td>Drama|Romance|War|Western</td>\n",
       "    </tr>\n",
       "    <tr>\n",
       "      <th>244</th>\n",
       "      <td>282</td>\n",
       "      <td>Nell (1994)</td>\n",
       "      <td>Drama</td>\n",
       "    </tr>\n",
       "    <tr>\n",
       "      <th>295</th>\n",
       "      <td>337</td>\n",
       "      <td>What's Eating Gilbert Grape (1993)</td>\n",
       "      <td>Drama</td>\n",
       "    </tr>\n",
       "    <tr>\n",
       "      <th>297</th>\n",
       "      <td>339</td>\n",
       "      <td>While You Were Sleeping (1995)</td>\n",
       "      <td>Comedy|Romance</td>\n",
       "    </tr>\n",
       "    <tr>\n",
       "      <th>333</th>\n",
       "      <td>376</td>\n",
       "      <td>River Wild, The (1994)</td>\n",
       "      <td>Action|Thriller</td>\n",
       "    </tr>\n",
       "    <tr>\n",
       "      <th>444</th>\n",
       "      <td>509</td>\n",
       "      <td>Piano, The (1993)</td>\n",
       "      <td>Drama|Romance</td>\n",
       "    </tr>\n",
       "    <tr>\n",
       "      <th>472</th>\n",
       "      <td>539</td>\n",
       "      <td>Sleepless in Seattle (1993)</td>\n",
       "      <td>Comedy|Drama|Romance</td>\n",
       "    </tr>\n",
       "  </tbody>\n",
       "</table>\n",
       "</div>"
      ],
      "text/plain": [
       "     movieId                               title                     genres\n",
       "43        47         Seven (a.k.a. Se7en) (1995)           Mystery|Thriller\n",
       "84        95                 Broken Arrow (1996)  Action|Adventure|Thriller\n",
       "97       110                   Braveheart (1995)           Action|Drama|War\n",
       "229      266          Legends of the Fall (1994)  Drama|Romance|War|Western\n",
       "244      282                         Nell (1994)                      Drama\n",
       "295      337  What's Eating Gilbert Grape (1993)                      Drama\n",
       "297      339      While You Were Sleeping (1995)             Comedy|Romance\n",
       "333      376              River Wild, The (1994)            Action|Thriller\n",
       "444      509                   Piano, The (1993)              Drama|Romance\n",
       "472      539         Sleepless in Seattle (1993)       Comedy|Drama|Romance"
      ]
     },
     "execution_count": 50,
     "metadata": {},
     "output_type": "execute_result"
    }
   ],
   "source": [
    "df_movies[df_movies.movieId.isin(top_k_user.movieId)]"
   ]
  },
  {
   "cell_type": "markdown",
   "id": "2ed8f43e",
   "metadata": {},
   "source": [
    "### Recommended movies"
   ]
  },
  {
   "cell_type": "code",
   "execution_count": 51,
   "id": "e2a8c11d",
   "metadata": {},
   "outputs": [],
   "source": [
    "prediction = pred.predict(user_emb.view(1,-1),features[:num_movies])\n",
    "prediction_index = prediction.topk(k).indices"
   ]
  },
  {
   "cell_type": "code",
   "execution_count": 52,
   "id": "c3bcd605",
   "metadata": {},
   "outputs": [
    {
     "data": {
      "text/plain": [
       "<AxesSubplot:ylabel='Frequency'>"
      ]
     },
     "execution_count": 52,
     "metadata": {},
     "output_type": "execute_result"
    },
    {
     "data": {
      "image/png": "[encoded data removed]",
      "text/plain": [
       "<Figure size 432x288 with 1 Axes>"
      ]
     },
     "metadata": {
      "needs_background": "light"
     },
     "output_type": "display_data"
    }
   ],
   "source": [
    "pd.Series(prediction).plot.hist()"
   ]
  },
  {
   "cell_type": "code",
   "execution_count": 53,
   "id": "01b57c7a",
   "metadata": {},
   "outputs": [
    {
     "data": {
      "text/html": [
       "<div>\n",
       "<style scoped>\n",
       "    .dataframe tbody tr th:only-of-type {\n",
       "        vertical-align: middle;\n",
       "    }\n",
       "\n",
       "    .dataframe tbody tr th {\n",
       "        vertical-align: top;\n",
       "    }\n",
       "\n",
       "    .dataframe thead th {\n",
       "        text-align: right;\n",
       "    }\n",
       "</style>\n",
       "<table border=\"1\" class=\"dataframe\">\n",
       "  <thead>\n",
       "    <tr style=\"text-align: right;\">\n",
       "      <th></th>\n",
       "      <th>movieId</th>\n",
       "      <th>title</th>\n",
       "      <th>genres</th>\n",
       "    </tr>\n",
       "  </thead>\n",
       "  <tbody>\n",
       "    <tr>\n",
       "      <th>1130</th>\n",
       "      <td>1477</td>\n",
       "      <td>Love Jones (1997)</td>\n",
       "      <td>Romance</td>\n",
       "    </tr>\n",
       "    <tr>\n",
       "      <th>2059</th>\n",
       "      <td>2738</td>\n",
       "      <td>Crimes of the Heart (1986)</td>\n",
       "      <td>Comedy|Drama</td>\n",
       "    </tr>\n",
       "    <tr>\n",
       "      <th>2542</th>\n",
       "      <td>3403</td>\n",
       "      <td>Raise the Titanic (1980)</td>\n",
       "      <td>Drama|Thriller</td>\n",
       "    </tr>\n",
       "    <tr>\n",
       "      <th>2550</th>\n",
       "      <td>3414</td>\n",
       "      <td>Love Is a Many-Splendored Thing (1955)</td>\n",
       "      <td>Drama|Romance|War</td>\n",
       "    </tr>\n",
       "    <tr>\n",
       "      <th>2580</th>\n",
       "      <td>3449</td>\n",
       "      <td>Good Mother, The (1988)</td>\n",
       "      <td>Drama</td>\n",
       "    </tr>\n",
       "    <tr>\n",
       "      <th>5287</th>\n",
       "      <td>8738</td>\n",
       "      <td>Woman Is a Woman, A (femme est une femme, Une)...</td>\n",
       "      <td>Comedy|Drama|Musical|Romance</td>\n",
       "    </tr>\n",
       "    <tr>\n",
       "      <th>5460</th>\n",
       "      <td>26147</td>\n",
       "      <td>Thousand Clowns, A (1965)</td>\n",
       "      <td>Comedy|Drama|Romance</td>\n",
       "    </tr>\n",
       "    <tr>\n",
       "      <th>6051</th>\n",
       "      <td>40491</td>\n",
       "      <td>Match Factory Girl, The (Tulitikkutehtaan tytt...</td>\n",
       "      <td>Comedy|Drama</td>\n",
       "    </tr>\n",
       "    <tr>\n",
       "      <th>8775</th>\n",
       "      <td>128914</td>\n",
       "      <td>Tom Segura: Completely Normal (2014)</td>\n",
       "      <td>Comedy</td>\n",
       "    </tr>\n",
       "    <tr>\n",
       "      <th>9365</th>\n",
       "      <td>162344</td>\n",
       "      <td>Tom Segura: Mostly Stories (2016)</td>\n",
       "      <td>Comedy</td>\n",
       "    </tr>\n",
       "  </tbody>\n",
       "</table>\n",
       "</div>"
      ],
      "text/plain": [
       "      movieId                                              title  \\\n",
       "1130     1477                                  Love Jones (1997)   \n",
       "2059     2738                         Crimes of the Heart (1986)   \n",
       "2542     3403                           Raise the Titanic (1980)   \n",
       "2550     3414             Love Is a Many-Splendored Thing (1955)   \n",
       "2580     3449                            Good Mother, The (1988)   \n",
       "5287     8738  Woman Is a Woman, A (femme est une femme, Une)...   \n",
       "5460    26147                          Thousand Clowns, A (1965)   \n",
       "6051    40491  Match Factory Girl, The (Tulitikkutehtaan tytt...   \n",
       "8775   128914               Tom Segura: Completely Normal (2014)   \n",
       "9365   162344                  Tom Segura: Mostly Stories (2016)   \n",
       "\n",
       "                            genres  \n",
       "1130                       Romance  \n",
       "2059                  Comedy|Drama  \n",
       "2542                Drama|Thriller  \n",
       "2550             Drama|Romance|War  \n",
       "2580                         Drama  \n",
       "5287  Comedy|Drama|Musical|Romance  \n",
       "5460          Comedy|Drama|Romance  \n",
       "6051                  Comedy|Drama  \n",
       "8775                        Comedy  \n",
       "9365                        Comedy  "
      ]
     },
     "execution_count": 53,
     "metadata": {},
     "output_type": "execute_result"
    }
   ],
   "source": [
    "df_movies[df_movies.movieId.isin(encoders['movie'].inverse_transform(prediction_index))]"
   ]
  },
  {
   "cell_type": "code",
   "execution_count": 54,
   "id": "934c56d5",
   "metadata": {},
   "outputs": [
    {
     "data": {
      "text/html": [
       "<div>\n",
       "<style scoped>\n",
       "    .dataframe tbody tr th:only-of-type {\n",
       "        vertical-align: middle;\n",
       "    }\n",
       "\n",
       "    .dataframe tbody tr th {\n",
       "        vertical-align: top;\n",
       "    }\n",
       "\n",
       "    .dataframe thead th {\n",
       "        text-align: right;\n",
       "    }\n",
       "</style>\n",
       "<table border=\"1\" class=\"dataframe\">\n",
       "  <thead>\n",
       "    <tr style=\"text-align: right;\">\n",
       "      <th></th>\n",
       "      <th>movieId</th>\n",
       "      <th>title</th>\n",
       "      <th>genres</th>\n",
       "    </tr>\n",
       "  </thead>\n",
       "  <tbody>\n",
       "    <tr>\n",
       "      <th>43</th>\n",
       "      <td>47</td>\n",
       "      <td>Seven (a.k.a. Se7en) (1995)</td>\n",
       "      <td>Mystery|Thriller</td>\n",
       "    </tr>\n",
       "    <tr>\n",
       "      <th>84</th>\n",
       "      <td>95</td>\n",
       "      <td>Broken Arrow (1996)</td>\n",
       "      <td>Action|Adventure|Thriller</td>\n",
       "    </tr>\n",
       "    <tr>\n",
       "      <th>97</th>\n",
       "      <td>110</td>\n",
       "      <td>Braveheart (1995)</td>\n",
       "      <td>Action|Drama|War</td>\n",
       "    </tr>\n",
       "    <tr>\n",
       "      <th>229</th>\n",
       "      <td>266</td>\n",
       "      <td>Legends of the Fall (1994)</td>\n",
       "      <td>Drama|Romance|War|Western</td>\n",
       "    </tr>\n",
       "    <tr>\n",
       "      <th>244</th>\n",
       "      <td>282</td>\n",
       "      <td>Nell (1994)</td>\n",
       "      <td>Drama</td>\n",
       "    </tr>\n",
       "    <tr>\n",
       "      <th>295</th>\n",
       "      <td>337</td>\n",
       "      <td>What's Eating Gilbert Grape (1993)</td>\n",
       "      <td>Drama</td>\n",
       "    </tr>\n",
       "    <tr>\n",
       "      <th>297</th>\n",
       "      <td>339</td>\n",
       "      <td>While You Were Sleeping (1995)</td>\n",
       "      <td>Comedy|Romance</td>\n",
       "    </tr>\n",
       "    <tr>\n",
       "      <th>333</th>\n",
       "      <td>376</td>\n",
       "      <td>River Wild, The (1994)</td>\n",
       "      <td>Action|Thriller</td>\n",
       "    </tr>\n",
       "    <tr>\n",
       "      <th>444</th>\n",
       "      <td>509</td>\n",
       "      <td>Piano, The (1993)</td>\n",
       "      <td>Drama|Romance</td>\n",
       "    </tr>\n",
       "    <tr>\n",
       "      <th>472</th>\n",
       "      <td>539</td>\n",
       "      <td>Sleepless in Seattle (1993)</td>\n",
       "      <td>Comedy|Drama|Romance</td>\n",
       "    </tr>\n",
       "  </tbody>\n",
       "</table>\n",
       "</div>"
      ],
      "text/plain": [
       "     movieId                               title                     genres\n",
       "43        47         Seven (a.k.a. Se7en) (1995)           Mystery|Thriller\n",
       "84        95                 Broken Arrow (1996)  Action|Adventure|Thriller\n",
       "97       110                   Braveheart (1995)           Action|Drama|War\n",
       "229      266          Legends of the Fall (1994)  Drama|Romance|War|Western\n",
       "244      282                         Nell (1994)                      Drama\n",
       "295      337  What's Eating Gilbert Grape (1993)                      Drama\n",
       "297      339      While You Were Sleeping (1995)             Comedy|Romance\n",
       "333      376              River Wild, The (1994)            Action|Thriller\n",
       "444      509                   Piano, The (1993)              Drama|Romance\n",
       "472      539         Sleepless in Seattle (1993)       Comedy|Drama|Romance"
      ]
     },
     "execution_count": 54,
     "metadata": {},
     "output_type": "execute_result"
    }
   ],
   "source": [
    "df_movies[df_movies.movieId.isin(top_k_user.movieId)]"
   ]
  }
 ],
 "metadata": {
  "kernelspec": {
   "display_name": "Python 3 (ipykernel)",
   "language": "python",
   "name": "python3"
  },
  "language_info": {
   "codemirror_mode": {
    "name": "ipython",
    "version": 3
   },
   "file_extension": ".py",
   "mimetype": "text/x-python",
   "name": "python",
   "nbconvert_exporter": "python",
   "pygments_lexer": "ipython3",
   "version": "3.8.8"
  }
 },
 "nbformat": 4,
 "nbformat_minor": 5
}
