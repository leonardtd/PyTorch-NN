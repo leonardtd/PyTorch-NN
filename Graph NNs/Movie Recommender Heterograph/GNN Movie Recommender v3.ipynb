{
 "cells": [
  {
   "cell_type": "code",
   "execution_count": 334,
   "id": "2ff242e3",
   "metadata": {},
   "outputs": [],
   "source": [
    "import pandas as pd\n",
    "import numpy as np"
   ]
  },
  {
   "cell_type": "code",
   "execution_count": 335,
   "id": "1287796b",
   "metadata": {},
   "outputs": [],
   "source": [
    "import dgl\n",
    "import torch\n",
    "import torch.nn as nn\n",
    "import torch.nn.functional as F\n",
    "import itertools\n",
    "import numpy as np\n",
    "import scipy.sparse as sp"
   ]
  },
  {
   "cell_type": "code",
   "execution_count": 336,
   "id": "1f0a7e51",
   "metadata": {},
   "outputs": [],
   "source": [
    "import matplotlib.pyplot as plt"
   ]
  },
  {
   "cell_type": "code",
   "execution_count": 337,
   "id": "c0a8d63a",
   "metadata": {},
   "outputs": [],
   "source": [
    "from sklearn import preprocessing"
   ]
  },
  {
   "cell_type": "markdown",
   "id": "1bf1013f",
   "metadata": {},
   "source": [
    "### Resources\n",
    "https://www.kaggle.com/rounakbanik/the-movies-dataset<br>\n",
    "https://docs.dgl.ai/en/0.6.x/generated/dgl.DGLHeteroGraph.ndata.html?highlight=ndata#dgl.DGLHeteroGraph.ndata<br>\n",
    "https://docs.dgl.ai/en/0.6.x/generated/dgl.heterograph.html<br>\n",
    "https://docs.dgl.ai/en/0.6.x/guide/message-heterograph.html<br>\n",
    "https://docs.dgl.ai/en/0.6.x/tutorials/basics/5_hetero.html<br>"
   ]
  },
  {
   "cell_type": "code",
   "execution_count": 338,
   "id": "b0d6872c",
   "metadata": {},
   "outputs": [],
   "source": [
    "df = pd.read_csv('ratings.csv')"
   ]
  },
  {
   "cell_type": "code",
   "execution_count": 339,
   "id": "c9645954",
   "metadata": {},
   "outputs": [],
   "source": [
    "df.drop(columns=['timestamp'], inplace=True)"
   ]
  },
  {
   "cell_type": "code",
   "execution_count": 340,
   "id": "44997ffd",
   "metadata": {},
   "outputs": [],
   "source": [
    "encoders = {\n",
    "    'user': preprocessing.LabelEncoder(),\n",
    "    'movie': preprocessing.LabelEncoder(),\n",
    "}"
   ]
  },
  {
   "cell_type": "code",
   "execution_count": 341,
   "id": "8cad0db4",
   "metadata": {},
   "outputs": [],
   "source": [
    "df['encoded_user'] = encoders['user'].fit_transform(df.userId)\n",
    "df['encoded_movie'] = encoders['movie'].fit_transform(df.movieId)"
   ]
  },
  {
   "cell_type": "code",
   "execution_count": 342,
   "id": "54624e0d",
   "metadata": {},
   "outputs": [
    {
     "data": {
      "text/plain": [
       "9724"
      ]
     },
     "execution_count": 342,
     "metadata": {},
     "output_type": "execute_result"
    }
   ],
   "source": [
    "df['encoded_movie'].nunique()"
   ]
  },
  {
   "cell_type": "markdown",
   "id": "c5eb6359",
   "metadata": {},
   "source": [
    "## Graph construction\n",
    "Dataset`ratings_small`: rating as edge feature<br>\n",
    "- user nodes will start at index `num_movies`"
   ]
  },
  {
   "cell_type": "code",
   "execution_count": 343,
   "id": "8d9d495b",
   "metadata": {},
   "outputs": [],
   "source": [
    "num_movies = df['encoded_movie'].nunique()"
   ]
  },
  {
   "cell_type": "code",
   "execution_count": 344,
   "id": "5950265f",
   "metadata": {},
   "outputs": [],
   "source": [
    "df['encoded_user'] = df['encoded_user'].apply(lambda x: x+num_movies)"
   ]
  },
  {
   "cell_type": "code",
   "execution_count": 345,
   "id": "35ac6723",
   "metadata": {},
   "outputs": [],
   "source": [
    "g = dgl.graph((torch.tensor(pd.concat([df.encoded_user,df.encoded_movie]).tolist()), \n",
    "               torch.tensor(pd.concat([df.encoded_movie,df.encoded_user]).tolist())))"
   ]
  },
  {
   "cell_type": "code",
   "execution_count": 346,
   "id": "94ded2bc",
   "metadata": {},
   "outputs": [],
   "source": [
    "g.edata['rating'] = torch.tensor(pd.concat([df.rating,df.rating]).tolist())"
   ]
  },
  {
   "cell_type": "markdown",
   "id": "38e4a631",
   "metadata": {},
   "source": [
    "## Training and test set\n",
    "https://docs.dgl.ai/tutorials/blitz/4_link_predict.html?highlight=split%20edge%20set%20training%20testing"
   ]
  },
  {
   "cell_type": "code",
   "execution_count": 347,
   "id": "fa67f1ef",
   "metadata": {},
   "outputs": [],
   "source": [
    "u, v = g.edges()\n",
    "\n",
    "eids = np.arange(g.number_of_edges())\n",
    "eids = np.random.permutation(eids)\n",
    "\n",
    "# 20% test\n",
    "test_size = int(len(eids) * 0.1)\n",
    "train_size = g.number_of_edges() - test_size\n",
    "\n",
    "\n",
    "train_pos_u, train_pos_v = u[eids[test_size:]], v[eids[test_size:]]\n",
    "test_pos_u, test_pos_v = u[eids[:test_size]], v[eids[:test_size]]"
   ]
  },
  {
   "cell_type": "markdown",
   "id": "246d736f",
   "metadata": {},
   "source": [
    "#### Negative sampling"
   ]
  },
  {
   "cell_type": "code",
   "execution_count": 348,
   "id": "d1d18b32",
   "metadata": {},
   "outputs": [],
   "source": [
    "# Find all negative edges and split them for training and testing\n",
    "adj = sp.coo_matrix((np.ones(len(u)), (u.numpy(), v.numpy())))\n",
    "adj_neg = 1 - adj.todense() - np.eye(g.number_of_nodes())\n",
    "neg_u, neg_v = np.where(adj_neg != 0)\n",
    "\n",
    "neg_eids = np.random.choice(len(neg_u), g.number_of_edges())\n",
    "test_neg_u, test_neg_v = neg_u[neg_eids[:test_size]], neg_v[neg_eids[:test_size]]\n",
    "train_neg_u, train_neg_v = neg_u[neg_eids[test_size:]], neg_v[neg_eids[test_size:]]"
   ]
  },
  {
   "cell_type": "code",
   "execution_count": 472,
   "id": "782e4c06",
   "metadata": {},
   "outputs": [],
   "source": [
    "neg_eids = np.random.choice(len(neg_u), g.number_of_edges())"
   ]
  },
  {
   "cell_type": "code",
   "execution_count": 349,
   "id": "b71c1e23",
   "metadata": {},
   "outputs": [],
   "source": [
    "assert adj.todense()[neg_u,neg_v].all() == 0"
   ]
  },
  {
   "cell_type": "code",
   "execution_count": 350,
   "id": "66550bd2",
   "metadata": {},
   "outputs": [],
   "source": [
    "train_g = dgl.remove_edges(g, eids[:test_size])"
   ]
  },
  {
   "cell_type": "markdown",
   "id": "12d517eb",
   "metadata": {},
   "source": [
    "## GNN Definition"
   ]
  },
  {
   "cell_type": "code",
   "execution_count": 351,
   "id": "2f37a7d3",
   "metadata": {},
   "outputs": [],
   "source": [
    "import dgl.function as fn"
   ]
  },
  {
   "cell_type": "code",
   "execution_count": 352,
   "id": "c1196c61",
   "metadata": {},
   "outputs": [],
   "source": [
    "class CustomGNN(nn.Module):\n",
    "    def __init__(self, in_dim, out_dim):\n",
    "        \n",
    "        super(CustomGNN, self).__init__()\n",
    "        \n",
    "        # Weights\n",
    "        self.user_w = nn.Parameter(torch.FloatTensor(in_dim,out_dim))\n",
    "        self.movie_w = nn.Parameter(torch.FloatTensor(in_dim,out_dim))\n",
    "        self.edge_w = nn.Parameter(torch.FloatTensor(1,out_dim))\n",
    "            \n",
    "        self.reset_parameters()\n",
    "        \n",
    "        \n",
    "    def reset_parameters(self):\n",
    "        gain = nn.init.calculate_gain('relu')\n",
    "        \n",
    "        #attention layer init\n",
    "        nn.init.xavier_normal_(self.user_w, gain=gain)\n",
    "        nn.init.xavier_normal_(self.movie_w, gain=gain)\n",
    "        nn.init.xavier_normal_(self.edge_w, gain=gain)\n",
    "        \n",
    "    def forward(self, g, user_feat, movie_feat, edge_features):\n",
    "        with g.local_scope():\n",
    "            feat = torch.cat([movie_feat@self.movie_w, user_feat@self.user_w], dim=0)\n",
    "            g.ndata['feat'] = feat\n",
    "            g.edata['e_feat'] = edge_features.view(-1,1).float()@self.edge_w\n",
    "            \n",
    "            g.update_all(fn.u_mul_e('feat', 'e_feat', 'm'), fn.mean('m', 'h_out'))\n",
    "            \n",
    "            return g.ndata['h_out']"
   ]
  },
  {
   "cell_type": "markdown",
   "id": "e75e436b",
   "metadata": {},
   "source": [
    "#### Continue link prediction: dgl\n",
    "https://docs.dgl.ai/en/0.7.x/tutorials/blitz/4_link_predict.html<br>\n",
    "https://docs.dgl.ai/en/0.6.x/_modules/dgl/nn/pytorch/hetero.html"
   ]
  },
  {
   "cell_type": "code",
   "execution_count": 353,
   "id": "a6f74a8a",
   "metadata": {},
   "outputs": [],
   "source": [
    "from dgl.nn import SAGEConv\n",
    "\n",
    "class CustomGraphSAGE(nn.Module):\n",
    "    def __init__(self, in_feats, h_feats):\n",
    "        super(CustomGraphSAGE, self).__init__()\n",
    "        self.conv = CustomGNN(in_feats, h_feats)\n",
    "        self.conv1 = dgl.nn.SAGEConv(h_feats,h_feats, aggregator_type='mean')\n",
    "        self.conv2 = dgl.nn.SAGEConv(h_feats,h_feats, aggregator_type='mean')\n",
    "    \n",
    "    def forward(self, g, user_feat, movie_feat, edge_features):\n",
    "        \n",
    "        h = self.conv(g, user_feat, movie_feat, edge_features)\n",
    "        \n",
    "        h = F.leaky_relu(self.conv1(g, h))\n",
    "        h = self.conv2(g, h)\n",
    "        \n",
    "        return h"
   ]
  },
  {
   "cell_type": "code",
   "execution_count": 354,
   "id": "0310e75b",
   "metadata": {},
   "outputs": [],
   "source": [
    "gnn = CustomGraphSAGE(128, 256)"
   ]
  },
  {
   "cell_type": "markdown",
   "id": "e4357ef4",
   "metadata": {},
   "source": [
    "---"
   ]
  },
  {
   "cell_type": "markdown",
   "id": "fc202d9e",
   "metadata": {},
   "source": [
    "#### Positive and Negative graph"
   ]
  },
  {
   "cell_type": "code",
   "execution_count": 355,
   "id": "c4624405",
   "metadata": {},
   "outputs": [],
   "source": [
    "train_pos_g = dgl.graph((train_pos_u, train_pos_v), num_nodes=g.number_of_nodes())\n",
    "train_neg_g = dgl.graph((train_neg_u, train_neg_v), num_nodes=g.number_of_nodes())\n",
    "\n",
    "test_pos_g = dgl.graph((test_pos_u, test_pos_v), num_nodes=g.number_of_nodes())\n",
    "test_neg_g = dgl.graph((test_neg_u, test_neg_v), num_nodes=g.number_of_nodes())"
   ]
  },
  {
   "cell_type": "markdown",
   "id": "deb42123",
   "metadata": {},
   "source": [
    "#### Pred test"
   ]
  },
  {
   "cell_type": "code",
   "execution_count": 356,
   "id": "59631be1",
   "metadata": {},
   "outputs": [],
   "source": [
    "class DotPredictor(nn.Module):\n",
    "    def forward(self, g, user_feat, movie_feat):\n",
    "        u, v = g.edges()\n",
    "        feat = torch.cat([movie_feat, user_feat],dim=0)\n",
    "  \n",
    "        dot = (feat[u]*feat[v]).sum(1)\n",
    "        \n",
    "        return dot\n",
    "    \n",
    "    def predict(self, nodes_u, nodes_v):\n",
    "        return (nodes_u*nodes_v).sum(1)\n",
    "    \n",
    "    \n",
    "class NeuralPredictor(nn.Module):\n",
    "    def __init__(self, hidden_dim):\n",
    "        super().__init__()\n",
    "        \n",
    "        self.mlp = nn.Sequential(\n",
    "            nn.Linear(2*hidden_dim, 64),\n",
    "            nn.ReLU(),\n",
    "            nn.Linear(64, 1, bias=False),\n",
    "        )\n",
    "        \n",
    "    \n",
    "    def forward(self, g, feat):\n",
    "        u, v = g.edges()\n",
    "        \n",
    "        \n",
    "        score = self.mlp(torch.cat([feat[u], feat[v]], dim=1)).view(-1,)\n",
    "        \n",
    "        return score\n",
    "    \n",
    "    def predict(self, nodes_u, nodes_v):\n",
    "        return self.mlp(torch.cat([nodes_u, nodes_v], dim=1)).view(-1,)"
   ]
  },
  {
   "cell_type": "markdown",
   "id": "ec6a4df0",
   "metadata": {},
   "source": [
    "### Train loop"
   ]
  },
  {
   "cell_type": "code",
   "execution_count": 357,
   "id": "2e1265c5",
   "metadata": {},
   "outputs": [],
   "source": [
    "from sklearn.metrics import roc_auc_score\n",
    "from sklearn.metrics import recall_score\n",
    "from sklearn.metrics import precision_score"
   ]
  },
  {
   "cell_type": "code",
   "execution_count": 358,
   "id": "ed0bb6be",
   "metadata": {},
   "outputs": [],
   "source": [
    "\n",
    "\n",
    "# You can replace DotPredictor with MLPPredictor.\n",
    "#pred = MLPPredictor(hidden)\n",
    "\n",
    "def compute_loss(pos_score, neg_score):\n",
    "    scores = torch.cat([pos_score, neg_score])\n",
    "    labels = torch.cat([torch.ones(pos_score.shape[0]), torch.zeros(neg_score.shape[0])])\n",
    "    return F.binary_cross_entropy_with_logits(scores, labels)\n",
    "\n",
    "def compute_auc(pos_score, neg_score):\n",
    "    scores = torch.cat([pos_score, neg_score]).numpy()\n",
    "    labels = torch.cat(\n",
    "        [torch.ones(pos_score.shape[0]), torch.zeros(neg_score.shape[0])]).numpy()\n",
    "    return roc_auc_score(labels, scores)\n",
    "\n",
    "def compute_recall(pos_score, neg_score):\n",
    "    scores = torch.cat([pos_score, neg_score])\n",
    "    scores = torch.sigmoid(scores)\n",
    "    labels = torch.cat(\n",
    "        [torch.ones(pos_score.shape[0]), torch.zeros(neg_score.shape[0])]).numpy()\n",
    "    return recall_score(labels, torch.round(scores))\n",
    "\n",
    "def compute_precision(pos_score, neg_score):\n",
    "    scores = torch.cat([pos_score, neg_score])\n",
    "    scores = torch.sigmoid(scores)\n",
    "    labels = torch.cat(\n",
    "        [torch.ones(pos_score.shape[0]), torch.zeros(neg_score.shape[0])]).numpy()\n",
    "    return precision_score(labels, torch.round(scores))\n"
   ]
  },
  {
   "cell_type": "code",
   "execution_count": 460,
   "id": "1098575d",
   "metadata": {},
   "outputs": [],
   "source": [
    "def hits_at_k(pos_score, neg_score, k=20):\n",
    "    scores = torch.cat([pos_score, neg_score], dim=0)\n",
    "    labels = torch.cat([torch.ones(pos_score.shape[0]),torch.zeros(neg_score.shape[0])],dim=0)\n",
    "    \n",
    "    top_k_idx = scores.topk(k).indices\n",
    "    \n",
    "    return (labels[top_k_idx].sum()/pos_score.size(0)).item()"
   ]
  },
  {
   "cell_type": "code",
   "execution_count": 461,
   "id": "c7018c63",
   "metadata": {
    "scrolled": true
   },
   "outputs": [
    {
     "name": "stdout",
     "output_type": "stream",
     "text": [
      "In epoch 0, loss: 0.6826753616333008\n",
      "In epoch 5, loss: 0.283560574054718\n",
      "In epoch 10, loss: 0.20005905628204346\n",
      "In epoch 15, loss: 0.14142636954784393\n",
      "In epoch 20, loss: 0.1360412836074829\n",
      "In epoch 25, loss: 0.12462358921766281\n",
      "In epoch 30, loss: 0.1150805726647377\n",
      "In epoch 35, loss: 0.108759306371212\n",
      "In epoch 40, loss: 0.10283851623535156\n",
      "In epoch 45, loss: 0.0969681665301323\n",
      "In epoch 50, loss: 0.09138977527618408\n",
      "In epoch 55, loss: 0.08496537804603577\n",
      "In epoch 60, loss: 0.07969647645950317\n",
      "In epoch 65, loss: 0.08503040671348572\n",
      "In epoch 70, loss: 0.09695448726415634\n",
      "In epoch 75, loss: 0.07942838221788406\n",
      "In epoch 80, loss: 0.07875824719667435\n",
      "In epoch 85, loss: 0.07322794944047928\n",
      "In epoch 90, loss: 0.0732344314455986\n",
      "In epoch 95, loss: 0.06997513771057129\n",
      "AUC 0.9931713028561391\n",
      "Recall 0.990132394505876\n",
      "Precision 0.9632416787264834\n",
      "hits@k: 0.00986760575324297\n"
     ]
    }
   ],
   "source": [
    "# ----------- 3. set up loss and optimizer -------------- #\n",
    "# in this case, loss will in training loop\n",
    "\n",
    "movie_feat = nn.Embedding(num_movies, 16)\n",
    "user_feat = nn.Embedding(g.num_nodes()-num_movies, 16)\n",
    "model = CustomGraphSAGE(16, 32)\n",
    "#pred = DotPredictor()\n",
    "pred = NeuralPredictor(32)\n",
    "\n",
    "optimizer = torch.optim.Adam(itertools.chain(model.parameters(), \n",
    "                                             pred.parameters(), \n",
    "                                             user_feat.parameters(), \n",
    "                                             movie_feat.parameters()), \n",
    "                             lr=0.01)\n",
    "\n",
    "k = 200\n",
    "\n",
    "# ----------- 4. training -------------------------------- #\n",
    "\n",
    "for e in range(100):\n",
    "    # forward\n",
    "    h = model(train_g, user_feat.weight, movie_feat.weight, g.edata['rating'][eids[test_size:]])\n",
    "    pos_score = pred(train_pos_g, h)\n",
    "    neg_score = pred(train_neg_g, h)\n",
    "    \n",
    "    loss = compute_loss(pos_score, neg_score)\n",
    "    \n",
    "    # backward\n",
    "    optimizer.zero_grad()\n",
    "    loss.backward()\n",
    "    optimizer.step()\n",
    "    \n",
    "    if e % 5 == 0:\n",
    "        print('In epoch {}, loss: {}'.format(e, loss))\n",
    "\n",
    "# ----------- 5. check results ------------------------ #\n",
    "from sklearn.metrics import roc_auc_score\n",
    "with torch.no_grad():\n",
    "    h = model(g, user_feat.weight, movie_feat.weight, g.edata['rating'])\n",
    "    pos_score = pred(test_pos_g, h)\n",
    "    neg_score = pred(test_neg_g, h)\n",
    "    print('AUC', compute_auc(pos_score, neg_score))\n",
    "    print('Recall', compute_recall(pos_score, neg_score))\n",
    "    print('Precision', compute_precision(pos_score, neg_score))\n",
    "    hits_k = hits_at_k(pos_score, neg_score, k)\n",
    "    print(f\"hits@k: {hits_k}\")\n",
    "\n",
    "\n",
    "# Thumbnail credits: Link Prediction with Neo4j, Mark Needham\n",
    "# sphinx_gallery_thumbnail_path = '_static/blitz_4_link_predict.png'"
   ]
  },
  {
   "cell_type": "markdown",
   "id": "6489788b",
   "metadata": {},
   "source": [
    "#### Validation testing"
   ]
  },
  {
   "cell_type": "code",
   "execution_count": 462,
   "id": "f52aa212",
   "metadata": {},
   "outputs": [],
   "source": [
    "test_g = dgl.remove_edges(g, eids[test_size:])"
   ]
  },
  {
   "cell_type": "code",
   "execution_count": 471,
   "id": "708e76c4",
   "metadata": {},
   "outputs": [
    {
     "name": "stdout",
     "output_type": "stream",
     "text": [
      "AUC 0.9680338681603494\n",
      "Recall 0.9184311003123915\n",
      "Precision 0.9288866599799398\n",
      "hits@k: 0.006991620175540447\n"
     ]
    }
   ],
   "source": [
    "from sklearn.metrics import roc_auc_score\n",
    "with torch.no_grad():\n",
    "    h = model(test_g, user_feat.weight, movie_feat.weight, g.edata['rating'][:test_size])\n",
    "    pos_score = pred(test_pos_g, h)\n",
    "    neg_score = pred(test_neg_g, h)\n",
    "    print('AUC', compute_auc(pos_score, neg_score))\n",
    "    print('Recall', compute_recall(pos_score, neg_score))\n",
    "    print('Precision', compute_precision(pos_score, neg_score))\n",
    "    hits_k = hits_at_k(pos_score, neg_score, k)\n",
    "    print(f\"hits@k: {hits_k}\")"
   ]
  },
  {
   "cell_type": "markdown",
   "id": "1450bd8c",
   "metadata": {},
   "source": [
    "## Testing\n",
    "https://stackoverflow.com/questions/58796367/how-is-hitsk-calculated-and-what-does-it-mean-in-the-context-of-link-prediction<br>\n",
    "https://medium.com/@m_n_malaeb/recall-and-precision-at-k-for-recommender-systems-618483226c54<br>"
   ]
  },
  {
   "cell_type": "markdown",
   "id": "4e46c8ab",
   "metadata": {},
   "source": [
    "#### Read movie data"
   ]
  },
  {
   "cell_type": "code",
   "execution_count": 444,
   "id": "543758fe",
   "metadata": {
    "scrolled": true
   },
   "outputs": [],
   "source": [
    "df_movies = pd.read_csv('movies.csv')"
   ]
  },
  {
   "cell_type": "markdown",
   "id": "0b1a3b21",
   "metadata": {},
   "source": [
    "#### Get embeddings"
   ]
  },
  {
   "cell_type": "code",
   "execution_count": 445,
   "id": "12fca16f",
   "metadata": {},
   "outputs": [],
   "source": [
    "with torch.no_grad():\n",
    "    features = model(g, user_feat.weight, movie_feat.weight, g.edata['rating'])"
   ]
  },
  {
   "cell_type": "code",
   "execution_count": 446,
   "id": "ba7c4892",
   "metadata": {},
   "outputs": [
    {
     "data": {
      "text/plain": [
       "torch.Size([10334, 32])"
      ]
     },
     "execution_count": 446,
     "metadata": {},
     "output_type": "execute_result"
    }
   ],
   "source": [
    "features.shape"
   ]
  },
  {
   "cell_type": "markdown",
   "id": "a3c8e1bf",
   "metadata": {},
   "source": [
    "#### User id #0"
   ]
  },
  {
   "cell_type": "code",
   "execution_count": 447,
   "id": "55fb8870",
   "metadata": {},
   "outputs": [],
   "source": [
    "idx = 0\n",
    "\n",
    "user_emb = features[num_movies:][idx]"
   ]
  },
  {
   "cell_type": "code",
   "execution_count": 448,
   "id": "0bf73a56",
   "metadata": {},
   "outputs": [],
   "source": [
    "top_k_user = df[df.encoded_user == (idx+num_movies)][['movieId', 'rating']].sort_values('rating', ascending=False).iloc[:k]"
   ]
  },
  {
   "cell_type": "markdown",
   "id": "2ed8f43e",
   "metadata": {},
   "source": [
    "### Recommended movies"
   ]
  },
  {
   "cell_type": "code",
   "execution_count": 449,
   "id": "e2a8c11d",
   "metadata": {},
   "outputs": [],
   "source": [
    "prediction = pred.predict(user_emb.view(1,-1).repeat(features[:num_movies].shape[0],1),features[:num_movies])\n",
    "prediction_index = prediction.topk(k).indices"
   ]
  },
  {
   "cell_type": "code",
   "execution_count": 450,
   "id": "c3bcd605",
   "metadata": {},
   "outputs": [
    {
     "data": {
      "text/plain": [
       "<AxesSubplot:ylabel='Frequency'>"
      ]
     },
     "execution_count": 450,
     "metadata": {},
     "output_type": "execute_result"
    },
    {
     "data": {
      "image/png": "[encoded data removed]",
      "text/plain": [
       "<Figure size 432x288 with 1 Axes>"
      ]
     },
     "metadata": {
      "needs_background": "light"
     },
     "output_type": "display_data"
    }
   ],
   "source": [
    "pd.Series(prediction.detach().numpy()).plot.hist()"
   ]
  },
  {
   "cell_type": "markdown",
   "id": "5bd6bd25",
   "metadata": {},
   "source": [
    "#### Hits @ K for user"
   ]
  },
  {
   "cell_type": "code",
   "execution_count": 451,
   "id": "ed57b4c9",
   "metadata": {},
   "outputs": [],
   "source": [
    "def user_metrics_at_k(df, df_movies, idx, features, pred, k):\n",
    "    \n",
    "    \n",
    "    user_movies = df[df.encoded_user == (idx+num_movies)][['encoded_movie', 'rating']].sort_values('rating', ascending=False)['encoded_movie']\n",
    "    k = min(k, user_movies.shape[0])\n",
    "\n",
    "    prediction = torch.sigmoid(pred.predict(user_emb.view(1,-1).repeat(features[user_movies.values].shape[0],1),features[user_movies.values]))\n",
    "    prediction = torch.topk(prediction, k).values\n",
    "    \n",
    "    THRESHOLD = 0.5\n",
    "    \n",
    "    prediction = torch.where(prediction>THRESHOLD, 1, 0)\n",
    "    num_relevant = torch.sum(prediction).item()\n",
    "    \n",
    "    \n",
    "    print(f\"k: {k}\")\n",
    "    print(f\"recommended relevant: {num_relevant}\")\n",
    "    print(f\"total relevant items: {user_movies.shape[0]}\")\n",
    "    \n",
    "    precision_k = num_relevant/k\n",
    "    recall_k = num_relevant/user_movies.shape[0]\n",
    "    return precision_k, recall_k"
   ]
  },
  {
   "cell_type": "code",
   "execution_count": 452,
   "id": "ecfcdc56",
   "metadata": {},
   "outputs": [
    {
     "name": "stdout",
     "output_type": "stream",
     "text": [
      "k: 200\n",
      "recommended relevant: 200\n",
      "total relevant items: 232\n",
      "Precision@K for user: 1.0\n",
      "Recall@K for user: 0.8620689655172413\n"
     ]
    }
   ],
   "source": [
    "precision_k, recall_k = user_metrics_at_k(df, df_movies,idx,features,pred,k)\n",
    "\n",
    "print(f\"Precision@K for user: {precision_k}\")\n",
    "print(f\"Recall@K for user: {recall_k}\")"
   ]
  },
  {
   "cell_type": "code",
   "execution_count": 453,
   "id": "01b57c7a",
   "metadata": {
    "scrolled": true
   },
   "outputs": [
    {
     "data": {
      "text/html": [
       "<div>\n",
       "<style scoped>\n",
       "    .dataframe tbody tr th:only-of-type {\n",
       "        vertical-align: middle;\n",
       "    }\n",
       "\n",
       "    .dataframe tbody tr th {\n",
       "        vertical-align: top;\n",
       "    }\n",
       "\n",
       "    .dataframe thead th {\n",
       "        text-align: right;\n",
       "    }\n",
       "</style>\n",
       "<table border=\"1\" class=\"dataframe\">\n",
       "  <thead>\n",
       "    <tr style=\"text-align: right;\">\n",
       "      <th></th>\n",
       "      <th>movieId</th>\n",
       "      <th>title</th>\n",
       "      <th>genres</th>\n",
       "    </tr>\n",
       "  </thead>\n",
       "  <tbody>\n",
       "    <tr>\n",
       "      <th>0</th>\n",
       "      <td>1</td>\n",
       "      <td>Toy Story (1995)</td>\n",
       "      <td>Adventure|Animation|Children|Comedy|Fantasy</td>\n",
       "    </tr>\n",
       "    <tr>\n",
       "      <th>1</th>\n",
       "      <td>2</td>\n",
       "      <td>Jumanji (1995)</td>\n",
       "      <td>Adventure|Children|Fantasy</td>\n",
       "    </tr>\n",
       "    <tr>\n",
       "      <th>15</th>\n",
       "      <td>16</td>\n",
       "      <td>Casino (1995)</td>\n",
       "      <td>Crime|Drama</td>\n",
       "    </tr>\n",
       "    <tr>\n",
       "      <th>31</th>\n",
       "      <td>32</td>\n",
       "      <td>Twelve Monkeys (a.k.a. 12 Monkeys) (1995)</td>\n",
       "      <td>Mystery|Sci-Fi|Thriller</td>\n",
       "    </tr>\n",
       "    <tr>\n",
       "      <th>32</th>\n",
       "      <td>34</td>\n",
       "      <td>Babe (1995)</td>\n",
       "      <td>Children|Drama</td>\n",
       "    </tr>\n",
       "    <tr>\n",
       "      <th>...</th>\n",
       "      <td>...</td>\n",
       "      <td>...</td>\n",
       "      <td>...</td>\n",
       "    </tr>\n",
       "    <tr>\n",
       "      <th>8713</th>\n",
       "      <td>125914</td>\n",
       "      <td>Mortdecai (2015)</td>\n",
       "      <td>Adventure|Comedy|Mystery|Romance</td>\n",
       "    </tr>\n",
       "    <tr>\n",
       "      <th>8879</th>\n",
       "      <td>134130</td>\n",
       "      <td>The Martian (2015)</td>\n",
       "      <td>Adventure|Drama|Sci-Fi</td>\n",
       "    </tr>\n",
       "    <tr>\n",
       "      <th>9223</th>\n",
       "      <td>152081</td>\n",
       "      <td>Zootopia (2016)</td>\n",
       "      <td>Action|Adventure|Animation|Children|Comedy</td>\n",
       "    </tr>\n",
       "    <tr>\n",
       "      <th>9462</th>\n",
       "      <td>168250</td>\n",
       "      <td>Get Out (2017)</td>\n",
       "      <td>Horror</td>\n",
       "    </tr>\n",
       "    <tr>\n",
       "      <th>9463</th>\n",
       "      <td>168252</td>\n",
       "      <td>Logan (2017)</td>\n",
       "      <td>Action|Sci-Fi</td>\n",
       "    </tr>\n",
       "  </tbody>\n",
       "</table>\n",
       "<p>200 rows × 3 columns</p>\n",
       "</div>"
      ],
      "text/plain": [
       "      movieId                                      title  \\\n",
       "0           1                           Toy Story (1995)   \n",
       "1           2                             Jumanji (1995)   \n",
       "15         16                              Casino (1995)   \n",
       "31         32  Twelve Monkeys (a.k.a. 12 Monkeys) (1995)   \n",
       "32         34                                Babe (1995)   \n",
       "...       ...                                        ...   \n",
       "8713   125914                           Mortdecai (2015)   \n",
       "8879   134130                         The Martian (2015)   \n",
       "9223   152081                            Zootopia (2016)   \n",
       "9462   168250                             Get Out (2017)   \n",
       "9463   168252                               Logan (2017)   \n",
       "\n",
       "                                           genres  \n",
       "0     Adventure|Animation|Children|Comedy|Fantasy  \n",
       "1                      Adventure|Children|Fantasy  \n",
       "15                                    Crime|Drama  \n",
       "31                        Mystery|Sci-Fi|Thriller  \n",
       "32                                 Children|Drama  \n",
       "...                                           ...  \n",
       "8713             Adventure|Comedy|Mystery|Romance  \n",
       "8879                       Adventure|Drama|Sci-Fi  \n",
       "9223   Action|Adventure|Animation|Children|Comedy  \n",
       "9462                                       Horror  \n",
       "9463                                Action|Sci-Fi  \n",
       "\n",
       "[200 rows x 3 columns]"
      ]
     },
     "execution_count": 453,
     "metadata": {},
     "output_type": "execute_result"
    }
   ],
   "source": [
    "df_movies[df_movies.movieId.isin(encoders['movie'].inverse_transform(prediction_index))]"
   ]
  },
  {
   "cell_type": "code",
   "execution_count": 454,
   "id": "934c56d5",
   "metadata": {
    "scrolled": true
   },
   "outputs": [
    {
     "data": {
      "text/html": [
       "<div>\n",
       "<style scoped>\n",
       "    .dataframe tbody tr th:only-of-type {\n",
       "        vertical-align: middle;\n",
       "    }\n",
       "\n",
       "    .dataframe tbody tr th {\n",
       "        vertical-align: top;\n",
       "    }\n",
       "\n",
       "    .dataframe thead th {\n",
       "        text-align: right;\n",
       "    }\n",
       "</style>\n",
       "<table border=\"1\" class=\"dataframe\">\n",
       "  <thead>\n",
       "    <tr style=\"text-align: right;\">\n",
       "      <th></th>\n",
       "      <th>movieId</th>\n",
       "      <th>title</th>\n",
       "      <th>genres</th>\n",
       "    </tr>\n",
       "  </thead>\n",
       "  <tbody>\n",
       "    <tr>\n",
       "      <th>0</th>\n",
       "      <td>1</td>\n",
       "      <td>Toy Story (1995)</td>\n",
       "      <td>Adventure|Animation|Children|Comedy|Fantasy</td>\n",
       "    </tr>\n",
       "    <tr>\n",
       "      <th>2</th>\n",
       "      <td>3</td>\n",
       "      <td>Grumpier Old Men (1995)</td>\n",
       "      <td>Comedy|Romance</td>\n",
       "    </tr>\n",
       "    <tr>\n",
       "      <th>5</th>\n",
       "      <td>6</td>\n",
       "      <td>Heat (1995)</td>\n",
       "      <td>Action|Crime|Thriller</td>\n",
       "    </tr>\n",
       "    <tr>\n",
       "      <th>43</th>\n",
       "      <td>47</td>\n",
       "      <td>Seven (a.k.a. Se7en) (1995)</td>\n",
       "      <td>Mystery|Thriller</td>\n",
       "    </tr>\n",
       "    <tr>\n",
       "      <th>46</th>\n",
       "      <td>50</td>\n",
       "      <td>Usual Suspects, The (1995)</td>\n",
       "      <td>Crime|Mystery|Thriller</td>\n",
       "    </tr>\n",
       "    <tr>\n",
       "      <th>...</th>\n",
       "      <td>...</td>\n",
       "      <td>...</td>\n",
       "      <td>...</td>\n",
       "    </tr>\n",
       "    <tr>\n",
       "      <th>2802</th>\n",
       "      <td>3744</td>\n",
       "      <td>Shaft (2000)</td>\n",
       "      <td>Action|Crime|Thriller</td>\n",
       "    </tr>\n",
       "    <tr>\n",
       "      <th>2836</th>\n",
       "      <td>3793</td>\n",
       "      <td>X-Men (2000)</td>\n",
       "      <td>Action|Adventure|Sci-Fi</td>\n",
       "    </tr>\n",
       "    <tr>\n",
       "      <th>2847</th>\n",
       "      <td>3809</td>\n",
       "      <td>What About Bob? (1991)</td>\n",
       "      <td>Comedy</td>\n",
       "    </tr>\n",
       "    <tr>\n",
       "      <th>2991</th>\n",
       "      <td>4006</td>\n",
       "      <td>Transformers: The Movie (1986)</td>\n",
       "      <td>Adventure|Animation|Children|Sci-Fi</td>\n",
       "    </tr>\n",
       "    <tr>\n",
       "      <th>3673</th>\n",
       "      <td>5060</td>\n",
       "      <td>M*A*S*H (a.k.a. MASH) (1970)</td>\n",
       "      <td>Comedy|Drama|War</td>\n",
       "    </tr>\n",
       "  </tbody>\n",
       "</table>\n",
       "<p>200 rows × 3 columns</p>\n",
       "</div>"
      ],
      "text/plain": [
       "      movieId                           title  \\\n",
       "0           1                Toy Story (1995)   \n",
       "2           3         Grumpier Old Men (1995)   \n",
       "5           6                     Heat (1995)   \n",
       "43         47     Seven (a.k.a. Se7en) (1995)   \n",
       "46         50      Usual Suspects, The (1995)   \n",
       "...       ...                             ...   \n",
       "2802     3744                    Shaft (2000)   \n",
       "2836     3793                    X-Men (2000)   \n",
       "2847     3809          What About Bob? (1991)   \n",
       "2991     4006  Transformers: The Movie (1986)   \n",
       "3673     5060    M*A*S*H (a.k.a. MASH) (1970)   \n",
       "\n",
       "                                           genres  \n",
       "0     Adventure|Animation|Children|Comedy|Fantasy  \n",
       "2                                  Comedy|Romance  \n",
       "5                           Action|Crime|Thriller  \n",
       "43                               Mystery|Thriller  \n",
       "46                         Crime|Mystery|Thriller  \n",
       "...                                           ...  \n",
       "2802                        Action|Crime|Thriller  \n",
       "2836                      Action|Adventure|Sci-Fi  \n",
       "2847                                       Comedy  \n",
       "2991          Adventure|Animation|Children|Sci-Fi  \n",
       "3673                             Comedy|Drama|War  \n",
       "\n",
       "[200 rows x 3 columns]"
      ]
     },
     "execution_count": 454,
     "metadata": {},
     "output_type": "execute_result"
    }
   ],
   "source": [
    "df_movies[df_movies.movieId.isin(top_k_user.movieId)]"
   ]
  },
  {
   "cell_type": "code",
   "execution_count": null,
   "id": "56be204b",
   "metadata": {},
   "outputs": [],
   "source": []
  },
  {
   "cell_type": "code",
   "execution_count": null,
   "id": "ca26ca4f",
   "metadata": {},
   "outputs": [],
   "source": []
  }
 ],
 "metadata": {
  "kernelspec": {
   "display_name": "Python 3 (ipykernel)",
   "language": "python",
   "name": "python3"
  },
  "language_info": {
   "codemirror_mode": {
    "name": "ipython",
    "version": 3
   },
   "file_extension": ".py",
   "mimetype": "text/x-python",
   "name": "python",
   "nbconvert_exporter": "python",
   "pygments_lexer": "ipython3",
   "version": "3.8.8"
  }
 },
 "nbformat": 4,
 "nbformat_minor": 5
}
