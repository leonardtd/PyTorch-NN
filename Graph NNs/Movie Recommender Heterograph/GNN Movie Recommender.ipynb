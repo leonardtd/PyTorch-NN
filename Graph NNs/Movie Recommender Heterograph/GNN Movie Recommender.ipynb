{
 "cells": [
  {
   "cell_type": "code",
   "execution_count": 1,
   "id": "2ff242e3",
   "metadata": {},
   "outputs": [],
   "source": [
    "import pandas as pd\n",
    "import numpy as np"
   ]
  },
  {
   "cell_type": "code",
   "execution_count": 2,
   "id": "1287796b",
   "metadata": {},
   "outputs": [
    {
     "name": "stderr",
     "output_type": "stream",
     "text": [
      "Using backend: pytorch\n"
     ]
    }
   ],
   "source": [
    "import dgl\n",
    "import torch\n",
    "import torch.nn as nn\n",
    "import torch.nn.functional as F\n",
    "import itertools\n",
    "import numpy as np\n",
    "import scipy.sparse as sp"
   ]
  },
  {
   "cell_type": "code",
   "execution_count": 7,
   "id": "1f0a7e51",
   "metadata": {},
   "outputs": [],
   "source": [
    "import matplotlib.pyplot as plt"
   ]
  },
  {
   "cell_type": "code",
   "execution_count": 41,
   "id": "c0a8d63a",
   "metadata": {},
   "outputs": [],
   "source": [
    "from sklearn import preprocessing"
   ]
  },
  {
   "cell_type": "markdown",
   "id": "1bf1013f",
   "metadata": {},
   "source": [
    "### Resources\n",
    "https://www.kaggle.com/rounakbanik/the-movies-dataset<br>\n",
    "https://docs.dgl.ai/en/0.6.x/generated/dgl.DGLHeteroGraph.ndata.html?highlight=ndata#dgl.DGLHeteroGraph.ndata<br>\n",
    "https://docs.dgl.ai/en/0.6.x/generated/dgl.heterograph.html<br>\n",
    "https://docs.dgl.ai/en/0.6.x/guide/message-heterograph.html<br>\n",
    "https://docs.dgl.ai/en/0.6.x/tutorials/basics/5_hetero.html<br>"
   ]
  },
  {
   "cell_type": "code",
   "execution_count": 3,
   "id": "b0d6872c",
   "metadata": {},
   "outputs": [],
   "source": [
    "df = pd.read_csv('ratings_small.csv')"
   ]
  },
  {
   "cell_type": "code",
   "execution_count": 13,
   "id": "c7c1cd33",
   "metadata": {},
   "outputs": [
    {
     "data": {
      "text/plain": [
       "count     671.000000\n",
       "mean      149.037258\n",
       "std       231.226948\n",
       "min        20.000000\n",
       "25%        37.000000\n",
       "50%        71.000000\n",
       "75%       161.000000\n",
       "max      2391.000000\n",
       "dtype: float64"
      ]
     },
     "execution_count": 13,
     "metadata": {},
     "output_type": "execute_result"
    }
   ],
   "source": [
    "df.groupby('userId').size().describe()"
   ]
  },
  {
   "cell_type": "code",
   "execution_count": 22,
   "id": "cb52c09a",
   "metadata": {},
   "outputs": [
    {
     "data": {
      "text/plain": [
       "count    9066.000000\n",
       "mean       11.030664\n",
       "std        24.050800\n",
       "min         1.000000\n",
       "25%         1.000000\n",
       "50%         3.000000\n",
       "75%         9.000000\n",
       "max       341.000000\n",
       "dtype: float64"
      ]
     },
     "execution_count": 22,
     "metadata": {},
     "output_type": "execute_result"
    }
   ],
   "source": [
    "df.groupby('movieId').size().describe()"
   ]
  },
  {
   "cell_type": "code",
   "execution_count": 18,
   "id": "c9645954",
   "metadata": {},
   "outputs": [],
   "source": [
    "df.drop(columns=['timestamp'], inplace=True)"
   ]
  },
  {
   "cell_type": "code",
   "execution_count": 384,
   "id": "7c22123e",
   "metadata": {},
   "outputs": [
    {
     "data": {
      "text/html": [
       "<div>\n",
       "<style scoped>\n",
       "    .dataframe tbody tr th:only-of-type {\n",
       "        vertical-align: middle;\n",
       "    }\n",
       "\n",
       "    .dataframe tbody tr th {\n",
       "        vertical-align: top;\n",
       "    }\n",
       "\n",
       "    .dataframe thead th {\n",
       "        text-align: right;\n",
       "    }\n",
       "</style>\n",
       "<table border=\"1\" class=\"dataframe\">\n",
       "  <thead>\n",
       "    <tr style=\"text-align: right;\">\n",
       "      <th></th>\n",
       "      <th>userId</th>\n",
       "      <th>movieId</th>\n",
       "      <th>rating</th>\n",
       "      <th>encoded_user</th>\n",
       "      <th>encoded_movie</th>\n",
       "    </tr>\n",
       "  </thead>\n",
       "  <tbody>\n",
       "    <tr>\n",
       "      <th>0</th>\n",
       "      <td>1</td>\n",
       "      <td>31</td>\n",
       "      <td>2.5</td>\n",
       "      <td>0</td>\n",
       "      <td>30</td>\n",
       "    </tr>\n",
       "    <tr>\n",
       "      <th>1</th>\n",
       "      <td>1</td>\n",
       "      <td>1029</td>\n",
       "      <td>3.0</td>\n",
       "      <td>0</td>\n",
       "      <td>833</td>\n",
       "    </tr>\n",
       "    <tr>\n",
       "      <th>2</th>\n",
       "      <td>1</td>\n",
       "      <td>1061</td>\n",
       "      <td>3.0</td>\n",
       "      <td>0</td>\n",
       "      <td>859</td>\n",
       "    </tr>\n",
       "    <tr>\n",
       "      <th>3</th>\n",
       "      <td>1</td>\n",
       "      <td>1129</td>\n",
       "      <td>2.0</td>\n",
       "      <td>0</td>\n",
       "      <td>906</td>\n",
       "    </tr>\n",
       "    <tr>\n",
       "      <th>4</th>\n",
       "      <td>1</td>\n",
       "      <td>1172</td>\n",
       "      <td>4.0</td>\n",
       "      <td>0</td>\n",
       "      <td>931</td>\n",
       "    </tr>\n",
       "  </tbody>\n",
       "</table>\n",
       "</div>"
      ],
      "text/plain": [
       "   userId  movieId  rating  encoded_user  encoded_movie\n",
       "0       1       31     2.5             0             30\n",
       "1       1     1029     3.0             0            833\n",
       "2       1     1061     3.0             0            859\n",
       "3       1     1129     2.0             0            906\n",
       "4       1     1172     4.0             0            931"
      ]
     },
     "execution_count": 384,
     "metadata": {},
     "output_type": "execute_result"
    }
   ],
   "source": [
    "df.head()"
   ]
  },
  {
   "cell_type": "code",
   "execution_count": 42,
   "id": "44997ffd",
   "metadata": {},
   "outputs": [],
   "source": [
    "encoders = {\n",
    "    'user': preprocessing.LabelEncoder(),\n",
    "    'movie': preprocessing.LabelEncoder(),\n",
    "}"
   ]
  },
  {
   "cell_type": "code",
   "execution_count": 43,
   "id": "8cad0db4",
   "metadata": {},
   "outputs": [],
   "source": [
    "df['encoded_user'] = encoders['user'].fit_transform(df.userId)\n",
    "df['encoded_movie'] = encoders['movie'].fit_transform(df.movieId)"
   ]
  },
  {
   "cell_type": "code",
   "execution_count": 46,
   "id": "37247f7e",
   "metadata": {},
   "outputs": [
    {
     "data": {
      "text/plain": [
       "count    100004.000000\n",
       "mean        346.011310\n",
       "std         195.163838\n",
       "min           0.000000\n",
       "25%         181.000000\n",
       "50%         366.000000\n",
       "75%         519.000000\n",
       "max         670.000000\n",
       "Name: encoded_user, dtype: float64"
      ]
     },
     "execution_count": 46,
     "metadata": {},
     "output_type": "execute_result"
    }
   ],
   "source": [
    "df.encoded_user.describe()"
   ]
  },
  {
   "cell_type": "markdown",
   "id": "c5eb6359",
   "metadata": {},
   "source": [
    "## Graph construction\n",
    "Dataset`ratings_small`: rating as edge feature"
   ]
  },
  {
   "cell_type": "code",
   "execution_count": 385,
   "id": "35ac6723",
   "metadata": {},
   "outputs": [],
   "source": [
    "data_dict = {\n",
    "    ('user', 'rates', 'movie'): (torch.tensor(df.encoded_user), torch.tensor(df.encoded_movie))\n",
    "}\n",
    "\n",
    "#num_nodes_dict = {'user': df.userId.nunique(), 'movie': df.movieId.nunique()}\n",
    "\n",
    "g = dgl.heterograph(data_dict, num_nodes_dict=num_nodes_dict)"
   ]
  },
  {
   "cell_type": "code",
   "execution_count": 386,
   "id": "89396fcd",
   "metadata": {},
   "outputs": [
    {
     "data": {
      "text/plain": [
       "Graph(num_nodes={'movie': 9066, 'user': 671},\n",
       "      num_edges={('user', 'rates', 'movie'): 100004},\n",
       "      metagraph=[('user', 'movie', 'rates')])"
      ]
     },
     "execution_count": 386,
     "metadata": {},
     "output_type": "execute_result"
    }
   ],
   "source": [
    "g"
   ]
  },
  {
   "cell_type": "code",
   "execution_count": 387,
   "id": "94ded2bc",
   "metadata": {},
   "outputs": [],
   "source": [
    "g.edata['rating'] = torch.tensor(df.rating)"
   ]
  },
  {
   "cell_type": "markdown",
   "id": "38e4a631",
   "metadata": {},
   "source": [
    "## Training and test set\n",
    "https://docs.dgl.ai/tutorials/blitz/4_link_predict.html?highlight=split%20edge%20set%20training%20testing"
   ]
  },
  {
   "cell_type": "code",
   "execution_count": 250,
   "id": "fa67f1ef",
   "metadata": {},
   "outputs": [],
   "source": [
    "u, v = g.edges()\n",
    "\n",
    "eids = np.arange(g.number_of_edges())\n",
    "eids = np.random.permutation(eids)\n",
    "\n",
    "# 20% test\n",
    "test_size = int(len(eids) * 0.2)\n",
    "train_size = g.number_of_edges() - test_size\n",
    "\n",
    "\n",
    "train_pos_u, train_pos_v = u[eids[test_size:]], v[eids[test_size:]]\n",
    "test_pos_u, test_pos_v = u[eids[:test_size]], v[eids[:test_size]]"
   ]
  },
  {
   "cell_type": "markdown",
   "id": "246d736f",
   "metadata": {},
   "source": [
    "#### Negative sampling"
   ]
  },
  {
   "cell_type": "code",
   "execution_count": 251,
   "id": "d1d18b32",
   "metadata": {},
   "outputs": [],
   "source": [
    "# Find all negative edges and split them for training and testing\n",
    "adj = sp.coo_matrix((np.ones(len(u)), (u.numpy(), v.numpy())))\n",
    "adj_neg = -1*adj.todense()+1\n",
    "neg_u, neg_v = np.where(adj_neg != 0)\n",
    "\n",
    "neg_eids = np.random.choice(len(neg_u), g.number_of_edges())\n",
    "test_neg_u, test_neg_v = neg_u[neg_eids[:test_size]], neg_v[neg_eids[:test_size]]\n",
    "train_neg_u, train_neg_v = neg_u[neg_eids[test_size:]], neg_v[neg_eids[test_size:]]"
   ]
  },
  {
   "cell_type": "code",
   "execution_count": 252,
   "id": "b71c1e23",
   "metadata": {},
   "outputs": [],
   "source": [
    "assert adj.todense()[neg_u,neg_v].all() == 0"
   ]
  },
  {
   "cell_type": "code",
   "execution_count": 253,
   "id": "66550bd2",
   "metadata": {},
   "outputs": [],
   "source": [
    "train_g = dgl.remove_edges(g, eids[:test_size])"
   ]
  },
  {
   "cell_type": "markdown",
   "id": "12d517eb",
   "metadata": {},
   "source": [
    "## GNN Definition"
   ]
  },
  {
   "cell_type": "code",
   "execution_count": 295,
   "id": "2f37a7d3",
   "metadata": {},
   "outputs": [],
   "source": [
    "import dgl.function as fn"
   ]
  },
  {
   "cell_type": "code",
   "execution_count": 456,
   "id": "c1196c61",
   "metadata": {},
   "outputs": [],
   "source": [
    "class CustomGNN(nn.Module):\n",
    "    def __init__(self, in_dim, out_dim):\n",
    "        \n",
    "        super(CustomGNN, self).__init__()\n",
    "        \n",
    "        # Weights\n",
    "        self.user_w = nn.Parameter(torch.FloatTensor(in_dim,out_dim))\n",
    "        self.movie_w = nn.Parameter(torch.FloatTensor(in_dim,out_dim))\n",
    "        self.edge_w = nn.Parameter(torch.FloatTensor(1,out_dim))\n",
    "            \n",
    "        self.reset_parameters()\n",
    "        \n",
    "        \n",
    "    def reset_parameters(self):\n",
    "        gain = nn.init.calculate_gain('relu')\n",
    "        \n",
    "        #attention layer init\n",
    "        nn.init.xavier_normal_(self.user_w, gain=gain)\n",
    "        nn.init.xavier_normal_(self.movie_w, gain=gain)\n",
    "        nn.init.xavier_normal_(self.edge_w, gain=gain)\n",
    "        \n",
    "    def forward(self, g, user_feat, movie_feat, edge_features):\n",
    "        with g.local_scope():\n",
    "            g.ndata['feat'] = {'movie':movie_feat@self.movie_w, 'user':user_feat@self.user_w}\n",
    "            g.edata['e_feat'] = edge_features.view(-1,1).float()@self.edge_w\n",
    "            \n",
    "            g.update_all(fn.u_mul_e('feat', 'e_feat', 'm'), fn.mean('m', 'h_out'))\n",
    "            \n",
    "            # User nodes dont get updated in message passing\n",
    "            g.nodes['user'].data['h_out'] = g.ndata['feat']['user']\n",
    "            \n",
    "            return {ntype : g.nodes[ntype].data['h_out'] for ntype in g.ntypes}"
   ]
  },
  {
   "cell_type": "code",
   "execution_count": 470,
   "id": "d2aca90f",
   "metadata": {},
   "outputs": [],
   "source": [
    "user_feat = nn.Embedding(g.num_nodes('user'), 128)\n",
    "movie_feat = nn.Embedding(g.num_nodes('movie'), 128)"
   ]
  },
  {
   "cell_type": "code",
   "execution_count": 471,
   "id": "a2da183c",
   "metadata": {},
   "outputs": [],
   "source": [
    "gnn = CustomGNN(128, 256)"
   ]
  },
  {
   "cell_type": "code",
   "execution_count": 472,
   "id": "07d90b53",
   "metadata": {},
   "outputs": [],
   "source": [
    "out = gnn(g, user_feat.weight, movie_feat.weight, g.edata['rating'])"
   ]
  },
  {
   "cell_type": "code",
   "execution_count": 473,
   "id": "7deca261",
   "metadata": {},
   "outputs": [
    {
     "data": {
      "text/plain": [
       "torch.Size([9066, 256])"
      ]
     },
     "execution_count": 473,
     "metadata": {},
     "output_type": "execute_result"
    }
   ],
   "source": [
    "out['movie'].shape"
   ]
  },
  {
   "cell_type": "code",
   "execution_count": 479,
   "id": "a042c202",
   "metadata": {},
   "outputs": [
    {
     "data": {
      "text/plain": [
       "torch.Size([671, 256])"
      ]
     },
     "execution_count": 479,
     "metadata": {},
     "output_type": "execute_result"
    }
   ],
   "source": [
    "out['user'].shape"
   ]
  },
  {
   "cell_type": "markdown",
   "id": "e75e436b",
   "metadata": {},
   "source": [
    "#### Continue link prediction: dgl\n",
    "https://docs.dgl.ai/en/0.7.x/tutorials/blitz/4_link_predict.html<br>\n",
    "https://docs.dgl.ai/en/0.6.x/_modules/dgl/nn/pytorch/hetero.html"
   ]
  },
  {
   "cell_type": "code",
   "execution_count": 488,
   "id": "a8ec9008",
   "metadata": {},
   "outputs": [],
   "source": [
    "from dgl.nn.pytorch.hetero import HeteroGraphConv"
   ]
  },
  {
   "cell_type": "code",
   "execution_count": 498,
   "id": "ff997167",
   "metadata": {},
   "outputs": [],
   "source": [
    "conv = HeteroGraphConv({'rates' : dgl.nn.SAGEConv(256,256, aggregator_type='mean')})"
   ]
  }
 ],
 "metadata": {
  "kernelspec": {
   "display_name": "Python 3 (ipykernel)",
   "language": "python",
   "name": "python3"
  },
  "language_info": {
   "codemirror_mode": {
    "name": "ipython",
    "version": 3
   },
   "file_extension": ".py",
   "mimetype": "text/x-python",
   "name": "python",
   "nbconvert_exporter": "python",
   "pygments_lexer": "ipython3",
   "version": "3.8.8"
  }
 },
 "nbformat": 4,
 "nbformat_minor": 5
}
