{
 "cells": [
  {
   "cell_type": "code",
   "execution_count": 1,
   "id": "96e7d88d",
   "metadata": {},
   "outputs": [],
   "source": [
    "import pandas as pd\n",
    "import numpy as np"
   ]
  },
  {
   "cell_type": "code",
   "execution_count": 34,
   "id": "a3ff90c2",
   "metadata": {},
   "outputs": [],
   "source": [
    "import matplotlib.pyplot as plt\n",
    "import networkx as nx"
   ]
  },
  {
   "cell_type": "code",
   "execution_count": 3,
   "id": "43a5727c",
   "metadata": {},
   "outputs": [],
   "source": [
    "from sklearn import preprocessing"
   ]
  },
  {
   "cell_type": "markdown",
   "id": "7138de86",
   "metadata": {},
   "source": [
    "# 1. Load data"
   ]
  },
  {
   "cell_type": "code",
   "execution_count": 4,
   "id": "09e6bf48",
   "metadata": {},
   "outputs": [],
   "source": [
    "df = pd.read_csv('ratings_small.csv')"
   ]
  },
  {
   "cell_type": "code",
   "execution_count": 5,
   "id": "0b2041cf",
   "metadata": {},
   "outputs": [
    {
     "data": {
      "text/plain": [
       "(100004, 4)"
      ]
     },
     "execution_count": 5,
     "metadata": {},
     "output_type": "execute_result"
    }
   ],
   "source": [
    "df.shape"
   ]
  },
  {
   "cell_type": "code",
   "execution_count": 11,
   "id": "80e3f0cf",
   "metadata": {},
   "outputs": [
    {
     "data": {
      "text/html": [
       "<div>\n",
       "<style scoped>\n",
       "    .dataframe tbody tr th:only-of-type {\n",
       "        vertical-align: middle;\n",
       "    }\n",
       "\n",
       "    .dataframe tbody tr th {\n",
       "        vertical-align: top;\n",
       "    }\n",
       "\n",
       "    .dataframe thead th {\n",
       "        text-align: right;\n",
       "    }\n",
       "</style>\n",
       "<table border=\"1\" class=\"dataframe\">\n",
       "  <thead>\n",
       "    <tr style=\"text-align: right;\">\n",
       "      <th></th>\n",
       "      <th>userId</th>\n",
       "      <th>movieId</th>\n",
       "      <th>rating</th>\n",
       "      <th>timestamp</th>\n",
       "    </tr>\n",
       "  </thead>\n",
       "  <tbody>\n",
       "    <tr>\n",
       "      <th>0</th>\n",
       "      <td>1</td>\n",
       "      <td>31</td>\n",
       "      <td>2.5</td>\n",
       "      <td>1260759144</td>\n",
       "    </tr>\n",
       "    <tr>\n",
       "      <th>1</th>\n",
       "      <td>1</td>\n",
       "      <td>1029</td>\n",
       "      <td>3.0</td>\n",
       "      <td>1260759179</td>\n",
       "    </tr>\n",
       "  </tbody>\n",
       "</table>\n",
       "</div>"
      ],
      "text/plain": [
       "   userId  movieId  rating   timestamp\n",
       "0       1       31     2.5  1260759144\n",
       "1       1     1029     3.0  1260759179"
      ]
     },
     "execution_count": 11,
     "metadata": {},
     "output_type": "execute_result"
    }
   ],
   "source": [
    "df.head(2)"
   ]
  },
  {
   "cell_type": "code",
   "execution_count": 12,
   "id": "2faaf036",
   "metadata": {},
   "outputs": [
    {
     "data": {
      "text/html": [
       "<div>\n",
       "<style scoped>\n",
       "    .dataframe tbody tr th:only-of-type {\n",
       "        vertical-align: middle;\n",
       "    }\n",
       "\n",
       "    .dataframe tbody tr th {\n",
       "        vertical-align: top;\n",
       "    }\n",
       "\n",
       "    .dataframe thead th {\n",
       "        text-align: right;\n",
       "    }\n",
       "</style>\n",
       "<table border=\"1\" class=\"dataframe\">\n",
       "  <thead>\n",
       "    <tr style=\"text-align: right;\">\n",
       "      <th></th>\n",
       "      <th>count</th>\n",
       "      <th>mean</th>\n",
       "      <th>std</th>\n",
       "      <th>min</th>\n",
       "      <th>25%</th>\n",
       "      <th>50%</th>\n",
       "      <th>75%</th>\n",
       "      <th>max</th>\n",
       "    </tr>\n",
       "  </thead>\n",
       "  <tbody>\n",
       "    <tr>\n",
       "      <th>userId</th>\n",
       "      <td>100004.0</td>\n",
       "      <td>3.470113e+02</td>\n",
       "      <td>1.951638e+02</td>\n",
       "      <td>1.0</td>\n",
       "      <td>182.0</td>\n",
       "      <td>3.670000e+02</td>\n",
       "      <td>5.200000e+02</td>\n",
       "      <td>6.710000e+02</td>\n",
       "    </tr>\n",
       "    <tr>\n",
       "      <th>movieId</th>\n",
       "      <td>100004.0</td>\n",
       "      <td>1.254866e+04</td>\n",
       "      <td>2.636920e+04</td>\n",
       "      <td>1.0</td>\n",
       "      <td>1028.0</td>\n",
       "      <td>2.406500e+03</td>\n",
       "      <td>5.418000e+03</td>\n",
       "      <td>1.639490e+05</td>\n",
       "    </tr>\n",
       "    <tr>\n",
       "      <th>rating</th>\n",
       "      <td>100004.0</td>\n",
       "      <td>3.543608e+00</td>\n",
       "      <td>1.058064e+00</td>\n",
       "      <td>0.5</td>\n",
       "      <td>3.0</td>\n",
       "      <td>4.000000e+00</td>\n",
       "      <td>4.000000e+00</td>\n",
       "      <td>5.000000e+00</td>\n",
       "    </tr>\n",
       "    <tr>\n",
       "      <th>timestamp</th>\n",
       "      <td>100004.0</td>\n",
       "      <td>1.129639e+09</td>\n",
       "      <td>1.916858e+08</td>\n",
       "      <td>789652009.0</td>\n",
       "      <td>965847824.0</td>\n",
       "      <td>1.110422e+09</td>\n",
       "      <td>1.296192e+09</td>\n",
       "      <td>1.476641e+09</td>\n",
       "    </tr>\n",
       "  </tbody>\n",
       "</table>\n",
       "</div>"
      ],
      "text/plain": [
       "              count          mean           std          min          25%  \\\n",
       "userId     100004.0  3.470113e+02  1.951638e+02          1.0        182.0   \n",
       "movieId    100004.0  1.254866e+04  2.636920e+04          1.0       1028.0   \n",
       "rating     100004.0  3.543608e+00  1.058064e+00          0.5          3.0   \n",
       "timestamp  100004.0  1.129639e+09  1.916858e+08  789652009.0  965847824.0   \n",
       "\n",
       "                    50%           75%           max  \n",
       "userId     3.670000e+02  5.200000e+02  6.710000e+02  \n",
       "movieId    2.406500e+03  5.418000e+03  1.639490e+05  \n",
       "rating     4.000000e+00  4.000000e+00  5.000000e+00  \n",
       "timestamp  1.110422e+09  1.296192e+09  1.476641e+09  "
      ]
     },
     "execution_count": 12,
     "metadata": {},
     "output_type": "execute_result"
    }
   ],
   "source": [
    "df.describe().T"
   ]
  },
  {
   "cell_type": "markdown",
   "id": "a4f6a26a",
   "metadata": {},
   "source": [
    "# 2. Data preprocessing"
   ]
  },
  {
   "cell_type": "code",
   "execution_count": 17,
   "id": "5885db62",
   "metadata": {},
   "outputs": [],
   "source": [
    "encoders = {\n",
    "    'user': preprocessing.LabelEncoder(),\n",
    "    'movie': preprocessing.LabelEncoder(),\n",
    "}"
   ]
  },
  {
   "cell_type": "code",
   "execution_count": 18,
   "id": "fa32b689",
   "metadata": {},
   "outputs": [],
   "source": [
    "df['encoded_user'] = encoders['user'].fit_transform(df.userId)\n",
    "df['encoded_movie'] = encoders['movie'].fit_transform(df.movieId)"
   ]
  },
  {
   "cell_type": "markdown",
   "id": "fc811dad",
   "metadata": {},
   "source": [
    "- If rating is >= 4, we consider there is a positive edge for this user-movie pair"
   ]
  },
  {
   "cell_type": "code",
   "execution_count": 22,
   "id": "e2ec3718",
   "metadata": {},
   "outputs": [],
   "source": [
    "df['pos_edge'] = df['rating'].apply(lambda x: 1 if x >=4 else 0)"
   ]
  },
  {
   "cell_type": "code",
   "execution_count": 30,
   "id": "2135ae0f",
   "metadata": {},
   "outputs": [],
   "source": [
    "df_pos = df[df['pos_edge']==1].reset_index()\n",
    "df_neg = df[df['pos_edge']==0].reset_index()"
   ]
  },
  {
   "cell_type": "code",
   "execution_count": 33,
   "id": "d2727c15",
   "metadata": {},
   "outputs": [
    {
     "data": {
      "text/plain": [
       "((51568, 8), (48436, 8))"
      ]
     },
     "execution_count": 33,
     "metadata": {},
     "output_type": "execute_result"
    }
   ],
   "source": [
    "df_pos.shape, df_neg.shape"
   ]
  },
  {
   "cell_type": "code",
   "execution_count": 28,
   "id": "0ec499ee",
   "metadata": {},
   "outputs": [
    {
     "name": "stdout",
     "output_type": "stream",
     "text": [
      "Number of unique users: 671\n",
      "Number of unique movies: 6170\n"
     ]
    }
   ],
   "source": [
    "print('Number of unique users:', df_pos['userId'].nunique())\n",
    "print('Number of unique movies:', df_pos['movieId'].nunique())"
   ]
  },
  {
   "cell_type": "code",
   "execution_count": 20,
   "id": "fb3337ab",
   "metadata": {},
   "outputs": [
    {
     "data": {
      "text/plain": [
       "array([  30,  833,  859, ...,  115, 3712, 4629], dtype=int64)"
      ]
     },
     "execution_count": 20,
     "metadata": {},
     "output_type": "execute_result"
    }
   ],
   "source": [
    "df['encoded_movie'].unique()"
   ]
  },
  {
   "cell_type": "markdown",
   "id": "ca88bfee",
   "metadata": {},
   "source": [
    "## 2.1 basic EDA"
   ]
  },
  {
   "cell_type": "code",
   "execution_count": 77,
   "id": "4fead767",
   "metadata": {},
   "outputs": [
    {
     "data": {
      "image/png": "[encoded data removed]",
      "text/plain": [
       "<Figure size 720x432 with 1 Axes>"
      ]
     },
     "metadata": {
      "needs_background": "light"
     },
     "output_type": "display_data"
    },
    {
     "data": {
      "image/png": "[encoded data removed]",
      "text/plain": [
       "<Figure size 720x432 with 1 Axes>"
      ]
     },
     "metadata": {
      "needs_background": "light"
     },
     "output_type": "display_data"
    }
   ],
   "source": [
    "user_connections_count = df_pos.groupby('encoded_user')['encoded_movie'].count()\n",
    "\n",
    "# Plot the distribution using a histogram\n",
    "plt.figure(figsize=(10, 6))\n",
    "plt.hist(user_connections_count, bins=50, color='blue', alpha=0.7)\n",
    "plt.xlabel('Number of Positive Connections')\n",
    "plt.ylabel('Number of Users')\n",
    "plt.title('Distribution of Positive Connections per User')\n",
    "plt.grid(True)\n",
    "plt.show()\n",
    "\n",
    "\n",
    "user_connections_count = df_neg.groupby('encoded_user')['encoded_movie'].count()\n",
    "\n",
    "# Plot the distribution using a histogram\n",
    "plt.figure(figsize=(10, 6))\n",
    "plt.hist(user_connections_count, bins=50, color='red', alpha=0.7)\n",
    "plt.xlabel('Number of Negative Connections')\n",
    "plt.ylabel('Number of Users')\n",
    "plt.title('Distribution of Negative Connections per User')\n",
    "plt.grid(True)\n",
    "plt.show()"
   ]
  },
  {
   "cell_type": "code",
   "execution_count": 75,
   "id": "8fc1d0fc",
   "metadata": {},
   "outputs": [],
   "source": [
    "def plot_bipartite_graph(df_pos, df_neg, user_id):\n",
    "    # Create an empty bipartite graph\n",
    "    G = nx.Graph()\n",
    "\n",
    "    # Add nodes for positive connections (movies) and negative connections (movies)\n",
    "    positive_movies = set(df_pos[df_pos['encoded_user'] == user_id]['encoded_movie'])\n",
    "    negative_movies = set(df_neg[df_neg['encoded_user'] == user_id]['encoded_movie'])\n",
    "    for movie_id in positive_movies:\n",
    "        G.add_node(movie_id, bipartite=1)\n",
    "    for movie_id in negative_movies:\n",
    "        G.add_node(movie_id, bipartite=1)\n",
    "\n",
    "    # Add the user node\n",
    "    G.add_node(user_id, bipartite=0)\n",
    "\n",
    "    # Add edges for positive connections (blue color)\n",
    "    for _, row in df_pos[df_pos['encoded_user'] == user_id].iterrows():\n",
    "        G.add_edge(user_id, row['encoded_movie'], color='blue', label=row['encoded_movie'])\n",
    "\n",
    "    # Add edges for negative connections (red color)\n",
    "    for _, row in df_neg[df_neg['encoded_user'] == user_id].iterrows():\n",
    "        G.add_edge(user_id, row['encoded_movie'], color='red', label=row['encoded_movie'])\n",
    "\n",
    "    # Separate the bipartite nodes for layout\n",
    "    pos = nx.bipartite_layout(G, nodes=[n for n, d in G.nodes(data=True) if d['bipartite'] == 0])\n",
    "    \n",
    "    edges = G.edges()\n",
    "    colors = [G[u][v]['color'] for u,v in edges]\n",
    "    \n",
    "    nx.draw(G, pos, with_labels=True, font_size=8, node_color='skyblue', node_size=500, edge_color=colors)\n",
    "    \n",
    "    plt.title(f\"Bipartite Graph for User {user_id}\")\n",
    "    plt.show()\n"
   ]
  },
  {
   "cell_type": "code",
   "execution_count": 76,
   "id": "8afe46a3",
   "metadata": {},
   "outputs": [
    {
     "data": {
      "image/png": "[encoded data removed]",
      "text/plain": [
       "<Figure size 432x288 with 1 Axes>"
      ]
     },
     "metadata": {},
     "output_type": "display_data"
    }
   ],
   "source": [
    "plot_bipartite_graph(df_pos, df_neg, user_id=0)"
   ]
  },
  {
   "cell_type": "markdown",
   "id": "0d6524e2",
   "metadata": {},
   "source": [
    "# 3. Graph preprocessing"
   ]
  },
  {
   "cell_type": "code",
   "execution_count": 107,
   "id": "4e32c6f2",
   "metadata": {},
   "outputs": [],
   "source": [
    "import torch\n",
    "import torch.nn as nn\n",
    "from torch_geometric.data import Data\n",
    "from sklearn.model_selection import train_test_split"
   ]
  },
  {
   "cell_type": "code",
   "execution_count": 101,
   "id": "ca8ad8bc",
   "metadata": {},
   "outputs": [],
   "source": [
    "# Merge positive and negative edges dataframes\n",
    "df_merged = pd.concat([df_pos, df_neg], ignore_index=True)\n",
    "\n",
    "# Shuffle the merged dataframe\n",
    "df_merged_shuffled = df_merged.sample(frac=1, random_state=42).reset_index(drop=True)\n",
    "\n",
    "# Split the shuffled dataframe into train and test sets (70% training, 30% testing)\n",
    "train_ratio = 0.8\n",
    "train_size = int(train_ratio * len(df_merged_shuffled))\n",
    "\n",
    "train_data = df_merged_shuffled.iloc[:train_size]\n",
    "test_data = df_merged_shuffled.iloc[train_size:]"
   ]
  },
  {
   "cell_type": "code",
   "execution_count": 102,
   "id": "a52d724c",
   "metadata": {},
   "outputs": [
    {
     "data": {
      "text/plain": [
       "(0.5145182055672912, 0.52022398880056)"
      ]
     },
     "execution_count": 102,
     "metadata": {},
     "output_type": "execute_result"
    }
   ],
   "source": [
    "train_data.pos_edge.mean(), test_data.pos_edge.mean()"
   ]
  },
  {
   "cell_type": "markdown",
   "id": "c452240e",
   "metadata": {},
   "source": [
    "TODO\n",
    "\n",
    "- Crear el train edge index unicamente con aristas POSITIVAS del train. Esto actualizara los embeddings de los nodos de usuarios y peliculas\n",
    "- Modificar el modelo GNNMessagePassing para unicamente devolver actualizacion de embeddings de usuarios y peliculas\n",
    "- training loop, etc..\n",
    "- Aprender a usar data loaders de torch geom"
   ]
  },
  {
   "cell_type": "code",
   "execution_count": 194,
   "id": "0b31a3fa",
   "metadata": {},
   "outputs": [],
   "source": [
    "train_data_pos = train_data[train_data.pos_edge==1].reset_index(drop=True)\n",
    "train_data_neg = train_data[train_data.pos_edge==0].reset_index(drop=True)\n",
    "\n",
    "test_data_pos = test_data[test_data.pos_edge==1].reset_index(drop=True)\n",
    "test_data_neg = test_data[test_data.pos_edge==0].reset_index(drop=True)"
   ]
  },
  {
   "cell_type": "markdown",
   "id": "fa5996fe",
   "metadata": {},
   "source": [
    "# 4. Graph model"
   ]
  },
  {
   "cell_type": "code",
   "execution_count": 633,
   "id": "35a0caee",
   "metadata": {},
   "outputs": [],
   "source": [
    "import torch\n",
    "import torch.nn as nn\n",
    "import torch.nn.functional as F\n",
    "from torch_geometric.nn import GCNConv, LGConv, SAGEConv, GAT\n",
    "\n",
    "class GNNMessagePassing(nn.Module):\n",
    "    def __init__(self, num_users, num_movies, embedding_dim, hidden_dim):\n",
    "        super().__init__()\n",
    "        \n",
    "        self.user_embeddings = nn.Embedding(num_users, embedding_dim)\n",
    "        self.movie_embeddings = nn.Embedding(num_movies, embedding_dim)\n",
    "        self.conv_1 = SAGEConv(embedding_dim, hidden_dim)\n",
    "        self.conv_2 = SAGEConv(hidden_dim, hidden_dim)\n",
    "\n",
    "    def forward(self, edge_index):\n",
    "        # Get all user and movie embeddings\n",
    "        user_embeds = self.user_embeddings.weight\n",
    "        movie_embeds = self.movie_embeddings.weight\n",
    "\n",
    "        # Concatenate user and movie embeddings for message passing\n",
    "        x = torch.cat([user_embeds, movie_embeds], dim=0)\n",
    "\n",
    "        # Perform graph convolution (message passing)\n",
    "        x = F.gelu(self.conv_1(x, edge_index))\n",
    "        x = self.conv_2(x, edge_index)\n",
    "\n",
    "        # Separate updated embeddings for users and movies\n",
    "        user_updated = x[:user_embeds.shape[0]]\n",
    "        movie_updated = x[user_embeds.shape[0]:]\n",
    "\n",
    "        return dict(user_h=user_updated, movie_h=movie_updated)\n",
    "\n",
    "    \n",
    "class DotPredictor(nn.Module):\n",
    "    def __init__(self, in_dim, out_dim=1):\n",
    "        super().__init__()\n",
    "        self.linear_1 = nn.Linear(in_dim, in_dim)\n",
    "        self.linear_2 = nn.Linear(in_dim, out_dim)\n",
    "    \n",
    "    def forward(self, user_index, movie_index, user_feat, movie_feat):\n",
    "\n",
    "        dot = user_feat[user_index]*movie_feat[movie_index]\n",
    "        out = F.relu(self.linear_1(dot))\n",
    "        out = self.linear_2(out)\n",
    "        \n",
    "        return out"
   ]
  },
  {
   "cell_type": "markdown",
   "id": "b67c78ed",
   "metadata": {},
   "source": [
    "#### Sanity Check"
   ]
  },
  {
   "cell_type": "code",
   "execution_count": 543,
   "id": "976be60d",
   "metadata": {},
   "outputs": [],
   "source": [
    "n_users = df['userId'].nunique()\n",
    "n_movies = df['movieId'].nunique()\n",
    "\n",
    "embedding_dim=2\n",
    "hidden_dim = 2"
   ]
  },
  {
   "cell_type": "code",
   "execution_count": 544,
   "id": "6a8a54e4",
   "metadata": {},
   "outputs": [],
   "source": [
    "gnn_model = GNNMessagePassing(n_users, n_movies, embedding_dim, hidden_dim)\n",
    "\n",
    "dot_predictor = DotPredictor(hidden_dim, 1)"
   ]
  },
  {
   "cell_type": "code",
   "execution_count": 545,
   "id": "c2439244",
   "metadata": {},
   "outputs": [],
   "source": [
    "gnn_model.user_embeddings.weight.grad"
   ]
  },
  {
   "cell_type": "code",
   "execution_count": 546,
   "id": "16974b7f",
   "metadata": {},
   "outputs": [],
   "source": [
    "u = np.concatenate([train_data_pos['encoded_user'].values, train_data_pos['encoded_movie'].values])\n",
    "v = np.concatenate([train_data_pos['encoded_movie'].values, train_data_pos['encoded_user'].values])"
   ]
  },
  {
   "cell_type": "code",
   "execution_count": 547,
   "id": "d62771bf",
   "metadata": {},
   "outputs": [
    {
     "data": {
      "text/plain": [
       "((82326,), (82326,))"
      ]
     },
     "execution_count": 547,
     "metadata": {},
     "output_type": "execute_result"
    }
   ],
   "source": [
    "u.shape, v.shape"
   ]
  },
  {
   "cell_type": "code",
   "execution_count": 548,
   "id": "2ed9e425",
   "metadata": {},
   "outputs": [],
   "source": [
    "concatenated_array = np.stack([u,v], axis=0)"
   ]
  },
  {
   "cell_type": "code",
   "execution_count": 549,
   "id": "375608ed",
   "metadata": {},
   "outputs": [
    {
     "data": {
      "text/plain": [
       "(2, 82326)"
      ]
     },
     "execution_count": 549,
     "metadata": {},
     "output_type": "execute_result"
    }
   ],
   "source": [
    "concatenated_array.shape"
   ]
  },
  {
   "cell_type": "code",
   "execution_count": 550,
   "id": "10e7dadf",
   "metadata": {},
   "outputs": [],
   "source": [
    "edge_index = torch.tensor(concatenated_array, dtype=torch.long, requires_grad=False)"
   ]
  },
  {
   "cell_type": "code",
   "execution_count": 551,
   "id": "a6cdeed8",
   "metadata": {},
   "outputs": [],
   "source": [
    "h = gnn_model(edge_index)"
   ]
  },
  {
   "cell_type": "code",
   "execution_count": 552,
   "id": "1150156a",
   "metadata": {},
   "outputs": [
    {
     "data": {
      "text/plain": [
       "{'user_h': tensor([[-0.2463, -0.3433],\n",
       "         [-0.1589, -0.1916],\n",
       "         [-0.1371, -0.1644],\n",
       "         ...,\n",
       "         [-0.0520, -0.0721],\n",
       "         [-0.0654, -0.0878],\n",
       "         [-0.0500, -0.0779]], grad_fn=<SliceBackward0>),\n",
       " 'movie_h': tensor([[-0.0357, -0.0436],\n",
       "         [-0.7099, -0.6371],\n",
       "         [-0.1014, -0.1083],\n",
       "         ...,\n",
       "         [-0.7530, -1.1040],\n",
       "         [-1.7203, -2.0836],\n",
       "         [-0.0034, -0.0065]], grad_fn=<SliceBackward0>)}"
      ]
     },
     "execution_count": 552,
     "metadata": {},
     "output_type": "execute_result"
    }
   ],
   "source": [
    "h"
   ]
  },
  {
   "cell_type": "code",
   "execution_count": 553,
   "id": "641aab37",
   "metadata": {},
   "outputs": [],
   "source": [
    "u,v = edge_index[:,0].unsqueeze(1)"
   ]
  },
  {
   "cell_type": "code",
   "execution_count": 554,
   "id": "05334091",
   "metadata": {},
   "outputs": [
    {
     "data": {
      "text/plain": [
       "tensor([[-0.1645]], grad_fn=<AddmmBackward0>)"
      ]
     },
     "execution_count": 554,
     "metadata": {},
     "output_type": "execute_result"
    }
   ],
   "source": [
    "dot_predictor(u,v,h['user_h'], h['movie_h'])"
   ]
  },
  {
   "cell_type": "code",
   "execution_count": 555,
   "id": "7bc54756",
   "metadata": {},
   "outputs": [
    {
     "data": {
      "text/plain": [
       "tensor([[-0.1645]], grad_fn=<AddmmBackward0>)"
      ]
     },
     "execution_count": 555,
     "metadata": {},
     "output_type": "execute_result"
    }
   ],
   "source": [
    "result = dot_predictor(u,v,h['user_h'], h['movie_h'])\n",
    "result"
   ]
  },
  {
   "cell_type": "markdown",
   "id": "35da6064",
   "metadata": {},
   "source": [
    "# 5. Train loop"
   ]
  },
  {
   "cell_type": "code",
   "execution_count": 634,
   "id": "ff97a9cd",
   "metadata": {},
   "outputs": [],
   "source": [
    "u = np.concatenate([train_data_pos['encoded_user'].values, train_data_pos['encoded_movie'].values])\n",
    "v = np.concatenate([train_data_pos['encoded_movie'].values, train_data_pos['encoded_user'].values])\n",
    "concatenated_array = np.stack([u,v], axis=0)\n",
    "edge_index = torch.tensor(concatenated_array, dtype=torch.long, requires_grad=False)"
   ]
  },
  {
   "cell_type": "code",
   "execution_count": 635,
   "id": "a642e010",
   "metadata": {},
   "outputs": [],
   "source": [
    "train_pos_edges = torch.tensor(np.array([train_data_pos['encoded_user'].values, train_data_pos['encoded_movie'].values]), dtype=torch.long)\n",
    "train_neg_edges = torch.tensor(np.array([train_data_neg['encoded_user'].values, train_data_neg['encoded_movie'].values]), dtype=torch.long)\n",
    "\n",
    "test_pos_edges = torch.tensor(np.array([test_data_pos['encoded_user'].values, test_data_pos['encoded_movie'].values]), dtype=torch.long)\n",
    "test_neg_edges = torch.tensor(np.array([test_data_neg['encoded_user'].values, test_data_neg['encoded_movie'].values]), dtype=torch.long)\n",
    "\n",
    "\n",
    "train_pos_target = torch.ones(train_pos_edges.shape[1],1)\n",
    "train_neg_target = torch.zeros(train_neg_edges.shape[1],1)\n",
    "test_pos_target = torch.ones(test_pos_edges.shape[1],1)\n",
    "test_neg_target = torch.zeros(test_neg_edges.shape[1],1)"
   ]
  },
  {
   "cell_type": "code",
   "execution_count": 636,
   "id": "87f28706",
   "metadata": {},
   "outputs": [],
   "source": [
    "import torch.optim as optim\n",
    "import itertools"
   ]
  },
  {
   "cell_type": "code",
   "execution_count": 677,
   "id": "d1d45865",
   "metadata": {},
   "outputs": [],
   "source": [
    "# Global hyperparameters\n",
    "n_epochs = 160\n",
    "learning_rate = 0.005\n",
    "\n",
    "\n",
    "#gnn parameters\n",
    "n_users = df['userId'].nunique()\n",
    "n_movies = df['movieId'].nunique()\n",
    "\n",
    "embedding_dim=2\n",
    "hidden_dim = 8"
   ]
  },
  {
   "cell_type": "code",
   "execution_count": 678,
   "id": "f926e6b8",
   "metadata": {},
   "outputs": [],
   "source": [
    "gnn_model = GNNMessagePassing(n_users, n_movies, embedding_dim, hidden_dim)\n",
    "dot_predictor = DotPredictor(hidden_dim, 1)"
   ]
  },
  {
   "cell_type": "code",
   "execution_count": 679,
   "id": "f8ded6e1",
   "metadata": {},
   "outputs": [],
   "source": [
    "criterion = nn.BCEWithLogitsLoss()\n",
    "optimizer = optim.NAdam(itertools.chain(gnn_model.parameters(), \n",
    "                                       dot_predictor.parameters()), lr=learning_rate)"
   ]
  },
  {
   "cell_type": "code",
   "execution_count": 680,
   "id": "15616491",
   "metadata": {
    "scrolled": true
   },
   "outputs": [
    {
     "name": "stdout",
     "output_type": "stream",
     "text": [
      "Epoch 5/160, Train Loss: 1.3871, Train ROC AUC: 0.5017, Test Loss: 1.3867, Test ROC AUC: 0.5054\n",
      "Epoch 10/160, Train Loss: 1.3846, Train ROC AUC: 0.5225, Test Loss: 1.3849, Test ROC AUC: 0.5218\n",
      "Epoch 15/160, Train Loss: 1.3815, Train ROC AUC: 0.5417, Test Loss: 1.3825, Test ROC AUC: 0.5364\n",
      "Epoch 20/160, Train Loss: 1.3758, Train ROC AUC: 0.5592, Test Loss: 1.3784, Test ROC AUC: 0.5511\n",
      "Epoch 25/160, Train Loss: 1.3686, Train ROC AUC: 0.5781, Test Loss: 1.3730, Test ROC AUC: 0.5664\n",
      "Epoch 30/160, Train Loss: 1.3580, Train ROC AUC: 0.5972, Test Loss: 1.3653, Test ROC AUC: 0.5825\n",
      "Epoch 35/160, Train Loss: 1.3474, Train ROC AUC: 0.6183, Test Loss: 1.3567, Test ROC AUC: 0.5999\n",
      "Epoch 40/160, Train Loss: 1.3277, Train ROC AUC: 0.6407, Test Loss: 1.3438, Test ROC AUC: 0.6178\n",
      "Epoch 45/160, Train Loss: 1.3170, Train ROC AUC: 0.6600, Test Loss: 1.3333, Test ROC AUC: 0.6341\n",
      "Epoch 50/160, Train Loss: 1.2873, Train ROC AUC: 0.6816, Test Loss: 1.3175, Test ROC AUC: 0.6501\n",
      "Epoch 55/160, Train Loss: 1.2676, Train ROC AUC: 0.6994, Test Loss: 1.3050, Test ROC AUC: 0.6644\n",
      "Epoch 60/160, Train Loss: 1.2455, Train ROC AUC: 0.7165, Test Loss: 1.2903, Test ROC AUC: 0.6775\n",
      "Epoch 65/160, Train Loss: 1.2179, Train ROC AUC: 0.7323, Test Loss: 1.2778, Test ROC AUC: 0.6896\n",
      "Epoch 70/160, Train Loss: 1.2035, Train ROC AUC: 0.7455, Test Loss: 1.2657, Test ROC AUC: 0.6999\n",
      "Epoch 75/160, Train Loss: 1.1757, Train ROC AUC: 0.7590, Test Loss: 1.2535, Test ROC AUC: 0.7099\n",
      "Epoch 80/160, Train Loss: 1.1515, Train ROC AUC: 0.7701, Test Loss: 1.2415, Test ROC AUC: 0.7182\n",
      "Epoch 85/160, Train Loss: 1.1358, Train ROC AUC: 0.7805, Test Loss: 1.2346, Test ROC AUC: 0.7260\n",
      "Epoch 90/160, Train Loss: 1.1221, Train ROC AUC: 0.7884, Test Loss: 1.2230, Test ROC AUC: 0.7318\n",
      "Epoch 95/160, Train Loss: 1.0968, Train ROC AUC: 0.7973, Test Loss: 1.2170, Test ROC AUC: 0.7380\n",
      "Epoch 100/160, Train Loss: 1.0820, Train ROC AUC: 0.8038, Test Loss: 1.2097, Test ROC AUC: 0.7424\n",
      "Epoch 105/160, Train Loss: 1.0741, Train ROC AUC: 0.8102, Test Loss: 1.2087, Test ROC AUC: 0.7470\n",
      "Epoch 110/160, Train Loss: 1.0587, Train ROC AUC: 0.8151, Test Loss: 1.1989, Test ROC AUC: 0.7498\n",
      "Epoch 115/160, Train Loss: 1.0419, Train ROC AUC: 0.8205, Test Loss: 1.1992, Test ROC AUC: 0.7532\n",
      "Epoch 120/160, Train Loss: 1.0331, Train ROC AUC: 0.8243, Test Loss: 1.1948, Test ROC AUC: 0.7551\n",
      "Epoch 125/160, Train Loss: 1.0300, Train ROC AUC: 0.8280, Test Loss: 1.1985, Test ROC AUC: 0.7576\n",
      "Epoch 130/160, Train Loss: 1.0190, Train ROC AUC: 0.8307, Test Loss: 1.1903, Test ROC AUC: 0.7586\n",
      "Epoch 135/160, Train Loss: 1.0068, Train ROC AUC: 0.8339, Test Loss: 1.1938, Test ROC AUC: 0.7606\n",
      "Epoch 140/160, Train Loss: 1.0016, Train ROC AUC: 0.8358, Test Loss: 1.1910, Test ROC AUC: 0.7613\n",
      "Epoch 145/160, Train Loss: 1.0015, Train ROC AUC: 0.8379, Test Loss: 1.1966, Test ROC AUC: 0.7629\n",
      "Epoch 150/160, Train Loss: 0.9968, Train ROC AUC: 0.8392, Test Loss: 1.1895, Test ROC AUC: 0.7631\n",
      "Epoch 155/160, Train Loss: 0.9857, Train ROC AUC: 0.8412, Test Loss: 1.1940, Test ROC AUC: 0.7646\n",
      "Epoch 160/160, Train Loss: 0.9813, Train ROC AUC: 0.8423, Test Loss: 1.1919, Test ROC AUC: 0.7647\n"
     ]
    }
   ],
   "source": [
    "import pandas as pd\n",
    "import torch\n",
    "import torch.nn.functional as F\n",
    "from sklearn.metrics import roc_auc_score\n",
    "\n",
    "# Initialize an empty DataFrame to log the training and test losses per epoch\n",
    "losses_df = pd.DataFrame(columns=['Epoch', 'Train Loss', 'Test Loss', 'Train ROC AUC', 'Test ROC AUC'])\n",
    "\n",
    "# Training loop\n",
    "for epoch in range(n_epochs):\n",
    "    gnn_model.train()\n",
    "    dot_predictor.train()\n",
    "    \n",
    "    ### Message passing on training positive edges\n",
    "    optimizer.zero_grad()\n",
    "    h = gnn_model(edge_index)\n",
    "    \n",
    "    u, v = train_pos_edges\n",
    "    train_pos_logits = dot_predictor(u, v, h['user_h'], h['movie_h'])\n",
    "    u, v = train_neg_edges\n",
    "    train_neg_logits = dot_predictor(u, v, h['user_h'], h['movie_h'])\n",
    "    \n",
    "    pos_loss = criterion(train_pos_logits, train_pos_target)\n",
    "    neg_loss = criterion(train_neg_logits, train_neg_target)\n",
    "    \n",
    "    loss = pos_loss + neg_loss\n",
    "\n",
    "    # Backward pass and update weights\n",
    "    loss.backward()\n",
    "    optimizer.step()\n",
    "    \n",
    "    with torch.no_grad():\n",
    "        u, v = test_pos_edges\n",
    "        test_pos_logits = dot_predictor(u, v, h['user_h'], h['movie_h'])\n",
    "        u, v = test_neg_edges\n",
    "        test_neg_logits = dot_predictor(u, v, h['user_h'], h['movie_h'])\n",
    "        \n",
    "        pos_loss = criterion(test_pos_logits, test_pos_target)\n",
    "        neg_loss = criterion(test_neg_logits, test_neg_target)\n",
    "    \n",
    "        test_loss = pos_loss + neg_loss\n",
    "        \n",
    "        # Calculate the ROC AUC for both training and test sets\n",
    "        train_labels = torch.cat([train_pos_target, train_neg_target])\n",
    "        train_logits = torch.cat([train_pos_logits, train_neg_logits])\n",
    "        test_labels = torch.cat([test_pos_target, test_neg_target])\n",
    "        test_logits = torch.cat([test_pos_logits, test_neg_logits])\n",
    "\n",
    "        train_roc_auc = roc_auc_score(train_labels.numpy(), torch.sigmoid(train_logits).numpy())\n",
    "        test_roc_auc = roc_auc_score(test_labels.numpy(), torch.sigmoid(test_logits).numpy())\n",
    "    \n",
    "    losses_df = losses_df.append({'Epoch': epoch + 1,\n",
    "                                  'Train Loss': loss.item(),\n",
    "                                  'Test Loss': test_loss.item(),\n",
    "                                  'Train ROC AUC': train_roc_auc,\n",
    "                                  'Test ROC AUC': test_roc_auc},\n",
    "                                 ignore_index=True)\n",
    "    \n",
    "    if (epoch + 1) % 5 == 0:\n",
    "        print(f\"Epoch {epoch + 1}/{n_epochs}, Train Loss: {loss.item():.4f}, Train ROC AUC: {train_roc_auc:.4f}, Test Loss: {test_loss.item():.4f}, Test ROC AUC: {test_roc_auc:.4f}\")\n"
   ]
  },
  {
   "cell_type": "code",
   "execution_count": 681,
   "id": "2f2b046e",
   "metadata": {},
   "outputs": [
    {
     "data": {
      "image/png": "[encoded data removed]",
      "text/plain": [
       "<Figure size 576x288 with 1 Axes>"
      ]
     },
     "metadata": {
      "needs_background": "light"
     },
     "output_type": "display_data"
    }
   ],
   "source": [
    "# Create the plot\n",
    "plt.figure(figsize=(8, 4))\n",
    "\n",
    "# Plot the train loss\n",
    "plt.plot(losses_df['Epoch'], losses_df['Train Loss'], label='Train Loss', marker='o', linestyle='-')\n",
    "# Plot the test loss\n",
    "plt.plot(losses_df['Epoch'], losses_df['Test Loss'], label='Test Loss', marker='x', linestyle='-')\n",
    "\n",
    "# Add labels and title\n",
    "plt.xlabel('Epoch')\n",
    "plt.ylabel('Loss')\n",
    "plt.title('Training and Test Losses over Epochs')\n",
    "\n",
    "# Add a legend with a nice formatting for a scientific presentation\n",
    "plt.legend(loc='upper right', frameon=False, fontsize='medium')\n",
    "\n",
    "# Show the plot\n",
    "plt.tight_layout()\n",
    "plt.grid()\n",
    "plt.show()"
   ]
  },
  {
   "cell_type": "markdown",
   "id": "1a5d3b6f",
   "metadata": {},
   "source": [
    "# 6. Evaluation"
   ]
  },
  {
   "cell_type": "code",
   "execution_count": 682,
   "id": "500c39b9",
   "metadata": {},
   "outputs": [],
   "source": [
    "gnn_model.eval()\n",
    "dot_predictor.eval();"
   ]
  },
  {
   "cell_type": "code",
   "execution_count": 683,
   "id": "699cdc06",
   "metadata": {},
   "outputs": [],
   "source": [
    "with torch.no_grad():\n",
    "    h = gnn_model(edge_index)"
   ]
  },
  {
   "cell_type": "markdown",
   "id": "ecdf330d",
   "metadata": {},
   "source": [
    "#### 6.1 Train positive"
   ]
  },
  {
   "cell_type": "code",
   "execution_count": 684,
   "id": "dde039d7",
   "metadata": {},
   "outputs": [],
   "source": [
    "with torch.no_grad():\n",
    "    u,v = train_pos_edges\n",
    "    prediction = torch.sigmoid(dot_predictor(u,v,h['user_h'], h['movie_h'])).flatten().numpy()"
   ]
  },
  {
   "cell_type": "code",
   "execution_count": 685,
   "id": "083d7842",
   "metadata": {},
   "outputs": [],
   "source": [
    "train_data_pos['prediction'] = prediction"
   ]
  },
  {
   "cell_type": "code",
   "execution_count": 686,
   "id": "4344f37a",
   "metadata": {},
   "outputs": [
    {
     "data": {
      "text/plain": [
       "<AxesSubplot:ylabel='Frequency'>"
      ]
     },
     "execution_count": 686,
     "metadata": {},
     "output_type": "execute_result"
    },
    {
     "data": {
      "image/png": "[encoded data removed]",
      "text/plain": [
       "<Figure size 432x288 with 1 Axes>"
      ]
     },
     "metadata": {
      "needs_background": "light"
     },
     "output_type": "display_data"
    }
   ],
   "source": [
    "train_data_pos['prediction'].plot.hist()"
   ]
  },
  {
   "cell_type": "markdown",
   "id": "1cfb3d21",
   "metadata": {},
   "source": [
    "#### 6.2 Train negative"
   ]
  },
  {
   "cell_type": "code",
   "execution_count": 687,
   "id": "c8ffbfad",
   "metadata": {},
   "outputs": [],
   "source": [
    "with torch.no_grad():\n",
    "    u,v = train_neg_edges\n",
    "    prediction = torch.sigmoid(dot_predictor(u,v,h['user_h'], h['movie_h'])).flatten().numpy()"
   ]
  },
  {
   "cell_type": "code",
   "execution_count": 688,
   "id": "021e91c4",
   "metadata": {},
   "outputs": [],
   "source": [
    "train_data_neg['prediction'] = prediction"
   ]
  },
  {
   "cell_type": "code",
   "execution_count": 689,
   "id": "792291cf",
   "metadata": {},
   "outputs": [
    {
     "data": {
      "text/plain": [
       "<AxesSubplot:ylabel='Frequency'>"
      ]
     },
     "execution_count": 689,
     "metadata": {},
     "output_type": "execute_result"
    },
    {
     "data": {
      "image/png": "[encoded data removed]",
      "text/plain": [
       "<Figure size 432x288 with 1 Axes>"
      ]
     },
     "metadata": {
      "needs_background": "light"
     },
     "output_type": "display_data"
    }
   ],
   "source": [
    "train_data_neg['prediction'].plot.hist()"
   ]
  },
  {
   "cell_type": "markdown",
   "id": "e871134f",
   "metadata": {},
   "source": [
    "#### 6.3 Test positive"
   ]
  },
  {
   "cell_type": "code",
   "execution_count": 690,
   "id": "fe1f7d61",
   "metadata": {},
   "outputs": [],
   "source": [
    "with torch.no_grad():\n",
    "    u,v = test_pos_edges\n",
    "    prediction = torch.sigmoid(dot_predictor(u,v,h['user_h'], h['movie_h'])).flatten().numpy()"
   ]
  },
  {
   "cell_type": "code",
   "execution_count": 691,
   "id": "12541550",
   "metadata": {},
   "outputs": [],
   "source": [
    "test_data_pos['prediction'] = prediction"
   ]
  },
  {
   "cell_type": "code",
   "execution_count": 692,
   "id": "b6667132",
   "metadata": {},
   "outputs": [
    {
     "data": {
      "text/plain": [
       "<AxesSubplot:ylabel='Frequency'>"
      ]
     },
     "execution_count": 692,
     "metadata": {},
     "output_type": "execute_result"
    },
    {
     "data": {
      "image/png": "[encoded data removed]",
      "text/plain": [
       "<Figure size 432x288 with 1 Axes>"
      ]
     },
     "metadata": {
      "needs_background": "light"
     },
     "output_type": "display_data"
    }
   ],
   "source": [
    "test_data_pos['prediction'].plot.hist()"
   ]
  },
  {
   "cell_type": "markdown",
   "id": "b6760607",
   "metadata": {},
   "source": [
    "#### 6.4 Test negative"
   ]
  },
  {
   "cell_type": "code",
   "execution_count": 693,
   "id": "c70a4f4a",
   "metadata": {},
   "outputs": [],
   "source": [
    "with torch.no_grad():\n",
    "    u,v = test_neg_edges\n",
    "    prediction = torch.sigmoid(dot_predictor(u,v,h['user_h'], h['movie_h'])).flatten().numpy()"
   ]
  },
  {
   "cell_type": "code",
   "execution_count": 694,
   "id": "9e009be1",
   "metadata": {},
   "outputs": [],
   "source": [
    "test_data_neg['prediction'] = prediction"
   ]
  },
  {
   "cell_type": "code",
   "execution_count": 695,
   "id": "18f8efb1",
   "metadata": {},
   "outputs": [
    {
     "data": {
      "text/plain": [
       "<AxesSubplot:ylabel='Frequency'>"
      ]
     },
     "execution_count": 695,
     "metadata": {},
     "output_type": "execute_result"
    },
    {
     "data": {
      "image/png": "[encoded data removed]",
      "text/plain": [
       "<Figure size 432x288 with 1 Axes>"
      ]
     },
     "metadata": {
      "needs_background": "light"
     },
     "output_type": "display_data"
    }
   ],
   "source": [
    "test_data_neg['prediction'].plot.hist()"
   ]
  },
  {
   "cell_type": "markdown",
   "id": "649a9bfe",
   "metadata": {},
   "source": [
    "---"
   ]
  },
  {
   "cell_type": "code",
   "execution_count": 696,
   "id": "61452603",
   "metadata": {},
   "outputs": [
    {
     "data": {
      "text/html": [
       "<div>\n",
       "<style scoped>\n",
       "    .dataframe tbody tr th:only-of-type {\n",
       "        vertical-align: middle;\n",
       "    }\n",
       "\n",
       "    .dataframe tbody tr th {\n",
       "        vertical-align: top;\n",
       "    }\n",
       "\n",
       "    .dataframe thead th {\n",
       "        text-align: right;\n",
       "    }\n",
       "</style>\n",
       "<table border=\"1\" class=\"dataframe\">\n",
       "  <thead>\n",
       "    <tr style=\"text-align: right;\">\n",
       "      <th></th>\n",
       "      <th>index</th>\n",
       "      <th>userId</th>\n",
       "      <th>movieId</th>\n",
       "      <th>rating</th>\n",
       "      <th>timestamp</th>\n",
       "      <th>encoded_user</th>\n",
       "      <th>encoded_movie</th>\n",
       "      <th>pos_edge</th>\n",
       "      <th>prediction</th>\n",
       "    </tr>\n",
       "  </thead>\n",
       "  <tbody>\n",
       "    <tr>\n",
       "      <th>0</th>\n",
       "      <td>5510</td>\n",
       "      <td>30</td>\n",
       "      <td>2398</td>\n",
       "      <td>4.0</td>\n",
       "      <td>945296110</td>\n",
       "      <td>29</td>\n",
       "      <td>1908</td>\n",
       "      <td>1</td>\n",
       "      <td>0.698421</td>\n",
       "    </tr>\n",
       "    <tr>\n",
       "      <th>1</th>\n",
       "      <td>46540</td>\n",
       "      <td>342</td>\n",
       "      <td>1147</td>\n",
       "      <td>5.0</td>\n",
       "      <td>945123519</td>\n",
       "      <td>341</td>\n",
       "      <td>915</td>\n",
       "      <td>1</td>\n",
       "      <td>0.939591</td>\n",
       "    </tr>\n",
       "    <tr>\n",
       "      <th>2</th>\n",
       "      <td>94291</td>\n",
       "      <td>624</td>\n",
       "      <td>4981</td>\n",
       "      <td>4.0</td>\n",
       "      <td>1019127669</td>\n",
       "      <td>623</td>\n",
       "      <td>3862</td>\n",
       "      <td>1</td>\n",
       "      <td>0.737810</td>\n",
       "    </tr>\n",
       "    <tr>\n",
       "      <th>3</th>\n",
       "      <td>41418</td>\n",
       "      <td>297</td>\n",
       "      <td>3030</td>\n",
       "      <td>5.0</td>\n",
       "      <td>1318703908</td>\n",
       "      <td>296</td>\n",
       "      <td>2433</td>\n",
       "      <td>1</td>\n",
       "      <td>0.815781</td>\n",
       "    </tr>\n",
       "    <tr>\n",
       "      <th>4</th>\n",
       "      <td>89116</td>\n",
       "      <td>594</td>\n",
       "      <td>1220</td>\n",
       "      <td>5.0</td>\n",
       "      <td>938962080</td>\n",
       "      <td>593</td>\n",
       "      <td>976</td>\n",
       "      <td>1</td>\n",
       "      <td>0.744748</td>\n",
       "    </tr>\n",
       "    <tr>\n",
       "      <th>...</th>\n",
       "      <td>...</td>\n",
       "      <td>...</td>\n",
       "      <td>...</td>\n",
       "      <td>...</td>\n",
       "      <td>...</td>\n",
       "      <td>...</td>\n",
       "      <td>...</td>\n",
       "      <td>...</td>\n",
       "      <td>...</td>\n",
       "    </tr>\n",
       "    <tr>\n",
       "      <th>10400</th>\n",
       "      <td>86127</td>\n",
       "      <td>576</td>\n",
       "      <td>1206</td>\n",
       "      <td>4.0</td>\n",
       "      <td>1005426731</td>\n",
       "      <td>575</td>\n",
       "      <td>962</td>\n",
       "      <td>1</td>\n",
       "      <td>0.811471</td>\n",
       "    </tr>\n",
       "    <tr>\n",
       "      <th>10401</th>\n",
       "      <td>73426</td>\n",
       "      <td>512</td>\n",
       "      <td>107141</td>\n",
       "      <td>4.0</td>\n",
       "      <td>1434150137</td>\n",
       "      <td>511</td>\n",
       "      <td>8448</td>\n",
       "      <td>1</td>\n",
       "      <td>0.615158</td>\n",
       "    </tr>\n",
       "    <tr>\n",
       "      <th>10402</th>\n",
       "      <td>12563</td>\n",
       "      <td>78</td>\n",
       "      <td>7458</td>\n",
       "      <td>5.0</td>\n",
       "      <td>1344470476</td>\n",
       "      <td>77</td>\n",
       "      <td>5152</td>\n",
       "      <td>1</td>\n",
       "      <td>0.706183</td>\n",
       "    </tr>\n",
       "    <tr>\n",
       "      <th>10403</th>\n",
       "      <td>2051</td>\n",
       "      <td>15</td>\n",
       "      <td>7034</td>\n",
       "      <td>4.5</td>\n",
       "      <td>1443384409</td>\n",
       "      <td>14</td>\n",
       "      <td>4938</td>\n",
       "      <td>1</td>\n",
       "      <td>0.271865</td>\n",
       "    </tr>\n",
       "    <tr>\n",
       "      <th>10404</th>\n",
       "      <td>31480</td>\n",
       "      <td>228</td>\n",
       "      <td>116797</td>\n",
       "      <td>4.0</td>\n",
       "      <td>1449332415</td>\n",
       "      <td>227</td>\n",
       "      <td>8681</td>\n",
       "      <td>1</td>\n",
       "      <td>0.956938</td>\n",
       "    </tr>\n",
       "  </tbody>\n",
       "</table>\n",
       "<p>10405 rows × 9 columns</p>\n",
       "</div>"
      ],
      "text/plain": [
       "       index  userId  movieId  rating   timestamp  encoded_user  \\\n",
       "0       5510      30     2398     4.0   945296110            29   \n",
       "1      46540     342     1147     5.0   945123519           341   \n",
       "2      94291     624     4981     4.0  1019127669           623   \n",
       "3      41418     297     3030     5.0  1318703908           296   \n",
       "4      89116     594     1220     5.0   938962080           593   \n",
       "...      ...     ...      ...     ...         ...           ...   \n",
       "10400  86127     576     1206     4.0  1005426731           575   \n",
       "10401  73426     512   107141     4.0  1434150137           511   \n",
       "10402  12563      78     7458     5.0  1344470476            77   \n",
       "10403   2051      15     7034     4.5  1443384409            14   \n",
       "10404  31480     228   116797     4.0  1449332415           227   \n",
       "\n",
       "       encoded_movie  pos_edge  prediction  \n",
       "0               1908         1    0.698421  \n",
       "1                915         1    0.939591  \n",
       "2               3862         1    0.737810  \n",
       "3               2433         1    0.815781  \n",
       "4                976         1    0.744748  \n",
       "...              ...       ...         ...  \n",
       "10400            962         1    0.811471  \n",
       "10401           8448         1    0.615158  \n",
       "10402           5152         1    0.706183  \n",
       "10403           4938         1    0.271865  \n",
       "10404           8681         1    0.956938  \n",
       "\n",
       "[10405 rows x 9 columns]"
      ]
     },
     "execution_count": 696,
     "metadata": {},
     "output_type": "execute_result"
    }
   ],
   "source": [
    "test_data_pos"
   ]
  },
  {
   "cell_type": "markdown",
   "id": "0185a3c4",
   "metadata": {},
   "source": [
    "# 7. Embedding analysis"
   ]
  },
  {
   "cell_type": "code",
   "execution_count": 708,
   "id": "fbb6a0a5",
   "metadata": {},
   "outputs": [],
   "source": [
    "movie_embeddings = gnn_model.movie_embeddings.weight.data.numpy()"
   ]
  },
  {
   "cell_type": "code",
   "execution_count": 709,
   "id": "1e728c06",
   "metadata": {},
   "outputs": [
    {
     "data": {
      "image/png": "[encoded data removed]",
      "text/plain": [
       "<Figure size 432x288 with 1 Axes>"
      ]
     },
     "metadata": {
      "needs_background": "light"
     },
     "output_type": "display_data"
    }
   ],
   "source": [
    "# Extract x and y coordinates from the embeddings array\n",
    "x_coords = movie_embeddings[:, 0]\n",
    "y_coords = movie_embeddings[:, 1]\n",
    "\n",
    "# Create a scatter plot\n",
    "plt.scatter(x_coords, y_coords, marker='o', s=10)\n",
    "\n",
    "# Add labels and title\n",
    "plt.xlabel('Dimension 1')\n",
    "plt.ylabel('Dimension 2')\n",
    "plt.title('Movie Embeddings Scatter Plot')\n",
    "\n",
    "# Show the plot\n",
    "plt.show()"
   ]
  },
  {
   "cell_type": "code",
   "execution_count": 711,
   "id": "b4c89cda",
   "metadata": {},
   "outputs": [],
   "source": [
    "user_embeddings = gnn_model.user_embeddings.weight.data.numpy()"
   ]
  },
  {
   "cell_type": "code",
   "execution_count": 712,
   "id": "88fd9123",
   "metadata": {},
   "outputs": [
    {
     "data": {
      "image/png": "[encoded data removed]",
      "text/plain": [
       "<Figure size 432x288 with 1 Axes>"
      ]
     },
     "metadata": {
      "needs_background": "light"
     },
     "output_type": "display_data"
    }
   ],
   "source": [
    "# Extract x and y coordinates from the embeddings array\n",
    "x_coords = user_embeddings[:, 0]\n",
    "y_coords = user_embeddings[:, 1]\n",
    "\n",
    "# Create a scatter plot\n",
    "plt.scatter(x_coords, y_coords, marker='o', s=10)\n",
    "\n",
    "# Add labels and title\n",
    "plt.xlabel('Dimension 1')\n",
    "plt.ylabel('Dimension 2')\n",
    "plt.title('User Embeddings Scatter Plot')\n",
    "\n",
    "# Show the plot\n",
    "plt.show()"
   ]
  },
  {
   "cell_type": "code",
   "execution_count": null,
   "id": "2d827ed2",
   "metadata": {},
   "outputs": [],
   "source": []
  },
  {
   "cell_type": "code",
   "execution_count": null,
   "id": "f4863dbb",
   "metadata": {},
   "outputs": [],
   "source": []
  },
  {
   "cell_type": "code",
   "execution_count": null,
   "id": "bad3c510",
   "metadata": {},
   "outputs": [],
   "source": []
  },
  {
   "cell_type": "code",
   "execution_count": null,
   "id": "ab783006",
   "metadata": {},
   "outputs": [],
   "source": []
  }
 ],
 "metadata": {
  "kernelspec": {
   "display_name": "Python 3 (ipykernel)",
   "language": "python",
   "name": "python3"
  },
  "language_info": {
   "codemirror_mode": {
    "name": "ipython",
    "version": 3
   },
   "file_extension": ".py",
   "mimetype": "text/x-python",
   "name": "python",
   "nbconvert_exporter": "python",
   "pygments_lexer": "ipython3",
   "version": "3.8.8"
  }
 },
 "nbformat": 4,
 "nbformat_minor": 5
}
