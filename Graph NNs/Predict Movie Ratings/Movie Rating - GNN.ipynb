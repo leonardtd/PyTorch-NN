{
 "cells": [
  {
   "cell_type": "markdown",
   "id": "bea19ed3",
   "metadata": {},
   "source": [
    "### Resources\n",
    "https://docs.dgl.ai/en/0.6.x/api/python/dgl.dataloading.html#dgl.dataloading.pytorch.EdgeDataLoader <br>\n",
    "https://docs.dgl.ai/en/0.6.x/guide/minibatch-edge.html#guide-minibatch-edge-classification-sampler <br>\n",
    "https://docs.dgl.ai/en/0.6.x/guide/minibatch-custom-sampler.html#guide-minibatch-customizing-neighborhood-sampler"
   ]
  },
  {
   "cell_type": "code",
   "execution_count": 1,
   "id": "070094d1",
   "metadata": {},
   "outputs": [
    {
     "name": "stderr",
     "output_type": "stream",
     "text": [
      "Using backend: pytorch\n"
     ]
    }
   ],
   "source": [
    "import pandas as pd\n",
    "import numpy as np\n",
    "from sklearn.model_selection import train_test_split\n",
    "import sklearn\n",
    "import torch\n",
    "import torch.nn as nn\n",
    "import torch.nn.functional as F\n",
    "import tqdm\n",
    "import itertools\n",
    "import matplotlib.pyplot as plt\n",
    "import dgl\n",
    "from sklearn import preprocessing"
   ]
  },
  {
   "cell_type": "code",
   "execution_count": 2,
   "id": "1eb7c931",
   "metadata": {},
   "outputs": [],
   "source": [
    "df = pd.read_csv('data_small/ratings.csv')"
   ]
  },
  {
   "cell_type": "code",
   "execution_count": 3,
   "id": "ff568348",
   "metadata": {},
   "outputs": [],
   "source": [
    "df.drop(columns=['timestamp'], inplace=True)"
   ]
  },
  {
   "cell_type": "code",
   "execution_count": 4,
   "id": "fc0445ed",
   "metadata": {},
   "outputs": [],
   "source": [
    "encoders = {\n",
    "    'user': preprocessing.LabelEncoder(),\n",
    "    'movie': preprocessing.LabelEncoder(),\n",
    "}\n",
    "\n",
    "df['encoded_user'] = encoders['user'].fit_transform(df.userId)\n",
    "df['encoded_movie'] = encoders['movie'].fit_transform(df.movieId)\n",
    "\n",
    "df_train, df_val = train_test_split(df, test_size=0.2, stratify = df.rating.values)"
   ]
  },
  {
   "cell_type": "code",
   "execution_count": 5,
   "id": "add4a3bb",
   "metadata": {},
   "outputs": [],
   "source": [
    "df_train.to_csv('split_train.csv')\n",
    "df_val.to_csv('split_val.csv')"
   ]
  },
  {
   "cell_type": "markdown",
   "id": "41d2e707",
   "metadata": {},
   "source": [
    "### Train Graph construction\n",
    "- user nodes will start at index `num_movies`"
   ]
  },
  {
   "cell_type": "code",
   "execution_count": 6,
   "id": "da19d8c8",
   "metadata": {},
   "outputs": [],
   "source": [
    "num_movies = df['encoded_movie'].nunique()\n",
    "num_users = df['encoded_user'].nunique()"
   ]
  },
  {
   "cell_type": "code",
   "execution_count": 7,
   "id": "43a6e520",
   "metadata": {},
   "outputs": [],
   "source": [
    "df['encoded_user'] = df['encoded_user']+num_movies"
   ]
  },
  {
   "cell_type": "code",
   "execution_count": 8,
   "id": "65aa0bd5",
   "metadata": {},
   "outputs": [],
   "source": [
    "g = dgl.graph((torch.tensor(pd.concat([df_train.encoded_user,df_train.encoded_movie]).tolist()), \n",
    "               torch.tensor(pd.concat([df_train.encoded_movie,df_train.encoded_user]).tolist())))"
   ]
  },
  {
   "cell_type": "markdown",
   "id": "1e200ff3",
   "metadata": {},
   "source": [
    "### Model definition"
   ]
  },
  {
   "cell_type": "code",
   "execution_count": 9,
   "id": "a22001a2",
   "metadata": {},
   "outputs": [],
   "source": [
    "from dgl.nn import SAGEConv"
   ]
  },
  {
   "cell_type": "code",
   "execution_count": 134,
   "id": "838a2d62",
   "metadata": {},
   "outputs": [],
   "source": [
    "class GNN(nn.Module):\n",
    "    def __init__(self, in_dim, out_dim):\n",
    "        super().__init__()\n",
    "        self.conv1 = SAGEConv(in_dim, out_dim, 'mean')\n",
    "        self.conv2 = SAGEConv(out_dim, out_dim, 'mean')\n",
    "        self.conv3 = SAGEConv(out_dim, out_dim, 'mean')\n",
    "        \n",
    "    def forward(self, blocks, x):\n",
    "        h = F.relu(self.conv1(blocks[0], x))\n",
    "        h = self.conv2(blocks[1], h)\n",
    "        return h\n",
    "    \n",
    "    \n",
    "class ScorePredictor(nn.Module):\n",
    "    def __init__(self, in_dim, hidden_dim):\n",
    "        super().__init__()\n",
    "        \n",
    "        self.mlp = nn.Sequential(\n",
    "            nn.Linear(2*in_dim, hidden_dim),\n",
    "            nn.ReLU(),\n",
    "            nn.Linear(hidden_dim, hidden_dim),\n",
    "            nn.ReLU(),\n",
    "            nn.Linear(hidden_dim, 1, bias=False)\n",
    "        )\n",
    "        \n",
    "    def apply_edges(self, edges):\n",
    "        feat = torch.cat([edges.src['h'], edges.dst['h']], dim=1)\n",
    "        \n",
    "        return {'score': self.mlp(feat)}\n",
    "        \n",
    "    def forward(self, edge_subgraph, x):\n",
    "        \n",
    "        with edge_subgraph.local_scope():\n",
    "            edge_subgraph.ndata['h'] = x\n",
    "            edge_subgraph.apply_edges(self.apply_edges)\n",
    "    \n",
    "            return edge_subgraph.edata['score']\n",
    "    \n",
    "    \n",
    "class Model(nn.Module):\n",
    "    def __init__(self, in_dim, hidden_dim):\n",
    "        super().__init__()\n",
    "        \n",
    "        self.conv = GNN(in_dim, hidden_dim)\n",
    "        self.predictor = ScorePredictor(hidden_dim, hidden_dim)\n",
    "        \n",
    "    def forward(self, edge_subgraph, blocks, x):\n",
    "        \n",
    "        h = self.conv(blocks, x)\n",
    "        h = self.predictor(edge_subgraph, h)\n",
    "        \n",
    "        return h"
   ]
  },
  {
   "cell_type": "markdown",
   "id": "ce0b6265",
   "metadata": {},
   "source": [
    "#### Data loader"
   ]
  },
  {
   "cell_type": "code",
   "execution_count": 135,
   "id": "6d60cc6e",
   "metadata": {},
   "outputs": [],
   "source": [
    "n_edges = g.number_of_edges()\n",
    "sampler = dgl.dataloading.MultiLayerNeighborSampler(fanouts=[-1, -1,])\n",
    "\n",
    "dataloader = dgl.dataloading.EdgeDataLoader(\n",
    "    g, \n",
    "    torch.arange(0, n_edges), \n",
    "    sampler,\n",
    "    exclude='reverse_id',\n",
    "    reverse_eids=torch.cat([\n",
    "        torch.arange(n_edges // 2, n_edges), torch.arange(0, n_edges // 2)]),\n",
    "\n",
    "    batch_size=1024,\n",
    "    shuffle=True,\n",
    "    drop_last=False,\n",
    "    num_workers=4\n",
    "    )"
   ]
  },
  {
   "cell_type": "code",
   "execution_count": 136,
   "id": "ffbddd8c",
   "metadata": {},
   "outputs": [
    {
     "data": {
      "text/plain": [
       "'cuda'"
      ]
     },
     "execution_count": 136,
     "metadata": {},
     "output_type": "execute_result"
    }
   ],
   "source": [
    "device = 'cuda' if torch.cuda.is_available() else 'cpu'\n",
    "device"
   ]
  },
  {
   "cell_type": "code",
   "execution_count": 137,
   "id": "1614a3df",
   "metadata": {},
   "outputs": [],
   "source": [
    "def compute_loss(labels, predictions):\n",
    "    return F.mse_loss(labels.float(), predictions.float())"
   ]
  },
  {
   "cell_type": "code",
   "execution_count": null,
   "id": "c79e71db",
   "metadata": {
    "scrolled": true
   },
   "outputs": [
    {
     "name": "stderr",
     "output_type": "stream",
     "text": [
      "100%|█████████████████████████████████████████████████████████████████████████████████████████████████████████████████████| 158/158 [00:04<00:00, 34.33it/s]\n"
     ]
    },
    {
     "name": "stdout",
     "output_type": "stream",
     "text": [
      "Epoch 1 - MSE: 1.1746837251548525\n"
     ]
    },
    {
     "name": "stderr",
     "output_type": "stream",
     "text": [
      "100%|█████████████████████████████████████████████████████████████████████████████████████████████████████████████████████| 158/158 [00:04<00:00, 34.24it/s]\n"
     ]
    },
    {
     "name": "stdout",
     "output_type": "stream",
     "text": [
      "Epoch 2 - MSE: 0.8504764071748226\n"
     ]
    },
    {
     "name": "stderr",
     "output_type": "stream",
     "text": [
      "100%|█████████████████████████████████████████████████████████████████████████████████████████████████████████████████████| 158/158 [00:04<00:00, 33.72it/s]\n"
     ]
    },
    {
     "name": "stdout",
     "output_type": "stream",
     "text": [
      "Epoch 3 - MSE: 0.8216216364238835\n"
     ]
    },
    {
     "name": "stderr",
     "output_type": "stream",
     "text": [
      "100%|█████████████████████████████████████████████████████████████████████████████████████████████████████████████████████| 158/158 [00:04<00:00, 33.58it/s]\n"
     ]
    },
    {
     "name": "stdout",
     "output_type": "stream",
     "text": [
      "Epoch 4 - MSE: 0.8120172797124597\n"
     ]
    },
    {
     "name": "stderr",
     "output_type": "stream",
     "text": [
      "100%|█████████████████████████████████████████████████████████████████████████████████████████████████████████████████████| 158/158 [00:04<00:00, 34.10it/s]\n"
     ]
    },
    {
     "name": "stdout",
     "output_type": "stream",
     "text": [
      "Epoch 5 - MSE: 0.797401805844488\n"
     ]
    },
    {
     "name": "stderr",
     "output_type": "stream",
     "text": [
      "100%|█████████████████████████████████████████████████████████████████████████████████████████████████████████████████████| 158/158 [00:04<00:00, 34.30it/s]\n"
     ]
    },
    {
     "name": "stdout",
     "output_type": "stream",
     "text": [
      "Epoch 6 - MSE: 0.7886706839633894\n"
     ]
    },
    {
     "name": "stderr",
     "output_type": "stream",
     "text": [
      "100%|█████████████████████████████████████████████████████████████████████████████████████████████████████████████████████| 158/158 [00:04<00:00, 33.78it/s]\n"
     ]
    },
    {
     "name": "stdout",
     "output_type": "stream",
     "text": [
      "Epoch 7 - MSE: 0.7920843977716905\n"
     ]
    },
    {
     "name": "stderr",
     "output_type": "stream",
     "text": [
      "100%|█████████████████████████████████████████████████████████████████████████████████████████████████████████████████████| 158/158 [00:04<00:00, 33.68it/s]\n"
     ]
    },
    {
     "name": "stdout",
     "output_type": "stream",
     "text": [
      "Epoch 8 - MSE: 0.7837750330755983\n"
     ]
    },
    {
     "name": "stderr",
     "output_type": "stream",
     "text": [
      "100%|█████████████████████████████████████████████████████████████████████████████████████████████████████████████████████| 158/158 [00:04<00:00, 33.03it/s]\n"
     ]
    },
    {
     "name": "stdout",
     "output_type": "stream",
     "text": [
      "Epoch 9 - MSE: 0.7785218063789078\n"
     ]
    },
    {
     "name": "stderr",
     "output_type": "stream",
     "text": [
      "100%|█████████████████████████████████████████████████████████████████████████████████████████████████████████████████████| 158/158 [00:04<00:00, 33.66it/s]\n"
     ]
    },
    {
     "name": "stdout",
     "output_type": "stream",
     "text": [
      "Epoch 10 - MSE: 0.7741463335254525\n"
     ]
    },
    {
     "name": "stderr",
     "output_type": "stream",
     "text": [
      "100%|█████████████████████████████████████████████████████████████████████████████████████████████████████████████████████| 158/158 [00:04<00:00, 32.15it/s]\n"
     ]
    },
    {
     "name": "stdout",
     "output_type": "stream",
     "text": [
      "Epoch 11 - MSE: 0.7704333979872209\n"
     ]
    },
    {
     "name": "stderr",
     "output_type": "stream",
     "text": [
      "100%|█████████████████████████████████████████████████████████████████████████████████████████████████████████████████████| 158/158 [00:04<00:00, 33.21it/s]\n"
     ]
    },
    {
     "name": "stdout",
     "output_type": "stream",
     "text": [
      "Epoch 12 - MSE: 0.7714421983006634\n"
     ]
    },
    {
     "name": "stderr",
     "output_type": "stream",
     "text": [
      "100%|█████████████████████████████████████████████████████████████████████████████████████████████████████████████████████| 158/158 [00:04<00:00, 33.42it/s]\n"
     ]
    },
    {
     "name": "stdout",
     "output_type": "stream",
     "text": [
      "Epoch 13 - MSE: 0.7668089349813099\n"
     ]
    },
    {
     "name": "stderr",
     "output_type": "stream",
     "text": [
      "100%|█████████████████████████████████████████████████████████████████████████████████████████████████████████████████████| 158/158 [00:04<00:00, 33.98it/s]\n"
     ]
    },
    {
     "name": "stdout",
     "output_type": "stream",
     "text": [
      "Epoch 14 - MSE: 0.7616961466360695\n"
     ]
    },
    {
     "name": "stderr",
     "output_type": "stream",
     "text": [
      "100%|█████████████████████████████████████████████████████████████████████████████████████████████████████████████████████| 158/158 [00:04<00:00, 33.72it/s]\n"
     ]
    },
    {
     "name": "stdout",
     "output_type": "stream",
     "text": [
      "Epoch 15 - MSE: 0.758431330134597\n"
     ]
    },
    {
     "name": "stderr",
     "output_type": "stream",
     "text": [
      "100%|█████████████████████████████████████████████████████████████████████████████████████████████████████████████████████| 158/158 [00:04<00:00, 32.78it/s]\n"
     ]
    },
    {
     "name": "stdout",
     "output_type": "stream",
     "text": [
      "Epoch 16 - MSE: 0.7626140781595737\n"
     ]
    },
    {
     "name": "stderr",
     "output_type": "stream",
     "text": [
      "100%|█████████████████████████████████████████████████████████████████████████████████████████████████████████████████████| 158/158 [00:04<00:00, 33.54it/s]\n"
     ]
    },
    {
     "name": "stdout",
     "output_type": "stream",
     "text": [
      "Epoch 17 - MSE: 0.7615203065208241\n"
     ]
    },
    {
     "name": "stderr",
     "output_type": "stream",
     "text": [
      "100%|█████████████████████████████████████████████████████████████████████████████████████████████████████████████████████| 158/158 [00:04<00:00, 33.60it/s]\n"
     ]
    },
    {
     "name": "stdout",
     "output_type": "stream",
     "text": [
      "Epoch 18 - MSE: 0.7520405337025847\n"
     ]
    },
    {
     "name": "stderr",
     "output_type": "stream",
     "text": [
      "100%|█████████████████████████████████████████████████████████████████████████████████████████████████████████████████████| 158/158 [00:04<00:00, 33.71it/s]\n"
     ]
    },
    {
     "name": "stdout",
     "output_type": "stream",
     "text": [
      "Epoch 19 - MSE: 0.7541824307622789\n"
     ]
    },
    {
     "name": "stderr",
     "output_type": "stream",
     "text": [
      "100%|█████████████████████████████████████████████████████████████████████████████████████████████████████████████████████| 158/158 [00:04<00:00, 33.80it/s]\n"
     ]
    },
    {
     "name": "stdout",
     "output_type": "stream",
     "text": [
      "Epoch 20 - MSE: 0.7535631475569327\n"
     ]
    },
    {
     "name": "stderr",
     "output_type": "stream",
     "text": [
      "100%|█████████████████████████████████████████████████████████████████████████████████████████████████████████████████████| 158/158 [00:04<00:00, 33.39it/s]\n"
     ]
    },
    {
     "name": "stdout",
     "output_type": "stream",
     "text": [
      "Epoch 21 - MSE: 0.7463086620916294\n"
     ]
    },
    {
     "name": "stderr",
     "output_type": "stream",
     "text": [
      "100%|█████████████████████████████████████████████████████████████████████████████████████████████████████████████████████| 158/158 [00:04<00:00, 33.17it/s]\n"
     ]
    },
    {
     "name": "stdout",
     "output_type": "stream",
     "text": [
      "Epoch 22 - MSE: 0.7425017654895782\n"
     ]
    },
    {
     "name": "stderr",
     "output_type": "stream",
     "text": [
      "100%|█████████████████████████████████████████████████████████████████████████████████████████████████████████████████████| 158/158 [00:04<00:00, 33.92it/s]\n"
     ]
    },
    {
     "name": "stdout",
     "output_type": "stream",
     "text": [
      "Epoch 23 - MSE: 0.7442835535429702\n"
     ]
    },
    {
     "name": "stderr",
     "output_type": "stream",
     "text": [
      "100%|█████████████████████████████████████████████████████████████████████████████████████████████████████████████████████| 158/158 [00:04<00:00, 32.94it/s]\n"
     ]
    },
    {
     "name": "stdout",
     "output_type": "stream",
     "text": [
      "Epoch 24 - MSE: 0.741942245371734\n"
     ]
    },
    {
     "name": "stderr",
     "output_type": "stream",
     "text": [
      "100%|█████████████████████████████████████████████████████████████████████████████████████████████████████████████████████| 158/158 [00:04<00:00, 34.07it/s]\n"
     ]
    },
    {
     "name": "stdout",
     "output_type": "stream",
     "text": [
      "Epoch 25 - MSE: 0.7452954495254951\n"
     ]
    },
    {
     "name": "stderr",
     "output_type": "stream",
     "text": [
      "100%|█████████████████████████████████████████████████████████████████████████████████████████████████████████████████████| 158/158 [00:04<00:00, 33.69it/s]\n"
     ]
    },
    {
     "name": "stdout",
     "output_type": "stream",
     "text": [
      "Epoch 26 - MSE: 0.7399282519575916\n"
     ]
    },
    {
     "name": "stderr",
     "output_type": "stream",
     "text": [
      "100%|█████████████████████████████████████████████████████████████████████████████████████████████████████████████████████| 158/158 [00:04<00:00, 34.10it/s]\n"
     ]
    },
    {
     "name": "stdout",
     "output_type": "stream",
     "text": [
      "Epoch 27 - MSE: 0.7371236840380898\n"
     ]
    },
    {
     "name": "stderr",
     "output_type": "stream",
     "text": [
      "100%|█████████████████████████████████████████████████████████████████████████████████████████████████████████████████████| 158/158 [00:04<00:00, 33.64it/s]\n"
     ]
    },
    {
     "name": "stdout",
     "output_type": "stream",
     "text": [
      "Epoch 28 - MSE: 0.7368353541138806\n"
     ]
    },
    {
     "name": "stderr",
     "output_type": "stream",
     "text": [
      "100%|█████████████████████████████████████████████████████████████████████████████████████████████████████████████████████| 158/158 [00:04<00:00, 34.18it/s]\n"
     ]
    },
    {
     "name": "stdout",
     "output_type": "stream",
     "text": [
      "Epoch 29 - MSE: 0.7368130317971676\n"
     ]
    },
    {
     "name": "stderr",
     "output_type": "stream",
     "text": [
      "100%|█████████████████████████████████████████████████████████████████████████████████████████████████████████████████████| 158/158 [00:04<00:00, 33.75it/s]\n"
     ]
    },
    {
     "name": "stdout",
     "output_type": "stream",
     "text": [
      "Epoch 30 - MSE: 0.7286713251584693\n"
     ]
    },
    {
     "name": "stderr",
     "output_type": "stream",
     "text": [
      "100%|█████████████████████████████████████████████████████████████████████████████████████████████████████████████████████| 158/158 [00:04<00:00, 33.89it/s]\n"
     ]
    },
    {
     "name": "stdout",
     "output_type": "stream",
     "text": [
      "Epoch 31 - MSE: 0.7290494796595995\n"
     ]
    },
    {
     "name": "stderr",
     "output_type": "stream",
     "text": [
      "100%|█████████████████████████████████████████████████████████████████████████████████████████████████████████████████████| 158/158 [00:04<00:00, 33.96it/s]\n"
     ]
    },
    {
     "name": "stdout",
     "output_type": "stream",
     "text": [
      "Epoch 32 - MSE: 0.7327478082874154\n"
     ]
    },
    {
     "name": "stderr",
     "output_type": "stream",
     "text": [
      "100%|█████████████████████████████████████████████████████████████████████████████████████████████████████████████████████| 158/158 [00:04<00:00, 33.82it/s]\n"
     ]
    },
    {
     "name": "stdout",
     "output_type": "stream",
     "text": [
      "Epoch 33 - MSE: 0.7262320997594278\n"
     ]
    },
    {
     "name": "stderr",
     "output_type": "stream",
     "text": [
      "100%|█████████████████████████████████████████████████████████████████████████████████████████████████████████████████████| 158/158 [00:04<00:00, 33.90it/s]\n"
     ]
    },
    {
     "name": "stdout",
     "output_type": "stream",
     "text": [
      "Epoch 34 - MSE: 0.7258088098296637\n"
     ]
    },
    {
     "name": "stderr",
     "output_type": "stream",
     "text": [
      "100%|█████████████████████████████████████████████████████████████████████████████████████████████████████████████████████| 158/158 [00:04<00:00, 33.83it/s]\n"
     ]
    },
    {
     "name": "stdout",
     "output_type": "stream",
     "text": [
      "Epoch 35 - MSE: 0.7297083599657952\n"
     ]
    },
    {
     "name": "stderr",
     "output_type": "stream",
     "text": [
      "100%|█████████████████████████████████████████████████████████████████████████████████████████████████████████████████████| 158/158 [00:04<00:00, 33.50it/s]\n"
     ]
    },
    {
     "name": "stdout",
     "output_type": "stream",
     "text": [
      "Epoch 36 - MSE: 0.7190258521822435\n"
     ]
    },
    {
     "name": "stderr",
     "output_type": "stream",
     "text": [
      "100%|█████████████████████████████████████████████████████████████████████████████████████████████████████████████████████| 158/158 [00:04<00:00, 33.98it/s]\n"
     ]
    },
    {
     "name": "stdout",
     "output_type": "stream",
     "text": [
      "Epoch 37 - MSE: 0.7217325387121756\n"
     ]
    },
    {
     "name": "stderr",
     "output_type": "stream",
     "text": [
      "100%|█████████████████████████████████████████████████████████████████████████████████████████████████████████████████████| 158/158 [00:04<00:00, 33.36it/s]\n"
     ]
    },
    {
     "name": "stdout",
     "output_type": "stream",
     "text": [
      "Epoch 38 - MSE: 0.7165239374094372\n"
     ]
    },
    {
     "name": "stderr",
     "output_type": "stream",
     "text": [
      "100%|█████████████████████████████████████████████████████████████████████████████████████████████████████████████████████| 158/158 [00:04<00:00, 32.90it/s]\n"
     ]
    },
    {
     "name": "stdout",
     "output_type": "stream",
     "text": [
      "Epoch 39 - MSE: 0.7183422110503233\n"
     ]
    },
    {
     "name": "stderr",
     "output_type": "stream",
     "text": [
      "100%|█████████████████████████████████████████████████████████████████████████████████████████████████████████████████████| 158/158 [00:04<00:00, 33.99it/s]\n"
     ]
    },
    {
     "name": "stdout",
     "output_type": "stream",
     "text": [
      "Epoch 40 - MSE: 0.713088474318951\n"
     ]
    },
    {
     "name": "stderr",
     "output_type": "stream",
     "text": [
      "100%|█████████████████████████████████████████████████████████████████████████████████████████████████████████████████████| 158/158 [00:04<00:00, 33.79it/s]\n"
     ]
    },
    {
     "name": "stdout",
     "output_type": "stream",
     "text": [
      "Epoch 41 - MSE: 0.7132515511180781\n"
     ]
    },
    {
     "name": "stderr",
     "output_type": "stream",
     "text": [
      "100%|█████████████████████████████████████████████████████████████████████████████████████████████████████████████████████| 158/158 [00:04<00:00, 33.88it/s]\n"
     ]
    },
    {
     "name": "stdout",
     "output_type": "stream",
     "text": [
      "Epoch 42 - MSE: 0.7129271064378038\n"
     ]
    },
    {
     "name": "stderr",
     "output_type": "stream",
     "text": [
      "100%|█████████████████████████████████████████████████████████████████████████████████████████████████████████████████████| 158/158 [00:04<00:00, 34.12it/s]\n"
     ]
    },
    {
     "name": "stdout",
     "output_type": "stream",
     "text": [
      "Epoch 43 - MSE: 0.713858178899258\n"
     ]
    },
    {
     "name": "stderr",
     "output_type": "stream",
     "text": [
      "100%|█████████████████████████████████████████████████████████████████████████████████████████████████████████████████████| 158/158 [00:04<00:00, 33.95it/s]\n"
     ]
    },
    {
     "name": "stdout",
     "output_type": "stream",
     "text": [
      "Epoch 44 - MSE: 0.7133739518968365\n"
     ]
    },
    {
     "name": "stderr",
     "output_type": "stream",
     "text": [
      "100%|█████████████████████████████████████████████████████████████████████████████████████████████████████████████████████| 158/158 [00:04<00:00, 33.93it/s]\n"
     ]
    },
    {
     "name": "stdout",
     "output_type": "stream",
     "text": [
      "Epoch 45 - MSE: 0.7089710107332543\n"
     ]
    },
    {
     "name": "stderr",
     "output_type": "stream",
     "text": [
      "100%|█████████████████████████████████████████████████████████████████████████████████████████████████████████████████████| 158/158 [00:04<00:00, 33.72it/s]\n"
     ]
    },
    {
     "name": "stdout",
     "output_type": "stream",
     "text": [
      "Epoch 46 - MSE: 0.7073240536677686\n"
     ]
    },
    {
     "name": "stderr",
     "output_type": "stream",
     "text": [
      " 71%|██████████████████████████████████████████████████████████████████████████████████▉                                  | 112/158 [00:19<00:00, 51.20it/s]"
     ]
    }
   ],
   "source": [
    "movie_feat = nn.Embedding(num_movies, 64, device=device)\n",
    "user_feat = nn.Embedding(num_users, 64, device=device)\n",
    "\n",
    "features = torch.cat([movie_feat.weight, user_feat.weight], dim=0)\n",
    "labels = torch.tensor(pd.concat([df_train.rating, df_train.rating], axis=0).values).to(device)\n",
    "\n",
    "model = Model(64, 32).to(device)\n",
    "\n",
    "optimizer = torch.optim.Adam(itertools.chain(model.parameters(), \n",
    "                                             user_feat.parameters(), \n",
    "                                             movie_feat.parameters()), \n",
    "                             lr=0.01)\n",
    "EPOCHS = 100\n",
    "\n",
    "\n",
    "for e in range(EPOCHS):\n",
    "    loss_values = []\n",
    "    for input_nodes, edge_subgraph, blocks in tqdm.tqdm(dataloader, total=len(dataloader)):\n",
    "        blocks = [b.to(device) for b in blocks]\n",
    "        edge_subgraph = edge_subgraph.to(device)\n",
    "\n",
    "        input_features_ids = blocks[0].srcdata['_ID']\n",
    "        edge_labels_ids = edge_subgraph.edata['_ID']\n",
    "\n",
    "        edge_predictions = model(edge_subgraph, blocks, features[input_features_ids]).squeeze(1)\n",
    "        loss = compute_loss(labels[edge_labels_ids], edge_predictions)\n",
    "\n",
    "        optimizer.zero_grad()\n",
    "        loss.backward()\n",
    "        optimizer.step()\n",
    "\n",
    "        loss_values.append(loss.item())\n",
    "\n",
    "    _loss = np.mean(loss_values)\n",
    "\n",
    "    print(f\"Epoch {e+1} - MSE: {_loss}\")"
   ]
  },
  {
   "cell_type": "code",
   "execution_count": null,
   "id": "95f235f0",
   "metadata": {},
   "outputs": [],
   "source": [
    "torch.save(model, 'gnn predictor/model.pt')\n",
    "torch.save(movie_feat, 'gnn predictor/movie_embeddings.pt')\n",
    "torch.save(user_feat, 'gnn predictor/user_embeddings.pt')"
   ]
  },
  {
   "cell_type": "markdown",
   "id": "f8585a6a",
   "metadata": {},
   "source": [
    "### Validation predictions"
   ]
  },
  {
   "cell_type": "code",
   "execution_count": 16,
   "id": "95ac4f2c",
   "metadata": {},
   "outputs": [],
   "source": [
    "df_val = pd.read_csv('split_val.csv')"
   ]
  },
  {
   "cell_type": "code",
   "execution_count": 43,
   "id": "044554b9",
   "metadata": {},
   "outputs": [],
   "source": [
    "labels = torch.tensor(pd.concat([df_val.rating], axis=0).values).to(device)"
   ]
  },
  {
   "cell_type": "code",
   "execution_count": 44,
   "id": "0bd86387",
   "metadata": {},
   "outputs": [],
   "source": [
    "val_g = dgl.graph((torch.tensor(pd.concat([df_val.encoded_user]).tolist()), \n",
    "               torch.tensor(pd.concat([df_val.encoded_movie]).tolist())))"
   ]
  },
  {
   "cell_type": "code",
   "execution_count": 68,
   "id": "a516bc66",
   "metadata": {},
   "outputs": [],
   "source": [
    "n_edges = val_g.number_of_edges()\n",
    "sampler = dgl.dataloading.MultiLayerNeighborSampler(fanouts=[-1, -1])\n",
    "\n",
    "val_dataloader = dgl.dataloading.EdgeDataLoader(\n",
    "    val_g, \n",
    "    torch.arange(0, n_edges), \n",
    "    sampler,\n",
    "    exclude='reverse_id',\n",
    "    reverse_eids=torch.cat([\n",
    "        torch.arange(n_edges // 2, n_edges), torch.arange(0, n_edges // 2)]),\n",
    "    batch_size=1024,\n",
    "    shuffle=False,\n",
    "    drop_last=False,\n",
    "    num_workers=4\n",
    "    )"
   ]
  },
  {
   "cell_type": "code",
   "execution_count": 69,
   "id": "965da975",
   "metadata": {},
   "outputs": [],
   "source": [
    "#input_nodes, edge_subgraph, blocks = next(iter(val_dataloader))"
   ]
  },
  {
   "cell_type": "code",
   "execution_count": 70,
   "id": "02d442fd",
   "metadata": {},
   "outputs": [
    {
     "name": "stderr",
     "output_type": "stream",
     "text": [
      "100%|███████████████████████████████████████████████████████████████████████████████████████████████████████████████████████| 20/20 [00:01<00:00, 11.92it/s]\n"
     ]
    }
   ],
   "source": [
    "loss_values = []\n",
    "predictions_list = []\n",
    "\n",
    "for input_nodes, edge_subgraph, blocks in tqdm.tqdm(val_dataloader, total=len(val_dataloader)):\n",
    "\n",
    "    blocks = [b.to(device) for b in blocks]\n",
    "    edge_subgraph = edge_subgraph.to(device)\n",
    "    \n",
    "    input_features_ids = blocks[0].srcdata['_ID']\n",
    "    edge_labels_ids = edge_subgraph.edata['_ID']\n",
    "\n",
    "    \n",
    "    with torch.no_grad():\n",
    "        edge_predictions = model(edge_subgraph, blocks, features[input_features_ids]).squeeze(1)\n",
    "        predictions_list.append(edge_predictions)\n",
    "\n",
    "        loss = compute_loss(labels[edge_labels_ids], edge_predictions)\n",
    "        loss_values.append(loss.item())\n",
    "\n",
    "val_loss = np.mean(loss_values)\n",
    "val_predictions = torch.cat(predictions_list, dim=0)"
   ]
  },
  {
   "cell_type": "code",
   "execution_count": 74,
   "id": "d70597e7",
   "metadata": {},
   "outputs": [],
   "source": [
    "val_predictions = torch.clamp(val_predictions, min=0, max=5)"
   ]
  },
  {
   "cell_type": "code",
   "execution_count": 75,
   "id": "1527caa7",
   "metadata": {},
   "outputs": [],
   "source": [
    "df_predictions = pd.DataFrame({'rating': labels.cpu(), \n",
    "                               'prediction': val_predictions.cpu(), \n",
    "                               'mse_loss':F.mse_loss(val_predictions.cpu() , labels.cpu(), reduction='none')})"
   ]
  },
  {
   "cell_type": "code",
   "execution_count": 90,
   "id": "72d64e48",
   "metadata": {},
   "outputs": [
    {
     "data": {
      "text/plain": [
       "<AxesSubplot:title={'center':'Original rating distribution'}, xlabel='Rating', ylabel='Frequency'>"
      ]
     },
     "execution_count": 90,
     "metadata": {},
     "output_type": "execute_result"
    },
    {
     "data": {
      "image/png": "[encoded data removed]",
      "text/plain": [
       "<Figure size 432x216 with 1 Axes>"
      ]
     },
     "metadata": {
      "needs_background": "light"
     },
     "output_type": "display_data"
    }
   ],
   "source": [
    "plt.figure(figsize=(6,3))\n",
    "plt.title('Original rating distribution')\n",
    "plt.xlabel('Rating')\n",
    "plt.xticks(np.arange(0, 6, 0.5))\n",
    "df_predictions.rating.plot.hist(bins=10)"
   ]
  },
  {
   "cell_type": "code",
   "execution_count": 89,
   "id": "b13ac461",
   "metadata": {},
   "outputs": [
    {
     "data": {
      "text/plain": [
       "<AxesSubplot:title={'center':'GNN rating distribution'}, xlabel='Rating', ylabel='Frequency'>"
      ]
     },
     "execution_count": 89,
     "metadata": {},
     "output_type": "execute_result"
    },
    {
     "data": {
      "image/png": "[encoded data removed]",
      "text/plain": [
       "<Figure size 432x216 with 1 Axes>"
      ]
     },
     "metadata": {
      "needs_background": "light"
     },
     "output_type": "display_data"
    }
   ],
   "source": [
    "plt.figure(figsize=(6,3))\n",
    "plt.title('GNN rating distribution')\n",
    "plt.xlabel('Rating')\n",
    "plt.xticks(np.arange(0, 6, 0.5))\n",
    "df_predictions.prediction.plot.hist(bins=10)"
   ]
  },
  {
   "cell_type": "code",
   "execution_count": 79,
   "id": "e69b18b9",
   "metadata": {
    "collapsed": true
   },
   "outputs": [
    {
     "data": {
      "text/plain": [
       "<AxesSubplot:title={'center':'MSE Loss distribution'}, xlabel='mse', ylabel='Frequency'>"
      ]
     },
     "execution_count": 79,
     "metadata": {},
     "output_type": "execute_result"
    },
    {
     "data": {
      "image/png": "[encoded data removed]",
      "text/plain": [
       "<Figure size 432x216 with 1 Axes>"
      ]
     },
     "metadata": {
      "needs_background": "light"
     },
     "output_type": "display_data"
    }
   ],
   "source": [
    "plt.figure(figsize=(6,3))\n",
    "plt.title('MSE Loss distribution')\n",
    "plt.xlabel('mse')\n",
    "df_predictions.mse_loss.plot.hist()"
   ]
  }
 ],
 "metadata": {
  "kernelspec": {
   "display_name": "Python 3 (ipykernel)",
   "language": "python",
   "name": "python3"
  },
  "language_info": {
   "codemirror_mode": {
    "name": "ipython",
    "version": 3
   },
   "file_extension": ".py",
   "mimetype": "text/x-python",
   "name": "python",
   "nbconvert_exporter": "python",
   "pygments_lexer": "ipython3",
   "version": "3.8.8"
  }
 },
 "nbformat": 4,
 "nbformat_minor": 5
}
