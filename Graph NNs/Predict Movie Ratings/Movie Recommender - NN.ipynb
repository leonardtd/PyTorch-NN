{
 "cells": [
  {
   "cell_type": "code",
   "execution_count": 68,
   "id": "de690b8d",
   "metadata": {},
   "outputs": [],
   "source": [
    "import pandas as pd\n",
    "import numpy as np\n",
    "from sklearn.model_selection import train_test_split\n",
    "import sklearn\n",
    "import torch\n",
    "import torch.nn as nn\n",
    "import torch.nn.functional as F\n",
    "import tqdm\n",
    "import itertools\n",
    "import matplotlib.pyplot as plt"
   ]
  },
  {
   "cell_type": "markdown",
   "id": "e44d45fa",
   "metadata": {},
   "source": [
    "https://www.kaggle.com/ouwyukha/copy-of-predict-movie-ratings/code"
   ]
  },
  {
   "cell_type": "code",
   "execution_count": 2,
   "id": "69cf99a2",
   "metadata": {},
   "outputs": [],
   "source": [
    "df = pd.read_csv('data/train.csv')"
   ]
  },
  {
   "cell_type": "code",
   "execution_count": 3,
   "id": "4f28900c",
   "metadata": {},
   "outputs": [
    {
     "data": {
      "text/html": [
       "<div>\n",
       "<style scoped>\n",
       "    .dataframe tbody tr th:only-of-type {\n",
       "        vertical-align: middle;\n",
       "    }\n",
       "\n",
       "    .dataframe tbody tr th {\n",
       "        vertical-align: top;\n",
       "    }\n",
       "\n",
       "    .dataframe thead th {\n",
       "        text-align: right;\n",
       "    }\n",
       "</style>\n",
       "<table border=\"1\" class=\"dataframe\">\n",
       "  <thead>\n",
       "    <tr style=\"text-align: right;\">\n",
       "      <th></th>\n",
       "      <th>ID</th>\n",
       "      <th>user</th>\n",
       "      <th>movie</th>\n",
       "      <th>rating</th>\n",
       "      <th>timestamp</th>\n",
       "    </tr>\n",
       "  </thead>\n",
       "  <tbody>\n",
       "    <tr>\n",
       "      <th>0</th>\n",
       "      <td>1802700</td>\n",
       "      <td>13239</td>\n",
       "      <td>367</td>\n",
       "      <td>5.0</td>\n",
       "      <td>8.452071e+08</td>\n",
       "    </tr>\n",
       "    <tr>\n",
       "      <th>1</th>\n",
       "      <td>1290352</td>\n",
       "      <td>9469</td>\n",
       "      <td>6323</td>\n",
       "      <td>3.5</td>\n",
       "      <td>1.120504e+09</td>\n",
       "    </tr>\n",
       "    <tr>\n",
       "      <th>2</th>\n",
       "      <td>2660900</td>\n",
       "      <td>19250</td>\n",
       "      <td>364</td>\n",
       "      <td>4.0</td>\n",
       "      <td>8.402181e+08</td>\n",
       "    </tr>\n",
       "    <tr>\n",
       "      <th>3</th>\n",
       "      <td>2563669</td>\n",
       "      <td>18581</td>\n",
       "      <td>6281</td>\n",
       "      <td>2.0</td>\n",
       "      <td>1.063980e+09</td>\n",
       "    </tr>\n",
       "    <tr>\n",
       "      <th>4</th>\n",
       "      <td>763295</td>\n",
       "      <td>5798</td>\n",
       "      <td>1569</td>\n",
       "      <td>3.0</td>\n",
       "      <td>1.136088e+09</td>\n",
       "    </tr>\n",
       "  </tbody>\n",
       "</table>\n",
       "</div>"
      ],
      "text/plain": [
       "        ID   user  movie  rating     timestamp\n",
       "0  1802700  13239    367     5.0  8.452071e+08\n",
       "1  1290352   9469   6323     3.5  1.120504e+09\n",
       "2  2660900  19250    364     4.0  8.402181e+08\n",
       "3  2563669  18581   6281     2.0  1.063980e+09\n",
       "4   763295   5798   1569     3.0  1.136088e+09"
      ]
     },
     "execution_count": 3,
     "metadata": {},
     "output_type": "execute_result"
    }
   ],
   "source": [
    "df.head()"
   ]
  },
  {
   "cell_type": "code",
   "execution_count": 4,
   "id": "46802c99",
   "metadata": {},
   "outputs": [
    {
     "data": {
      "text/plain": [
       "69878"
      ]
     },
     "execution_count": 4,
     "metadata": {},
     "output_type": "execute_result"
    }
   ],
   "source": [
    "df.user.nunique()"
   ]
  },
  {
   "cell_type": "code",
   "execution_count": 5,
   "id": "e04abc0b",
   "metadata": {},
   "outputs": [
    {
     "data": {
      "text/plain": [
       "10650"
      ]
     },
     "execution_count": 5,
     "metadata": {},
     "output_type": "execute_result"
    }
   ],
   "source": [
    "df.movie.nunique()"
   ]
  },
  {
   "cell_type": "code",
   "execution_count": 6,
   "id": "0b35eae6",
   "metadata": {},
   "outputs": [
    {
     "data": {
      "text/plain": [
       "<AxesSubplot:>"
      ]
     },
     "execution_count": 6,
     "metadata": {},
     "output_type": "execute_result"
    },
    {
     "data": {
      "image/png": "[encoded data removed]",
      "text/plain": [
       "<Figure size 432x288 with 1 Axes>"
      ]
     },
     "metadata": {
      "needs_background": "light"
     },
     "output_type": "display_data"
    }
   ],
   "source": [
    "df.rating.value_counts().plot.bar()"
   ]
  },
  {
   "cell_type": "markdown",
   "id": "e713bc1f",
   "metadata": {},
   "source": [
    "### Dataset class"
   ]
  },
  {
   "cell_type": "code",
   "execution_count": 7,
   "id": "f94d5b5a",
   "metadata": {},
   "outputs": [],
   "source": [
    "class MovieDataset:\n",
    "    \n",
    "    def __init__(self, user, movie, rating):\n",
    "        self.user = user\n",
    "        self.movie = movie\n",
    "        self.rating = rating\n",
    "        \n",
    "    def __len__(self):\n",
    "        return len(self.user)\n",
    "    \n",
    "    def __getitem__(self, item):\n",
    "        \n",
    "        user = self.user[item]\n",
    "        movie = self.movie[item]\n",
    "        rating = self.rating[item]\n",
    "        \n",
    "        return {\n",
    "            'user': torch.tensor(user, dtype=torch.long),\n",
    "            'movie': torch.tensor(movie, dtype=torch.long),\n",
    "            'rating': torch.tensor(rating, dtype=torch.float),\n",
    "        }"
   ]
  },
  {
   "cell_type": "code",
   "execution_count": 8,
   "id": "7bb48f61",
   "metadata": {},
   "outputs": [],
   "source": [
    "encoders={\n",
    "    'user': sklearn.preprocessing.LabelEncoder(),\n",
    "    'movie': sklearn.preprocessing.LabelEncoder()\n",
    "}\n",
    "\n",
    "df['encoded_user']=encoders['user'].fit_transform(df['user'])\n",
    "df['encoded_movie']=encoders['movie'].fit_transform(df['movie'])"
   ]
  },
  {
   "cell_type": "code",
   "execution_count": 9,
   "id": "11fa6072",
   "metadata": {},
   "outputs": [],
   "source": [
    "df_train, df_val = train_test_split(df, test_size=0.2, stratify = df.rating.values)"
   ]
  },
  {
   "cell_type": "code",
   "execution_count": 19,
   "id": "ffb967d8",
   "metadata": {},
   "outputs": [],
   "source": [
    "train_dataset = MovieDataset(df_train.encoded_user.values, df_train.encoded_movie.values, df_train.rating.values)\n",
    "\n",
    "train_loader = torch.utils.data.DataLoader(train_dataset, batch_size=4096, shuffle=True)"
   ]
  },
  {
   "cell_type": "markdown",
   "id": "92910db5",
   "metadata": {},
   "source": [
    "### User - Movie embeddings"
   ]
  },
  {
   "cell_type": "code",
   "execution_count": 20,
   "id": "8769eeb4",
   "metadata": {},
   "outputs": [],
   "source": [
    "emb_size = 64"
   ]
  },
  {
   "cell_type": "code",
   "execution_count": 21,
   "id": "fc936402",
   "metadata": {},
   "outputs": [],
   "source": [
    "user_feat = nn.Embedding(df.user.nunique(), emb_size)\n",
    "movie_feat = nn.Embedding(df.movie.nunique(), emb_size)"
   ]
  },
  {
   "cell_type": "markdown",
   "id": "83bdf6d9",
   "metadata": {},
   "source": [
    "### Model definition"
   ]
  },
  {
   "cell_type": "code",
   "execution_count": 22,
   "id": "43a9daaa",
   "metadata": {},
   "outputs": [],
   "source": [
    "class Predictor(nn.Module):\n",
    "    def __init__(self, in_dim, hidden_dim):\n",
    "        super().__init__()\n",
    "        \n",
    "        self.lin1 = nn.Linear(2*in_dim, hidden_dim)\n",
    "        self.lin2 = nn.Linear(hidden_dim, 1, bias=False)\n",
    "        \n",
    "    def forward(self, user_feat, movie_feat):\n",
    "        feats = torch.cat([user_feat, movie_feat], dim=1)\n",
    "        \n",
    "        h = F.relu(self.lin1(feats))\n",
    "        h = self.lin2(h)\n",
    "        \n",
    "        return h"
   ]
  },
  {
   "cell_type": "markdown",
   "id": "2debd267",
   "metadata": {},
   "source": [
    "### Train loop"
   ]
  },
  {
   "cell_type": "code",
   "execution_count": 34,
   "id": "1c9d4257",
   "metadata": {},
   "outputs": [],
   "source": [
    "def train(model, user_feat, movie_feat, loader, criterion, optim, device):\n",
    "    model.train()\n",
    "    \n",
    "    fin_loss = 0\n",
    "    \n",
    "    for data in tqdm.tqdm(loader, total=len(loader)):\n",
    "        \n",
    "        optim.zero_grad()\n",
    "        logits = model(user_feat(data['user'].to(device)), movie_feat(data['movie'].to(device)))\n",
    "        \n",
    "        _loss = criterion(logits, data['rating'].to(device).view(-1,1))\n",
    "        _loss.backward()\n",
    "        \n",
    "        optim.step()\n",
    "        fin_loss += _loss.item()\n",
    "        \n",
    "    return fin_loss / len(loader)"
   ]
  },
  {
   "cell_type": "code",
   "execution_count": 24,
   "id": "65085407",
   "metadata": {},
   "outputs": [
    {
     "data": {
      "text/plain": [
       "Embedding(69878, 64)"
      ]
     },
     "execution_count": 24,
     "metadata": {},
     "output_type": "execute_result"
    }
   ],
   "source": [
    "user_feat"
   ]
  },
  {
   "cell_type": "code",
   "execution_count": 25,
   "id": "28826f1d",
   "metadata": {},
   "outputs": [],
   "source": [
    "device = 'cuda' if torch.cuda.is_available() else 'cpu'"
   ]
  },
  {
   "cell_type": "code",
   "execution_count": 28,
   "id": "0e450f58",
   "metadata": {},
   "outputs": [],
   "source": [
    "EPOCHS = 50\n",
    "\n",
    "model = Predictor(64, 32).to(device)\n",
    "user_feat = nn.Embedding(df.user.nunique(), emb_size, device=device)\n",
    "movie_feat = nn.Embedding(df.movie.nunique(), emb_size,device=device)\n",
    "\n",
    "criterion =nn.MSELoss()\n",
    "optim = torch.optim.Adam(itertools.chain(\n",
    "                                         model.parameters(),\n",
    "                                         user_feat.parameters(),\n",
    "                                         movie_feat.parameters()),\n",
    "                         lr=3e-4)"
   ]
  },
  {
   "cell_type": "code",
   "execution_count": 29,
   "id": "b31978ad",
   "metadata": {},
   "outputs": [
    {
     "name": "stderr",
     "output_type": "stream",
     "text": [
      "100%|██████████████████████████████████████████████████████████████████████████████| 1465/1465 [01:29<00:00, 16.41it/s]\n"
     ]
    },
    {
     "name": "stdout",
     "output_type": "stream",
     "text": [
      "Epoch 1 - MSE: 2.410343035089278\n"
     ]
    },
    {
     "name": "stderr",
     "output_type": "stream",
     "text": [
      "100%|██████████████████████████████████████████████████████████████████████████████| 1465/1465 [01:25<00:00, 17.07it/s]\n"
     ]
    },
    {
     "name": "stdout",
     "output_type": "stream",
     "text": [
      "Epoch 2 - MSE: 0.9783793941699604\n"
     ]
    },
    {
     "name": "stderr",
     "output_type": "stream",
     "text": [
      "100%|██████████████████████████████████████████████████████████████████████████████| 1465/1465 [01:22<00:00, 17.78it/s]\n"
     ]
    },
    {
     "name": "stdout",
     "output_type": "stream",
     "text": [
      "Epoch 3 - MSE: 0.8910525304872429\n"
     ]
    },
    {
     "name": "stderr",
     "output_type": "stream",
     "text": [
      "100%|██████████████████████████████████████████████████████████████████████████████| 1465/1465 [01:33<00:00, 15.75it/s]\n"
     ]
    },
    {
     "name": "stdout",
     "output_type": "stream",
     "text": [
      "Epoch 4 - MSE: 0.8458451097735773\n"
     ]
    },
    {
     "name": "stderr",
     "output_type": "stream",
     "text": [
      "100%|██████████████████████████████████████████████████████████████████████████████| 1465/1465 [01:23<00:00, 17.46it/s]\n"
     ]
    },
    {
     "name": "stdout",
     "output_type": "stream",
     "text": [
      "Epoch 5 - MSE: 0.8111038323962241\n"
     ]
    },
    {
     "name": "stderr",
     "output_type": "stream",
     "text": [
      "100%|██████████████████████████████████████████████████████████████████████████████| 1465/1465 [01:26<00:00, 16.98it/s]\n"
     ]
    },
    {
     "name": "stdout",
     "output_type": "stream",
     "text": [
      "Epoch 6 - MSE: 0.7865278799786096\n"
     ]
    },
    {
     "name": "stderr",
     "output_type": "stream",
     "text": [
      "100%|██████████████████████████████████████████████████████████████████████████████| 1465/1465 [01:22<00:00, 17.79it/s]\n"
     ]
    },
    {
     "name": "stdout",
     "output_type": "stream",
     "text": [
      "Epoch 7 - MSE: 0.7696913596713095\n"
     ]
    },
    {
     "name": "stderr",
     "output_type": "stream",
     "text": [
      "100%|██████████████████████████████████████████████████████████████████████████████| 1465/1465 [01:28<00:00, 16.54it/s]\n"
     ]
    },
    {
     "name": "stdout",
     "output_type": "stream",
     "text": [
      "Epoch 8 - MSE: 0.7577716455524692\n"
     ]
    },
    {
     "name": "stderr",
     "output_type": "stream",
     "text": [
      "100%|██████████████████████████████████████████████████████████████████████████████| 1465/1465 [01:37<00:00, 14.95it/s]\n"
     ]
    },
    {
     "name": "stdout",
     "output_type": "stream",
     "text": [
      "Epoch 9 - MSE: 0.7488911661678613\n"
     ]
    },
    {
     "name": "stderr",
     "output_type": "stream",
     "text": [
      "100%|██████████████████████████████████████████████████████████████████████████████| 1465/1465 [01:28<00:00, 16.54it/s]\n"
     ]
    },
    {
     "name": "stdout",
     "output_type": "stream",
     "text": [
      "Epoch 10 - MSE: 0.7420687836184844\n"
     ]
    },
    {
     "name": "stderr",
     "output_type": "stream",
     "text": [
      "100%|██████████████████████████████████████████████████████████████████████████████| 1465/1465 [01:31<00:00, 16.08it/s]\n"
     ]
    },
    {
     "name": "stdout",
     "output_type": "stream",
     "text": [
      "Epoch 11 - MSE: 0.7366067972199501\n"
     ]
    },
    {
     "name": "stderr",
     "output_type": "stream",
     "text": [
      "100%|██████████████████████████████████████████████████████████████████████████████| 1465/1465 [01:30<00:00, 16.17it/s]\n"
     ]
    },
    {
     "name": "stdout",
     "output_type": "stream",
     "text": [
      "Epoch 12 - MSE: 0.7321263666445892\n"
     ]
    },
    {
     "name": "stderr",
     "output_type": "stream",
     "text": [
      "100%|██████████████████████████████████████████████████████████████████████████████| 1465/1465 [01:31<00:00, 16.07it/s]\n"
     ]
    },
    {
     "name": "stdout",
     "output_type": "stream",
     "text": [
      "Epoch 13 - MSE: 0.7283092590322267\n"
     ]
    },
    {
     "name": "stderr",
     "output_type": "stream",
     "text": [
      "100%|██████████████████████████████████████████████████████████████████████████████| 1465/1465 [01:22<00:00, 17.69it/s]\n"
     ]
    },
    {
     "name": "stdout",
     "output_type": "stream",
     "text": [
      "Epoch 14 - MSE: 0.7249841762890995\n"
     ]
    },
    {
     "name": "stderr",
     "output_type": "stream",
     "text": [
      "100%|██████████████████████████████████████████████████████████████████████████████| 1465/1465 [01:27<00:00, 16.72it/s]\n"
     ]
    },
    {
     "name": "stdout",
     "output_type": "stream",
     "text": [
      "Epoch 15 - MSE: 0.7220717608318394\n"
     ]
    },
    {
     "name": "stderr",
     "output_type": "stream",
     "text": [
      "100%|██████████████████████████████████████████████████████████████████████████████| 1465/1465 [01:28<00:00, 16.57it/s]\n"
     ]
    },
    {
     "name": "stdout",
     "output_type": "stream",
     "text": [
      "Epoch 16 - MSE: 0.7194303193596849\n"
     ]
    },
    {
     "name": "stderr",
     "output_type": "stream",
     "text": [
      "100%|██████████████████████████████████████████████████████████████████████████████| 1465/1465 [01:30<00:00, 16.19it/s]\n"
     ]
    },
    {
     "name": "stdout",
     "output_type": "stream",
     "text": [
      "Epoch 17 - MSE: 0.7170193545240591\n"
     ]
    },
    {
     "name": "stderr",
     "output_type": "stream",
     "text": [
      "100%|██████████████████████████████████████████████████████████████████████████████| 1465/1465 [01:35<00:00, 15.33it/s]\n"
     ]
    },
    {
     "name": "stdout",
     "output_type": "stream",
     "text": [
      "Epoch 18 - MSE: 0.7147615725676761\n"
     ]
    },
    {
     "name": "stderr",
     "output_type": "stream",
     "text": [
      "100%|██████████████████████████████████████████████████████████████████████████████| 1465/1465 [01:27<00:00, 16.69it/s]\n"
     ]
    },
    {
     "name": "stdout",
     "output_type": "stream",
     "text": [
      "Epoch 19 - MSE: 0.7126376781040491\n"
     ]
    },
    {
     "name": "stderr",
     "output_type": "stream",
     "text": [
      "100%|██████████████████████████████████████████████████████████████████████████████| 1465/1465 [01:28<00:00, 16.56it/s]\n"
     ]
    },
    {
     "name": "stdout",
     "output_type": "stream",
     "text": [
      "Epoch 20 - MSE: 0.7106283296904059\n"
     ]
    },
    {
     "name": "stderr",
     "output_type": "stream",
     "text": [
      "100%|██████████████████████████████████████████████████████████████████████████████| 1465/1465 [01:24<00:00, 17.44it/s]\n"
     ]
    },
    {
     "name": "stdout",
     "output_type": "stream",
     "text": [
      "Epoch 21 - MSE: 0.708708034806691\n"
     ]
    },
    {
     "name": "stderr",
     "output_type": "stream",
     "text": [
      "100%|██████████████████████████████████████████████████████████████████████████████| 1465/1465 [01:25<00:00, 17.05it/s]\n"
     ]
    },
    {
     "name": "stdout",
     "output_type": "stream",
     "text": [
      "Epoch 22 - MSE: 0.7069187702579303\n"
     ]
    },
    {
     "name": "stderr",
     "output_type": "stream",
     "text": [
      "100%|██████████████████████████████████████████████████████████████████████████████| 1465/1465 [01:25<00:00, 17.17it/s]\n"
     ]
    },
    {
     "name": "stdout",
     "output_type": "stream",
     "text": [
      "Epoch 23 - MSE: 0.7051678873980005\n"
     ]
    },
    {
     "name": "stderr",
     "output_type": "stream",
     "text": [
      "100%|██████████████████████████████████████████████████████████████████████████████| 1465/1465 [01:28<00:00, 16.60it/s]\n"
     ]
    },
    {
     "name": "stdout",
     "output_type": "stream",
     "text": [
      "Epoch 24 - MSE: 0.703471969256222\n"
     ]
    },
    {
     "name": "stderr",
     "output_type": "stream",
     "text": [
      "100%|██████████████████████████████████████████████████████████████████████████████| 1465/1465 [01:22<00:00, 17.67it/s]\n"
     ]
    },
    {
     "name": "stdout",
     "output_type": "stream",
     "text": [
      "Epoch 25 - MSE: 0.7018505006926865\n"
     ]
    },
    {
     "name": "stderr",
     "output_type": "stream",
     "text": [
      "100%|██████████████████████████████████████████████████████████████████████████████| 1465/1465 [01:33<00:00, 15.70it/s]\n"
     ]
    },
    {
     "name": "stdout",
     "output_type": "stream",
     "text": [
      "Epoch 26 - MSE: 0.7002282068997927\n"
     ]
    },
    {
     "name": "stderr",
     "output_type": "stream",
     "text": [
      "100%|██████████████████████████████████████████████████████████████████████████████| 1465/1465 [01:37<00:00, 15.04it/s]\n"
     ]
    },
    {
     "name": "stdout",
     "output_type": "stream",
     "text": [
      "Epoch 27 - MSE: 0.6986573435747583\n"
     ]
    },
    {
     "name": "stderr",
     "output_type": "stream",
     "text": [
      "100%|██████████████████████████████████████████████████████████████████████████████| 1465/1465 [01:22<00:00, 17.74it/s]\n"
     ]
    },
    {
     "name": "stdout",
     "output_type": "stream",
     "text": [
      "Epoch 28 - MSE: 0.6971535077274049\n"
     ]
    },
    {
     "name": "stderr",
     "output_type": "stream",
     "text": [
      "100%|██████████████████████████████████████████████████████████████████████████████| 1465/1465 [01:22<00:00, 17.69it/s]\n"
     ]
    },
    {
     "name": "stdout",
     "output_type": "stream",
     "text": [
      "Epoch 29 - MSE: 0.6956270990925031\n"
     ]
    },
    {
     "name": "stderr",
     "output_type": "stream",
     "text": [
      "100%|██████████████████████████████████████████████████████████████████████████████| 1465/1465 [01:22<00:00, 17.78it/s]\n"
     ]
    },
    {
     "name": "stdout",
     "output_type": "stream",
     "text": [
      "Epoch 30 - MSE: 0.6941966624797001\n"
     ]
    },
    {
     "name": "stderr",
     "output_type": "stream",
     "text": [
      "100%|██████████████████████████████████████████████████████████████████████████████| 1465/1465 [01:27<00:00, 16.81it/s]\n"
     ]
    },
    {
     "name": "stdout",
     "output_type": "stream",
     "text": [
      "Epoch 31 - MSE: 0.6927392957967295\n"
     ]
    },
    {
     "name": "stderr",
     "output_type": "stream",
     "text": [
      "100%|██████████████████████████████████████████████████████████████████████████████| 1465/1465 [01:25<00:00, 17.18it/s]\n"
     ]
    },
    {
     "name": "stdout",
     "output_type": "stream",
     "text": [
      "Epoch 32 - MSE: 0.691325010293173\n"
     ]
    },
    {
     "name": "stderr",
     "output_type": "stream",
     "text": [
      "100%|██████████████████████████████████████████████████████████████████████████████| 1465/1465 [01:31<00:00, 16.02it/s]\n"
     ]
    },
    {
     "name": "stdout",
     "output_type": "stream",
     "text": [
      "Epoch 33 - MSE: 0.6899464428628264\n"
     ]
    },
    {
     "name": "stderr",
     "output_type": "stream",
     "text": [
      "100%|██████████████████████████████████████████████████████████████████████████████| 1465/1465 [01:37<00:00, 14.98it/s]\n"
     ]
    },
    {
     "name": "stdout",
     "output_type": "stream",
     "text": [
      "Epoch 34 - MSE: 0.6885663168829049\n"
     ]
    },
    {
     "name": "stderr",
     "output_type": "stream",
     "text": [
      "100%|██████████████████████████████████████████████████████████████████████████████| 1465/1465 [01:38<00:00, 14.94it/s]\n"
     ]
    },
    {
     "name": "stdout",
     "output_type": "stream",
     "text": [
      "Epoch 35 - MSE: 0.6872084567978114\n"
     ]
    },
    {
     "name": "stderr",
     "output_type": "stream",
     "text": [
      "100%|██████████████████████████████████████████████████████████████████████████████| 1465/1465 [01:34<00:00, 15.51it/s]\n"
     ]
    },
    {
     "name": "stdout",
     "output_type": "stream",
     "text": [
      "Epoch 36 - MSE: 0.6858517535717414\n"
     ]
    },
    {
     "name": "stderr",
     "output_type": "stream",
     "text": [
      "100%|██████████████████████████████████████████████████████████████████████████████| 1465/1465 [01:29<00:00, 16.29it/s]\n"
     ]
    },
    {
     "name": "stdout",
     "output_type": "stream",
     "text": [
      "Epoch 37 - MSE: 0.6845235960475414\n"
     ]
    },
    {
     "name": "stderr",
     "output_type": "stream",
     "text": [
      "100%|██████████████████████████████████████████████████████████████████████████████| 1465/1465 [01:24<00:00, 17.44it/s]\n"
     ]
    },
    {
     "name": "stdout",
     "output_type": "stream",
     "text": [
      "Epoch 38 - MSE: 0.6831828436346998\n"
     ]
    },
    {
     "name": "stderr",
     "output_type": "stream",
     "text": [
      "100%|██████████████████████████████████████████████████████████████████████████████| 1465/1465 [01:25<00:00, 17.22it/s]\n"
     ]
    },
    {
     "name": "stdout",
     "output_type": "stream",
     "text": [
      "Epoch 39 - MSE: 0.681878433170579\n"
     ]
    },
    {
     "name": "stderr",
     "output_type": "stream",
     "text": [
      "100%|██████████████████████████████████████████████████████████████████████████████| 1465/1465 [01:27<00:00, 16.65it/s]\n"
     ]
    },
    {
     "name": "stdout",
     "output_type": "stream",
     "text": [
      "Epoch 40 - MSE: 0.6805728693870962\n"
     ]
    },
    {
     "name": "stderr",
     "output_type": "stream",
     "text": [
      "100%|██████████████████████████████████████████████████████████████████████████████| 1465/1465 [01:29<00:00, 16.36it/s]\n"
     ]
    },
    {
     "name": "stdout",
     "output_type": "stream",
     "text": [
      "Epoch 41 - MSE: 0.6792618594885687\n"
     ]
    },
    {
     "name": "stderr",
     "output_type": "stream",
     "text": [
      "100%|██████████████████████████████████████████████████████████████████████████████| 1465/1465 [01:22<00:00, 17.77it/s]\n"
     ]
    },
    {
     "name": "stdout",
     "output_type": "stream",
     "text": [
      "Epoch 42 - MSE: 0.6780199543201069\n"
     ]
    },
    {
     "name": "stderr",
     "output_type": "stream",
     "text": [
      "100%|██████████████████████████████████████████████████████████████████████████████| 1465/1465 [01:33<00:00, 15.65it/s]\n"
     ]
    },
    {
     "name": "stdout",
     "output_type": "stream",
     "text": [
      "Epoch 43 - MSE: 0.6767134403612833\n"
     ]
    },
    {
     "name": "stderr",
     "output_type": "stream",
     "text": [
      "100%|██████████████████████████████████████████████████████████████████████████████| 1465/1465 [01:28<00:00, 16.52it/s]\n"
     ]
    },
    {
     "name": "stdout",
     "output_type": "stream",
     "text": [
      "Epoch 44 - MSE: 0.6754474531261587\n"
     ]
    },
    {
     "name": "stderr",
     "output_type": "stream",
     "text": [
      "100%|██████████████████████████████████████████████████████████████████████████████| 1465/1465 [01:24<00:00, 17.44it/s]\n"
     ]
    },
    {
     "name": "stdout",
     "output_type": "stream",
     "text": [
      "Epoch 45 - MSE: 0.6741927046824641\n"
     ]
    },
    {
     "name": "stderr",
     "output_type": "stream",
     "text": [
      "100%|██████████████████████████████████████████████████████████████████████████████| 1465/1465 [01:23<00:00, 17.52it/s]\n"
     ]
    },
    {
     "name": "stdout",
     "output_type": "stream",
     "text": [
      "Epoch 46 - MSE: 0.6729456537819559\n"
     ]
    },
    {
     "name": "stderr",
     "output_type": "stream",
     "text": [
      "100%|██████████████████████████████████████████████████████████████████████████████| 1465/1465 [01:37<00:00, 14.98it/s]\n"
     ]
    },
    {
     "name": "stdout",
     "output_type": "stream",
     "text": [
      "Epoch 47 - MSE: 0.67166669108355\n"
     ]
    },
    {
     "name": "stderr",
     "output_type": "stream",
     "text": [
      "100%|██████████████████████████████████████████████████████████████████████████████| 1465/1465 [01:24<00:00, 17.33it/s]\n"
     ]
    },
    {
     "name": "stdout",
     "output_type": "stream",
     "text": [
      "Epoch 48 - MSE: 0.6704495145599183\n"
     ]
    },
    {
     "name": "stderr",
     "output_type": "stream",
     "text": [
      "100%|██████████████████████████████████████████████████████████████████████████████| 1465/1465 [01:23<00:00, 17.56it/s]\n"
     ]
    },
    {
     "name": "stdout",
     "output_type": "stream",
     "text": [
      "Epoch 49 - MSE: 0.6692062286386717\n"
     ]
    },
    {
     "name": "stderr",
     "output_type": "stream",
     "text": [
      "100%|██████████████████████████████████████████████████████████████████████████████| 1465/1465 [01:28<00:00, 16.57it/s]"
     ]
    },
    {
     "name": "stdout",
     "output_type": "stream",
     "text": [
      "Epoch 50 - MSE: 0.6679645583084419\n"
     ]
    },
    {
     "name": "stderr",
     "output_type": "stream",
     "text": [
      "\n"
     ]
    }
   ],
   "source": [
    "for e in range(EPOCHS):\n",
    "    epoch_loss = train(model, user_feat, movie_feat, train_loader, criterion, optim, device)\n",
    "    \n",
    "    print(f\"Epoch {e+1} - MSE: {epoch_loss}\")"
   ]
  },
  {
   "cell_type": "code",
   "execution_count": 30,
   "id": "19e9c7f2",
   "metadata": {},
   "outputs": [],
   "source": [
    "torch.save(model, 'model.pt')\n",
    "torch.save(user_feat, 'user_embeddings.pt')\n",
    "torch.save(movie_feat, 'model_embeddings.pt')"
   ]
  },
  {
   "cell_type": "markdown",
   "id": "79d25c42",
   "metadata": {},
   "source": [
    "---"
   ]
  },
  {
   "cell_type": "markdown",
   "id": "8f778d65",
   "metadata": {},
   "source": [
    "### Predictions"
   ]
  },
  {
   "cell_type": "markdown",
   "id": "9211fc0e",
   "metadata": {},
   "source": [
    "#### Val dataset"
   ]
  },
  {
   "cell_type": "code",
   "execution_count": 32,
   "id": "b86cb587",
   "metadata": {},
   "outputs": [],
   "source": [
    "val_dataset = MovieDataset(df_val.encoded_user.values, df_val.encoded_movie.values, df_val.rating.values)\n",
    "val_loader = torch.utils.data.DataLoader(val_dataset, batch_size=4096, shuffle=False)"
   ]
  },
  {
   "cell_type": "code",
   "execution_count": 41,
   "id": "48d5245a",
   "metadata": {},
   "outputs": [],
   "source": [
    "def test(model, user_feat, movie_feat, loader, criterion, device):\n",
    "    model.train()\n",
    "    \n",
    "    fin_loss = 0\n",
    "    predictions = []\n",
    "    ratings = []\n",
    "    \n",
    "    for data in tqdm.tqdm(loader, total=len(loader)):\n",
    "        with torch.no_grad():\n",
    "            logits = model(user_feat(data['user'].to(device)), movie_feat(data['movie'].to(device)))\n",
    "            _loss = criterion(logits, data['rating'].to(device).view(-1,1))\n",
    "    \n",
    "            fin_loss += _loss.item()\n",
    "            predictions.append(logits.cpu())\n",
    "            ratings.append(data['rating'])\n",
    "        \n",
    "    return fin_loss / len(loader), torch.cat(predictions, dim=0).squeeze(1), torch.cat(ratings, dim=0)"
   ]
  },
  {
   "cell_type": "code",
   "execution_count": 42,
   "id": "f2c89164",
   "metadata": {},
   "outputs": [
    {
     "name": "stderr",
     "output_type": "stream",
     "text": [
      "100%|██████████████████████████████████████████████████████████████████████████████| 1465/1465 [01:24<00:00, 17.35it/s]\n"
     ]
    }
   ],
   "source": [
    "mse_loss, predictions, ratings = test(model, user_feat, movie_feat, train_loader, criterion, device)"
   ]
  },
  {
   "cell_type": "code",
   "execution_count": 65,
   "id": "417440b2",
   "metadata": {},
   "outputs": [],
   "source": [
    "df_predictions = pd.DataFrame({'rating': ratings, \n",
    "                               'prediction': predictions, \n",
    "                               'mse_loss':F.mse_loss(predictions , ratings, reduction='none')})"
   ]
  },
  {
   "cell_type": "code",
   "execution_count": 66,
   "id": "b29b2e07",
   "metadata": {},
   "outputs": [
    {
     "data": {
      "text/html": [
       "<div>\n",
       "<style scoped>\n",
       "    .dataframe tbody tr th:only-of-type {\n",
       "        vertical-align: middle;\n",
       "    }\n",
       "\n",
       "    .dataframe tbody tr th {\n",
       "        vertical-align: top;\n",
       "    }\n",
       "\n",
       "    .dataframe thead th {\n",
       "        text-align: right;\n",
       "    }\n",
       "</style>\n",
       "<table border=\"1\" class=\"dataframe\">\n",
       "  <thead>\n",
       "    <tr style=\"text-align: right;\">\n",
       "      <th></th>\n",
       "      <th>rating</th>\n",
       "      <th>prediction</th>\n",
       "      <th>mse_loss</th>\n",
       "    </tr>\n",
       "  </thead>\n",
       "  <tbody>\n",
       "    <tr>\n",
       "      <th>0</th>\n",
       "      <td>3.0</td>\n",
       "      <td>3.081649</td>\n",
       "      <td>0.006667</td>\n",
       "    </tr>\n",
       "    <tr>\n",
       "      <th>1</th>\n",
       "      <td>3.5</td>\n",
       "      <td>4.452660</td>\n",
       "      <td>0.907561</td>\n",
       "    </tr>\n",
       "    <tr>\n",
       "      <th>2</th>\n",
       "      <td>3.5</td>\n",
       "      <td>3.398248</td>\n",
       "      <td>0.010353</td>\n",
       "    </tr>\n",
       "    <tr>\n",
       "      <th>3</th>\n",
       "      <td>5.0</td>\n",
       "      <td>3.462021</td>\n",
       "      <td>2.365379</td>\n",
       "    </tr>\n",
       "    <tr>\n",
       "      <th>4</th>\n",
       "      <td>4.0</td>\n",
       "      <td>3.923661</td>\n",
       "      <td>0.005828</td>\n",
       "    </tr>\n",
       "  </tbody>\n",
       "</table>\n",
       "</div>"
      ],
      "text/plain": [
       "   rating  prediction  mse_loss\n",
       "0     3.0    3.081649  0.006667\n",
       "1     3.5    4.452660  0.907561\n",
       "2     3.5    3.398248  0.010353\n",
       "3     5.0    3.462021  2.365379\n",
       "4     4.0    3.923661  0.005828"
      ]
     },
     "execution_count": 66,
     "metadata": {},
     "output_type": "execute_result"
    }
   ],
   "source": [
    "df_predictions.head()"
   ]
  },
  {
   "cell_type": "markdown",
   "id": "39a2017d",
   "metadata": {},
   "source": [
    "#### Distribution plots"
   ]
  },
  {
   "cell_type": "code",
   "execution_count": 79,
   "id": "66ffc3a2",
   "metadata": {},
   "outputs": [
    {
     "data": {
      "text/plain": [
       "<AxesSubplot:title={'center':'Original rating distribution'}, xlabel='Rating', ylabel='Frequency'>"
      ]
     },
     "execution_count": 79,
     "metadata": {},
     "output_type": "execute_result"
    },
    {
     "data": {
      "image/png": "[encoded data removed]",
      "text/plain": [
       "<Figure size 432x216 with 1 Axes>"
      ]
     },
     "metadata": {
      "needs_background": "light"
     },
     "output_type": "display_data"
    }
   ],
   "source": [
    "plt.figure(figsize=(6,3))\n",
    "plt.title('Original rating distribution')\n",
    "plt.xlabel('Rating')\n",
    "df_predictions.rating.plot.hist()"
   ]
  },
  {
   "cell_type": "code",
   "execution_count": 81,
   "id": "b9dbd266",
   "metadata": {},
   "outputs": [
    {
     "data": {
      "text/plain": [
       "<AxesSubplot:title={'center':'Prediction rating distribution'}, xlabel='Rating', ylabel='Frequency'>"
      ]
     },
     "execution_count": 81,
     "metadata": {},
     "output_type": "execute_result"
    },
    {
     "data": {
      "image/png": "[encoded data removed]",
      "text/plain": [
       "<Figure size 432x216 with 1 Axes>"
      ]
     },
     "metadata": {
      "needs_background": "light"
     },
     "output_type": "display_data"
    }
   ],
   "source": [
    "plt.figure(figsize=(6,3))\n",
    "plt.title('Prediction rating distribution')\n",
    "plt.xlabel('Rating')\n",
    "df_predictions.prediction.plot.hist()"
   ]
  },
  {
   "cell_type": "code",
   "execution_count": 84,
   "id": "fe236a69",
   "metadata": {},
   "outputs": [
    {
     "data": {
      "text/plain": [
       "<AxesSubplot:title={'center':'MSE Loss distribution'}, xlabel='mse', ylabel='Frequency'>"
      ]
     },
     "execution_count": 84,
     "metadata": {},
     "output_type": "execute_result"
    },
    {
     "data": {
      "image/png": "[encoded data removed]",
      "text/plain": [
       "<Figure size 432x216 with 1 Axes>"
      ]
     },
     "metadata": {
      "needs_background": "light"
     },
     "output_type": "display_data"
    }
   ],
   "source": [
    "plt.figure(figsize=(6,3))\n",
    "plt.title('MSE Loss distribution')\n",
    "plt.xlabel('mse')\n",
    "df_predictions.mse_loss.plot.hist()"
   ]
  }
 ],
 "metadata": {
  "kernelspec": {
   "display_name": "Python 3 (ipykernel)",
   "language": "python",
   "name": "python3"
  },
  "language_info": {
   "codemirror_mode": {
    "name": "ipython",
    "version": 3
   },
   "file_extension": ".py",
   "mimetype": "text/x-python",
   "name": "python",
   "nbconvert_exporter": "python",
   "pygments_lexer": "ipython3",
   "version": "3.8.8"
  }
 },
 "nbformat": 4,
 "nbformat_minor": 5
}
