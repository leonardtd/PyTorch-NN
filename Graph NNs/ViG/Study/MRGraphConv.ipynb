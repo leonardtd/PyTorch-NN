{
 "cells": [
  {
   "cell_type": "code",
   "execution_count": 1,
   "id": "ca90880e",
   "metadata": {},
   "outputs": [],
   "source": [
    "import torch\n",
    "import torch.nn as nn"
   ]
  },
  {
   "cell_type": "markdown",
   "id": "2479312f",
   "metadata": {},
   "source": [
    "https://github.com/LKLQQ/ViG/blob/dea9ad27c2e5514ec85c3c2a082267d5d427e1e3/src/models/vig/gcn_lib.py#L32\n",
    "https://github.com/LKLQQ/ViG/blob/dea9ad27c2e5514ec85c3c2a082267d5d427e1e3/src/models/vig/vig.py\n",
    "\n",
    "https://github.com/lightaime/deep_gcns_torch/blob/master/gcn_lib/dense/torch_edge.py\n",
    "https://github.com/lightaime/deep_gcns_torch/blob/751382aa2d25e25a2792c133cc99f8cfddae0657/gcn_lib/dense/torch_nn.py#L75"
   ]
  },
  {
   "cell_type": "code",
   "execution_count": 3,
   "id": "678012a0",
   "metadata": {},
   "outputs": [],
   "source": [
    "image = torch.randn(1,3,224,224)"
   ]
  },
  {
   "cell_type": "code",
   "execution_count": 4,
   "id": "3d6f2154",
   "metadata": {},
   "outputs": [],
   "source": [
    "H = W = 224\n",
    "C = 3\n",
    "P = 16\n",
    "N=H*W//(P**2)\n",
    "\n",
    "emb_dim = 768"
   ]
  },
  {
   "cell_type": "markdown",
   "id": "5c4ef6d1",
   "metadata": {},
   "source": [
    "### Patches"
   ]
  },
  {
   "cell_type": "code",
   "execution_count": 8,
   "id": "21f9a53b",
   "metadata": {},
   "outputs": [
    {
     "name": "stdout",
     "output_type": "stream",
     "text": [
      "torch.Size([1, 768, 14, 14])\n"
     ]
    }
   ],
   "source": [
    "conv_proy = nn.Conv2d(C, emb_dim, kernel_size=P, stride=P)\n",
    "\n",
    "print(conv_proy(image).shape)\n",
    "\n",
    "batch = conv_proy(image).flatten(2).transpose(1,2)"
   ]
  },
  {
   "cell_type": "code",
   "execution_count": 10,
   "id": "13a235a1",
   "metadata": {},
   "outputs": [
    {
     "data": {
      "text/plain": [
       "torch.Size([1, 196, 768])"
      ]
     },
     "execution_count": 10,
     "metadata": {},
     "output_type": "execute_result"
    }
   ],
   "source": [
    "batch.shape"
   ]
  },
  {
   "cell_type": "markdown",
   "id": "fdf31aaf",
   "metadata": {},
   "source": [
    "### KNN pairwise distance"
   ]
  },
  {
   "cell_type": "code",
   "execution_count": 52,
   "id": "48d78b03",
   "metadata": {},
   "outputs": [],
   "source": [
    "def pairwise_distance(x):\n",
    "    \"\"\"\n",
    "    Compute pairwise distance of a point cloud.\n",
    "    Args:\n",
    "        x: tensor (batch_size, num_points, num_dims)\n",
    "    Returns:\n",
    "        pairwise distance: (batch_size, num_points, num_points)\n",
    "    \"\"\"\n",
    "    x_inner = -2*torch.matmul(x, x.transpose(2, 1))\n",
    "    x_square = torch.sum(torch.mul(x, x), dim=-1, keepdim=True)\n",
    "    return torch.sqrt(x_square + x_inner + x_square.transpose(2, 1)) #SQRT((x - x.T)^2 = X^2 -2XX.T + X.T^2)"
   ]
  },
  {
   "cell_type": "code",
   "execution_count": 115,
   "id": "183449e2",
   "metadata": {},
   "outputs": [],
   "source": [
    "def pairwise_distance(x):\n",
    "    \"\"\"\n",
    "    Compute pairwise distance of a point cloud.\n",
    "    Args:\n",
    "        x: tensor (batch_size, num_points, num_dims)\n",
    "    Returns:\n",
    "        pairwise distance: (batch_size, num_points, num_points)\n",
    "    \"\"\"\n",
    "    x_inner = -2*torch.matmul(x, x.T)\n",
    "    x_square = torch.sum(torch.mul(x, x), dim=-1, keepdim=True)\n",
    "    return torch.sqrt(x_square + x_inner + x_square.T) #SQRT((x - x.T)^2 = X^2 -2XX.T + X.T^2)"
   ]
  },
  {
   "cell_type": "code",
   "execution_count": 53,
   "id": "51b47aaf",
   "metadata": {},
   "outputs": [],
   "source": [
    "def dense_knn_matrix(x, k=16):\n",
    "    \"\"\"Get KNN based on the pairwise distance.\n",
    "    Args:\n",
    "        x: (batch_size, num_dims, num_points, 1)\n",
    "        k: int\n",
    "    Returns:\n",
    "        nearest neighbors: (batch_size, num_points ,k) (batch_size, num_points, k)\n",
    "    \"\"\"\n",
    "    with torch.no_grad():\n",
    "        x = x.transpose(2, 1).squeeze(-1)\n",
    "        batch_size, n_points, n_dims = x.shape\n",
    "        _, nn_idx = torch.topk(-pairwise_distance(x.detach()), k=k)\n",
    "        center_idx = torch.arange(0, n_points, device=x.device).expand(batch_size, k, -1).transpose(2, 1)\n",
    "    return torch.stack((nn_idx, center_idx), dim=0)"
   ]
  },
  {
   "cell_type": "code",
   "execution_count": 145,
   "id": "f633081f",
   "metadata": {},
   "outputs": [
    {
     "data": {
      "text/plain": [
       "torch.Size([1, 192, 4])"
      ]
     },
     "execution_count": 145,
     "metadata": {},
     "output_type": "execute_result"
    }
   ],
   "source": [
    "torch.arange(0, 192).expand(1, 4, -1).transpose(2, 1).shape"
   ]
  },
  {
   "cell_type": "code",
   "execution_count": 54,
   "id": "05cbd4d7",
   "metadata": {},
   "outputs": [],
   "source": [
    "x = batch"
   ]
  },
  {
   "cell_type": "code",
   "execution_count": 55,
   "id": "b71c1f99",
   "metadata": {},
   "outputs": [
    {
     "data": {
      "text/plain": [
       "torch.Size([1, 196, 1])"
      ]
     },
     "execution_count": 55,
     "metadata": {},
     "output_type": "execute_result"
    }
   ],
   "source": [
    "torch.sum(torch.mul(x, x), dim=-1, keepdim=True).shape"
   ]
  },
  {
   "cell_type": "code",
   "execution_count": 56,
   "id": "2f9e5754",
   "metadata": {},
   "outputs": [
    {
     "data": {
      "text/plain": [
       "torch.Size([1, 196, 196])"
      ]
     },
     "execution_count": 56,
     "metadata": {},
     "output_type": "execute_result"
    }
   ],
   "source": [
    "(batch @ batch.transpose(1,2)).shape"
   ]
  },
  {
   "cell_type": "code",
   "execution_count": 57,
   "id": "8ef23736",
   "metadata": {},
   "outputs": [
    {
     "data": {
      "text/plain": [
       "torch.Size([1, 196, 768])"
      ]
     },
     "execution_count": 57,
     "metadata": {},
     "output_type": "execute_result"
    }
   ],
   "source": [
    "batch.shape"
   ]
  },
  {
   "cell_type": "code",
   "execution_count": 58,
   "id": "607f70dc",
   "metadata": {},
   "outputs": [
    {
     "data": {
      "text/plain": [
       "torch.Size([1, 196, 196])"
      ]
     },
     "execution_count": 58,
     "metadata": {},
     "output_type": "execute_result"
    }
   ],
   "source": [
    "pairwise_distance(batch).shape"
   ]
  },
  {
   "cell_type": "code",
   "execution_count": 116,
   "id": "9bbd5c1a",
   "metadata": {},
   "outputs": [],
   "source": [
    "t = torch.tensor(\n",
    "[[1,2], [2,4]]\n",
    ")"
   ]
  },
  {
   "cell_type": "code",
   "execution_count": 117,
   "id": "4dc62a38",
   "metadata": {},
   "outputs": [
    {
     "data": {
      "text/plain": [
       "torch.Size([2, 2])"
      ]
     },
     "execution_count": 117,
     "metadata": {},
     "output_type": "execute_result"
    }
   ],
   "source": [
    "t.shape"
   ]
  },
  {
   "cell_type": "code",
   "execution_count": 118,
   "id": "87935446",
   "metadata": {},
   "outputs": [
    {
     "data": {
      "text/plain": [
       "tensor([[1, 2],\n",
       "        [2, 4]])"
      ]
     },
     "execution_count": 118,
     "metadata": {},
     "output_type": "execute_result"
    }
   ],
   "source": [
    "t"
   ]
  },
  {
   "cell_type": "code",
   "execution_count": 119,
   "id": "998146b8",
   "metadata": {},
   "outputs": [
    {
     "data": {
      "text/plain": [
       "tensor([[0.0000, 2.2361],\n",
       "        [2.2361, 0.0000]])"
      ]
     },
     "execution_count": 119,
     "metadata": {},
     "output_type": "execute_result"
    }
   ],
   "source": [
    "pairwise_distance(t)"
   ]
  },
  {
   "cell_type": "code",
   "execution_count": 123,
   "id": "c03aea3d",
   "metadata": {},
   "outputs": [
    {
     "data": {
      "text/plain": [
       "tensor([[ 5, 10],\n",
       "        [10, 20]])"
      ]
     },
     "execution_count": 123,
     "metadata": {},
     "output_type": "execute_result"
    }
   ],
   "source": [
    "(t@t.transpose(0,1))"
   ]
  },
  {
   "cell_type": "code",
   "execution_count": 124,
   "id": "47aefaaf",
   "metadata": {},
   "outputs": [
    {
     "data": {
      "text/plain": [
       "tensor([[1, 2],\n",
       "        [2, 4]])"
      ]
     },
     "execution_count": 124,
     "metadata": {},
     "output_type": "execute_result"
    }
   ],
   "source": [
    "t"
   ]
  },
  {
   "cell_type": "code",
   "execution_count": 125,
   "id": "74ce234a",
   "metadata": {},
   "outputs": [
    {
     "data": {
      "text/plain": [
       "tensor([[ 5, 10],\n",
       "        [10, 20]])"
      ]
     },
     "execution_count": 125,
     "metadata": {},
     "output_type": "execute_result"
    }
   ],
   "source": [
    "t@t.transpose(0,1)"
   ]
  },
  {
   "cell_type": "code",
   "execution_count": 127,
   "id": "ca655357",
   "metadata": {},
   "outputs": [
    {
     "data": {
      "text/plain": [
       "tensor([[-10, -20],\n",
       "        [-20, -40]])"
      ]
     },
     "execution_count": 127,
     "metadata": {},
     "output_type": "execute_result"
    }
   ],
   "source": [
    "-2*torch.matmul(t, t.transpose(0,1))"
   ]
  },
  {
   "cell_type": "code",
   "execution_count": 128,
   "id": "98ab8362",
   "metadata": {},
   "outputs": [
    {
     "data": {
      "text/plain": [
       "tensor([[ 5, 10],\n",
       "        [10, 20]])"
      ]
     },
     "execution_count": 128,
     "metadata": {},
     "output_type": "execute_result"
    }
   ],
   "source": [
    "torch.matmul(t, t.transpose(0,1))"
   ]
  },
  {
   "cell_type": "markdown",
   "id": "a2853287",
   "metadata": {},
   "source": [
    "---"
   ]
  }
 ],
 "metadata": {
  "kernelspec": {
   "display_name": "Python 3 (ipykernel)",
   "language": "python",
   "name": "python3"
  },
  "language_info": {
   "codemirror_mode": {
    "name": "ipython",
    "version": 3
   },
   "file_extension": ".py",
   "mimetype": "text/x-python",
   "name": "python",
   "nbconvert_exporter": "python",
   "pygments_lexer": "ipython3",
   "version": "3.8.8"
  }
 },
 "nbformat": 4,
 "nbformat_minor": 5
}
