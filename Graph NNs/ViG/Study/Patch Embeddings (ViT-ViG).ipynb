{
 "cells": [
  {
   "cell_type": "code",
   "execution_count": 2,
   "id": "083b6519",
   "metadata": {},
   "outputs": [],
   "source": [
    "import torch\n",
    "import torch.nn as nn"
   ]
  },
  {
   "cell_type": "markdown",
   "id": "0303d41a",
   "metadata": {},
   "source": [
    "https://towardsdatascience.com/implementing-visualttransformer-in-pytorch-184f9f16f632\n",
    "https://github.com/LKLQQ/ViG/blob/dea9ad27c2e5514ec85c3c2a082267d5d427e1e3/src/models/vig/vig.py#L101"
   ]
  },
  {
   "cell_type": "code",
   "execution_count": 3,
   "id": "66b9a233",
   "metadata": {},
   "outputs": [],
   "source": [
    "image = torch.randn(1,3,224,224)"
   ]
  },
  {
   "cell_type": "markdown",
   "id": "12ed33ac",
   "metadata": {},
   "source": [
    "---"
   ]
  },
  {
   "cell_type": "code",
   "execution_count": 20,
   "id": "6ddaea69",
   "metadata": {},
   "outputs": [],
   "source": [
    "H = W = 224\n",
    "C = 3\n",
    "P = 16\n",
    "N=H*W//(P**2)"
   ]
  },
  {
   "cell_type": "code",
   "execution_count": 24,
   "id": "b31feeb8",
   "metadata": {},
   "outputs": [],
   "source": [
    "img = image.reshape(-1, N, P**2*C) #Batch size, Patch_area*Channel PxPxC"
   ]
  },
  {
   "cell_type": "code",
   "execution_count": 25,
   "id": "b2f7547f",
   "metadata": {},
   "outputs": [
    {
     "data": {
      "text/plain": [
       "torch.Size([1, 196, 768])"
      ]
     },
     "execution_count": 25,
     "metadata": {},
     "output_type": "execute_result"
    }
   ],
   "source": [
    "img.shape"
   ]
  },
  {
   "cell_type": "code",
   "execution_count": 26,
   "id": "e3a83418",
   "metadata": {},
   "outputs": [
    {
     "data": {
      "text/plain": [
       "torch.Size([1, 196, 768])"
      ]
     },
     "execution_count": 26,
     "metadata": {},
     "output_type": "execute_result"
    }
   ],
   "source": [
    "# From the paper\n",
    "emb_dim = 768\n",
    "\n",
    "linear_proy = nn.Linear(P**2*C, 768)\n",
    "\n",
    "linear_proy(img).shape"
   ]
  },
  {
   "cell_type": "code",
   "execution_count": 44,
   "id": "c0e06f4c",
   "metadata": {},
   "outputs": [
    {
     "data": {
      "text/plain": [
       "torch.Size([1, 768, 14, 14])"
      ]
     },
     "execution_count": 44,
     "metadata": {},
     "output_type": "execute_result"
    }
   ],
   "source": [
    "# Code implementation (performance gain)\n",
    "\n",
    "conv_proy = nn.Conv2d(C, emb_dim, kernel_size=P, stride=P)\n",
    "\n",
    "conv_proy(image).shape\n",
    "\n",
    "#+ pos embeddings"
   ]
  },
  {
   "cell_type": "markdown",
   "id": "f4ab7d2d",
   "metadata": {},
   "source": [
    "## ViG communitycode (Mindspore)"
   ]
  },
  {
   "cell_type": "code",
   "execution_count": 11,
   "id": "dafa01b2",
   "metadata": {},
   "outputs": [],
   "source": [
    "class PatchEmbed(nn.Module):\n",
    "    \"\"\" Image to Visual Embeddings\n",
    "    \"\"\"\n",
    "\n",
    "    def __init__(self, dim=768):\n",
    "        super().__init__()\n",
    "        self.conv1 = nn.Sequential(\n",
    "            nn.Conv2d(in_channels=3, out_channels=dim//8, kernel_size=3, stride=2,\n",
    "                      padding=1, bias=False),\n",
    "            nn.BatchNorm2d(dim//8),\n",
    "            nn.GELU(),\n",
    "        )\n",
    "        self.conv2 = nn.Sequential(\n",
    "            nn.Conv2d(in_channels=dim//8, out_channels=dim//4, kernel_size=3, stride=2,\n",
    "                      padding=1, bias=False),\n",
    "            nn.BatchNorm2d(dim//4),\n",
    "            nn.GELU(),\n",
    "        )\n",
    "        self.conv3 = nn.Sequential(\n",
    "            nn.Conv2d(in_channels=dim//4, out_channels=dim//2, kernel_size=3, stride=2,\n",
    "                      padding=1, bias=False),\n",
    "            nn.BatchNorm2d(dim//2),\n",
    "            nn.GELU(),\n",
    "        )\n",
    "        self.conv4 = nn.Sequential(\n",
    "            nn.Conv2d(in_channels=dim//2, out_channels=dim, kernel_size=3, stride=2,\n",
    "                      padding=1, bias=False),\n",
    "            nn.BatchNorm2d(dim),\n",
    "            nn.GELU(),\n",
    "        )\n",
    "        self.conv5 = nn.Sequential(\n",
    "            nn.Conv2d(in_channels=dim, out_channels=dim, kernel_size=3, stride=1,\n",
    "                      padding=1, bias=False),\n",
    "            nn.BatchNorm2d(dim),\n",
    "        )\n",
    "\n",
    "    def forward(self, x):\n",
    "        x = self.conv1(x)\n",
    "        x = self.conv2(x)\n",
    "        x = self.conv3(x)\n",
    "        x = self.conv4(x)\n",
    "        x = self.conv5(x)\n",
    "        return x"
   ]
  },
  {
   "cell_type": "code",
   "execution_count": 12,
   "id": "d2a6f07a",
   "metadata": {},
   "outputs": [],
   "source": [
    "pe = PatchEmbed()"
   ]
  },
  {
   "cell_type": "code",
   "execution_count": 15,
   "id": "461bbbdd",
   "metadata": {},
   "outputs": [
    {
     "data": {
      "text/plain": [
       "torch.Size([1, 768, 14, 14])"
      ]
     },
     "execution_count": 15,
     "metadata": {},
     "output_type": "execute_result"
    }
   ],
   "source": [
    "pe(image).shape # ilegal?"
   ]
  },
  {
   "cell_type": "markdown",
   "id": "74b08c44",
   "metadata": {},
   "source": [
    "## ViG official"
   ]
  },
  {
   "cell_type": "code",
   "execution_count": 4,
   "id": "39705621",
   "metadata": {},
   "outputs": [],
   "source": [
    "class Stem(nn.Module):\n",
    "    \"\"\" Image to Visual Embedding\n",
    "    Overlap: https://arxiv.org/pdf/2106.13797.pdf\n",
    "    \"\"\"\n",
    "    def __init__(self, img_size=224, in_dim=3, out_dim=768, act='relu'):\n",
    "        super().__init__()        \n",
    "        self.convs = nn.Sequential(\n",
    "            nn.Conv2d(in_dim, out_dim//2, 3, stride=2, padding=1),\n",
    "            nn.BatchNorm2d(out_dim//2),\n",
    "            #act_layer(act),\n",
    "            nn.Conv2d(out_dim//2, out_dim, 3, stride=2, padding=1),\n",
    "            nn.BatchNorm2d(out_dim),\n",
    "            #act_layer(act),\n",
    "            nn.Conv2d(out_dim, out_dim, 3, stride=1, padding=1),\n",
    "            nn.BatchNorm2d(out_dim),\n",
    "        )\n",
    "\n",
    "    def forward(self, x):\n",
    "        x = self.convs(x)\n",
    "        return x"
   ]
  },
  {
   "cell_type": "code",
   "execution_count": 5,
   "id": "0b20677c",
   "metadata": {},
   "outputs": [],
   "source": [
    "patchifier = Stem()"
   ]
  },
  {
   "cell_type": "code",
   "execution_count": 7,
   "id": "c1d4b9a5",
   "metadata": {},
   "outputs": [
    {
     "data": {
      "text/plain": [
       "torch.Size([1, 768, 56, 56])"
      ]
     },
     "execution_count": 7,
     "metadata": {},
     "output_type": "execute_result"
    }
   ],
   "source": [
    "patchifier(image).shape"
   ]
  }
 ],
 "metadata": {
  "kernelspec": {
   "display_name": "Python 3 (ipykernel)",
   "language": "python",
   "name": "python3"
  },
  "language_info": {
   "codemirror_mode": {
    "name": "ipython",
    "version": 3
   },
   "file_extension": ".py",
   "mimetype": "text/x-python",
   "name": "python",
   "nbconvert_exporter": "python",
   "pygments_lexer": "ipython3",
   "version": "3.8.8"
  }
 },
 "nbformat": 4,
 "nbformat_minor": 5
}
