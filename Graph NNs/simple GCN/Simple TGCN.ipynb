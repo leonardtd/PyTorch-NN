{
 "cells": [
  {
   "cell_type": "code",
   "execution_count": 274,
   "id": "a74eab0a",
   "metadata": {},
   "outputs": [],
   "source": [
    "import torch\n",
    "import torch.nn as nn\n",
    "import torch.nn.functional as F\n",
    "import torchvision.datasets as datasets\n",
    "import torchvision.transforms as transforms\n",
    "from torch.utils.data import Dataset, DataLoader\n",
    "from torch.utils.tensorboard import SummaryWriter\n",
    "import torchvision\n",
    "import numpy as np\n",
    "import math\n",
    "import matplotlib.pyplot as plt"
   ]
  },
  {
   "cell_type": "code",
   "execution_count": 178,
   "id": "a1318c4d",
   "metadata": {},
   "outputs": [],
   "source": [
    "transform = transforms.ToTensor()"
   ]
  },
  {
   "cell_type": "code",
   "execution_count": 179,
   "id": "510a9dd7",
   "metadata": {},
   "outputs": [],
   "source": [
    "batch_size = 128\n",
    "\n",
    "train_dataset = torchvision.datasets.MNIST(root='./data', train=True, transform=transforms.ToTensor(), download=True)\n",
    "test_dataset = torchvision.datasets.MNIST(root='./data', train=False, transform=transforms.ToTensor())\n",
    "train_loader = DataLoader(dataset=train_dataset, batch_size=batch_size, shuffle=True)\n",
    "test_loader = DataLoader(dataset=test_dataset, batch_size=batch_size, shuffle=True)"
   ]
  },
  {
   "cell_type": "code",
   "execution_count": 103,
   "id": "8023d2d3",
   "metadata": {},
   "outputs": [
    {
     "data": {
      "text/plain": [
       "(torch.Size([128, 1, 28, 28]), torch.Size([128]))"
      ]
     },
     "execution_count": 103,
     "metadata": {},
     "output_type": "execute_result"
    }
   ],
   "source": [
    "train_it = iter(train_loader)\n",
    "samples, labels = train_it.next()\n",
    "samples.shape, labels.shape"
   ]
  },
  {
   "cell_type": "code",
   "execution_count": 104,
   "id": "02085fad",
   "metadata": {},
   "outputs": [
    {
     "data": {
      "image/png": "[encoded data removed]",
      "text/plain": [
       "<Figure size 432x288 with 6 Axes>"
      ]
     },
     "metadata": {
      "needs_background": "light"
     },
     "output_type": "display_data"
    }
   ],
   "source": [
    "for i in range(6):\n",
    "    plt.subplot(2, 3, i+1)\n",
    "    plt.imshow(samples[i][0], cmap='gray')\n",
    "plt.show()"
   ]
  },
  {
   "cell_type": "code",
   "execution_count": 180,
   "id": "fa4ee812",
   "metadata": {},
   "outputs": [],
   "source": [
    "class CNN_Module(nn.Module):\n",
    "    def __init__(self, in_channels, emb_dims):\n",
    "        super().__init__()\n",
    "        self.out_channels = emb_dims\n",
    "        \n",
    "        self.conv1 = nn.Conv2d(in_channels, 16, kernel_size=3, padding=1) #1x28x28 -> MP 2x2\n",
    "        self.mp1 = nn.MaxPool2d(kernel_size=2)\n",
    "        self.conv2 = nn.Conv2d(16, 32, kernel_size=3, padding=1) #32x14x14\n",
    "        self.mp2 = nn.MaxPool2d(kernel_size=2)\n",
    "        self.conv3 = nn.Conv2d(32, self.out_channels, kernel_size=3, padding=1) #64x7x7\n",
    "        self.av1 = nn.AvgPool2d((7,7))\n",
    "        \n",
    "    def forward(self, x):\n",
    "        x = F.relu(self.conv1(x))\n",
    "        x = self.mp1(x)\n",
    "        x = F.relu(self.conv2(x))\n",
    "        x = self.mp2(x)\n",
    "        x = F.relu(self.conv3(x))\n",
    "        x = self.av1(x)\n",
    "        x = x.reshape(-1,self.out_channels)\n",
    "        return x"
   ]
  },
  {
   "cell_type": "code",
   "execution_count": 181,
   "id": "90a1a660",
   "metadata": {},
   "outputs": [
    {
     "data": {
      "text/plain": [
       "torch.Size([128, 64])"
      ]
     },
     "execution_count": 181,
     "metadata": {},
     "output_type": "execute_result"
    }
   ],
   "source": [
    "cnn = CNN_Module(in_channels=1, emb_dims=64)\n",
    "cnn(samples).shape"
   ]
  },
  {
   "cell_type": "code",
   "execution_count": 182,
   "id": "1cd5740f",
   "metadata": {},
   "outputs": [],
   "source": [
    "class GCN_Layer(nn.Module):\n",
    "    def __init__(self, in_dims, out_dims):\n",
    "        super().__init__()\n",
    "\n",
    "        self.lin = nn.Linear(in_dims, out_dims)\n",
    "        \n",
    "    def forward(self, adjacency_mat, feature_mat):\n",
    "        x = adjacency_mat @ feature_mat #N, in_dims\n",
    "        x = F.leaky_relu(self.lin(x))\n",
    "        return x"
   ]
  },
  {
   "cell_type": "code",
   "execution_count": 230,
   "id": "46b30ece",
   "metadata": {},
   "outputs": [
    {
     "data": {
      "text/plain": [
       "torch.Size([16, 128])"
      ]
     },
     "execution_count": 230,
     "metadata": {},
     "output_type": "execute_result"
    }
   ],
   "source": [
    "gcn = GCN_Layer(64,128)\n",
    "\n",
    "adj = torch.randn(16, 16)\n",
    "features = torch.randn(16,64)\n",
    "\n",
    "gcn(adj,features).shape"
   ]
  },
  {
   "cell_type": "code",
   "execution_count": 259,
   "id": "77fbd9fb",
   "metadata": {},
   "outputs": [],
   "source": [
    "class TGCN(nn.Module):\n",
    "    def __init__(self, in_channels, emb_dims, in_dims, out_dims, num_classes):\n",
    "        super().__init__()\n",
    "        \n",
    "        self.in_channels = in_channels\n",
    "        self.emb_dims = emb_dims\n",
    "        self.in_dims = in_dims\n",
    "        self.out_dims = out_dims\n",
    "        self.num_classes = num_classes\n",
    "        \n",
    "        self.adj_out_dims = 256\n",
    "        \n",
    "        self.cnn = CNN_Module(in_channels,emb_dims)\n",
    "        self.gcn1 = GCN_Layer(in_dims, in_dims)\n",
    "        self.gcn2 = GCN_Layer(in_dims, out_dims)\n",
    "        \n",
    "        self.adjc_fc = nn.Linear(emb_dims, self.adj_out_dims) #En el paper\n",
    "        self.features_fc = nn.Linear(emb_dims, in_dims)\n",
    "        \n",
    "        self.fc1 = nn.Linear(emb_dims+out_dims, 256)\n",
    "        self.fc2 = nn.Linear(256, num_classes)\n",
    "        \n",
    "        \n",
    "        #Loss & Optim\n",
    "        self.criterion = nn.CrossEntropyLoss()\n",
    "        self.optimizer = torch.optim.Adam(self.parameters(), lr=3e-4)\n",
    "    \n",
    "    def forward(self, x):\n",
    "        embeddings, out = self.get_gcn_embeddings(x)\n",
    "        out = torch.cat([embeddings, out], dim=-1)\n",
    "        out = F.relu(self.fc1(out))\n",
    "        out = self.fc2(out)\n",
    "        \n",
    "        return out\n",
    "    \n",
    "    def get_gcn_embeddings(self, x):\n",
    "        embeddings = self.cnn(x)\n",
    "    \n",
    "        # Adjacency matrix\n",
    "        adj_linear = self.adjc_fc(embeddings)\n",
    "        adjacency_matrix = F.softmax(adj_linear, dim=-1)@(F.softmax(adj_linear,dim=-1).transpose(0,1))\n",
    "        adjacency_matrix = torch.div(adjacency_matrix,np.sqrt(self.adj_out_dims))\n",
    "        \n",
    "        # Feature matrix\n",
    "        feature_matrix = self.features_fc(embeddings)\n",
    "        \n",
    "        #GCN \n",
    "        out = F.relu(self.gcn1(adjacency_matrix, feature_matrix))\n",
    "        out = self.gcn2(adjacency_matrix, out)\n",
    "        return embeddings, out\n",
    "    \n",
    "    def get_final_embeddings(self, x):\n",
    "        embeddings, out = self.get_gcn_embeddings(x)\n",
    "        out = cat_tensor = torch.cat([embeddings, out], dim=-1)\n",
    "        out = F.relu(self.fc1(out))\n",
    "        return out\n",
    "    \n",
    "    def train_step(self, x, y):\n",
    "        \n",
    "        logits = self.forward(x)\n",
    "        \n",
    "        self.optimizer.zero_grad()\n",
    "        loss = self.criterion(logits, y)\n",
    "        loss.backward()\n",
    "        self.optimizer.step()\n",
    "        \n",
    "        return loss.cpu().item()\n",
    "    \n",
    "    def get_accuracy(self, x, targets):\n",
    "        logits = self.forward(x)\n",
    "        probs = torch.softmax(logits,dim=1)\n",
    "        predictions = torch.argmax(probs, dim=1)\n",
    "        return (torch.sum(predictions==targets).item())/float(targets.size()[0])"
   ]
  },
  {
   "cell_type": "code",
   "execution_count": 260,
   "id": "57b206a7",
   "metadata": {},
   "outputs": [
    {
     "data": {
      "text/plain": [
       "torch.Size([128, 10])"
      ]
     },
     "execution_count": 260,
     "metadata": {},
     "output_type": "execute_result"
    }
   ],
   "source": [
    "tcgn = TGCN(1,128,256,512,10)\n",
    "tcgn(samples).shape"
   ]
  },
  {
   "cell_type": "markdown",
   "id": "ba5d9d81",
   "metadata": {},
   "source": [
    "### Train loop"
   ]
  },
  {
   "cell_type": "code",
   "execution_count": 277,
   "id": "861044b9",
   "metadata": {},
   "outputs": [
    {
     "data": {
      "text/plain": [
       "torch.Size([128, 1, 28, 28])"
      ]
     },
     "execution_count": 277,
     "metadata": {},
     "output_type": "execute_result"
    }
   ],
   "source": [
    "test_samples, test_labels = next(iter(test_loader))\n",
    "test_samples.shape"
   ]
  },
  {
   "cell_type": "code",
   "execution_count": 283,
   "id": "e91f1dbd",
   "metadata": {},
   "outputs": [],
   "source": [
    "device = 'cuda' if torch.cuda.is_available() else 'cpu'"
   ]
  },
  {
   "cell_type": "code",
   "execution_count": 284,
   "id": "19404685",
   "metadata": {},
   "outputs": [],
   "source": [
    "tcgn = TGCN(in_channels=1,emb_dims=128, in_dims=256, out_dims=512,num_classes=10).to(device)"
   ]
  },
  {
   "cell_type": "code",
   "execution_count": 285,
   "id": "26bc0681",
   "metadata": {},
   "outputs": [],
   "source": [
    "# training loop\n",
    "num_epochs = 20\n",
    "n_steps = len(train_loader)"
   ]
  },
  {
   "cell_type": "code",
   "execution_count": 286,
   "id": "8ff8d240",
   "metadata": {
    "scrolled": true
   },
   "outputs": [
    {
     "name": "stdout",
     "output_type": "stream",
     "text": [
      "epoch 1 / 20, step 100/469, train loss = 2.0833\n",
      "epoch 1 / 20, step 200/469, train loss = 1.8191\n",
      "epoch 1 / 20, step 300/469, train loss = 1.7676\n",
      "epoch 1 / 20, step 400/469, train loss = 1.4960\n",
      "epoch 2 / 20, step 100/469, train loss = 1.1143\n",
      "epoch 2 / 20, step 200/469, train loss = 0.8648\n",
      "epoch 2 / 20, step 300/469, train loss = 0.8962\n",
      "epoch 2 / 20, step 400/469, train loss = 0.8629\n",
      "epoch 3 / 20, step 100/469, train loss = 0.7063\n",
      "epoch 3 / 20, step 200/469, train loss = 0.5581\n",
      "epoch 3 / 20, step 300/469, train loss = 0.5935\n",
      "epoch 3 / 20, step 400/469, train loss = 0.4623\n",
      "epoch 4 / 20, step 100/469, train loss = 0.6307\n",
      "epoch 4 / 20, step 200/469, train loss = 0.4535\n",
      "epoch 4 / 20, step 300/469, train loss = 0.4373\n",
      "epoch 4 / 20, step 400/469, train loss = 0.4190\n",
      "epoch 5 / 20, step 100/469, train loss = 0.5174\n",
      "epoch 5 / 20, step 200/469, train loss = 0.4790\n",
      "epoch 5 / 20, step 300/469, train loss = 0.4542\n",
      "epoch 5 / 20, step 400/469, train loss = 0.3029\n",
      "epoch 6 / 20, step 100/469, train loss = 0.3236\n",
      "epoch 6 / 20, step 200/469, train loss = 0.2546\n",
      "epoch 6 / 20, step 300/469, train loss = 0.2504\n",
      "epoch 6 / 20, step 400/469, train loss = 0.3369\n",
      "epoch 7 / 20, step 100/469, train loss = 0.2850\n",
      "epoch 7 / 20, step 200/469, train loss = 0.4998\n",
      "epoch 7 / 20, step 300/469, train loss = 0.2020\n",
      "epoch 7 / 20, step 400/469, train loss = 0.2460\n",
      "epoch 8 / 20, step 100/469, train loss = 0.2765\n",
      "epoch 8 / 20, step 200/469, train loss = 0.2855\n",
      "epoch 8 / 20, step 300/469, train loss = 0.3587\n",
      "epoch 8 / 20, step 400/469, train loss = 0.3424\n",
      "epoch 9 / 20, step 100/469, train loss = 0.1953\n",
      "epoch 9 / 20, step 200/469, train loss = 0.2291\n",
      "epoch 9 / 20, step 300/469, train loss = 0.1673\n",
      "epoch 9 / 20, step 400/469, train loss = 0.2605\n",
      "epoch 10 / 20, step 100/469, train loss = 0.1452\n",
      "epoch 10 / 20, step 200/469, train loss = 0.1951\n",
      "epoch 10 / 20, step 300/469, train loss = 0.1718\n",
      "epoch 10 / 20, step 400/469, train loss = 0.1341\n",
      "epoch 11 / 20, step 100/469, train loss = 0.2171\n",
      "epoch 11 / 20, step 200/469, train loss = 0.1319\n",
      "epoch 11 / 20, step 300/469, train loss = 0.1575\n",
      "epoch 11 / 20, step 400/469, train loss = 0.1610\n",
      "epoch 12 / 20, step 100/469, train loss = 0.2096\n",
      "epoch 12 / 20, step 200/469, train loss = 0.2236\n",
      "epoch 12 / 20, step 300/469, train loss = 0.1729\n",
      "epoch 12 / 20, step 400/469, train loss = 0.3654\n",
      "epoch 13 / 20, step 100/469, train loss = 0.2679\n",
      "epoch 13 / 20, step 200/469, train loss = 0.2288\n",
      "epoch 13 / 20, step 300/469, train loss = 0.1998\n",
      "epoch 13 / 20, step 400/469, train loss = 0.2613\n",
      "epoch 14 / 20, step 100/469, train loss = 0.2030\n",
      "epoch 14 / 20, step 200/469, train loss = 0.2595\n",
      "epoch 14 / 20, step 300/469, train loss = 0.2119\n",
      "epoch 14 / 20, step 400/469, train loss = 0.1874\n",
      "epoch 15 / 20, step 100/469, train loss = 0.1902\n",
      "epoch 15 / 20, step 200/469, train loss = 0.1554\n",
      "epoch 15 / 20, step 300/469, train loss = 0.1022\n",
      "epoch 15 / 20, step 400/469, train loss = 0.1674\n",
      "epoch 16 / 20, step 100/469, train loss = 0.1473\n",
      "epoch 16 / 20, step 200/469, train loss = 0.0946\n",
      "epoch 16 / 20, step 300/469, train loss = 0.1139\n",
      "epoch 16 / 20, step 400/469, train loss = 0.1643\n",
      "epoch 17 / 20, step 100/469, train loss = 0.1278\n",
      "epoch 17 / 20, step 200/469, train loss = 0.1326\n",
      "epoch 17 / 20, step 300/469, train loss = 0.1337\n",
      "epoch 17 / 20, step 400/469, train loss = 0.1090\n",
      "epoch 18 / 20, step 100/469, train loss = 0.1614\n",
      "epoch 18 / 20, step 200/469, train loss = 0.1383\n",
      "epoch 18 / 20, step 300/469, train loss = 0.1959\n",
      "epoch 18 / 20, step 400/469, train loss = 0.2704\n",
      "epoch 19 / 20, step 100/469, train loss = 0.1206\n",
      "epoch 19 / 20, step 200/469, train loss = 0.2209\n",
      "epoch 19 / 20, step 300/469, train loss = 0.1244\n",
      "epoch 19 / 20, step 400/469, train loss = 0.1462\n",
      "epoch 20 / 20, step 100/469, train loss = 0.1292\n",
      "epoch 20 / 20, step 200/469, train loss = 0.1063\n",
      "epoch 20 / 20, step 300/469, train loss = 0.3085\n",
      "epoch 20 / 20, step 400/469, train loss = 0.1304\n"
     ]
    }
   ],
   "source": [
    "cum_loss = 0\n",
    "writer = SummaryWriter()\n",
    "\n",
    "writer.add_graph(tcgn, test_samples.to(device))\n",
    "\n",
    "for epoch in range(num_epochs):\n",
    "    for i,(images, labels) in enumerate(train_loader):\n",
    "        images = images.reshape(-1,1,28,28).to(device)\n",
    "        labels = labels.to(device)\n",
    "        \n",
    "        #forward\n",
    "        train_loss = tcgn.train_step(images, labels)\n",
    "        cum_loss += train_loss\n",
    "        \n",
    "        if (i+1) % 100 == 0:\n",
    "            print(f'epoch {epoch+1} / {num_epochs}, step {i+1}/{n_steps}, train loss = {train_loss:.4f}')\n",
    "            \n",
    "    with torch.no_grad():\n",
    "        test_samples = test_samples.to(device)\n",
    "        gcn_embeddings, _ = tcgn.get_gcn_embeddings(test_samples)\n",
    "        final_embeddings = tcgn.get_final_embeddings(test_samples)\n",
    "        \n",
    "        train_acc = tcgn.get_accuracy(test_samples, test_labels.to(device))\n",
    "        \n",
    "        writer.add_scalar('Loss/train',cum_loss/n_steps,epoch)\n",
    "        writer.add_scalar('Accuracy/test',train_acc,epoch)\n",
    "        \n",
    "        writer.add_embedding(gcn_embeddings, metadata=test_labels,label_img=test_samples,global_step=epoch, tag=f\"GCN Embeddings\")\n",
    "        writer.add_embedding(final_embeddings, metadata=test_labels,label_img=test_samples,global_step=epoch, tag=f\"Final Embeddings\")\n",
    "    \n",
    "    cum_loss = 0\n",
    "    \n",
    "writer.close()"
   ]
  }
 ],
 "metadata": {
  "kernelspec": {
   "display_name": "Python 3",
   "language": "python",
   "name": "python3"
  },
  "language_info": {
   "codemirror_mode": {
    "name": "ipython",
    "version": 3
   },
   "file_extension": ".py",
   "mimetype": "text/x-python",
   "name": "python",
   "nbconvert_exporter": "python",
   "pygments_lexer": "ipython3",
   "version": "3.8.8"
  }
 },
 "nbformat": 4,
 "nbformat_minor": 5
}
