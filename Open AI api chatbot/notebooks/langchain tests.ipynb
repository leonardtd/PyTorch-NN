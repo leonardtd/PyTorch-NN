{
 "cells": [
  {
   "cell_type": "markdown",
   "id": "b2ca40c4",
   "metadata": {},
   "source": [
    "- https://python.langchain.com/docs/modules/agents/how_to/add_memory_openai_functions\n",
    "- https://python.langchain.com/docs/modules/agents/how_to/agent_vectorstore"
   ]
  },
  {
   "cell_type": "markdown",
   "id": "5b752225",
   "metadata": {},
   "source": [
    "- (SYSTEM MESSAGE TO AGENT) https://github.com/hwchase17/langchain/pull/6297 "
   ]
  },
  {
   "cell_type": "markdown",
   "id": "747ea45a",
   "metadata": {},
   "source": [
    "### Tools\n",
    "- https://python.langchain.com/docs/modules/agents/tools/how_to/multi_input_tool\n",
    "- https://python.langchain.com/docs/modules/agents/tools/how_to/custom_tools\n",
    "- https://python.langchain.com/docs/modules/agents/tools/integrations/google_search"
   ]
  },
  {
   "cell_type": "code",
   "execution_count": 1,
   "id": "29aaf449",
   "metadata": {},
   "outputs": [
    {
     "name": "stdout",
     "output_type": "stream",
     "text": [
      "D:\\Proyectos DL\\PyTorch-Tutorials\\Open AI api chatbot\n"
     ]
    }
   ],
   "source": [
    "%cd .."
   ]
  },
  {
   "cell_type": "code",
   "execution_count": 2,
   "id": "b15a135d",
   "metadata": {},
   "outputs": [],
   "source": [
    "from dotenv import load_dotenv, find_dotenv\n",
    "import os\n",
    "import openai"
   ]
  },
  {
   "cell_type": "code",
   "execution_count": 3,
   "id": "0d5d00d7",
   "metadata": {},
   "outputs": [],
   "source": [
    "load_dotenv(find_dotenv())  # read local .env file\n",
    "openai.api_key = os.environ['OPENAI_API_KEY']"
   ]
  },
  {
   "cell_type": "code",
   "execution_count": 9,
   "id": "2130074f",
   "metadata": {},
   "outputs": [],
   "source": [
    "from langchain import (\n",
    "    LLMMathChain,\n",
    "    OpenAI,\n",
    "    SerpAPIWrapper,\n",
    ")\n",
    "from langchain.prompts import SystemMessagePromptTemplate\n",
    "from langchain.schema import SystemMessage\n",
    "from langchain.agents import initialize_agent, Tool\n",
    "from langchain.agents import AgentType\n",
    "from langchain.chat_models import ChatOpenAI\n",
    "from langchain.document_loaders import CSVLoader\n",
    "from langchain.vectorstores import DocArrayInMemorySearch\n",
    "from langchain.embeddings import OpenAIEmbeddings\n",
    "from langchain.chains import RetrievalQA"
   ]
  },
  {
   "cell_type": "code",
   "execution_count": 5,
   "id": "fcd14ffa",
   "metadata": {},
   "outputs": [],
   "source": [
    "llm = ChatOpenAI(temperature=0, model=\"gpt-3.5-turbo-0613\")\n",
    "llm_math_chain = LLMMathChain.from_llm(llm=llm, verbose=True)"
   ]
  },
  {
   "cell_type": "code",
   "execution_count": 19,
   "id": "64d6539c",
   "metadata": {},
   "outputs": [],
   "source": [
    "### document loaders\n",
    "file = 'docs/products.csv'\n",
    "loader = CSVLoader(file_path=file)\n",
    "\n",
    "products_docs = loader.load()\n",
    "embeddings = OpenAIEmbeddings()\n",
    "\n",
    "products_db = DocArrayInMemorySearch.from_documents(\n",
    "    products_docs, \n",
    "    embeddings,\n",
    "    collection_name=\"products_descriptions\",\n",
    ")\n",
    "\n",
    "\n",
    "products_qa = RetrievalQA.from_chain_type(\n",
    "    llm=llm, chain_type=\"stuff\", retriever=products_db.as_retriever()\n",
    ")\n",
    "### tools\n",
    "\n",
    "tools = [\n",
    "    Tool(\n",
    "        name=\"Calculator\",\n",
    "        func=llm_math_chain.run,\n",
    "        description=\"useful for when you need to answer questions about math\",\n",
    "    ),\n",
    "    Tool(\n",
    "        name=\"Products_QA\",\n",
    "        func=products_qa.run,\n",
    "        description=\"useful for when you need to answer questions about the products that the company offers. information provided in this document is item name, item description and unit price.\",\n",
    "    ),\n",
    "]"
   ]
  },
  {
   "cell_type": "code",
   "execution_count": 20,
   "id": "cc81cfc1",
   "metadata": {},
   "outputs": [],
   "source": [
    "system_template = \"\"\"\n",
    "You are a helpful AI assistant for MineSafe Solutions, a trusted provider of mining safety products. Your role is to assist potential buyers by answering their queries and providing information about our wide range of safety products. With our innovative solutions, we prioritize the highest level of safety and protection in the mining industry. Whether they're looking for personal protective equipment, safety devices, or advanced monitoring systems, you are here to guide them. Feel free to ask any questions or let them know how you can help improve safety at their mining operations.\n",
    "\"\"\""
   ]
  },
  {
   "cell_type": "code",
   "execution_count": 21,
   "id": "991695df",
   "metadata": {},
   "outputs": [],
   "source": [
    "from langchain.prompts import MessagesPlaceholder\n",
    "from langchain.memory import ConversationBufferMemory\n",
    "\n",
    "agent_kwargs = {\n",
    "    \"system_message\": SystemMessage(content=system_template),\n",
    "    \"extra_prompt_messages\": [MessagesPlaceholder(variable_name=\"memory\")],\n",
    "}\n",
    "\n",
    "memory = ConversationBufferMemory(memory_key=\"memory\", return_messages=True)\n",
    "memory2 = ConversationBufferMemory(memory_key=\"memory\", return_messages=True)"
   ]
  },
  {
   "cell_type": "code",
   "execution_count": 33,
   "id": "2f1f6683",
   "metadata": {},
   "outputs": [],
   "source": [
    "agent = initialize_agent(\n",
    "        tools,\n",
    "        llm,\n",
    "        agent=AgentType.OPENAI_FUNCTIONS,\n",
    "        verbose=True,\n",
    "        agent_kwargs=agent_kwargs,\n",
    "        memory=memory,\n",
    "    )"
   ]
  },
  {
   "cell_type": "code",
   "execution_count": 38,
   "id": "002b7273",
   "metadata": {},
   "outputs": [
    {
     "data": {
      "text/plain": [
       "[]"
      ]
     },
     "execution_count": 38,
     "metadata": {},
     "output_type": "execute_result"
    }
   ],
   "source": [
    "memory2.buffer"
   ]
  },
  {
   "cell_type": "code",
   "execution_count": 36,
   "id": "2d108074",
   "metadata": {},
   "outputs": [
    {
     "data": {
      "text/plain": [
       "[HumanMessage(content='hi', additional_kwargs={}, example=False),\n",
       " AIMessage(content='Hello! How can I assist you today?', additional_kwargs={}, example=False),\n",
       " HumanMessage(content='what do you offer', additional_kwargs={}, example=False),\n",
       " AIMessage(content='At MineSafe Solutions, we offer a wide range of mining safety products to ensure the highest level of safety and protection in the mining industry. Some of our offerings include:\\n\\n1. Personal Protective Equipment (PPE): We provide a variety of PPE such as safety helmets, protective eyewear, ear protection, respiratory masks, high-visibility clothing, and safety gloves.\\n\\n2. Safety Devices: We offer safety devices like gas detectors, fire extinguishers, safety harnesses, fall protection systems, and emergency evacuation equipment.\\n\\n3. Advanced Monitoring Systems: Our advanced monitoring systems include real-time tracking and monitoring of personnel, equipment, and environmental conditions. This helps in ensuring the safety of workers and preventing accidents.\\n\\n4. Safety Training and Consulting: We also provide safety training programs and consulting services to help mining companies develop and implement effective safety protocols and procedures.\\n\\nThese are just a few examples of the products and services we offer. If you have any specific requirements or questions about our products, feel free to let me know!', additional_kwargs={}, example=False),\n",
       " HumanMessage(content='what is your cheapest products', additional_kwargs={}, example=False),\n",
       " AIMessage(content='Our cheapest product is the High-Visibility Vests, which are priced at $15. These vests are essential for ensuring the visibility and safety of workers in mining operations. They are made of high-quality materials and meet industry safety standards. If you would like more information about the High-Visibility Vests or any other products, please let me know!', additional_kwargs={}, example=False)]"
      ]
     },
     "execution_count": 36,
     "metadata": {},
     "output_type": "execute_result"
    }
   ],
   "source": [
    "memory.buffer"
   ]
  },
  {
   "cell_type": "code",
   "execution_count": 46,
   "id": "b501f5a9",
   "metadata": {},
   "outputs": [],
   "source": [
    "agent.memory = memory2"
   ]
  },
  {
   "cell_type": "code",
   "execution_count": 47,
   "id": "b648a8b6",
   "metadata": {},
   "outputs": [
    {
     "data": {
      "text/plain": [
       "[HumanMessage(content='what was my first message', additional_kwargs={}, example=False),\n",
       " AIMessage(content='Your first message was \"what was my first message\".', additional_kwargs={}, example=False)]"
      ]
     },
     "execution_count": 47,
     "metadata": {},
     "output_type": "execute_result"
    }
   ],
   "source": [
    "agent.memory.buffer"
   ]
  },
  {
   "cell_type": "code",
   "execution_count": 44,
   "id": "d178f4b1",
   "metadata": {},
   "outputs": [
    {
     "name": "stdout",
     "output_type": "stream",
     "text": [
      "\n",
      "\n",
      "\u001b[1m> Entering new AgentExecutor chain...\u001b[0m\n",
      "\u001b[32;1m\u001b[1;3mYour first message was \"hi\". How can I assist you today?\u001b[0m\n",
      "\n",
      "\u001b[1m> Finished chain.\u001b[0m\n"
     ]
    },
    {
     "data": {
      "text/plain": [
       "'Your first message was \"hi\". How can I assist you today?'"
      ]
     },
     "execution_count": 44,
     "metadata": {},
     "output_type": "execute_result"
    }
   ],
   "source": [
    "agent.run(\"what was my first message\")"
   ]
  },
  {
   "cell_type": "code",
   "execution_count": 22,
   "id": "0e6f4be5",
   "metadata": {},
   "outputs": [],
   "source": [
    "def get_answer_agent(question, memory, verbose=True):\n",
    "    agent = initialize_agent(\n",
    "        tools,\n",
    "        llm,\n",
    "        agent=AgentType.OPENAI_FUNCTIONS,\n",
    "        verbose=verbose,\n",
    "        agent_kwargs=agent_kwargs,\n",
    "        memory=memory,\n",
    "    )\n",
    "    \n",
    "    response = agent.run(question)\n",
    "    \n",
    "    return response"
   ]
  },
  {
   "cell_type": "code",
   "execution_count": 29,
   "id": "47d5b537",
   "metadata": {},
   "outputs": [],
   "source": [
    "query = 'what is your cheapest products'"
   ]
  },
  {
   "cell_type": "code",
   "execution_count": 30,
   "id": "a6d29eaf",
   "metadata": {},
   "outputs": [
    {
     "name": "stdout",
     "output_type": "stream",
     "text": [
      "\n",
      "\n",
      "\u001b[1m> Entering new AgentExecutor chain...\u001b[0m\n",
      "\u001b[32;1m\u001b[1;3m\n",
      "Invoking: `Products_QA` with `cheapest`\n",
      "\n",
      "\n",
      "\u001b[0m\u001b[33;1m\u001b[1;3mThe cheapest item is the High-Visibility Vests, which are priced at $15.\u001b[0m\u001b[32;1m\u001b[1;3mOur cheapest product is the High-Visibility Vests, which are priced at $15. These vests are essential for ensuring the visibility and safety of workers in mining operations. They are made of high-quality materials and meet industry safety standards. If you would like more information about the High-Visibility Vests or any other products, please let me know!\u001b[0m\n",
      "\n",
      "\u001b[1m> Finished chain.\u001b[0m\n"
     ]
    },
    {
     "data": {
      "text/plain": [
       "'Our cheapest product is the High-Visibility Vests, which are priced at $15. These vests are essential for ensuring the visibility and safety of workers in mining operations. They are made of high-quality materials and meet industry safety standards. If you would like more information about the High-Visibility Vests or any other products, please let me know!'"
      ]
     },
     "execution_count": 30,
     "metadata": {},
     "output_type": "execute_result"
    }
   ],
   "source": [
    "get_answer_agent(query, \n",
    "                 memory)"
   ]
  },
  {
   "cell_type": "code",
   "execution_count": 27,
   "id": "0b809327",
   "metadata": {},
   "outputs": [
    {
     "data": {
      "text/plain": [
       "[HumanMessage(content='hi', additional_kwargs={}, example=False),\n",
       " AIMessage(content='Hello! How can I assist you today?', additional_kwargs={}, example=False),\n",
       " HumanMessage(content='what do you offer', additional_kwargs={}, example=False),\n",
       " AIMessage(content='At MineSafe Solutions, we offer a wide range of mining safety products to ensure the highest level of safety and protection in the mining industry. Some of our offerings include:\\n\\n1. Personal Protective Equipment (PPE): We provide a variety of PPE such as safety helmets, protective eyewear, ear protection, respiratory masks, high-visibility clothing, and safety gloves.\\n\\n2. Safety Devices: We offer safety devices like gas detectors, fire extinguishers, safety harnesses, fall protection systems, and emergency evacuation equipment.\\n\\n3. Advanced Monitoring Systems: Our advanced monitoring systems include real-time tracking and monitoring of personnel, equipment, and environmental conditions. This helps in ensuring the safety of workers and preventing accidents.\\n\\n4. Safety Training and Consulting: We also provide safety training programs and consulting services to help mining companies develop and implement effective safety protocols and procedures.\\n\\nThese are just a few examples of the products and services we offer. If you have any specific requirements or questions about our products, feel free to let me know!', additional_kwargs={}, example=False)]"
      ]
     },
     "execution_count": 27,
     "metadata": {},
     "output_type": "execute_result"
    }
   ],
   "source": [
    "memory.buffer"
   ]
  },
  {
   "cell_type": "code",
   "execution_count": 31,
   "id": "655ead71",
   "metadata": {},
   "outputs": [
    {
     "data": {
      "text/plain": [
       "[]"
      ]
     },
     "execution_count": 31,
     "metadata": {},
     "output_type": "execute_result"
    }
   ],
   "source": [
    "memory2.buffer"
   ]
  },
  {
   "cell_type": "code",
   "execution_count": null,
   "id": "2c3870c0",
   "metadata": {},
   "outputs": [],
   "source": []
  }
 ],
 "metadata": {
  "kernelspec": {
   "display_name": "Python 3 (ipykernel)",
   "language": "python",
   "name": "python3"
  },
  "language_info": {
   "codemirror_mode": {
    "name": "ipython",
    "version": 3
   },
   "file_extension": ".py",
   "mimetype": "text/x-python",
   "name": "python",
   "nbconvert_exporter": "python",
   "pygments_lexer": "ipython3",
   "version": "3.8.8"
  }
 },
 "nbformat": 4,
 "nbformat_minor": 5
}
