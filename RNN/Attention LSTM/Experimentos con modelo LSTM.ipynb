{
 "cells": [
  {
   "cell_type": "code",
   "execution_count": 3,
   "id": "7b1b33ca",
   "metadata": {},
   "outputs": [],
   "source": [
    "import pandas as pd\n",
    "import numpy as np\n",
    "import re\n",
    "import math\n",
    "from sklearn.feature_extraction.text import CountVectorizer, TfidfVectorizer"
   ]
  },
  {
   "cell_type": "markdown",
   "id": "5f8073c2",
   "metadata": {},
   "source": [
    "#### Leer y procesar archivo de texto"
   ]
  },
  {
   "cell_type": "code",
   "execution_count": 4,
   "id": "7d83f692",
   "metadata": {},
   "outputs": [],
   "source": [
    "df = pd.read_excel(\"../80s.xlsx\")"
   ]
  },
  {
   "cell_type": "code",
   "execution_count": 5,
   "id": "d0ccec09",
   "metadata": {},
   "outputs": [
    {
     "data": {
      "text/html": [
       "<div>\n",
       "<style scoped>\n",
       "    .dataframe tbody tr th:only-of-type {\n",
       "        vertical-align: middle;\n",
       "    }\n",
       "\n",
       "    .dataframe tbody tr th {\n",
       "        vertical-align: top;\n",
       "    }\n",
       "\n",
       "    .dataframe thead th {\n",
       "        text-align: right;\n",
       "    }\n",
       "</style>\n",
       "<table border=\"1\" class=\"dataframe\">\n",
       "  <thead>\n",
       "    <tr style=\"text-align: right;\">\n",
       "      <th></th>\n",
       "      <th>EVALUACION</th>\n",
       "      <th>Comentariomin</th>\n",
       "    </tr>\n",
       "  </thead>\n",
       "  <tbody>\n",
       "    <tr>\n",
       "      <th>0</th>\n",
       "      <td>5</td>\n",
       "      <td>totalmente satisfecho x q resolvieron mi  cons...</td>\n",
       "    </tr>\n",
       "    <tr>\n",
       "      <th>1</th>\n",
       "      <td>5</td>\n",
       "      <td>la atencion fue rapida y clara</td>\n",
       "    </tr>\n",
       "    <tr>\n",
       "      <th>2</th>\n",
       "      <td>4</td>\n",
       "      <td>me atendieron bien</td>\n",
       "    </tr>\n",
       "    <tr>\n",
       "      <th>3</th>\n",
       "      <td>5</td>\n",
       "      <td>fue muy rapido la atencion</td>\n",
       "    </tr>\n",
       "    <tr>\n",
       "      <th>4</th>\n",
       "      <td>5</td>\n",
       "      <td>por que me atendieron muy amablemente con buen...</td>\n",
       "    </tr>\n",
       "  </tbody>\n",
       "</table>\n",
       "</div>"
      ],
      "text/plain": [
       "   EVALUACION                                      Comentariomin\n",
       "0           5  totalmente satisfecho x q resolvieron mi  cons...\n",
       "1           5                     la atencion fue rapida y clara\n",
       "2           4                                 me atendieron bien\n",
       "3           5                         fue muy rapido la atencion\n",
       "4           5  por que me atendieron muy amablemente con buen..."
      ]
     },
     "execution_count": 5,
     "metadata": {},
     "output_type": "execute_result"
    }
   ],
   "source": [
    "df.head()"
   ]
  },
  {
   "cell_type": "code",
   "execution_count": 6,
   "id": "483475e4",
   "metadata": {},
   "outputs": [
    {
     "name": "stderr",
     "output_type": "stream",
     "text": [
      "<ipython-input-6-525be9a5777b>:2: SettingWithCopyWarning: \n",
      "A value is trying to be set on a copy of a slice from a DataFrame\n",
      "\n",
      "See the caveats in the documentation: https://pandas.pydata.org/pandas-docs/stable/user_guide/indexing.html#returning-a-view-versus-a-copy\n",
      "  dataset['EVALUACION'][dataset[\"EVALUACION\"]<=2] = 0\n",
      "<ipython-input-6-525be9a5777b>:3: SettingWithCopyWarning: \n",
      "A value is trying to be set on a copy of a slice from a DataFrame\n",
      "\n",
      "See the caveats in the documentation: https://pandas.pydata.org/pandas-docs/stable/user_guide/indexing.html#returning-a-view-versus-a-copy\n",
      "  dataset['EVALUACION'][dataset[\"EVALUACION\"]>=4] = 1\n"
     ]
    }
   ],
   "source": [
    "dataset = df[df['EVALUACION']!=3].reset_index(drop=True)\n",
    "dataset['EVALUACION'][dataset[\"EVALUACION\"]<=2] = 0\n",
    "dataset['EVALUACION'][dataset[\"EVALUACION\"]>=4] = 1"
   ]
  },
  {
   "cell_type": "code",
   "execution_count": 7,
   "id": "569c26e9",
   "metadata": {},
   "outputs": [
    {
     "data": {
      "text/plain": [
       "array([1, 0], dtype=int64)"
      ]
     },
     "execution_count": 7,
     "metadata": {},
     "output_type": "execute_result"
    }
   ],
   "source": [
    "dataset['EVALUACION'].unique() #ok"
   ]
  },
  {
   "cell_type": "markdown",
   "id": "1cce519f",
   "metadata": {},
   "source": [
    "##### Limpieza basica de comentarios"
   ]
  },
  {
   "cell_type": "code",
   "execution_count": 8,
   "id": "0847f5f6",
   "metadata": {},
   "outputs": [],
   "source": [
    "def limpieza(texto):\n",
    "    texto = texto.lower()\n",
    "    tokens = re.findall(r'[a-zA-Z]+', texto)\n",
    "    out = [w for w in tokens if len(w)>=3]\n",
    "    return \" \".join(out)"
   ]
  },
  {
   "cell_type": "code",
   "execution_count": 9,
   "id": "4aaec123",
   "metadata": {},
   "outputs": [],
   "source": [
    "dataset['Comentariomin'] = dataset['Comentariomin'].apply(limpieza)"
   ]
  },
  {
   "cell_type": "code",
   "execution_count": 10,
   "id": "5e5227a3",
   "metadata": {},
   "outputs": [
    {
     "data": {
      "text/html": [
       "<div>\n",
       "<style scoped>\n",
       "    .dataframe tbody tr th:only-of-type {\n",
       "        vertical-align: middle;\n",
       "    }\n",
       "\n",
       "    .dataframe tbody tr th {\n",
       "        vertical-align: top;\n",
       "    }\n",
       "\n",
       "    .dataframe thead th {\n",
       "        text-align: right;\n",
       "    }\n",
       "</style>\n",
       "<table border=\"1\" class=\"dataframe\">\n",
       "  <thead>\n",
       "    <tr style=\"text-align: right;\">\n",
       "      <th></th>\n",
       "      <th>EVALUACION</th>\n",
       "      <th>Comentariomin</th>\n",
       "    </tr>\n",
       "  </thead>\n",
       "  <tbody>\n",
       "    <tr>\n",
       "      <th>0</th>\n",
       "      <td>1</td>\n",
       "      <td>totalmente satisfecho resolvieron consulta ate...</td>\n",
       "    </tr>\n",
       "    <tr>\n",
       "      <th>1</th>\n",
       "      <td>1</td>\n",
       "      <td>atencion fue rapida clara</td>\n",
       "    </tr>\n",
       "    <tr>\n",
       "      <th>2</th>\n",
       "      <td>1</td>\n",
       "      <td>atendieron bien</td>\n",
       "    </tr>\n",
       "    <tr>\n",
       "      <th>3</th>\n",
       "      <td>1</td>\n",
       "      <td>fue muy rapido atencion</td>\n",
       "    </tr>\n",
       "    <tr>\n",
       "      <th>4</th>\n",
       "      <td>1</td>\n",
       "      <td>por que atendieron muy amablemente con buena a...</td>\n",
       "    </tr>\n",
       "  </tbody>\n",
       "</table>\n",
       "</div>"
      ],
      "text/plain": [
       "   EVALUACION                                      Comentariomin\n",
       "0           1  totalmente satisfecho resolvieron consulta ate...\n",
       "1           1                          atencion fue rapida clara\n",
       "2           1                                    atendieron bien\n",
       "3           1                            fue muy rapido atencion\n",
       "4           1  por que atendieron muy amablemente con buena a..."
      ]
     },
     "execution_count": 10,
     "metadata": {},
     "output_type": "execute_result"
    }
   ],
   "source": [
    "dataset.head()"
   ]
  },
  {
   "cell_type": "code",
   "execution_count": 11,
   "id": "0cea4507",
   "metadata": {},
   "outputs": [],
   "source": [
    "corpus = dataset['Comentariomin'].values.tolist()"
   ]
  },
  {
   "cell_type": "markdown",
   "id": "0a44dccd",
   "metadata": {},
   "source": [
    "### Vectorización"
   ]
  },
  {
   "cell_type": "code",
   "execution_count": 12,
   "id": "0cd75dfe",
   "metadata": {},
   "outputs": [],
   "source": [
    "vect = TfidfVectorizer(max_features=100)\n",
    "FV = vect.fit_transform(corpus).toarray()"
   ]
  },
  {
   "cell_type": "code",
   "execution_count": 13,
   "id": "4ae854f4",
   "metadata": {},
   "outputs": [
    {
     "data": {
      "text/plain": [
       "(9223, 100)"
      ]
     },
     "execution_count": 13,
     "metadata": {},
     "output_type": "execute_result"
    }
   ],
   "source": [
    "FV.shape"
   ]
  },
  {
   "cell_type": "code",
   "execution_count": 14,
   "id": "03b827e0",
   "metadata": {},
   "outputs": [
    {
     "data": {
      "text/html": [
       "<div>\n",
       "<style scoped>\n",
       "    .dataframe tbody tr th:only-of-type {\n",
       "        vertical-align: middle;\n",
       "    }\n",
       "\n",
       "    .dataframe tbody tr th {\n",
       "        vertical-align: top;\n",
       "    }\n",
       "\n",
       "    .dataframe thead th {\n",
       "        text-align: right;\n",
       "    }\n",
       "</style>\n",
       "<table border=\"1\" class=\"dataframe\">\n",
       "  <thead>\n",
       "    <tr style=\"text-align: right;\">\n",
       "      <th></th>\n",
       "      <th>EVALUACION</th>\n",
       "      <th>Comentariomin</th>\n",
       "      <th>FV_TF-idf</th>\n",
       "    </tr>\n",
       "  </thead>\n",
       "  <tbody>\n",
       "    <tr>\n",
       "      <th>0</th>\n",
       "      <td>1</td>\n",
       "      <td>totalmente satisfecho resolvieron consulta ate...</td>\n",
       "      <td>[0.0, 0.0, 0.0, 0.23526175793482865, 0.0, 0.0,...</td>\n",
       "    </tr>\n",
       "    <tr>\n",
       "      <th>1</th>\n",
       "      <td>1</td>\n",
       "      <td>atencion fue rapida clara</td>\n",
       "      <td>[0.0, 0.0, 0.0, 0.4142105015115374, 0.0, 0.0, ...</td>\n",
       "    </tr>\n",
       "    <tr>\n",
       "      <th>2</th>\n",
       "      <td>1</td>\n",
       "      <td>atendieron bien</td>\n",
       "      <td>[0.0, 0.0, 0.0, 0.0, 0.0, 0.0, 0.6674746896658...</td>\n",
       "    </tr>\n",
       "    <tr>\n",
       "      <th>3</th>\n",
       "      <td>1</td>\n",
       "      <td>fue muy rapido atencion</td>\n",
       "      <td>[0.0, 0.0, 0.0, 0.33018051503777024, 0.0, 0.0,...</td>\n",
       "    </tr>\n",
       "    <tr>\n",
       "      <th>4</th>\n",
       "      <td>1</td>\n",
       "      <td>por que atendieron muy amablemente con buena a...</td>\n",
       "      <td>[0.0, 0.0, 0.0, 0.0, 0.0, 0.0, 0.3710390495930...</td>\n",
       "    </tr>\n",
       "  </tbody>\n",
       "</table>\n",
       "</div>"
      ],
      "text/plain": [
       "   EVALUACION                                      Comentariomin  \\\n",
       "0           1  totalmente satisfecho resolvieron consulta ate...   \n",
       "1           1                          atencion fue rapida clara   \n",
       "2           1                                    atendieron bien   \n",
       "3           1                            fue muy rapido atencion   \n",
       "4           1  por que atendieron muy amablemente con buena a...   \n",
       "\n",
       "                                           FV_TF-idf  \n",
       "0  [0.0, 0.0, 0.0, 0.23526175793482865, 0.0, 0.0,...  \n",
       "1  [0.0, 0.0, 0.0, 0.4142105015115374, 0.0, 0.0, ...  \n",
       "2  [0.0, 0.0, 0.0, 0.0, 0.0, 0.0, 0.6674746896658...  \n",
       "3  [0.0, 0.0, 0.0, 0.33018051503777024, 0.0, 0.0,...  \n",
       "4  [0.0, 0.0, 0.0, 0.0, 0.0, 0.0, 0.3710390495930...  "
      ]
     },
     "execution_count": 14,
     "metadata": {},
     "output_type": "execute_result"
    }
   ],
   "source": [
    "dataset['FV_TF-idf'] = FV.tolist() #to list solo para visualizacion\n",
    "dataset.head()"
   ]
  },
  {
   "cell_type": "code",
   "execution_count": 15,
   "id": "c8d51b56",
   "metadata": {},
   "outputs": [],
   "source": [
    "vectTF = CountVectorizer(max_features=100)\n",
    "FVTf = vect.fit_transform(corpus).toarray()"
   ]
  },
  {
   "cell_type": "code",
   "execution_count": 16,
   "id": "60e9f218",
   "metadata": {},
   "outputs": [
    {
     "data": {
      "text/html": [
       "<div>\n",
       "<style scoped>\n",
       "    .dataframe tbody tr th:only-of-type {\n",
       "        vertical-align: middle;\n",
       "    }\n",
       "\n",
       "    .dataframe tbody tr th {\n",
       "        vertical-align: top;\n",
       "    }\n",
       "\n",
       "    .dataframe thead th {\n",
       "        text-align: right;\n",
       "    }\n",
       "</style>\n",
       "<table border=\"1\" class=\"dataframe\">\n",
       "  <thead>\n",
       "    <tr style=\"text-align: right;\">\n",
       "      <th></th>\n",
       "      <th>EVALUACION</th>\n",
       "      <th>Comentariomin</th>\n",
       "      <th>FV_TF-idf</th>\n",
       "      <th>FV_TF</th>\n",
       "    </tr>\n",
       "  </thead>\n",
       "  <tbody>\n",
       "    <tr>\n",
       "      <th>0</th>\n",
       "      <td>1</td>\n",
       "      <td>totalmente satisfecho resolvieron consulta ate...</td>\n",
       "      <td>[0.0, 0.0, 0.0, 0.23526175793482865, 0.0, 0.0,...</td>\n",
       "      <td>[0.0, 0.0, 0.0, 0.23526175793482865, 0.0, 0.0,...</td>\n",
       "    </tr>\n",
       "    <tr>\n",
       "      <th>1</th>\n",
       "      <td>1</td>\n",
       "      <td>atencion fue rapida clara</td>\n",
       "      <td>[0.0, 0.0, 0.0, 0.4142105015115374, 0.0, 0.0, ...</td>\n",
       "      <td>[0.0, 0.0, 0.0, 0.4142105015115374, 0.0, 0.0, ...</td>\n",
       "    </tr>\n",
       "    <tr>\n",
       "      <th>2</th>\n",
       "      <td>1</td>\n",
       "      <td>atendieron bien</td>\n",
       "      <td>[0.0, 0.0, 0.0, 0.0, 0.0, 0.0, 0.6674746896658...</td>\n",
       "      <td>[0.0, 0.0, 0.0, 0.0, 0.0, 0.0, 0.6674746896658...</td>\n",
       "    </tr>\n",
       "    <tr>\n",
       "      <th>3</th>\n",
       "      <td>1</td>\n",
       "      <td>fue muy rapido atencion</td>\n",
       "      <td>[0.0, 0.0, 0.0, 0.33018051503777024, 0.0, 0.0,...</td>\n",
       "      <td>[0.0, 0.0, 0.0, 0.33018051503777024, 0.0, 0.0,...</td>\n",
       "    </tr>\n",
       "    <tr>\n",
       "      <th>4</th>\n",
       "      <td>1</td>\n",
       "      <td>por que atendieron muy amablemente con buena a...</td>\n",
       "      <td>[0.0, 0.0, 0.0, 0.0, 0.0, 0.0, 0.3710390495930...</td>\n",
       "      <td>[0.0, 0.0, 0.0, 0.0, 0.0, 0.0, 0.3710390495930...</td>\n",
       "    </tr>\n",
       "  </tbody>\n",
       "</table>\n",
       "</div>"
      ],
      "text/plain": [
       "   EVALUACION                                      Comentariomin  \\\n",
       "0           1  totalmente satisfecho resolvieron consulta ate...   \n",
       "1           1                          atencion fue rapida clara   \n",
       "2           1                                    atendieron bien   \n",
       "3           1                            fue muy rapido atencion   \n",
       "4           1  por que atendieron muy amablemente con buena a...   \n",
       "\n",
       "                                           FV_TF-idf  \\\n",
       "0  [0.0, 0.0, 0.0, 0.23526175793482865, 0.0, 0.0,...   \n",
       "1  [0.0, 0.0, 0.0, 0.4142105015115374, 0.0, 0.0, ...   \n",
       "2  [0.0, 0.0, 0.0, 0.0, 0.0, 0.0, 0.6674746896658...   \n",
       "3  [0.0, 0.0, 0.0, 0.33018051503777024, 0.0, 0.0,...   \n",
       "4  [0.0, 0.0, 0.0, 0.0, 0.0, 0.0, 0.3710390495930...   \n",
       "\n",
       "                                               FV_TF  \n",
       "0  [0.0, 0.0, 0.0, 0.23526175793482865, 0.0, 0.0,...  \n",
       "1  [0.0, 0.0, 0.0, 0.4142105015115374, 0.0, 0.0, ...  \n",
       "2  [0.0, 0.0, 0.0, 0.0, 0.0, 0.0, 0.6674746896658...  \n",
       "3  [0.0, 0.0, 0.0, 0.33018051503777024, 0.0, 0.0,...  \n",
       "4  [0.0, 0.0, 0.0, 0.0, 0.0, 0.0, 0.3710390495930...  "
      ]
     },
     "execution_count": 16,
     "metadata": {},
     "output_type": "execute_result"
    }
   ],
   "source": [
    "dataset['FV_TF'] = FVTf.tolist() #to list solo para visualizacion\n",
    "dataset.head()"
   ]
  },
  {
   "cell_type": "code",
   "execution_count": 17,
   "id": "bb038146",
   "metadata": {},
   "outputs": [],
   "source": [
    "import gensim\n",
    "from gensim.models import word2vec as w2v\n",
    "from multiprocessing import cpu_count\n",
    "from gensim import matutils"
   ]
  },
  {
   "cell_type": "code",
   "execution_count": 18,
   "id": "2001a62d",
   "metadata": {},
   "outputs": [],
   "source": [
    "with open(\"corpus.txt\", \"w\", encoding='utf-8') as file:\n",
    "    for topic in corpus:\n",
    "        file.write(topic+'\\n')"
   ]
  },
  {
   "cell_type": "code",
   "execution_count": 149,
   "id": "cdaa5a17",
   "metadata": {},
   "outputs": [],
   "source": [
    "#hyperparams\n",
    "VECTOR_SIZE = 100\n",
    "workers = cpu_count()-4\n",
    "epochs = 10\n",
    "window_size = 5"
   ]
  },
  {
   "cell_type": "code",
   "execution_count": 150,
   "id": "2ab29efa",
   "metadata": {},
   "outputs": [],
   "source": [
    "corpus_data = w2v.LineSentence(\"corpus.txt\")\n",
    "model = w2v.Word2Vec(corpus_data, vector_size=VECTOR_SIZE, min_count=1, workers=workers, epochs=epochs, window=window_size)"
   ]
  },
  {
   "cell_type": "code",
   "execution_count": 151,
   "id": "f428d519",
   "metadata": {},
   "outputs": [
    {
     "data": {
      "text/plain": [
       "[('bien', 0.9332432746887207),\n",
       " ('eficientemente', 0.9273310303688049),\n",
       " ('amablemente', 0.9267939329147339),\n",
       " ('cordialmente', 0.9144821166992188),\n",
       " ('super', 0.9090037941932678),\n",
       " ('gentiles', 0.8984186053276062),\n",
       " ('porque', 0.8980531096458435),\n",
       " ('eficazmente', 0.8940411806106567),\n",
       " ('amablidad', 0.8843739628791809),\n",
       " ('comoda', 0.8835574984550476)]"
      ]
     },
     "execution_count": 151,
     "metadata": {},
     "output_type": "execute_result"
    }
   ],
   "source": [
    "#Ejemplo de procesamiento NLP con contexto\n",
    "model.wv.most_similar(\"rapido\")"
   ]
  },
  {
   "cell_type": "code",
   "execution_count": 152,
   "id": "d901aa7c",
   "metadata": {},
   "outputs": [],
   "source": [
    "def document_to_vector(topic, model):\n",
    "    words = topic.split()    \n",
    "    document = list()\n",
    "    for w in words:\n",
    "        try:\n",
    "            document.append(model.wv[w])\n",
    "        except:\n",
    "            document.append(np.zeros(100,))\n",
    "    if len(words) == 0:\n",
    "        document = np.zeros((1,100))\n",
    "    return np.mean(np.array(document),axis=0)"
   ]
  },
  {
   "cell_type": "code",
   "execution_count": 153,
   "id": "10d59cde",
   "metadata": {},
   "outputs": [],
   "source": [
    "dataset['w2v'] = (dataset['Comentariomin'].apply(lambda x: document_to_vector(x, model))).tolist()"
   ]
  },
  {
   "cell_type": "code",
   "execution_count": 154,
   "id": "7361a85f",
   "metadata": {},
   "outputs": [
    {
     "data": {
      "text/plain": [
       "Index(['EVALUACION', 'Comentariomin', 'FV_TF-idf', 'FV_TF', 'w2v'], dtype='object')"
      ]
     },
     "execution_count": 154,
     "metadata": {},
     "output_type": "execute_result"
    }
   ],
   "source": [
    "dataset.columns"
   ]
  },
  {
   "cell_type": "markdown",
   "id": "18eb5644",
   "metadata": {},
   "source": [
    "### Evaluación de Modelos"
   ]
  },
  {
   "cell_type": "markdown",
   "id": "8d4bd31c",
   "metadata": {},
   "source": [
    "### Modelo LSTM con attention"
   ]
  },
  {
   "cell_type": "code",
   "execution_count": 529,
   "id": "f59b9ae8",
   "metadata": {},
   "outputs": [],
   "source": [
    "dataset = dataset.sample(frac=1).reset_index(drop=True)"
   ]
  },
  {
   "cell_type": "code",
   "execution_count": 530,
   "id": "4f63ac49",
   "metadata": {},
   "outputs": [],
   "source": [
    "dataset = dataset[dataset['Comentariomin']!=''] #Filter out empty docs"
   ]
  },
  {
   "cell_type": "code",
   "execution_count": 531,
   "id": "63a576a5",
   "metadata": {},
   "outputs": [],
   "source": [
    "test_size = math.ceil(dataset.shape[0]/10)"
   ]
  },
  {
   "cell_type": "code",
   "execution_count": 532,
   "id": "ec2766e7",
   "metadata": {},
   "outputs": [],
   "source": [
    "test_data = dataset[:test_size].reset_index(drop=True)\n",
    "train_data = dataset[test_size:].reset_index(drop=True)"
   ]
  },
  {
   "cell_type": "code",
   "execution_count": 533,
   "id": "e5f53ea1",
   "metadata": {},
   "outputs": [
    {
     "data": {
      "text/html": [
       "<div>\n",
       "<style scoped>\n",
       "    .dataframe tbody tr th:only-of-type {\n",
       "        vertical-align: middle;\n",
       "    }\n",
       "\n",
       "    .dataframe tbody tr th {\n",
       "        vertical-align: top;\n",
       "    }\n",
       "\n",
       "    .dataframe thead th {\n",
       "        text-align: right;\n",
       "    }\n",
       "</style>\n",
       "<table border=\"1\" class=\"dataframe\">\n",
       "  <thead>\n",
       "    <tr style=\"text-align: right;\">\n",
       "      <th></th>\n",
       "      <th>EVALUACION</th>\n",
       "      <th>Comentariomin</th>\n",
       "      <th>FV_TF-idf</th>\n",
       "      <th>FV_TF</th>\n",
       "      <th>w2v</th>\n",
       "    </tr>\n",
       "  </thead>\n",
       "  <tbody>\n",
       "    <tr>\n",
       "      <th>0</th>\n",
       "      <td>1</td>\n",
       "      <td>por atencion</td>\n",
       "      <td>[0.0, 0.0, 0.0, 0.6164846047093092, 0.0, 0.0, ...</td>\n",
       "      <td>[0.0, 0.0, 0.0, 0.6164846047093092, 0.0, 0.0, ...</td>\n",
       "      <td>[-0.71931493, 0.38060495, 0.06382955, 0.001248...</td>\n",
       "    </tr>\n",
       "    <tr>\n",
       "      <th>1</th>\n",
       "      <td>1</td>\n",
       "      <td>por rapidez atencion</td>\n",
       "      <td>[0.0, 0.0, 0.0, 0.3616011214294089, 0.0, 0.0, ...</td>\n",
       "      <td>[0.0, 0.0, 0.0, 0.3616011214294089, 0.0, 0.0, ...</td>\n",
       "      <td>[-0.8334515, 0.50286883, 0.004782031, -0.07957...</td>\n",
       "    </tr>\n",
       "    <tr>\n",
       "      <th>2</th>\n",
       "      <td>1</td>\n",
       "      <td>atencion fue oportuna</td>\n",
       "      <td>[0.0, 0.0, 0.0, 0.5486859751731602, 0.0, 0.0, ...</td>\n",
       "      <td>[0.0, 0.0, 0.0, 0.5486859751731602, 0.0, 0.0, ...</td>\n",
       "      <td>[-0.7373402, 0.29470503, -0.082568355, 0.10921...</td>\n",
       "    </tr>\n",
       "    <tr>\n",
       "      <th>3</th>\n",
       "      <td>1</td>\n",
       "      <td>cumplio con que esperaba</td>\n",
       "      <td>[0.0, 0.0, 0.0, 0.0, 0.0, 0.0, 0.0, 0.0, 0.0, ...</td>\n",
       "      <td>[0.0, 0.0, 0.0, 0.0, 0.0, 0.0, 0.0, 0.0, 0.0, ...</td>\n",
       "      <td>[-0.22858247, -0.07508833, 0.0916019, 0.012127...</td>\n",
       "    </tr>\n",
       "    <tr>\n",
       "      <th>4</th>\n",
       "      <td>1</td>\n",
       "      <td>por que brindaron una muy buena atencion sobre...</td>\n",
       "      <td>[0.0, 0.0, 0.0, 0.20317396030915646, 0.0, 0.0,...</td>\n",
       "      <td>[0.0, 0.0, 0.0, 0.20317396030915646, 0.0, 0.0,...</td>\n",
       "      <td>[-0.54640853, 0.08720608, 0.08424382, 0.100999...</td>\n",
       "    </tr>\n",
       "  </tbody>\n",
       "</table>\n",
       "</div>"
      ],
      "text/plain": [
       "   EVALUACION                                      Comentariomin  \\\n",
       "0           1                                       por atencion   \n",
       "1           1                               por rapidez atencion   \n",
       "2           1                              atencion fue oportuna   \n",
       "3           1                           cumplio con que esperaba   \n",
       "4           1  por que brindaron una muy buena atencion sobre...   \n",
       "\n",
       "                                           FV_TF-idf  \\\n",
       "0  [0.0, 0.0, 0.0, 0.6164846047093092, 0.0, 0.0, ...   \n",
       "1  [0.0, 0.0, 0.0, 0.3616011214294089, 0.0, 0.0, ...   \n",
       "2  [0.0, 0.0, 0.0, 0.5486859751731602, 0.0, 0.0, ...   \n",
       "3  [0.0, 0.0, 0.0, 0.0, 0.0, 0.0, 0.0, 0.0, 0.0, ...   \n",
       "4  [0.0, 0.0, 0.0, 0.20317396030915646, 0.0, 0.0,...   \n",
       "\n",
       "                                               FV_TF  \\\n",
       "0  [0.0, 0.0, 0.0, 0.6164846047093092, 0.0, 0.0, ...   \n",
       "1  [0.0, 0.0, 0.0, 0.3616011214294089, 0.0, 0.0, ...   \n",
       "2  [0.0, 0.0, 0.0, 0.5486859751731602, 0.0, 0.0, ...   \n",
       "3  [0.0, 0.0, 0.0, 0.0, 0.0, 0.0, 0.0, 0.0, 0.0, ...   \n",
       "4  [0.0, 0.0, 0.0, 0.20317396030915646, 0.0, 0.0,...   \n",
       "\n",
       "                                                 w2v  \n",
       "0  [-0.71931493, 0.38060495, 0.06382955, 0.001248...  \n",
       "1  [-0.8334515, 0.50286883, 0.004782031, -0.07957...  \n",
       "2  [-0.7373402, 0.29470503, -0.082568355, 0.10921...  \n",
       "3  [-0.22858247, -0.07508833, 0.0916019, 0.012127...  \n",
       "4  [-0.54640853, 0.08720608, 0.08424382, 0.100999...  "
      ]
     },
     "execution_count": 533,
     "metadata": {},
     "output_type": "execute_result"
    }
   ],
   "source": [
    "train_data.head()"
   ]
  },
  {
   "cell_type": "code",
   "execution_count": 534,
   "id": "1fdd503c",
   "metadata": {},
   "outputs": [],
   "source": [
    "#sort train data by length of documents\n",
    "#small batch size\n",
    "\n",
    "s = train_data.Comentariomin.str.len().sort_values().index\n",
    "train_data  = train_data.reindex(s).reset_index(drop=True)"
   ]
  },
  {
   "cell_type": "code",
   "execution_count": 535,
   "id": "2c0afd0f",
   "metadata": {},
   "outputs": [
    {
     "data": {
      "text/html": [
       "<div>\n",
       "<style scoped>\n",
       "    .dataframe tbody tr th:only-of-type {\n",
       "        vertical-align: middle;\n",
       "    }\n",
       "\n",
       "    .dataframe tbody tr th {\n",
       "        vertical-align: top;\n",
       "    }\n",
       "\n",
       "    .dataframe thead th {\n",
       "        text-align: right;\n",
       "    }\n",
       "</style>\n",
       "<table border=\"1\" class=\"dataframe\">\n",
       "  <thead>\n",
       "    <tr style=\"text-align: right;\">\n",
       "      <th></th>\n",
       "      <th>EVALUACION</th>\n",
       "      <th>Comentariomin</th>\n",
       "      <th>FV_TF-idf</th>\n",
       "      <th>FV_TF</th>\n",
       "      <th>w2v</th>\n",
       "    </tr>\n",
       "  </thead>\n",
       "  <tbody>\n",
       "    <tr>\n",
       "      <th>0</th>\n",
       "      <td>1</td>\n",
       "      <td>qqq</td>\n",
       "      <td>[0.0, 0.0, 0.0, 0.0, 0.0, 0.0, 0.0, 0.0, 0.0, ...</td>\n",
       "      <td>[0.0, 0.0, 0.0, 0.0, 0.0, 0.0, 0.0, 0.0, 0.0, ...</td>\n",
       "      <td>[-0.0045857383, 0.009256487, -0.005697112, -0....</td>\n",
       "    </tr>\n",
       "    <tr>\n",
       "      <th>1</th>\n",
       "      <td>1</td>\n",
       "      <td>xxx</td>\n",
       "      <td>[0.0, 0.0, 0.0, 0.0, 0.0, 0.0, 0.0, 0.0, 0.0, ...</td>\n",
       "      <td>[0.0, 0.0, 0.0, 0.0, 0.0, 0.0, 0.0, 0.0, 0.0, ...</td>\n",
       "      <td>[0.005458796, 0.009516866, -0.008407385, -0.00...</td>\n",
       "    </tr>\n",
       "    <tr>\n",
       "      <th>2</th>\n",
       "      <td>1</td>\n",
       "      <td>todo</td>\n",
       "      <td>[0.0, 0.0, 0.0, 0.0, 0.0, 0.0, 0.0, 0.0, 0.0, ...</td>\n",
       "      <td>[0.0, 0.0, 0.0, 0.0, 0.0, 0.0, 0.0, 0.0, 0.0, ...</td>\n",
       "      <td>[-0.66196555, 0.07995832, -0.22037236, 0.06317...</td>\n",
       "    </tr>\n",
       "    <tr>\n",
       "      <th>3</th>\n",
       "      <td>1</td>\n",
       "      <td>dddd</td>\n",
       "      <td>[0.0, 0.0, 0.0, 0.0, 0.0, 0.0, 0.0, 0.0, 0.0, ...</td>\n",
       "      <td>[0.0, 0.0, 0.0, 0.0, 0.0, 0.0, 0.0, 0.0, 0.0, ...</td>\n",
       "      <td>[0.0016660905, 0.0054979753, -0.006782217, -0....</td>\n",
       "    </tr>\n",
       "    <tr>\n",
       "      <th>4</th>\n",
       "      <td>1</td>\n",
       "      <td>porq</td>\n",
       "      <td>[0.0, 0.0, 0.0, 0.0, 0.0, 0.0, 0.0, 0.0, 0.0, ...</td>\n",
       "      <td>[0.0, 0.0, 0.0, 0.0, 0.0, 0.0, 0.0, 0.0, 0.0, ...</td>\n",
       "      <td>[-0.27370843, 0.057843916, 0.007948949, 0.0933...</td>\n",
       "    </tr>\n",
       "    <tr>\n",
       "      <th>...</th>\n",
       "      <td>...</td>\n",
       "      <td>...</td>\n",
       "      <td>...</td>\n",
       "      <td>...</td>\n",
       "      <td>...</td>\n",
       "    </tr>\n",
       "    <tr>\n",
       "      <th>8270</th>\n",
       "      <td>0</td>\n",
       "      <td>porque fui cerrar una cuenta ahorros previo el...</td>\n",
       "      <td>[0.19320125849157913, 0.0, 0.05746333064579146...</td>\n",
       "      <td>[0.19320125849157913, 0.0, 0.05746333064579146...</td>\n",
       "      <td>[-0.30018118, 0.27072042, 0.08980753, 0.092213...</td>\n",
       "    </tr>\n",
       "    <tr>\n",
       "      <th>8271</th>\n",
       "      <td>0</td>\n",
       "      <td>bueno ante todo ese dia estaba muy apurada que...</td>\n",
       "      <td>[0.0, 0.0, 0.0, 0.023906675632376355, 0.0, 0.0...</td>\n",
       "      <td>[0.0, 0.0, 0.0, 0.023906675632376355, 0.0, 0.0...</td>\n",
       "      <td>[-0.27259967, 0.019342648, 0.0852872, 0.128235...</td>\n",
       "    </tr>\n",
       "    <tr>\n",
       "      <th>8272</th>\n",
       "      <td>0</td>\n",
       "      <td>bueno antes era inclusive peor porque encargad...</td>\n",
       "      <td>[0.0, 0.0, 0.0, 0.0, 0.07236400279931039, 0.0,...</td>\n",
       "      <td>[0.0, 0.0, 0.0, 0.0, 0.07236400279931039, 0.0,...</td>\n",
       "      <td>[-0.25830707, 0.13551225, 0.06709037, 0.122485...</td>\n",
       "    </tr>\n",
       "    <tr>\n",
       "      <th>8273</th>\n",
       "      <td>0</td>\n",
       "      <td>hice uso del servicio ventanilla para realizar...</td>\n",
       "      <td>[0.24417321972259404, 0.0, 0.0, 0.027609959849...</td>\n",
       "      <td>[0.24417321972259404, 0.0, 0.0, 0.027609959849...</td>\n",
       "      <td>[-0.3063431, 0.2536616, 0.07838951, 0.13197464...</td>\n",
       "    </tr>\n",
       "    <tr>\n",
       "      <th>8274</th>\n",
       "      <td>0</td>\n",
       "      <td>personal plataforma informacion sin revisar bi...</td>\n",
       "      <td>[0.09801030938819148, 0.0, 0.04372641404389798...</td>\n",
       "      <td>[0.09801030938819148, 0.0, 0.04372641404389798...</td>\n",
       "      <td>[-0.24075574, 0.050480608, 0.08991424, 0.10769...</td>\n",
       "    </tr>\n",
       "  </tbody>\n",
       "</table>\n",
       "<p>8275 rows × 5 columns</p>\n",
       "</div>"
      ],
      "text/plain": [
       "      EVALUACION                                      Comentariomin  \\\n",
       "0              1                                                qqq   \n",
       "1              1                                                xxx   \n",
       "2              1                                               todo   \n",
       "3              1                                               dddd   \n",
       "4              1                                               porq   \n",
       "...          ...                                                ...   \n",
       "8270           0  porque fui cerrar una cuenta ahorros previo el...   \n",
       "8271           0  bueno ante todo ese dia estaba muy apurada que...   \n",
       "8272           0  bueno antes era inclusive peor porque encargad...   \n",
       "8273           0  hice uso del servicio ventanilla para realizar...   \n",
       "8274           0  personal plataforma informacion sin revisar bi...   \n",
       "\n",
       "                                              FV_TF-idf  \\\n",
       "0     [0.0, 0.0, 0.0, 0.0, 0.0, 0.0, 0.0, 0.0, 0.0, ...   \n",
       "1     [0.0, 0.0, 0.0, 0.0, 0.0, 0.0, 0.0, 0.0, 0.0, ...   \n",
       "2     [0.0, 0.0, 0.0, 0.0, 0.0, 0.0, 0.0, 0.0, 0.0, ...   \n",
       "3     [0.0, 0.0, 0.0, 0.0, 0.0, 0.0, 0.0, 0.0, 0.0, ...   \n",
       "4     [0.0, 0.0, 0.0, 0.0, 0.0, 0.0, 0.0, 0.0, 0.0, ...   \n",
       "...                                                 ...   \n",
       "8270  [0.19320125849157913, 0.0, 0.05746333064579146...   \n",
       "8271  [0.0, 0.0, 0.0, 0.023906675632376355, 0.0, 0.0...   \n",
       "8272  [0.0, 0.0, 0.0, 0.0, 0.07236400279931039, 0.0,...   \n",
       "8273  [0.24417321972259404, 0.0, 0.0, 0.027609959849...   \n",
       "8274  [0.09801030938819148, 0.0, 0.04372641404389798...   \n",
       "\n",
       "                                                  FV_TF  \\\n",
       "0     [0.0, 0.0, 0.0, 0.0, 0.0, 0.0, 0.0, 0.0, 0.0, ...   \n",
       "1     [0.0, 0.0, 0.0, 0.0, 0.0, 0.0, 0.0, 0.0, 0.0, ...   \n",
       "2     [0.0, 0.0, 0.0, 0.0, 0.0, 0.0, 0.0, 0.0, 0.0, ...   \n",
       "3     [0.0, 0.0, 0.0, 0.0, 0.0, 0.0, 0.0, 0.0, 0.0, ...   \n",
       "4     [0.0, 0.0, 0.0, 0.0, 0.0, 0.0, 0.0, 0.0, 0.0, ...   \n",
       "...                                                 ...   \n",
       "8270  [0.19320125849157913, 0.0, 0.05746333064579146...   \n",
       "8271  [0.0, 0.0, 0.0, 0.023906675632376355, 0.0, 0.0...   \n",
       "8272  [0.0, 0.0, 0.0, 0.0, 0.07236400279931039, 0.0,...   \n",
       "8273  [0.24417321972259404, 0.0, 0.0, 0.027609959849...   \n",
       "8274  [0.09801030938819148, 0.0, 0.04372641404389798...   \n",
       "\n",
       "                                                    w2v  \n",
       "0     [-0.0045857383, 0.009256487, -0.005697112, -0....  \n",
       "1     [0.005458796, 0.009516866, -0.008407385, -0.00...  \n",
       "2     [-0.66196555, 0.07995832, -0.22037236, 0.06317...  \n",
       "3     [0.0016660905, 0.0054979753, -0.006782217, -0....  \n",
       "4     [-0.27370843, 0.057843916, 0.007948949, 0.0933...  \n",
       "...                                                 ...  \n",
       "8270  [-0.30018118, 0.27072042, 0.08980753, 0.092213...  \n",
       "8271  [-0.27259967, 0.019342648, 0.0852872, 0.128235...  \n",
       "8272  [-0.25830707, 0.13551225, 0.06709037, 0.122485...  \n",
       "8273  [-0.3063431, 0.2536616, 0.07838951, 0.13197464...  \n",
       "8274  [-0.24075574, 0.050480608, 0.08991424, 0.10769...  \n",
       "\n",
       "[8275 rows x 5 columns]"
      ]
     },
     "execution_count": 535,
     "metadata": {},
     "output_type": "execute_result"
    }
   ],
   "source": [
    "train_data"
   ]
  },
  {
   "cell_type": "code",
   "execution_count": 536,
   "id": "6dc5db92",
   "metadata": {},
   "outputs": [],
   "source": [
    "def load_batch(train_data, starting_idx, batch_size, model):\n",
    "    documents = train_data[\"Comentariomin\"].tolist()\n",
    "    documents = documents[starting_idx:min(starting_idx+batch_size,len(documents))]\n",
    "    \n",
    "    targets = train_data[\"EVALUACION\"].tolist()\n",
    "    targets = torch.tensor(targets[starting_idx:min(starting_idx+batch_size,len(targets))])\n",
    "    \n",
    "    batch_data = []\n",
    "    seq_len = []\n",
    "    for d in documents:\n",
    "        doc = []\n",
    "        for w in d.split():\n",
    "            try:\n",
    "                doc.append(model.wv[w])\n",
    "            except:\n",
    "                doc.append(np.zeros(VECTOR_SIZE))\n",
    "                \n",
    "        \n",
    "        if len(d) == 0:\n",
    "            doc = np.zeros((1,100))\n",
    "            seq_len.append(1)\n",
    "        else:\n",
    "            seq_len.append(len(d.split()))\n",
    "            \n",
    "        batch_data.append(torch.tensor(doc))\n",
    "        \n",
    "        \n",
    "    return batch_data, seq_len, max(seq_len), targets"
   ]
  },
  {
   "cell_type": "markdown",
   "id": "a769f12a",
   "metadata": {},
   "source": [
    "### Prueba de carga de batch a LSTM"
   ]
  },
  {
   "cell_type": "code",
   "execution_count": 537,
   "id": "ab963fe0",
   "metadata": {},
   "outputs": [],
   "source": [
    "import torch\n",
    "import torch.nn as nn\n",
    "import torch.nn.functional as F"
   ]
  },
  {
   "cell_type": "code",
   "execution_count": 538,
   "id": "3f9e240c",
   "metadata": {},
   "outputs": [],
   "source": [
    "batch_size = 8"
   ]
  },
  {
   "cell_type": "code",
   "execution_count": 539,
   "id": "0ea6a584",
   "metadata": {},
   "outputs": [],
   "source": [
    "batch, seq_len, max_seq, batch_y = load_batch(train_data, 0, batch_size,model)"
   ]
  },
  {
   "cell_type": "code",
   "execution_count": 540,
   "id": "bb633c3e",
   "metadata": {},
   "outputs": [
    {
     "data": {
      "text/plain": [
       "torch.Size([1, 100])"
      ]
     },
     "execution_count": 540,
     "metadata": {},
     "output_type": "execute_result"
    }
   ],
   "source": [
    "batch[0].shape"
   ]
  },
  {
   "cell_type": "code",
   "execution_count": 541,
   "id": "73079161",
   "metadata": {},
   "outputs": [
    {
     "data": {
      "text/plain": [
       "(['qqq', 'xxx', 'todo', 'dddd', 'porq', 'todo', 'bien', 'bien'],\n",
       " tensor([1, 1, 1, 1, 1, 1, 1, 1]))"
      ]
     },
     "execution_count": 541,
     "metadata": {},
     "output_type": "execute_result"
    }
   ],
   "source": [
    "train_data['Comentariomin'][0:batch_size].tolist(), batch_y"
   ]
  },
  {
   "cell_type": "code",
   "execution_count": 542,
   "id": "9d32f5cd",
   "metadata": {},
   "outputs": [],
   "source": [
    "def get_accuracy(logits, target):\n",
    "        probs = torch.softmax(logits,dim=1)\n",
    "        predictions = torch.argmax(probs, dim=1)\n",
    "        return (torch.sum(predictions==target).item())/float(target.size()[0])"
   ]
  },
  {
   "cell_type": "code",
   "execution_count": 548,
   "id": "08228c6d",
   "metadata": {},
   "outputs": [],
   "source": [
    "class AttentionRNN(nn.Module):\n",
    "    def __init__(self, hidden, num_classes):\n",
    "        super().__init__()        \n",
    "        \n",
    "        self.lstm = nn.LSTM(input_size=VECTOR_SIZE, hidden_size=hidden, batch_first=True, bidirectional=True)\n",
    "        \n",
    "        self.fc1 = nn.Linear(2*hidden, 256)\n",
    "        self.fc2 = nn.Linear(256, 512)\n",
    "        self.fc3 = nn.Linear(512, 1024)\n",
    "        \n",
    "        #Attention weights        \n",
    "        self.att_W = nn.Linear(1024, 6*hidden, bias = False)\n",
    "        self.att_V = nn.Linear(1024, 6*hidden, bias = False)\n",
    "        \n",
    "        \n",
    "        self.fc4 = nn.Linear(1024,512)\n",
    "        self.fc5 = nn.Linear(512,256)\n",
    "        self.drop = nn.Dropout(0.2)\n",
    "        \n",
    "        self.out = nn.Linear(256, num_classes)\n",
    "        \n",
    "        self.criterion = nn.CrossEntropyLoss()\n",
    "        self.optimizer = torch.optim.Adam(self.parameters(), lr=3e-4)\n",
    "\n",
    "    def forward(self, x, max_seq):\n",
    "        output, _ = self.lstm(x.float())\n",
    "        \n",
    "        output, output_lens = torch.nn.utils.rnn.pad_packed_sequence(output, batch_first=True, total_length=max_seq)\n",
    "        #bs, t, h\n",
    "        \n",
    "        output = F.leaky_relu(self.fc1(output))\n",
    "        output = F.relu(self.fc2(output)) \n",
    "        output = F.leaky_relu(self.fc3(output)) #bs, t, 1024\n",
    "        \n",
    "        #Self Attention\n",
    "        w_matrix = self.att_W(output) #bs, t , h'\n",
    "        v_matrix = self.att_V(output) #bs, t , h'\n",
    "        att_weights =  F.softmax(torch.bmm(w_matrix,v_matrix.transpose(1,2)),dim=-1) #bs,t,t\n",
    "        output = torch.bmm(att_weights,output) #bs, t, h\n",
    "        \n",
    "        output = F.leaky_relu(self.fc4(output)) \n",
    "        output = F.leaky_relu(self.fc5(output)) \n",
    "        \n",
    "        output = output.mean(dim=1)\n",
    "\n",
    "        x = self.out(output)\n",
    "        return x\n",
    "    \n",
    "    def train_step(self, batch_x, max_seq, batch_y):\n",
    "        \n",
    "        #Forward\n",
    "        logits = self.forward(batch_x, max_seq)\n",
    "        \n",
    "        #loss\n",
    "        self.optimizer.zero_grad()\n",
    "        loss = self.criterion(logits,batch_y)\n",
    "        loss.backward()\n",
    "        self.optimizer.step()\n",
    "        \n",
    "        batch_loss = loss.to('cpu').item()\n",
    "        batch_accuracy = get_accuracy(logits, batch_y)\n",
    "        \n",
    "        return batch_loss, batch_accuracy\n",
    "    \n",
    "    def save_model(self, path):\n",
    "        torch.save(self.state_dict(), path)\n",
    "        \n",
    "    def load_model(self, path):\n",
    "        self.load_state_dict(torch.load(path))"
   ]
  },
  {
   "cell_type": "code",
   "execution_count": 549,
   "id": "042c5124",
   "metadata": {},
   "outputs": [],
   "source": [
    "device = 'cuda' if torch.cuda.is_available() else 'cpu'"
   ]
  },
  {
   "cell_type": "code",
   "execution_count": 550,
   "id": "7349d0fb",
   "metadata": {},
   "outputs": [],
   "source": [
    "BATCH_SIZE = 256\n",
    "NUMBER_OF_BATCHES = math.ceil(train_data.shape[0]/BATCH_SIZE) # Nro de batches\n",
    "EPOCHS = 40\n",
    "n_unique_categories = 2"
   ]
  },
  {
   "cell_type": "code",
   "execution_count": 551,
   "id": "4876a2a6",
   "metadata": {},
   "outputs": [],
   "source": [
    "attention_rnn = AttentionRNN(256,2).to(device)"
   ]
  },
  {
   "cell_type": "code",
   "execution_count": 552,
   "id": "9c61164b",
   "metadata": {},
   "outputs": [
    {
     "name": "stdout",
     "output_type": "stream",
     "text": [
      "Epoch:  1 | Train Loss: 0.602374 | Train Accuracy: 62.94 %\n",
      "Epoch:  2 | Train Loss: 0.506042 | Train Accuracy: 82.21 %\n",
      "Epoch:  3 | Train Loss: 0.412366 | Train Accuracy: 84.56 %\n",
      "Epoch:  4 | Train Loss: 0.369041 | Train Accuracy: 85.22 %\n",
      "Epoch:  5 | Train Loss: 0.340861 | Train Accuracy: 85.69 %\n",
      "Epoch:  6 | Train Loss: 0.345535 | Train Accuracy: 84.63 %\n",
      "Epoch:  7 | Train Loss: 0.389221 | Train Accuracy: 82.46 %\n",
      "Epoch:  8 | Train Loss: 0.363779 | Train Accuracy: 84.37 %\n",
      "Epoch:  9 | Train Loss: 0.324092 | Train Accuracy: 85.65 %\n",
      "Epoch:  10 | Train Loss: 0.306255 | Train Accuracy: 86.58 %\n",
      "Epoch:  11 | Train Loss: 0.295091 | Train Accuracy: 86.71 %\n",
      "Epoch:  12 | Train Loss: 0.286421 | Train Accuracy: 87.22 %\n",
      "Epoch:  13 | Train Loss: 0.294897 | Train Accuracy: 87.25 %\n",
      "Epoch:  14 | Train Loss: 0.281588 | Train Accuracy: 87.47 %\n",
      "Epoch:  15 | Train Loss: 0.280955 | Train Accuracy: 87.64 %\n",
      "Epoch:  16 | Train Loss: 0.290688 | Train Accuracy: 87.14 %\n",
      "Epoch:  17 | Train Loss: 0.275751 | Train Accuracy: 87.41 %\n",
      "Epoch:  18 | Train Loss: 0.280056 | Train Accuracy: 87.61 %\n",
      "Epoch:  19 | Train Loss: 0.285458 | Train Accuracy: 87.07 %\n",
      "Epoch:  20 | Train Loss: 0.283551 | Train Accuracy: 86.82 %\n",
      "Epoch:  21 | Train Loss: 0.283698 | Train Accuracy: 87.74 %\n",
      "Epoch:  22 | Train Loss: 0.275674 | Train Accuracy: 87.28 %\n",
      "Epoch:  23 | Train Loss: 0.282003 | Train Accuracy: 87.13 %\n",
      "Epoch:  24 | Train Loss: 0.265354 | Train Accuracy: 88.08 %\n",
      "Epoch:  25 | Train Loss: 0.270312 | Train Accuracy: 87.41 %\n",
      "Epoch:  26 | Train Loss: 0.262701 | Train Accuracy: 88.36 %\n",
      "Epoch:  27 | Train Loss: 0.259993 | Train Accuracy: 88.41 %\n",
      "Epoch:  28 | Train Loss: 0.259455 | Train Accuracy: 88.38 %\n",
      "Epoch:  29 | Train Loss: 0.259005 | Train Accuracy: 88.61 %\n",
      "Epoch:  30 | Train Loss: 0.248090 | Train Accuracy: 88.85 %\n",
      "Epoch:  31 | Train Loss: 0.248540 | Train Accuracy: 88.49 %\n",
      "Epoch:  32 | Train Loss: 0.248960 | Train Accuracy: 88.98 %\n",
      "Epoch:  33 | Train Loss: 0.254914 | Train Accuracy: 88.95 %\n",
      "Epoch:  34 | Train Loss: 0.262365 | Train Accuracy: 88.21 %\n",
      "Epoch:  35 | Train Loss: 0.251015 | Train Accuracy: 88.88 %\n",
      "Epoch:  36 | Train Loss: 0.264479 | Train Accuracy: 88.05 %\n",
      "Epoch:  37 | Train Loss: 0.292340 | Train Accuracy: 87.34 %\n",
      "Epoch:  38 | Train Loss: 0.253347 | Train Accuracy: 88.75 %\n",
      "Epoch:  39 | Train Loss: 0.250921 | Train Accuracy: 89.05 %\n",
      "Epoch:  40 | Train Loss: 0.248695 | Train Accuracy: 89.42 %\n"
     ]
    }
   ],
   "source": [
    "max_train_accuracy = 0\n",
    "\n",
    "current_loss = 0\n",
    "current_accuracy = 0\n",
    "\n",
    "for e in range(EPOCHS):\n",
    "      \n",
    "    for i in range(NUMBER_OF_BATCHES):\n",
    "        torch.cuda.empty_cache()\n",
    "        batch, seq_len, max_seq, batch_y = load_batch(train_data, i*BATCH_SIZE, BATCH_SIZE,model)\n",
    "        \n",
    "        #padding\n",
    "        padded_seq_batch = torch.nn.utils.rnn.pad_sequence(batch, batch_first=True)\n",
    "        packed_seq_batch = torch.nn.utils.rnn.pack_padded_sequence(padded_seq_batch, lengths=seq_len, batch_first=True, enforce_sorted=False)\n",
    "        \n",
    "        loss, accuracy = attention_rnn.train_step(packed_seq_batch.to(device), max_seq, batch_y.to(device))\n",
    "        #print(loss,accuracy)\n",
    "        current_loss+=loss\n",
    "        current_accuracy+=accuracy\n",
    "    print(f'Epoch:  {e+1} | Train Loss: {(current_loss/NUMBER_OF_BATCHES):.6f} | Train Accuracy: {(current_accuracy/NUMBER_OF_BATCHES)*100:.2f} %')\n",
    "    \n",
    "    current_loss = 0\n",
    "    current_accuracy = 0\n",
    "    \n",
    "#attention_rnn.save_model('model_parameters')"
   ]
  },
  {
   "cell_type": "markdown",
   "id": "6ae9ed7c",
   "metadata": {},
   "source": [
    "### Evaluation"
   ]
  },
  {
   "cell_type": "code",
   "execution_count": 553,
   "id": "e7631f71",
   "metadata": {},
   "outputs": [],
   "source": [
    "attention_rnn.load_model(\"model_parameters\")"
   ]
  },
  {
   "cell_type": "code",
   "execution_count": 554,
   "id": "a03c5d6e",
   "metadata": {},
   "outputs": [],
   "source": [
    "batch, seq_len, max_seq, batch_y = load_batch(test_data, 0, test_data.shape[0], model)"
   ]
  },
  {
   "cell_type": "code",
   "execution_count": 555,
   "id": "eeefb218",
   "metadata": {},
   "outputs": [
    {
     "data": {
      "text/plain": [
       "AttentionRNN(\n",
       "  (lstm): LSTM(100, 256, batch_first=True, bidirectional=True)\n",
       "  (fc1): Linear(in_features=512, out_features=256, bias=True)\n",
       "  (fc2): Linear(in_features=256, out_features=512, bias=True)\n",
       "  (fc3): Linear(in_features=512, out_features=1024, bias=True)\n",
       "  (att_W): Linear(in_features=1024, out_features=1536, bias=False)\n",
       "  (att_V): Linear(in_features=1024, out_features=1536, bias=False)\n",
       "  (fc4): Linear(in_features=1024, out_features=512, bias=True)\n",
       "  (fc5): Linear(in_features=512, out_features=256, bias=True)\n",
       "  (drop): Dropout(p=0.2, inplace=False)\n",
       "  (out): Linear(in_features=256, out_features=2, bias=True)\n",
       "  (criterion): CrossEntropyLoss()\n",
       ")"
      ]
     },
     "execution_count": 555,
     "metadata": {},
     "output_type": "execute_result"
    }
   ],
   "source": [
    "attention_rnn.to('cpu')"
   ]
  },
  {
   "cell_type": "code",
   "execution_count": 556,
   "id": "e29a42dc",
   "metadata": {},
   "outputs": [],
   "source": [
    "#padding\n",
    "padded_seq_batch = torch.nn.utils.rnn.pad_sequence(batch, batch_first=True)\n",
    "packed_seq_batch = torch.nn.utils.rnn.pack_padded_sequence(padded_seq_batch, lengths=seq_len, batch_first=True, enforce_sorted=False)\n",
    "\n",
    "with torch.no_grad():\n",
    "    logits =  attention_rnn.forward(packed_seq_batch, max_seq)"
   ]
  },
  {
   "cell_type": "code",
   "execution_count": 557,
   "id": "693be6a7",
   "metadata": {},
   "outputs": [
    {
     "data": {
      "text/plain": [
       "0.95"
      ]
     },
     "execution_count": 557,
     "metadata": {},
     "output_type": "execute_result"
    }
   ],
   "source": [
    "#Test accuracy\n",
    "get_accuracy(logits, batch_y)"
   ]
  },
  {
   "cell_type": "code",
   "execution_count": 558,
   "id": "951392f8",
   "metadata": {},
   "outputs": [],
   "source": [
    "def get_predictions(logits):\n",
    "    probs = torch.softmax(logits,dim=1)\n",
    "    predictions = torch.argmax(probs, dim=1).numpy()\n",
    "    return predictions"
   ]
  },
  {
   "cell_type": "code",
   "execution_count": 559,
   "id": "1cdbc7e3",
   "metadata": {},
   "outputs": [],
   "source": [
    "from sklearn.metrics import accuracy_score, classification_report"
   ]
  },
  {
   "cell_type": "code",
   "execution_count": 560,
   "id": "c87f9ff4",
   "metadata": {},
   "outputs": [
    {
     "name": "stdout",
     "output_type": "stream",
     "text": [
      "              precision    recall  f1-score   support\n",
      "\n",
      "           0       0.88      0.93      0.91       236\n",
      "           1       0.98      0.96      0.97       684\n",
      "\n",
      "    accuracy                           0.95       920\n",
      "   macro avg       0.93      0.94      0.94       920\n",
      "weighted avg       0.95      0.95      0.95       920\n",
      "\n"
     ]
    }
   ],
   "source": [
    "print(classification_report((get_predictions(logits)), batch_y.numpy()))"
   ]
  },
  {
   "cell_type": "code",
   "execution_count": null,
   "id": "94174c09",
   "metadata": {},
   "outputs": [],
   "source": []
  }
 ],
 "metadata": {
  "kernelspec": {
   "display_name": "Python 3",
   "language": "python",
   "name": "python3"
  },
  "language_info": {
   "codemirror_mode": {
    "name": "ipython",
    "version": 3
   },
   "file_extension": ".py",
   "mimetype": "text/x-python",
   "name": "python",
   "nbconvert_exporter": "python",
   "pygments_lexer": "ipython3",
   "version": "3.8.8"
  }
 },
 "nbformat": 4,
 "nbformat_minor": 5
}
