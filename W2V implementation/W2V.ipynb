{
 "cells": [
  {
   "cell_type": "code",
   "execution_count": 1,
   "id": "dd974479",
   "metadata": {},
   "outputs": [],
   "source": [
    "import torch\n",
    "import torch.nn as nn\n",
    "from nltk.corpus import stopwords\n",
    "import pandas as pd\n",
    "import numpy as np\n",
    "import torch.nn.functional as F\n",
    "import math\n",
    "import matplotlib.pyplot as plt"
   ]
  },
  {
   "cell_type": "markdown",
   "id": "930baaba",
   "metadata": {},
   "source": [
    "### Corpus y limpieza"
   ]
  },
  {
   "cell_type": "code",
   "execution_count": 2,
   "id": "f3af21d0",
   "metadata": {},
   "outputs": [],
   "source": [
    "corpus = ['king is a strong man', \n",
    "          'queen is a wise woman', \n",
    "          'boy is a young man',\n",
    "          'girl is a young woman',\n",
    "          'prince is a young king',\n",
    "          'princess is a young queen',\n",
    "          'man is strong', \n",
    "          'woman is pretty',\n",
    "          'prince is a boy will be king',\n",
    "          'princess is a girl will be queen']"
   ]
  },
  {
   "cell_type": "code",
   "execution_count": 3,
   "id": "5ca4445a",
   "metadata": {},
   "outputs": [],
   "source": [
    "lsw = stopwords.words('english')"
   ]
  },
  {
   "cell_type": "code",
   "execution_count": 4,
   "id": "a8399996",
   "metadata": {},
   "outputs": [],
   "source": [
    "def clean_data(corpus):\n",
    "    clean_corpus = []\n",
    "    for doc in corpus:\n",
    "        doc_words = doc.split()\n",
    "        cleaned_doc = [w for w in doc_words if w not in lsw]\n",
    "        clean_corpus.append(\" \".join(cleaned_doc))\n",
    "    return clean_corpus"
   ]
  },
  {
   "cell_type": "code",
   "execution_count": 5,
   "id": "f469ad23",
   "metadata": {},
   "outputs": [
    {
     "data": {
      "text/plain": [
       "['king strong man',\n",
       " 'queen wise woman',\n",
       " 'boy young man',\n",
       " 'girl young woman',\n",
       " 'prince young king',\n",
       " 'princess young queen',\n",
       " 'man strong',\n",
       " 'woman pretty',\n",
       " 'prince boy king',\n",
       " 'princess girl queen']"
      ]
     },
     "execution_count": 5,
     "metadata": {},
     "output_type": "execute_result"
    }
   ],
   "source": [
    "clean_corpus = clean_data(corpus)\n",
    "clean_corpus"
   ]
  },
  {
   "cell_type": "code",
   "execution_count": 6,
   "id": "798055cb",
   "metadata": {},
   "outputs": [],
   "source": [
    "\n",
    "def generate_data(clean_corpus, window_size=1):\n",
    "    data = []\n",
    "    \n",
    "    for doc in clean_corpus:\n",
    "        doc_words = doc.split()\n",
    "        for i, word in enumerate(doc_words):\n",
    "            for neighbour in doc_words[max(0,i-window_size):min(len(doc_words),i+window_size+1)]:\n",
    "                if neighbour != word:\n",
    "                    data.append((word,neighbour))\n",
    "            \n",
    "    df = pd.DataFrame(data,columns=['word','neighbour'])\n",
    "    return df"
   ]
  },
  {
   "cell_type": "code",
   "execution_count": 7,
   "id": "ad7f633a",
   "metadata": {},
   "outputs": [
    {
     "data": {
      "text/html": [
       "<div>\n",
       "<style scoped>\n",
       "    .dataframe tbody tr th:only-of-type {\n",
       "        vertical-align: middle;\n",
       "    }\n",
       "\n",
       "    .dataframe tbody tr th {\n",
       "        vertical-align: top;\n",
       "    }\n",
       "\n",
       "    .dataframe thead th {\n",
       "        text-align: right;\n",
       "    }\n",
       "</style>\n",
       "<table border=\"1\" class=\"dataframe\">\n",
       "  <thead>\n",
       "    <tr style=\"text-align: right;\">\n",
       "      <th></th>\n",
       "      <th>word</th>\n",
       "      <th>neighbour</th>\n",
       "    </tr>\n",
       "  </thead>\n",
       "  <tbody>\n",
       "    <tr>\n",
       "      <th>0</th>\n",
       "      <td>king</td>\n",
       "      <td>strong</td>\n",
       "    </tr>\n",
       "    <tr>\n",
       "      <th>1</th>\n",
       "      <td>strong</td>\n",
       "      <td>king</td>\n",
       "    </tr>\n",
       "    <tr>\n",
       "      <th>2</th>\n",
       "      <td>strong</td>\n",
       "      <td>man</td>\n",
       "    </tr>\n",
       "    <tr>\n",
       "      <th>3</th>\n",
       "      <td>man</td>\n",
       "      <td>strong</td>\n",
       "    </tr>\n",
       "    <tr>\n",
       "      <th>4</th>\n",
       "      <td>queen</td>\n",
       "      <td>wise</td>\n",
       "    </tr>\n",
       "  </tbody>\n",
       "</table>\n",
       "</div>"
      ],
      "text/plain": [
       "     word neighbour\n",
       "0    king    strong\n",
       "1  strong      king\n",
       "2  strong       man\n",
       "3     man    strong\n",
       "4   queen      wise"
      ]
     },
     "execution_count": 7,
     "metadata": {},
     "output_type": "execute_result"
    }
   ],
   "source": [
    "data = generate_data(clean_corpus)\n",
    "data.head()"
   ]
  },
  {
   "cell_type": "code",
   "execution_count": 8,
   "id": "28c12797",
   "metadata": {},
   "outputs": [
    {
     "name": "stdout",
     "output_type": "stream",
     "text": [
      "king strong\n",
      "strong king\n",
      "strong man\n",
      "man strong\n",
      "queen wise\n",
      "wise queen\n",
      "wise woman\n",
      "woman wise\n",
      "boy young\n",
      "young boy\n",
      "young man\n",
      "man young\n",
      "girl young\n",
      "young girl\n",
      "young woman\n",
      "woman young\n",
      "prince young\n",
      "young prince\n",
      "young king\n",
      "king young\n",
      "princess young\n",
      "young princess\n",
      "young queen\n",
      "queen young\n",
      "man strong\n",
      "strong man\n",
      "woman pretty\n",
      "pretty woman\n",
      "prince boy\n",
      "boy prince\n",
      "boy king\n",
      "king boy\n",
      "princess girl\n",
      "girl princess\n",
      "girl queen\n",
      "queen girl\n"
     ]
    }
   ],
   "source": [
    "window_size=1\n",
    "for doc in clean_corpus:\n",
    "        doc_words = doc.split()\n",
    "        for i, word in enumerate(doc_words):\n",
    "            for neighbour in doc_words[max(0,i-window_size):min(len(doc_words),i+window_size+1)]:\n",
    "                    if neighbour!=word:\n",
    "                        print(word,neighbour)"
   ]
  },
  {
   "cell_type": "code",
   "execution_count": 9,
   "id": "aefe5561",
   "metadata": {},
   "outputs": [
    {
     "name": "stdout",
     "output_type": "stream",
     "text": [
      "0 king is a strong man\n",
      "1 queen is a wise woman\n",
      "2 boy is a young man\n",
      "3 girl is a young woman\n",
      "4 prince is a young king\n",
      "5 princess is a young queen\n",
      "6 man is strong\n",
      "7 woman is pretty\n",
      "8 prince is a boy will be king\n",
      "9 princess is a girl will be queen\n"
     ]
    }
   ],
   "source": [
    "for i, e in enumerate(corpus):\n",
    "    print(i, e)"
   ]
  },
  {
   "cell_type": "markdown",
   "id": "1efa9c74",
   "metadata": {},
   "source": [
    "### One hot encode vocab"
   ]
  },
  {
   "cell_type": "code",
   "execution_count": 10,
   "id": "02db9230",
   "metadata": {},
   "outputs": [],
   "source": [
    "device='cuda' if torch.cuda.is_available() else 'cpu'"
   ]
  },
  {
   "cell_type": "code",
   "execution_count": 11,
   "id": "2feef534",
   "metadata": {},
   "outputs": [],
   "source": [
    "vocabulary = list(data['word'].unique())\n",
    "number_of_words = len(vocabulary)"
   ]
  },
  {
   "cell_type": "code",
   "execution_count": 12,
   "id": "77b1ff80",
   "metadata": {},
   "outputs": [
    {
     "data": {
      "text/plain": [
       "tensor([0., 0., 0., 0., 0., 0., 0., 0., 0., 0., 0., 0.])"
      ]
     },
     "execution_count": 12,
     "metadata": {},
     "output_type": "execute_result"
    }
   ],
   "source": [
    "torch.zeros(number_of_words)"
   ]
  },
  {
   "cell_type": "code",
   "execution_count": 13,
   "id": "94788e2b",
   "metadata": {},
   "outputs": [],
   "source": [
    "def one_hot_encode(word,vocabulary):\n",
    "    vocab_len = len(vocabulary)\n",
    "    idx = vocabulary.index(word)\n",
    "    \n",
    "    onehot_tensor = torch.zeros(vocab_len, device=device)\n",
    "    onehot_tensor[idx] = 1\n",
    "    return onehot_tensor\n"
   ]
  },
  {
   "cell_type": "code",
   "execution_count": 14,
   "id": "77d6686d",
   "metadata": {},
   "outputs": [],
   "source": [
    "def prepare_train_data(data, vocabulary):\n",
    "    words = list(data.iloc[:,0])\n",
    "    neighbours = list(data.iloc[:,1])\n",
    "    \n",
    "    x_train = torch.tensor([],device=device)\n",
    "    y_train = torch.tensor([],device=device)\n",
    "    \n",
    "    for i in range(len(words)):\n",
    "        one_hot_word = one_hot_encode(words[i],vocabulary).unsqueeze(0)\n",
    "        one_hot_neighbour = one_hot_encode(neighbours[i],vocabulary).unsqueeze(0)\n",
    "        \n",
    "        \n",
    "        x_train = torch.cat((x_train,one_hot_word))\n",
    "        y_train = torch.cat((y_train,one_hot_neighbour))\n",
    "        #y_train.append(one_hot_encode(neighbours[i],vocabulary))\n",
    "\n",
    "    return x_train, y_train"
   ]
  },
  {
   "cell_type": "code",
   "execution_count": 15,
   "id": "e48280f6",
   "metadata": {},
   "outputs": [],
   "source": [
    "x_train, y_train = prepare_train_data(data,vocabulary)"
   ]
  },
  {
   "cell_type": "code",
   "execution_count": 16,
   "id": "cefd1d78",
   "metadata": {},
   "outputs": [
    {
     "data": {
      "text/html": [
       "<div>\n",
       "<style scoped>\n",
       "    .dataframe tbody tr th:only-of-type {\n",
       "        vertical-align: middle;\n",
       "    }\n",
       "\n",
       "    .dataframe tbody tr th {\n",
       "        vertical-align: top;\n",
       "    }\n",
       "\n",
       "    .dataframe thead th {\n",
       "        text-align: right;\n",
       "    }\n",
       "</style>\n",
       "<table border=\"1\" class=\"dataframe\">\n",
       "  <thead>\n",
       "    <tr style=\"text-align: right;\">\n",
       "      <th></th>\n",
       "      <th>word</th>\n",
       "      <th>neighbour</th>\n",
       "    </tr>\n",
       "  </thead>\n",
       "  <tbody>\n",
       "    <tr>\n",
       "      <th>0</th>\n",
       "      <td>king</td>\n",
       "      <td>strong</td>\n",
       "    </tr>\n",
       "    <tr>\n",
       "      <th>1</th>\n",
       "      <td>strong</td>\n",
       "      <td>king</td>\n",
       "    </tr>\n",
       "    <tr>\n",
       "      <th>2</th>\n",
       "      <td>strong</td>\n",
       "      <td>man</td>\n",
       "    </tr>\n",
       "    <tr>\n",
       "      <th>3</th>\n",
       "      <td>man</td>\n",
       "      <td>strong</td>\n",
       "    </tr>\n",
       "    <tr>\n",
       "      <th>4</th>\n",
       "      <td>queen</td>\n",
       "      <td>wise</td>\n",
       "    </tr>\n",
       "    <tr>\n",
       "      <th>5</th>\n",
       "      <td>wise</td>\n",
       "      <td>queen</td>\n",
       "    </tr>\n",
       "    <tr>\n",
       "      <th>6</th>\n",
       "      <td>wise</td>\n",
       "      <td>woman</td>\n",
       "    </tr>\n",
       "    <tr>\n",
       "      <th>7</th>\n",
       "      <td>woman</td>\n",
       "      <td>wise</td>\n",
       "    </tr>\n",
       "    <tr>\n",
       "      <th>8</th>\n",
       "      <td>boy</td>\n",
       "      <td>young</td>\n",
       "    </tr>\n",
       "    <tr>\n",
       "      <th>9</th>\n",
       "      <td>young</td>\n",
       "      <td>boy</td>\n",
       "    </tr>\n",
       "    <tr>\n",
       "      <th>10</th>\n",
       "      <td>young</td>\n",
       "      <td>man</td>\n",
       "    </tr>\n",
       "    <tr>\n",
       "      <th>11</th>\n",
       "      <td>man</td>\n",
       "      <td>young</td>\n",
       "    </tr>\n",
       "    <tr>\n",
       "      <th>12</th>\n",
       "      <td>girl</td>\n",
       "      <td>young</td>\n",
       "    </tr>\n",
       "    <tr>\n",
       "      <th>13</th>\n",
       "      <td>young</td>\n",
       "      <td>girl</td>\n",
       "    </tr>\n",
       "    <tr>\n",
       "      <th>14</th>\n",
       "      <td>young</td>\n",
       "      <td>woman</td>\n",
       "    </tr>\n",
       "    <tr>\n",
       "      <th>15</th>\n",
       "      <td>woman</td>\n",
       "      <td>young</td>\n",
       "    </tr>\n",
       "    <tr>\n",
       "      <th>16</th>\n",
       "      <td>prince</td>\n",
       "      <td>young</td>\n",
       "    </tr>\n",
       "    <tr>\n",
       "      <th>17</th>\n",
       "      <td>young</td>\n",
       "      <td>prince</td>\n",
       "    </tr>\n",
       "    <tr>\n",
       "      <th>18</th>\n",
       "      <td>young</td>\n",
       "      <td>king</td>\n",
       "    </tr>\n",
       "    <tr>\n",
       "      <th>19</th>\n",
       "      <td>king</td>\n",
       "      <td>young</td>\n",
       "    </tr>\n",
       "    <tr>\n",
       "      <th>20</th>\n",
       "      <td>princess</td>\n",
       "      <td>young</td>\n",
       "    </tr>\n",
       "    <tr>\n",
       "      <th>21</th>\n",
       "      <td>young</td>\n",
       "      <td>princess</td>\n",
       "    </tr>\n",
       "    <tr>\n",
       "      <th>22</th>\n",
       "      <td>young</td>\n",
       "      <td>queen</td>\n",
       "    </tr>\n",
       "    <tr>\n",
       "      <th>23</th>\n",
       "      <td>queen</td>\n",
       "      <td>young</td>\n",
       "    </tr>\n",
       "    <tr>\n",
       "      <th>24</th>\n",
       "      <td>man</td>\n",
       "      <td>strong</td>\n",
       "    </tr>\n",
       "    <tr>\n",
       "      <th>25</th>\n",
       "      <td>strong</td>\n",
       "      <td>man</td>\n",
       "    </tr>\n",
       "    <tr>\n",
       "      <th>26</th>\n",
       "      <td>woman</td>\n",
       "      <td>pretty</td>\n",
       "    </tr>\n",
       "    <tr>\n",
       "      <th>27</th>\n",
       "      <td>pretty</td>\n",
       "      <td>woman</td>\n",
       "    </tr>\n",
       "    <tr>\n",
       "      <th>28</th>\n",
       "      <td>prince</td>\n",
       "      <td>boy</td>\n",
       "    </tr>\n",
       "    <tr>\n",
       "      <th>29</th>\n",
       "      <td>boy</td>\n",
       "      <td>prince</td>\n",
       "    </tr>\n",
       "    <tr>\n",
       "      <th>30</th>\n",
       "      <td>boy</td>\n",
       "      <td>king</td>\n",
       "    </tr>\n",
       "    <tr>\n",
       "      <th>31</th>\n",
       "      <td>king</td>\n",
       "      <td>boy</td>\n",
       "    </tr>\n",
       "    <tr>\n",
       "      <th>32</th>\n",
       "      <td>princess</td>\n",
       "      <td>girl</td>\n",
       "    </tr>\n",
       "    <tr>\n",
       "      <th>33</th>\n",
       "      <td>girl</td>\n",
       "      <td>princess</td>\n",
       "    </tr>\n",
       "    <tr>\n",
       "      <th>34</th>\n",
       "      <td>girl</td>\n",
       "      <td>queen</td>\n",
       "    </tr>\n",
       "    <tr>\n",
       "      <th>35</th>\n",
       "      <td>queen</td>\n",
       "      <td>girl</td>\n",
       "    </tr>\n",
       "  </tbody>\n",
       "</table>\n",
       "</div>"
      ],
      "text/plain": [
       "        word neighbour\n",
       "0       king    strong\n",
       "1     strong      king\n",
       "2     strong       man\n",
       "3        man    strong\n",
       "4      queen      wise\n",
       "5       wise     queen\n",
       "6       wise     woman\n",
       "7      woman      wise\n",
       "8        boy     young\n",
       "9      young       boy\n",
       "10     young       man\n",
       "11       man     young\n",
       "12      girl     young\n",
       "13     young      girl\n",
       "14     young     woman\n",
       "15     woman     young\n",
       "16    prince     young\n",
       "17     young    prince\n",
       "18     young      king\n",
       "19      king     young\n",
       "20  princess     young\n",
       "21     young  princess\n",
       "22     young     queen\n",
       "23     queen     young\n",
       "24       man    strong\n",
       "25    strong       man\n",
       "26     woman    pretty\n",
       "27    pretty     woman\n",
       "28    prince       boy\n",
       "29       boy    prince\n",
       "30       boy      king\n",
       "31      king       boy\n",
       "32  princess      girl\n",
       "33      girl  princess\n",
       "34      girl     queen\n",
       "35     queen      girl"
      ]
     },
     "execution_count": 16,
     "metadata": {},
     "output_type": "execute_result"
    }
   ],
   "source": [
    "data"
   ]
  },
  {
   "cell_type": "markdown",
   "id": "c0ffffd6",
   "metadata": {},
   "source": [
    "### W2V Model"
   ]
  },
  {
   "cell_type": "code",
   "execution_count": 17,
   "id": "e3829861",
   "metadata": {},
   "outputs": [
    {
     "data": {
      "text/plain": [
       "36"
      ]
     },
     "execution_count": 17,
     "metadata": {},
     "output_type": "execute_result"
    }
   ],
   "source": [
    "x_train.size()[0]"
   ]
  },
  {
   "cell_type": "code",
   "execution_count": 46,
   "id": "84b3d149",
   "metadata": {},
   "outputs": [],
   "source": [
    "class W2V():\n",
    "    def __init__(self,in_size,vector_size):\n",
    "        \n",
    "        self.w1 = torch.rand((in_size,vector_size),device=device,requires_grad=True)\n",
    "        self.b1 = torch.rand((1,vector_size),device=device,requires_grad=True)\n",
    "        self.w2 = torch.rand((vector_size,in_size),device=device,requires_grad=True) #in_size = out_size\n",
    "        self.b2 = torch.rand((1,in_size),device=device,requires_grad=True)\n",
    "        \n",
    "        self.optimizer = torch.optim.Adam([self.w1, self.b1, self.w2, self.b2], lr=5e-3)\n",
    "        self.criterion = nn.CrossEntropyLoss()\n",
    "        \n",
    "    def forward(self, x):\n",
    "        x = x@self.w1+self.b1\n",
    "        x = x@self.w2+self.b2\n",
    "        return x\n",
    "    \n",
    "    def train_step(self, in_batch, target_batch):\n",
    "        prediction = self.forward(in_batch)\n",
    "        \n",
    "        target = torch.argmax(target_batch,dim=-1, keepdim=True).squeeze()\n",
    "        \n",
    "        #loss\n",
    "        self.optimizer.zero_grad()\n",
    "        loss = self.criterion(prediction,target)\n",
    "        loss.backward()\n",
    "        self.optimizer.step()\n",
    "        \n",
    "        return loss.to('cpu').item()\n",
    "        \n",
    "        \n",
    "    def lookup_table(self):\n",
    "        return (self.w1 + self.b1).to('cpu')"
   ]
  },
  {
   "cell_type": "code",
   "execution_count": 62,
   "id": "7a4bf282",
   "metadata": {},
   "outputs": [
    {
     "data": {
      "image/png": "[encoded data removed]",
      "text/plain": [
       "<Figure size 432x288 with 1 Axes>"
      ]
     },
     "metadata": {
      "needs_background": "light"
     },
     "output_type": "display_data"
    }
   ],
   "source": [
    "model = W2V(number_of_words,2)\n",
    "epochs = 20000\n",
    "plot_steps = 100\n",
    "losses = []\n",
    "\n",
    "current_loss = 0\n",
    "\n",
    "for i in range(epochs):\n",
    "    loss = model.train_step(x_train,y_train)\n",
    "    current_loss+=loss\n",
    "    if (i+1)%plot_steps==0:\n",
    "        losses.append(current_loss/plot_steps)\n",
    "        current_loss = 0\n",
    "plt.figure()\n",
    "plt.plot(losses)\n",
    "plt.show()"
   ]
  },
  {
   "cell_type": "code",
   "execution_count": 63,
   "id": "26d622c3",
   "metadata": {},
   "outputs": [
    {
     "data": {
      "text/plain": [
       "array([[-18.528389  , -16.662186  ],\n",
       "       [  9.547239  ,   0.39032245],\n",
       "       [-20.863194  , -12.746826  ],\n",
       "       [-15.850521  ,  15.689159  ],\n",
       "       [  8.328756  ,  -2.3811269 ],\n",
       "       [-23.318882  ,  15.953999  ],\n",
       "       [ -0.39794207,   1.1021652 ],\n",
       "       [  0.83647156,  -0.12383044],\n",
       "       [ -0.467031  ,  -1.2927041 ],\n",
       "       [-13.759161  , -12.598026  ],\n",
       "       [-11.640808  ,  11.702105  ],\n",
       "       [ 11.2510805 ,  -1.812593  ]], dtype=float32)"
      ]
     },
     "execution_count": 63,
     "metadata": {},
     "output_type": "execute_result"
    }
   ],
   "source": [
    "vectors =model.lookup_table().detach().numpy()\n",
    "vectors"
   ]
  },
  {
   "cell_type": "code",
   "execution_count": 64,
   "id": "92f0fa57",
   "metadata": {},
   "outputs": [
    {
     "data": {
      "text/plain": [
       "array([[-1.0266664 , -1.6112751 ],\n",
       "       [ 1.3187069 ,  0.0609921 ],\n",
       "       [-1.2217106 , -1.2273124 ],\n",
       "       [-0.8029635 ,  1.5612842 ],\n",
       "       [ 1.2169176 , -0.2107922 ],\n",
       "       [-1.4268532 ,  1.5872558 ],\n",
       "       [ 0.48790935,  0.1307995 ],\n",
       "       [ 0.5910294 ,  0.0105713 ],\n",
       "       [ 0.4821378 , -0.10405518],\n",
       "       [-0.6282561 , -1.2127203 ],\n",
       "       [-0.45129377,  1.1702906 ],\n",
       "       [ 1.4610419 , -0.15503848]], dtype=float32)"
      ]
     },
     "execution_count": 64,
     "metadata": {},
     "output_type": "execute_result"
    }
   ],
   "source": [
    "x_vectors = vectors[:,0]\n",
    "y_vectors =  vectors[:,1]\n",
    "\n",
    "x_vectors = (x_vectors-np.mean(x_vectors))/np.std(x_vectors)\n",
    "y_vectors = (y_vectors-np.mean(y_vectors))/np.std(y_vectors)\n",
    "\n",
    "vector_data = np.column_stack((x_vectors,y_vectors))\n",
    "vector_data"
   ]
  },
  {
   "cell_type": "code",
   "execution_count": 65,
   "id": "bdcb35b8",
   "metadata": {},
   "outputs": [
    {
     "data": {
      "text/html": [
       "<div>\n",
       "<style scoped>\n",
       "    .dataframe tbody tr th:only-of-type {\n",
       "        vertical-align: middle;\n",
       "    }\n",
       "\n",
       "    .dataframe tbody tr th {\n",
       "        vertical-align: top;\n",
       "    }\n",
       "\n",
       "    .dataframe thead th {\n",
       "        text-align: right;\n",
       "    }\n",
       "</style>\n",
       "<table border=\"1\" class=\"dataframe\">\n",
       "  <thead>\n",
       "    <tr style=\"text-align: right;\">\n",
       "      <th></th>\n",
       "      <th>word</th>\n",
       "      <th>x</th>\n",
       "      <th>y</th>\n",
       "    </tr>\n",
       "  </thead>\n",
       "  <tbody>\n",
       "    <tr>\n",
       "      <th>0</th>\n",
       "      <td>king</td>\n",
       "      <td>-18.528389</td>\n",
       "      <td>-16.662186</td>\n",
       "    </tr>\n",
       "    <tr>\n",
       "      <th>1</th>\n",
       "      <td>strong</td>\n",
       "      <td>9.547239</td>\n",
       "      <td>0.390322</td>\n",
       "    </tr>\n",
       "    <tr>\n",
       "      <th>2</th>\n",
       "      <td>man</td>\n",
       "      <td>-20.863194</td>\n",
       "      <td>-12.746826</td>\n",
       "    </tr>\n",
       "    <tr>\n",
       "      <th>3</th>\n",
       "      <td>queen</td>\n",
       "      <td>-15.850521</td>\n",
       "      <td>15.689159</td>\n",
       "    </tr>\n",
       "    <tr>\n",
       "      <th>4</th>\n",
       "      <td>wise</td>\n",
       "      <td>8.328756</td>\n",
       "      <td>-2.381127</td>\n",
       "    </tr>\n",
       "    <tr>\n",
       "      <th>5</th>\n",
       "      <td>woman</td>\n",
       "      <td>-23.318882</td>\n",
       "      <td>15.953999</td>\n",
       "    </tr>\n",
       "    <tr>\n",
       "      <th>6</th>\n",
       "      <td>boy</td>\n",
       "      <td>-0.397942</td>\n",
       "      <td>1.102165</td>\n",
       "    </tr>\n",
       "    <tr>\n",
       "      <th>7</th>\n",
       "      <td>young</td>\n",
       "      <td>0.836472</td>\n",
       "      <td>-0.123830</td>\n",
       "    </tr>\n",
       "    <tr>\n",
       "      <th>8</th>\n",
       "      <td>girl</td>\n",
       "      <td>-0.467031</td>\n",
       "      <td>-1.292704</td>\n",
       "    </tr>\n",
       "    <tr>\n",
       "      <th>9</th>\n",
       "      <td>prince</td>\n",
       "      <td>-13.759161</td>\n",
       "      <td>-12.598026</td>\n",
       "    </tr>\n",
       "    <tr>\n",
       "      <th>10</th>\n",
       "      <td>princess</td>\n",
       "      <td>-11.640808</td>\n",
       "      <td>11.702105</td>\n",
       "    </tr>\n",
       "    <tr>\n",
       "      <th>11</th>\n",
       "      <td>pretty</td>\n",
       "      <td>11.251081</td>\n",
       "      <td>-1.812593</td>\n",
       "    </tr>\n",
       "  </tbody>\n",
       "</table>\n",
       "</div>"
      ],
      "text/plain": [
       "        word          x          y\n",
       "0       king -18.528389 -16.662186\n",
       "1     strong   9.547239   0.390322\n",
       "2        man -20.863194 -12.746826\n",
       "3      queen -15.850521  15.689159\n",
       "4       wise   8.328756  -2.381127\n",
       "5      woman -23.318882  15.953999\n",
       "6        boy  -0.397942   1.102165\n",
       "7      young   0.836472  -0.123830\n",
       "8       girl  -0.467031  -1.292704\n",
       "9     prince -13.759161 -12.598026\n",
       "10  princess -11.640808  11.702105\n",
       "11    pretty  11.251081  -1.812593"
      ]
     },
     "execution_count": 65,
     "metadata": {},
     "output_type": "execute_result"
    }
   ],
   "source": [
    "w2v_df = pd.DataFrame(vectors, columns = ['x', 'y'])\n",
    "w2v_df['word'] = vocabulary\n",
    "w2v_df = w2v_df[['word', 'x', 'y']]\n",
    "w2v_df"
   ]
  },
  {
   "cell_type": "code",
   "execution_count": 66,
   "id": "79f9acd5",
   "metadata": {},
   "outputs": [
    {
     "data": {
      "image/png": "[encoded data removed]",
      "text/plain": [
       "<Figure size 432x288 with 1 Axes>"
      ]
     },
     "metadata": {
      "needs_background": "light"
     },
     "output_type": "display_data"
    }
   ],
   "source": [
    "y = w2v_df['y']\n",
    "x = w2v_df['x']\n",
    "n = w2v_df['word']\n",
    "\n",
    "fig, ax = plt.subplots()\n",
    "ax.scatter(x, y)\n",
    "\n",
    "for i, txt in enumerate(n):\n",
    "    ax.annotate(txt, (x[i], y[i]))"
   ]
  },
  {
   "cell_type": "code",
   "execution_count": null,
   "id": "97214ad8",
   "metadata": {},
   "outputs": [],
   "source": []
  },
  {
   "cell_type": "code",
   "execution_count": null,
   "id": "5f0c7207",
   "metadata": {},
   "outputs": [],
   "source": []
  }
 ],
 "metadata": {
  "kernelspec": {
   "display_name": "Python 3",
   "language": "python",
   "name": "python3"
  },
  "language_info": {
   "codemirror_mode": {
    "name": "ipython",
    "version": 3
   },
   "file_extension": ".py",
   "mimetype": "text/x-python",
   "name": "python",
   "nbconvert_exporter": "python",
   "pygments_lexer": "ipython3",
   "version": "3.8.8"
  }
 },
 "nbformat": 4,
 "nbformat_minor": 5
}
